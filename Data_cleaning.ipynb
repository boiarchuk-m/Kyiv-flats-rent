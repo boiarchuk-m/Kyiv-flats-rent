{
 "cells": [
  {
   "cell_type": "code",
   "execution_count": 1,
   "id": "1ed5d97e-22c9-464b-a2b7-6998f47ebbee",
   "metadata": {
    "tags": []
   },
   "outputs": [],
   "source": [
    "import pandas as pd\n",
    "import numpy as np\n",
    "import os"
   ]
  },
  {
   "cell_type": "markdown",
   "id": "0a63274c-a952-459f-a811-53dd24546535",
   "metadata": {},
   "source": [
    "## Concatenate several datasets"
   ]
  },
  {
   "cell_type": "code",
   "execution_count": 95,
   "id": "ff44d03a-241c-49ce-914e-05c72aa6811b",
   "metadata": {
    "tags": []
   },
   "outputs": [],
   "source": [
    "def get_dataset(directory):\n",
    "    list_dir = [file for file in os.listdir(directory) if file.endswith('.csv')]\n",
    "    dfs = []\n",
    "    for file in list_dir:\n",
    "        file_path = os.path.join(directory, file)\n",
    "        df = pd.read_csv(file_path)\n",
    "        df.dropna(how='all', inplace=True, ignore_index=True)\n",
    "        if '_metro' in file:\n",
    "            df['metro'] = 1\n",
    "        else: \n",
    "            df['metro'] = 0\n",
    "        dfs.append(df)\n",
    "\n",
    "    concatenated_df = pd.concat(dfs, ignore_index=True)\n",
    "\n",
    "    return concatenated_df    "
   ]
  },
  {
   "cell_type": "code",
   "execution_count": 96,
   "id": "9a4b1441-fb4d-427b-af5f-b264ecc26a5a",
   "metadata": {
    "tags": []
   },
   "outputs": [],
   "source": [
    "flats = get_dataset('datasets')"
   ]
  },
  {
   "cell_type": "code",
   "execution_count": 97,
   "id": "6804a09b-35c2-4e87-b7be-d66140b7243a",
   "metadata": {
    "tags": []
   },
   "outputs": [],
   "source": [
    "flats.to_csv('flats.csv')"
   ]
  },
  {
   "cell_type": "code",
   "execution_count": 98,
   "id": "fde425e2-dd46-4e72-a6f1-90bf308f7850",
   "metadata": {
    "tags": []
   },
   "outputs": [
    {
     "name": "stdout",
     "output_type": "stream",
     "text": [
      "<class 'pandas.core.frame.DataFrame'>\n",
      "RangeIndex: 25769 entries, 0 to 25768\n",
      "Data columns (total 11 columns):\n",
      " #   Column  Non-Null Count  Dtype \n",
      "---  ------  --------------  ----- \n",
      " 0   price   25769 non-null  object\n",
      " 1   dist1   25769 non-null  object\n",
      " 2   dist2   25608 non-null  object\n",
      " 3   dist3   24226 non-null  object\n",
      " 4   rooms   25769 non-null  object\n",
      " 5   square  25769 non-null  object\n",
      " 6   floor   25769 non-null  object\n",
      " 7   type1   22015 non-null  object\n",
      " 8   type2   20235 non-null  object\n",
      " 9   type3   20647 non-null  object\n",
      " 10  metro   25769 non-null  int64 \n",
      "dtypes: int64(1), object(10)\n",
      "memory usage: 2.2+ MB\n"
     ]
    }
   ],
   "source": [
    "flats.info()"
   ]
  },
  {
   "cell_type": "markdown",
   "id": "fd518929-a4ed-4508-ace6-e51fe1ec0929",
   "metadata": {},
   "source": [
    "## Removing duplicates"
   ]
  },
  {
   "cell_type": "code",
   "execution_count": 99,
   "id": "567e96a3-cd97-47c1-8bda-67129e419b59",
   "metadata": {
    "tags": []
   },
   "outputs": [],
   "source": [
    "flats.drop_duplicates(subset=['price', 'dist1', 'dist2', 'dist3', 'rooms', 'square', 'floor', 'type1', 'type2', 'type3'],\n",
    "                   inplace=True, ignore_index=True)"
   ]
  },
  {
   "cell_type": "code",
   "execution_count": 100,
   "id": "995696ac-2b53-42fe-9697-75941f903d65",
   "metadata": {
    "tags": []
   },
   "outputs": [
    {
     "name": "stdout",
     "output_type": "stream",
     "text": [
      "<class 'pandas.core.frame.DataFrame'>\n",
      "RangeIndex: 15547 entries, 0 to 15546\n",
      "Data columns (total 11 columns):\n",
      " #   Column  Non-Null Count  Dtype \n",
      "---  ------  --------------  ----- \n",
      " 0   price   15547 non-null  object\n",
      " 1   dist1   15547 non-null  object\n",
      " 2   dist2   15453 non-null  object\n",
      " 3   dist3   14504 non-null  object\n",
      " 4   rooms   15547 non-null  object\n",
      " 5   square  15547 non-null  object\n",
      " 6   floor   15547 non-null  object\n",
      " 7   type1   13101 non-null  object\n",
      " 8   type2   11979 non-null  object\n",
      " 9   type3   12855 non-null  object\n",
      " 10  metro   15547 non-null  int64 \n",
      "dtypes: int64(1), object(10)\n",
      "memory usage: 1.3+ MB\n"
     ]
    }
   ],
   "source": [
    "flats.info()"
   ]
  },
  {
   "cell_type": "markdown",
   "id": "2fdf7f35-0b3e-40ea-b02d-7584f84e401f",
   "metadata": {
    "tags": []
   },
   "source": [
    "## Fix column values"
   ]
  },
  {
   "cell_type": "markdown",
   "id": "83511854-b4ac-42f9-8e70-d824be91efc3",
   "metadata": {},
   "source": [
    "Columns dist1, dist2, and dist3 represent residential complex, microdistrict, and districts respectively. But some flat advertisements don't have all three recordings so that district can be recorded in the dist2 or dist1 column."
   ]
  },
  {
   "cell_type": "code",
   "execution_count": 101,
   "id": "47a264bb-2ff3-42da-9012-2088ca685997",
   "metadata": {
    "tags": []
   },
   "outputs": [
    {
     "data": {
      "text/plain": [
       "dist3\n",
       "Київ              7518\n",
       "Печерський        2357\n",
       "Голосіївський     1165\n",
       "Дарницький         934\n",
       "Шевченківський     768\n",
       "Солом'янський      464\n",
       "Дніпровський       449\n",
       "Оболонський        303\n",
       "Подільський        291\n",
       "Святошинський      193\n",
       "Деснянський         62\n",
       "Name: count, dtype: int64"
      ]
     },
     "execution_count": 101,
     "metadata": {},
     "output_type": "execute_result"
    }
   ],
   "source": [
    "flats.dist3.value_counts()"
   ]
  },
  {
   "cell_type": "code",
   "execution_count": 102,
   "id": "f39bb507-939d-4ca7-9978-b60b05d788d1",
   "metadata": {
    "tags": []
   },
   "outputs": [],
   "source": [
    "flats.dist3 = flats.dist3.apply(lambda x : np.nan if x=='Київ' else x)"
   ]
  },
  {
   "cell_type": "code",
   "execution_count": 103,
   "id": "9a979bde-a8a5-4abf-b5dc-f4750e33fda8",
   "metadata": {
    "tags": []
   },
   "outputs": [],
   "source": [
    "districts = ['Печерський', 'Деснянський', 'Шевченківський', 'Дніпровський', 'Голосіївський',\n",
    "             \"Солом'янський\", 'Святошинський', 'Оболонський', 'Дарницький', 'Подільський']"
   ]
  },
  {
   "cell_type": "code",
   "execution_count": 104,
   "id": "ef993b36-cfa1-4bfe-986b-e35311194a2c",
   "metadata": {
    "tags": []
   },
   "outputs": [],
   "source": [
    "for i in range(0, len(flats)):\n",
    "    if flats.dist1[i] in districts:\n",
    "        flats.loc[i, 'dist3'] = flats.dist1[i]\n",
    "        flats.loc[i, 'dist1'] = np.nan\n",
    "    elif flats.dist2[i] in districts:\n",
    "        flats.loc[i, 'dist3'] = flats.dist2[i]\n",
    "        flats.loc[i, 'dist2'] = np.nan\n",
    "    "
   ]
  },
  {
   "cell_type": "markdown",
   "id": "a9fbc291-97e6-4854-bde6-d6799fc337ea",
   "metadata": {},
   "source": [
    "The same situation with columns type1, type2 type3. Columns type1 and type2 have to contain information about the type of the building and column type3 - the year. But sometimes the year is recorded in type1 or type2 columns."
   ]
  },
  {
   "cell_type": "code",
   "execution_count": 105,
   "id": "f04ab1ad-51ac-4615-862c-480c82620030",
   "metadata": {
    "tags": []
   },
   "outputs": [],
   "source": [
    "import re\n",
    "pattern = r'\\d{4}'\n",
    "for i in range(0, len(flats)):\n",
    "    if re.match(pattern, str(flats.type1[i])):\n",
    "        flats.loc[i, 'type3'] = flats.type1[i]\n",
    "        flats.loc[i, 'type1'] = np.nan\n",
    "    elif re.match(pattern, str(flats.type2[i])):\n",
    "        flats.loc[i, 'type3'] = flats.type2[i]\n",
    "        flats.loc[i, 'type2'] = np.nan"
   ]
  },
  {
   "cell_type": "code",
   "execution_count": 106,
   "id": "e74fe4cc-5083-48ea-a9d5-9ef53e418aad",
   "metadata": {
    "tags": []
   },
   "outputs": [
    {
     "data": {
      "text/html": [
       "<div>\n",
       "<style scoped>\n",
       "    .dataframe tbody tr th:only-of-type {\n",
       "        vertical-align: middle;\n",
       "    }\n",
       "\n",
       "    .dataframe tbody tr th {\n",
       "        vertical-align: top;\n",
       "    }\n",
       "\n",
       "    .dataframe thead th {\n",
       "        text-align: right;\n",
       "    }\n",
       "</style>\n",
       "<table border=\"1\" class=\"dataframe\">\n",
       "  <thead>\n",
       "    <tr style=\"text-align: right;\">\n",
       "      <th></th>\n",
       "      <th>price</th>\n",
       "      <th>dist1</th>\n",
       "      <th>dist2</th>\n",
       "      <th>dist3</th>\n",
       "      <th>rooms</th>\n",
       "      <th>square</th>\n",
       "      <th>floor</th>\n",
       "      <th>type1</th>\n",
       "      <th>type2</th>\n",
       "      <th>type3</th>\n",
       "      <th>metro</th>\n",
       "    </tr>\n",
       "  </thead>\n",
       "  <tbody>\n",
       "    <tr>\n",
       "      <th>0</th>\n",
       "      <td>26 000 грн</td>\n",
       "      <td>ЖК Місце мрії</td>\n",
       "      <td>Шулявка</td>\n",
       "      <td>Солом'янський</td>\n",
       "      <td>2 кімнати</td>\n",
       "      <td>60 / 35 / 15 м²</td>\n",
       "      <td>поверх 14 з 25</td>\n",
       "      <td>спец. проект</td>\n",
       "      <td>монолітно-каркасний</td>\n",
       "      <td>2009.0</td>\n",
       "      <td>1</td>\n",
       "    </tr>\n",
       "    <tr>\n",
       "      <th>1</th>\n",
       "      <td>95 750 грн</td>\n",
       "      <td>ЖК Central Park</td>\n",
       "      <td>Нова забудова</td>\n",
       "      <td>Печерський</td>\n",
       "      <td>3 кімнати</td>\n",
       "      <td>131 / 80 / 15 м²</td>\n",
       "      <td>поверх 10 з 25</td>\n",
       "      <td>NaN</td>\n",
       "      <td>NaN</td>\n",
       "      <td>NaN</td>\n",
       "      <td>1</td>\n",
       "    </tr>\n",
       "    <tr>\n",
       "      <th>2</th>\n",
       "      <td>57 450 грн</td>\n",
       "      <td>ЖК Новопечерські Липки</td>\n",
       "      <td>Чорна Гора</td>\n",
       "      <td>Печерський</td>\n",
       "      <td>2 кімнати</td>\n",
       "      <td>87 / 41 / 17 м²</td>\n",
       "      <td>поверх 2 з 23</td>\n",
       "      <td>спец. проект</td>\n",
       "      <td>монолітно-каркасний</td>\n",
       "      <td>2013.0</td>\n",
       "      <td>1</td>\n",
       "    </tr>\n",
       "    <tr>\n",
       "      <th>3</th>\n",
       "      <td>8 000 грн</td>\n",
       "      <td>Харьківський</td>\n",
       "      <td>NaN</td>\n",
       "      <td>Дарницький</td>\n",
       "      <td>1 кімната</td>\n",
       "      <td>40 / 18 / 9 м²</td>\n",
       "      <td>поверх 3 з 16</td>\n",
       "      <td>серія Т</td>\n",
       "      <td>утеплена панель</td>\n",
       "      <td>1983.0</td>\n",
       "      <td>1</td>\n",
       "    </tr>\n",
       "    <tr>\n",
       "      <th>4</th>\n",
       "      <td>15 000 грн</td>\n",
       "      <td>ЖМ Патріотика</td>\n",
       "      <td>Осокорки</td>\n",
       "      <td>Дарницький</td>\n",
       "      <td>1 кімната</td>\n",
       "      <td>38 / 12 / 16 м²</td>\n",
       "      <td>поверх 15 з 25</td>\n",
       "      <td>спец. проект</td>\n",
       "      <td>панельні</td>\n",
       "      <td>2018.0</td>\n",
       "      <td>1</td>\n",
       "    </tr>\n",
       "  </tbody>\n",
       "</table>\n",
       "</div>"
      ],
      "text/plain": [
       "        price                   dist1          dist2          dist3  \\\n",
       "0  26 000 грн           ЖК Місце мрії        Шулявка  Солом'янський   \n",
       "1  95 750 грн         ЖК Central Park  Нова забудова     Печерський   \n",
       "2  57 450 грн  ЖК Новопечерські Липки     Чорна Гора     Печерський   \n",
       "3   8 000 грн            Харьківський            NaN     Дарницький   \n",
       "4  15 000 грн           ЖМ Патріотика       Осокорки     Дарницький   \n",
       "\n",
       "       rooms            square           floor         type1  \\\n",
       "0  2 кімнати   60 / 35 / 15 м²  поверх 14 з 25  спец. проект   \n",
       "1  3 кімнати  131 / 80 / 15 м²  поверх 10 з 25           NaN   \n",
       "2  2 кімнати   87 / 41 / 17 м²   поверх 2 з 23  спец. проект   \n",
       "3  1 кімната    40 / 18 / 9 м²   поверх 3 з 16       серія Т   \n",
       "4  1 кімната   38 / 12 / 16 м²  поверх 15 з 25  спец. проект   \n",
       "\n",
       "                 type2   type3  metro  \n",
       "0  монолітно-каркасний  2009.0      1  \n",
       "1                  NaN     NaN      1  \n",
       "2  монолітно-каркасний  2013.0      1  \n",
       "3      утеплена панель  1983.0      1  \n",
       "4             панельні  2018.0      1  "
      ]
     },
     "execution_count": 106,
     "metadata": {},
     "output_type": "execute_result"
    }
   ],
   "source": [
    "flats.head()"
   ]
  },
  {
   "cell_type": "markdown",
   "id": "719db499-c420-46f7-8e8e-480ccedf7ee8",
   "metadata": {},
   "source": [
    "## Fix values type"
   ]
  },
  {
   "cell_type": "markdown",
   "id": "dad90bc1-8fe0-4663-8660-f853a70daaf5",
   "metadata": {
    "tags": []
   },
   "source": [
    "### Fix price column values"
   ]
  },
  {
   "cell_type": "code",
   "execution_count": 107,
   "id": "0b16f62d-8c54-4a2b-aad4-b362fa9a2657",
   "metadata": {
    "tags": []
   },
   "outputs": [],
   "source": [
    "flats.price = flats.price.apply(lambda x:  x.replace(' ', '')) #delete space between numbers\n",
    "flats.price.replace('[^0-9]', '', regex=True, inplace=True) #delete all not numeric symbols\n",
    "flats.price = flats.price.astype('int32') "
   ]
  },
  {
   "cell_type": "markdown",
   "id": "ecfaac72-8a6c-47f8-bdae-d9b06619d721",
   "metadata": {},
   "source": [
    "### Fix rooms column values"
   ]
  },
  {
   "cell_type": "code",
   "execution_count": 108,
   "id": "5662b334-8953-4c9f-bb46-1d53f86d75ff",
   "metadata": {
    "tags": []
   },
   "outputs": [
    {
     "data": {
      "text/plain": [
       "array(['2', nan, '3', '1', '4', '6', '5'], dtype=object)"
      ]
     },
     "execution_count": 108,
     "metadata": {},
     "output_type": "execute_result"
    }
   ],
   "source": [
    "df.rooms.unique()"
   ]
  },
  {
   "cell_type": "code",
   "execution_count": 109,
   "id": "af2440a4-f0bf-4ba9-be5c-d92530f601ca",
   "metadata": {
    "tags": []
   },
   "outputs": [],
   "source": [
    "flats['rooms'].replace('[^0-9]', '', regex=True, inplace=True)\n",
    "flats['rooms'] = flats.rooms.astype('int32')"
   ]
  },
  {
   "cell_type": "markdown",
   "id": "8f460fa4-e394-42eb-b837-fdceb0fcb87b",
   "metadata": {},
   "source": [
    "### Fix area column values"
   ]
  },
  {
   "cell_type": "code",
   "execution_count": 110,
   "id": "e6053a40-f63d-4ecc-a7e8-894de4550308",
   "metadata": {
    "tags": []
   },
   "outputs": [
    {
     "data": {
      "text/html": [
       "<div>\n",
       "<style scoped>\n",
       "    .dataframe tbody tr th:only-of-type {\n",
       "        vertical-align: middle;\n",
       "    }\n",
       "\n",
       "    .dataframe tbody tr th {\n",
       "        vertical-align: top;\n",
       "    }\n",
       "\n",
       "    .dataframe thead th {\n",
       "        text-align: right;\n",
       "    }\n",
       "</style>\n",
       "<table border=\"1\" class=\"dataframe\">\n",
       "  <thead>\n",
       "    <tr style=\"text-align: right;\">\n",
       "      <th></th>\n",
       "      <th>price</th>\n",
       "      <th>dist1</th>\n",
       "      <th>dist2</th>\n",
       "      <th>dist3</th>\n",
       "      <th>rooms</th>\n",
       "      <th>square</th>\n",
       "      <th>floor</th>\n",
       "      <th>type1</th>\n",
       "      <th>type2</th>\n",
       "      <th>type3</th>\n",
       "      <th>metro</th>\n",
       "      <th>total_area</th>\n",
       "      <th>living_area</th>\n",
       "      <th>kitchen_area</th>\n",
       "    </tr>\n",
       "  </thead>\n",
       "  <tbody>\n",
       "    <tr>\n",
       "      <th>0</th>\n",
       "      <td>26000</td>\n",
       "      <td>ЖК Місце мрії</td>\n",
       "      <td>Шулявка</td>\n",
       "      <td>Солом'янський</td>\n",
       "      <td>2</td>\n",
       "      <td>60 / 35 / 15</td>\n",
       "      <td>поверх 14 з 25</td>\n",
       "      <td>спец. проект</td>\n",
       "      <td>монолітно-каркасний</td>\n",
       "      <td>2009.0</td>\n",
       "      <td>1</td>\n",
       "      <td>60.0</td>\n",
       "      <td>35.0</td>\n",
       "      <td>15.0</td>\n",
       "    </tr>\n",
       "    <tr>\n",
       "      <th>1</th>\n",
       "      <td>95750</td>\n",
       "      <td>ЖК Central Park</td>\n",
       "      <td>Нова забудова</td>\n",
       "      <td>Печерський</td>\n",
       "      <td>3</td>\n",
       "      <td>131 / 80 / 15</td>\n",
       "      <td>поверх 10 з 25</td>\n",
       "      <td>NaN</td>\n",
       "      <td>NaN</td>\n",
       "      <td>NaN</td>\n",
       "      <td>1</td>\n",
       "      <td>131.0</td>\n",
       "      <td>80.0</td>\n",
       "      <td>15.0</td>\n",
       "    </tr>\n",
       "    <tr>\n",
       "      <th>2</th>\n",
       "      <td>57450</td>\n",
       "      <td>ЖК Новопечерські Липки</td>\n",
       "      <td>Чорна Гора</td>\n",
       "      <td>Печерський</td>\n",
       "      <td>2</td>\n",
       "      <td>87 / 41 / 17</td>\n",
       "      <td>поверх 2 з 23</td>\n",
       "      <td>спец. проект</td>\n",
       "      <td>монолітно-каркасний</td>\n",
       "      <td>2013.0</td>\n",
       "      <td>1</td>\n",
       "      <td>87.0</td>\n",
       "      <td>41.0</td>\n",
       "      <td>17.0</td>\n",
       "    </tr>\n",
       "    <tr>\n",
       "      <th>3</th>\n",
       "      <td>8000</td>\n",
       "      <td>Харьківський</td>\n",
       "      <td>NaN</td>\n",
       "      <td>Дарницький</td>\n",
       "      <td>1</td>\n",
       "      <td>40 / 18 / 9</td>\n",
       "      <td>поверх 3 з 16</td>\n",
       "      <td>серія Т</td>\n",
       "      <td>утеплена панель</td>\n",
       "      <td>1983.0</td>\n",
       "      <td>1</td>\n",
       "      <td>40.0</td>\n",
       "      <td>18.0</td>\n",
       "      <td>9.0</td>\n",
       "    </tr>\n",
       "    <tr>\n",
       "      <th>4</th>\n",
       "      <td>15000</td>\n",
       "      <td>ЖМ Патріотика</td>\n",
       "      <td>Осокорки</td>\n",
       "      <td>Дарницький</td>\n",
       "      <td>1</td>\n",
       "      <td>38 / 12 / 16</td>\n",
       "      <td>поверх 15 з 25</td>\n",
       "      <td>спец. проект</td>\n",
       "      <td>панельні</td>\n",
       "      <td>2018.0</td>\n",
       "      <td>1</td>\n",
       "      <td>38.0</td>\n",
       "      <td>12.0</td>\n",
       "      <td>16.0</td>\n",
       "    </tr>\n",
       "  </tbody>\n",
       "</table>\n",
       "</div>"
      ],
      "text/plain": [
       "   price                   dist1          dist2          dist3  rooms  \\\n",
       "0  26000           ЖК Місце мрії        Шулявка  Солом'янський      2   \n",
       "1  95750         ЖК Central Park  Нова забудова     Печерський      3   \n",
       "2  57450  ЖК Новопечерські Липки     Чорна Гора     Печерський      2   \n",
       "3   8000            Харьківський            NaN     Дарницький      1   \n",
       "4  15000           ЖМ Патріотика       Осокорки     Дарницький      1   \n",
       "\n",
       "           square           floor         type1                type2   type3  \\\n",
       "0   60 / 35 / 15   поверх 14 з 25  спец. проект  монолітно-каркасний  2009.0   \n",
       "1  131 / 80 / 15   поверх 10 з 25           NaN                  NaN     NaN   \n",
       "2   87 / 41 / 17    поверх 2 з 23  спец. проект  монолітно-каркасний  2013.0   \n",
       "3    40 / 18 / 9    поверх 3 з 16       серія Т      утеплена панель  1983.0   \n",
       "4   38 / 12 / 16   поверх 15 з 25  спец. проект             панельні  2018.0   \n",
       "\n",
       "   metro  total_area  living_area  kitchen_area  \n",
       "0      1        60.0         35.0          15.0  \n",
       "1      1       131.0         80.0          15.0  \n",
       "2      1        87.0         41.0          17.0  \n",
       "3      1        40.0         18.0           9.0  \n",
       "4      1        38.0         12.0          16.0  "
      ]
     },
     "execution_count": 110,
     "metadata": {},
     "output_type": "execute_result"
    }
   ],
   "source": [
    "flats['square'].replace('м²', '', inplace=True, regex=True)\n",
    "\n",
    "str_split = flats.square.str.split(' / ') # split area values in three separate columns\n",
    "\n",
    "flats['total_area'] = pd.to_numeric(str_split.str.get(0), errors='coerce') \n",
    "flats['living_area'] = pd.to_numeric(str_split.str.get(1), errors='coerce')\n",
    "flats['kitchen_area']= pd.to_numeric(str_split.str.get(2), errors='coerce')\n",
    "flats.head()"
   ]
  },
  {
   "cell_type": "markdown",
   "id": "fd1aac03-7e1e-49d8-8b64-d1dc8d554ad3",
   "metadata": {},
   "source": [
    "### Fix floor column values"
   ]
  },
  {
   "cell_type": "code",
   "execution_count": 111,
   "id": "08159b02-d158-4e7e-8d3f-e15bc12a8267",
   "metadata": {
    "tags": []
   },
   "outputs": [],
   "source": [
    "flats['floor'].replace('поверх', '', regex=True, inplace=True)\n",
    "\n",
    "str_split = flats.floor.str.split(' з ')\n",
    "\n",
    "flats['floor'] = pd.to_numeric(str_split.str.get(0), errors='coerce', downcast='integer') \n",
    "flats['floor_total'] =  pd.to_numeric(str_split.str.get(1), errors='coerce', downcast='integer')\n"
   ]
  },
  {
   "cell_type": "markdown",
   "id": "dd03c067-0cfc-4c83-8d52-9949c798ab54",
   "metadata": {},
   "source": [
    "### Fix year column values"
   ]
  },
  {
   "cell_type": "code",
   "execution_count": 113,
   "id": "365bd9fa-883a-4ecf-a994-45b673d35a2c",
   "metadata": {
    "tags": []
   },
   "outputs": [],
   "source": [
    "flats.rename(columns= {'type3' :'year'}, inplace = True)\n",
    "flats.year = pd.to_numeric(flats.year, errors='coerce', downcast='integer') "
   ]
  },
  {
   "cell_type": "markdown",
   "id": "46e7616c-8ed0-467b-8833-f6f07b74e482",
   "metadata": {},
   "source": [
    "### Null values"
   ]
  },
  {
   "cell_type": "code",
   "execution_count": 114,
   "id": "1df34239-fa94-4aa7-ab0a-a419008ca2a6",
   "metadata": {
    "tags": []
   },
   "outputs": [],
   "source": []
  },
  {
   "cell_type": "code",
   "execution_count": 116,
   "id": "b5974fd7-6074-4894-9315-871a64e110f0",
   "metadata": {
    "tags": []
   },
   "outputs": [
    {
     "data": {
      "text/plain": [
       "price              0\n",
       "dist1            803\n",
       "dist2           7518\n",
       "dist3            334\n",
       "rooms              0\n",
       "square             0\n",
       "floor              2\n",
       "type1           2635\n",
       "type2           4060\n",
       "year            7726\n",
       "metro              0\n",
       "total_area         0\n",
       "living_area     5206\n",
       "kitchen_area     248\n",
       "floor_total      152\n",
       "dtype: int64"
      ]
     },
     "execution_count": 116,
     "metadata": {},
     "output_type": "execute_result"
    }
   ],
   "source": [
    "flats.isna().sum()"
   ]
  },
  {
   "cell_type": "code",
   "execution_count": 117,
   "id": "f4fc9313-0f2a-4da0-94cf-ad41862ff935",
   "metadata": {
    "tags": []
   },
   "outputs": [],
   "source": [
    "flats.dropna(subset = ['dist3', 'floor'], inplace=True, ignore_index=True)"
   ]
  },
  {
   "cell_type": "code",
   "execution_count": 118,
   "id": "0e06cacf-039d-4ec0-8afa-0392c3a111e9",
   "metadata": {
    "tags": []
   },
   "outputs": [],
   "source": [
    "flats.drop(['dist1', 'dist2', 'square', 'type1', 'type2'], axis = 1, inplace=True)"
   ]
  },
  {
   "cell_type": "code",
   "execution_count": 119,
   "id": "b892148f-0a69-4508-afe7-6796c9fe286a",
   "metadata": {
    "tags": []
   },
   "outputs": [],
   "source": [
    "flats.rename(columns= {'dist3': 'district'}, inplace = True)"
   ]
  },
  {
   "cell_type": "code",
   "execution_count": 120,
   "id": "538392f0-6485-4ebe-89f4-f2f7d914b760",
   "metadata": {
    "tags": []
   },
   "outputs": [
    {
     "data": {
      "text/plain": [
       "price              0\n",
       "district           0\n",
       "rooms              0\n",
       "floor              0\n",
       "year            7502\n",
       "metro              0\n",
       "total_area         0\n",
       "living_area     5113\n",
       "kitchen_area     246\n",
       "floor_total      150\n",
       "dtype: int64"
      ]
     },
     "execution_count": 120,
     "metadata": {},
     "output_type": "execute_result"
    }
   ],
   "source": [
    "flats.isna().sum()"
   ]
  },
  {
   "cell_type": "code",
   "execution_count": 121,
   "id": "f7e6a785-eef6-4ef2-9873-a64f1e8b9370",
   "metadata": {
    "tags": []
   },
   "outputs": [],
   "source": [
    "flats.drop(['living_area', 'year'], axis = 1, inplace = True)"
   ]
  },
  {
   "cell_type": "code",
   "execution_count": 122,
   "id": "d37dce5f-617f-4efa-8815-1d3a96bc7d32",
   "metadata": {
    "tags": []
   },
   "outputs": [],
   "source": [
    "flats.to_csv('flats_cleaned.csv', index=False)"
   ]
  }
 ],
 "metadata": {
  "kernelspec": {
   "display_name": "Python 3 (ipykernel)",
   "language": "python",
   "name": "python3"
  },
  "language_info": {
   "codemirror_mode": {
    "name": "ipython",
    "version": 3
   },
   "file_extension": ".py",
   "mimetype": "text/x-python",
   "name": "python",
   "nbconvert_exporter": "python",
   "pygments_lexer": "ipython3",
   "version": "3.11.5"
  }
 },
 "nbformat": 4,
 "nbformat_minor": 5
}
