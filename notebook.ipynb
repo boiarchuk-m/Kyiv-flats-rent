{
 "cells": [
  {
   "cell_type": "code",
   "execution_count": 1,
   "id": "2841243a-4c44-4819-8919-64bf18b1d253",
   "metadata": {
    "tags": []
   },
   "outputs": [],
   "source": [
    "import pandas as pd\n",
    "import numpy as np\n",
    "import matplotlib.pyplot as plt\n",
    "import seaborn as sns"
   ]
  },
  {
   "cell_type": "code",
   "execution_count": 192,
   "id": "f6694a25-b8cd-48bd-bad9-3fca947e89ff",
   "metadata": {
    "tags": []
   },
   "outputs": [
    {
     "data": {
      "text/html": [
       "<div>\n",
       "<style scoped>\n",
       "    .dataframe tbody tr th:only-of-type {\n",
       "        vertical-align: middle;\n",
       "    }\n",
       "\n",
       "    .dataframe tbody tr th {\n",
       "        vertical-align: top;\n",
       "    }\n",
       "\n",
       "    .dataframe thead th {\n",
       "        text-align: right;\n",
       "    }\n",
       "</style>\n",
       "<table border=\"1\" class=\"dataframe\">\n",
       "  <thead>\n",
       "    <tr style=\"text-align: right;\">\n",
       "      <th></th>\n",
       "      <th>price</th>\n",
       "      <th>dist1</th>\n",
       "      <th>dist2</th>\n",
       "      <th>dist3</th>\n",
       "      <th>rooms</th>\n",
       "      <th>square</th>\n",
       "      <th>floor</th>\n",
       "      <th>type1</th>\n",
       "      <th>type2</th>\n",
       "      <th>type3</th>\n",
       "      <th>metro</th>\n",
       "    </tr>\n",
       "  </thead>\n",
       "  <tbody>\n",
       "    <tr>\n",
       "      <th>0</th>\n",
       "      <td>26 000 грн</td>\n",
       "      <td>ЖК Місце мрії</td>\n",
       "      <td>Шулявка</td>\n",
       "      <td>Солом'янський</td>\n",
       "      <td>2 кімнати</td>\n",
       "      <td>60 / 35 / 15 м²</td>\n",
       "      <td>поверх 14 з 25</td>\n",
       "      <td>спец. проект</td>\n",
       "      <td>монолітно-каркасний</td>\n",
       "      <td>2009.0</td>\n",
       "      <td>1</td>\n",
       "    </tr>\n",
       "    <tr>\n",
       "      <th>1</th>\n",
       "      <td>95 750 грн</td>\n",
       "      <td>ЖК Central Park</td>\n",
       "      <td>Нова забудова</td>\n",
       "      <td>Печерський</td>\n",
       "      <td>3 кімнати</td>\n",
       "      <td>131 / 80 / 15 м²</td>\n",
       "      <td>поверх 10 з 25</td>\n",
       "      <td>NaN</td>\n",
       "      <td>NaN</td>\n",
       "      <td>NaN</td>\n",
       "      <td>1</td>\n",
       "    </tr>\n",
       "    <tr>\n",
       "      <th>2</th>\n",
       "      <td>57 450 грн</td>\n",
       "      <td>ЖК Новопечерські Липки</td>\n",
       "      <td>Чорна Гора</td>\n",
       "      <td>Печерський</td>\n",
       "      <td>2 кімнати</td>\n",
       "      <td>87 / 41 / 17 м²</td>\n",
       "      <td>поверх 2 з 23</td>\n",
       "      <td>спец. проект</td>\n",
       "      <td>монолітно-каркасний</td>\n",
       "      <td>2013.0</td>\n",
       "      <td>1</td>\n",
       "    </tr>\n",
       "    <tr>\n",
       "      <th>3</th>\n",
       "      <td>8 000 грн</td>\n",
       "      <td>Харьківський</td>\n",
       "      <td>Дарницький</td>\n",
       "      <td>Київ</td>\n",
       "      <td>1 кімната</td>\n",
       "      <td>40 / 18 / 9 м²</td>\n",
       "      <td>поверх 3 з 16</td>\n",
       "      <td>серія Т</td>\n",
       "      <td>утеплена панель</td>\n",
       "      <td>1983.0</td>\n",
       "      <td>1</td>\n",
       "    </tr>\n",
       "    <tr>\n",
       "      <th>4</th>\n",
       "      <td>15 000 грн</td>\n",
       "      <td>ЖМ Патріотика</td>\n",
       "      <td>Осокорки</td>\n",
       "      <td>Дарницький</td>\n",
       "      <td>1 кімната</td>\n",
       "      <td>38 / 12 / 16 м²</td>\n",
       "      <td>поверх 15 з 25</td>\n",
       "      <td>спец. проект</td>\n",
       "      <td>панельні</td>\n",
       "      <td>2018.0</td>\n",
       "      <td>1</td>\n",
       "    </tr>\n",
       "  </tbody>\n",
       "</table>\n",
       "</div>"
      ],
      "text/plain": [
       "        price                   dist1          dist2          dist3  \\\n",
       "0  26 000 грн           ЖК Місце мрії        Шулявка  Солом'янський   \n",
       "1  95 750 грн         ЖК Central Park  Нова забудова     Печерський   \n",
       "2  57 450 грн  ЖК Новопечерські Липки     Чорна Гора     Печерський   \n",
       "3   8 000 грн            Харьківський     Дарницький           Київ   \n",
       "4  15 000 грн           ЖМ Патріотика       Осокорки     Дарницький   \n",
       "\n",
       "       rooms            square           floor         type1  \\\n",
       "0  2 кімнати   60 / 35 / 15 м²  поверх 14 з 25  спец. проект   \n",
       "1  3 кімнати  131 / 80 / 15 м²  поверх 10 з 25           NaN   \n",
       "2  2 кімнати   87 / 41 / 17 м²   поверх 2 з 23  спец. проект   \n",
       "3  1 кімната    40 / 18 / 9 м²   поверх 3 з 16       серія Т   \n",
       "4  1 кімната   38 / 12 / 16 м²  поверх 15 з 25  спец. проект   \n",
       "\n",
       "                 type2   type3  metro  \n",
       "0  монолітно-каркасний  2009.0      1  \n",
       "1                  NaN     NaN      1  \n",
       "2  монолітно-каркасний  2013.0      1  \n",
       "3      утеплена панель  1983.0      1  \n",
       "4             панельні  2018.0      1  "
      ]
     },
     "execution_count": 192,
     "metadata": {},
     "output_type": "execute_result"
    }
   ],
   "source": [
    "df = pd.read_csv('flats.csv')\n",
    "df.head()"
   ]
  },
  {
   "cell_type": "markdown",
   "id": "96c39ab2-75c7-4908-916d-56f995d21549",
   "metadata": {},
   "source": [
    "### Data exploration"
   ]
  },
  {
   "cell_type": "code",
   "execution_count": 193,
   "id": "eb4b611a-03f5-42e5-973d-72785fe49395",
   "metadata": {
    "tags": []
   },
   "outputs": [
    {
     "name": "stdout",
     "output_type": "stream",
     "text": [
      "<class 'pandas.core.frame.DataFrame'>\n",
      "RangeIndex: 17748 entries, 0 to 17747\n",
      "Data columns (total 11 columns):\n",
      " #   Column  Non-Null Count  Dtype \n",
      "---  ------  --------------  ----- \n",
      " 0   price   17748 non-null  object\n",
      " 1   dist1   17748 non-null  object\n",
      " 2   dist2   17639 non-null  object\n",
      " 3   dist3   16614 non-null  object\n",
      " 4   rooms   17748 non-null  object\n",
      " 5   square  17748 non-null  object\n",
      " 6   floor   17748 non-null  object\n",
      " 7   type1   15045 non-null  object\n",
      " 8   type2   13784 non-null  object\n",
      " 9   type3   14578 non-null  object\n",
      " 10  metro   17748 non-null  int64 \n",
      "dtypes: int64(1), object(10)\n",
      "memory usage: 1.5+ MB\n"
     ]
    }
   ],
   "source": [
    "df.info()"
   ]
  },
  {
   "cell_type": "markdown",
   "id": "da721b49-82d0-44cf-9451-10aeefc562bc",
   "metadata": {},
   "source": [
    "### Duplicates"
   ]
  },
  {
   "cell_type": "code",
   "execution_count": 194,
   "id": "ebf7d253-a8db-4f50-bc5c-ada297440717",
   "metadata": {
    "tags": []
   },
   "outputs": [
    {
     "data": {
      "text/html": [
       "<div>\n",
       "<style scoped>\n",
       "    .dataframe tbody tr th:only-of-type {\n",
       "        vertical-align: middle;\n",
       "    }\n",
       "\n",
       "    .dataframe tbody tr th {\n",
       "        vertical-align: top;\n",
       "    }\n",
       "\n",
       "    .dataframe thead th {\n",
       "        text-align: right;\n",
       "    }\n",
       "</style>\n",
       "<table border=\"1\" class=\"dataframe\">\n",
       "  <thead>\n",
       "    <tr style=\"text-align: right;\">\n",
       "      <th></th>\n",
       "      <th>price</th>\n",
       "      <th>dist1</th>\n",
       "      <th>dist2</th>\n",
       "      <th>dist3</th>\n",
       "      <th>rooms</th>\n",
       "      <th>square</th>\n",
       "      <th>floor</th>\n",
       "      <th>type1</th>\n",
       "      <th>type2</th>\n",
       "      <th>type3</th>\n",
       "      <th>metro</th>\n",
       "    </tr>\n",
       "  </thead>\n",
       "  <tbody>\n",
       "    <tr>\n",
       "      <th>8780</th>\n",
       "      <td>38 000 грн</td>\n",
       "      <td>ЖК Французький квартал 2</td>\n",
       "      <td>Нова забудова</td>\n",
       "      <td>Печерський</td>\n",
       "      <td>2 кімнати</td>\n",
       "      <td>64 / 28 / 24 м²</td>\n",
       "      <td>поверх 8 з 24</td>\n",
       "      <td>спец. проект</td>\n",
       "      <td>монолітно-каркасний</td>\n",
       "      <td>2017.0</td>\n",
       "      <td>1</td>\n",
       "    </tr>\n",
       "    <tr>\n",
       "      <th>8783</th>\n",
       "      <td>28 725 грн</td>\n",
       "      <td>ЖК Французький квартал 2</td>\n",
       "      <td>Нова забудова</td>\n",
       "      <td>Печерський</td>\n",
       "      <td>1 кімната</td>\n",
       "      <td>41 / 20 / 20 м²</td>\n",
       "      <td>поверх 14 з 24</td>\n",
       "      <td>спец. проект</td>\n",
       "      <td>монолітно-каркасний</td>\n",
       "      <td>2017.0</td>\n",
       "      <td>1</td>\n",
       "    </tr>\n",
       "    <tr>\n",
       "      <th>8792</th>\n",
       "      <td>17 000 грн</td>\n",
       "      <td>Липки</td>\n",
       "      <td>Печерський</td>\n",
       "      <td>Київ</td>\n",
       "      <td>1 кімната</td>\n",
       "      <td>40 / 20 / 5 м²</td>\n",
       "      <td>поверх 1 з 5</td>\n",
       "      <td>сталінка</td>\n",
       "      <td>цегляний будинок</td>\n",
       "      <td>1962.0</td>\n",
       "      <td>1</td>\n",
       "    </tr>\n",
       "    <tr>\n",
       "      <th>8820</th>\n",
       "      <td>24 000 грн</td>\n",
       "      <td>ЖК Нивки-Парк</td>\n",
       "      <td>Ґалаґани</td>\n",
       "      <td>Святошинський</td>\n",
       "      <td>2 кімнати</td>\n",
       "      <td>72 / 40 / 20 м²</td>\n",
       "      <td>поверх 9 з 18</td>\n",
       "      <td>спец. проект</td>\n",
       "      <td>монолітно-каркасний</td>\n",
       "      <td>2021.0</td>\n",
       "      <td>1</td>\n",
       "    </tr>\n",
       "    <tr>\n",
       "      <th>8831</th>\n",
       "      <td>19 900 грн</td>\n",
       "      <td>Нижній Печерськ</td>\n",
       "      <td>Печерський</td>\n",
       "      <td>Київ</td>\n",
       "      <td>2 кімнати</td>\n",
       "      <td>52 / 20 / 25 м²</td>\n",
       "      <td>поверх 17 з 18</td>\n",
       "      <td>совмін</td>\n",
       "      <td>цегляний будинок</td>\n",
       "      <td>1974.0</td>\n",
       "      <td>1</td>\n",
       "    </tr>\n",
       "    <tr>\n",
       "      <th>...</th>\n",
       "      <td>...</td>\n",
       "      <td>...</td>\n",
       "      <td>...</td>\n",
       "      <td>...</td>\n",
       "      <td>...</td>\n",
       "      <td>...</td>\n",
       "      <td>...</td>\n",
       "      <td>...</td>\n",
       "      <td>...</td>\n",
       "      <td>...</td>\n",
       "      <td>...</td>\n",
       "    </tr>\n",
       "    <tr>\n",
       "      <th>12028</th>\n",
       "      <td>42 130 грн</td>\n",
       "      <td>Поділ</td>\n",
       "      <td>Подільський</td>\n",
       "      <td>Київ</td>\n",
       "      <td>3 кімнати</td>\n",
       "      <td>75 / - / 12 м²</td>\n",
       "      <td>поверх 3 з 4</td>\n",
       "      <td>дореволюційний</td>\n",
       "      <td>цегляний будинок</td>\n",
       "      <td>1917.0</td>\n",
       "      <td>1</td>\n",
       "    </tr>\n",
       "    <tr>\n",
       "      <th>12029</th>\n",
       "      <td>107 240 грн</td>\n",
       "      <td>ЖК Crystal Park</td>\n",
       "      <td>Шулявка</td>\n",
       "      <td>Шевченківський</td>\n",
       "      <td>4 кімнати</td>\n",
       "      <td>160 / - / 37 м²</td>\n",
       "      <td>поверх 8 з 9</td>\n",
       "      <td>спец. проект</td>\n",
       "      <td>монолітно-каркасний</td>\n",
       "      <td>2013.0</td>\n",
       "      <td>1</td>\n",
       "    </tr>\n",
       "    <tr>\n",
       "      <th>12054</th>\n",
       "      <td>16 000 грн</td>\n",
       "      <td>ЖК вул. Каховська, 60</td>\n",
       "      <td>Микільська Слобідка</td>\n",
       "      <td>Дніпровський</td>\n",
       "      <td>1 кімната</td>\n",
       "      <td>31 / 15 / 12 м²</td>\n",
       "      <td>поверх 5 з 26</td>\n",
       "      <td>цегляний будинок</td>\n",
       "      <td>2020</td>\n",
       "      <td>сьогодні о 10:24</td>\n",
       "      <td>0</td>\n",
       "    </tr>\n",
       "    <tr>\n",
       "      <th>12559</th>\n",
       "      <td>19 000 грн</td>\n",
       "      <td>ЖК вул. Дмитрівська, 69</td>\n",
       "      <td>Солдатська слобідка</td>\n",
       "      <td>Шевченківський</td>\n",
       "      <td>1 кімната</td>\n",
       "      <td>55 / - / 15 м²</td>\n",
       "      <td>поверх 8 з 24</td>\n",
       "      <td>спец. проект</td>\n",
       "      <td>монолітно-каркасний</td>\n",
       "      <td>вчора о 13:30</td>\n",
       "      <td>0</td>\n",
       "    </tr>\n",
       "    <tr>\n",
       "      <th>15655</th>\n",
       "      <td>28 687 грн</td>\n",
       "      <td>ЖК RiverStone</td>\n",
       "      <td>Позняки</td>\n",
       "      <td>Дарницький</td>\n",
       "      <td>2 кімнати</td>\n",
       "      <td>90 / - / 24 м²</td>\n",
       "      <td>поверх 15 з 24</td>\n",
       "      <td>спец. проект</td>\n",
       "      <td>монолітно-каркасний</td>\n",
       "      <td>18 січня</td>\n",
       "      <td>0</td>\n",
       "    </tr>\n",
       "  </tbody>\n",
       "</table>\n",
       "<p>2201 rows × 11 columns</p>\n",
       "</div>"
      ],
      "text/plain": [
       "             price                     dist1                dist2  \\\n",
       "8780    38 000 грн  ЖК Французький квартал 2        Нова забудова   \n",
       "8783    28 725 грн  ЖК Французький квартал 2        Нова забудова   \n",
       "8792    17 000 грн                     Липки           Печерський   \n",
       "8820    24 000 грн             ЖК Нивки-Парк             Ґалаґани   \n",
       "8831    19 900 грн           Нижній Печерськ           Печерський   \n",
       "...            ...                       ...                  ...   \n",
       "12028   42 130 грн                     Поділ          Подільський   \n",
       "12029  107 240 грн           ЖК Crystal Park              Шулявка   \n",
       "12054   16 000 грн     ЖК вул. Каховська, 60  Микільська Слобідка   \n",
       "12559   19 000 грн   ЖК вул. Дмитрівська, 69  Солдатська слобідка   \n",
       "15655   28 687 грн             ЖК RiverStone              Позняки   \n",
       "\n",
       "                dist3      rooms           square           floor  \\\n",
       "8780       Печерський  2 кімнати  64 / 28 / 24 м²   поверх 8 з 24   \n",
       "8783       Печерський  1 кімната  41 / 20 / 20 м²  поверх 14 з 24   \n",
       "8792             Київ  1 кімната   40 / 20 / 5 м²    поверх 1 з 5   \n",
       "8820    Святошинський  2 кімнати  72 / 40 / 20 м²   поверх 9 з 18   \n",
       "8831             Київ  2 кімнати  52 / 20 / 25 м²  поверх 17 з 18   \n",
       "...               ...        ...              ...             ...   \n",
       "12028            Київ  3 кімнати   75 / - / 12 м²    поверх 3 з 4   \n",
       "12029  Шевченківський  4 кімнати  160 / - / 37 м²    поверх 8 з 9   \n",
       "12054    Дніпровський  1 кімната  31 / 15 / 12 м²   поверх 5 з 26   \n",
       "12559  Шевченківський  1 кімната   55 / - / 15 м²   поверх 8 з 24   \n",
       "15655      Дарницький  2 кімнати   90 / - / 24 м²  поверх 15 з 24   \n",
       "\n",
       "                  type1                type2             type3  metro  \n",
       "8780       спец. проект  монолітно-каркасний            2017.0      1  \n",
       "8783       спец. проект  монолітно-каркасний            2017.0      1  \n",
       "8792           сталінка     цегляний будинок            1962.0      1  \n",
       "8820       спец. проект  монолітно-каркасний            2021.0      1  \n",
       "8831             совмін     цегляний будинок            1974.0      1  \n",
       "...                 ...                  ...               ...    ...  \n",
       "12028    дореволюційний     цегляний будинок            1917.0      1  \n",
       "12029      спец. проект  монолітно-каркасний            2013.0      1  \n",
       "12054  цегляний будинок                 2020  сьогодні о 10:24      0  \n",
       "12559      спец. проект  монолітно-каркасний     вчора о 13:30      0  \n",
       "15655      спец. проект  монолітно-каркасний          18 січня      0  \n",
       "\n",
       "[2201 rows x 11 columns]"
      ]
     },
     "execution_count": 194,
     "metadata": {},
     "output_type": "execute_result"
    }
   ],
   "source": [
    "df[df.duplicated(subset=['price', 'dist1', 'dist2', 'dist3', 'rooms', 'square', 'floor', 'type1', 'type2', 'type3'])]"
   ]
  },
  {
   "cell_type": "code",
   "execution_count": 195,
   "id": "0d40806b-2ed4-4d2b-8b9c-7d09b8cf7888",
   "metadata": {
    "tags": []
   },
   "outputs": [],
   "source": [
    "df.drop_duplicates(subset=['price', 'dist1', 'dist2', 'dist3', 'rooms', 'square', 'floor', 'type1', 'type2', 'type3'],\n",
    "                   inplace=True, ignore_index=True)"
   ]
  },
  {
   "cell_type": "markdown",
   "id": "87cbb13c-0e39-4585-8534-fdce56ef0723",
   "metadata": {
    "tags": []
   },
   "source": [
    "### Data cleaning"
   ]
  },
  {
   "cell_type": "code",
   "execution_count": 196,
   "id": "a5655110-72b1-4461-b6a5-6b5146880750",
   "metadata": {
    "tags": []
   },
   "outputs": [
    {
     "name": "stdout",
     "output_type": "stream",
     "text": [
      "<class 'pandas.core.frame.DataFrame'>\n",
      "RangeIndex: 15547 entries, 0 to 15546\n",
      "Data columns (total 11 columns):\n",
      " #   Column  Non-Null Count  Dtype \n",
      "---  ------  --------------  ----- \n",
      " 0   price   15547 non-null  object\n",
      " 1   dist1   15547 non-null  object\n",
      " 2   dist2   15453 non-null  object\n",
      " 3   dist3   14504 non-null  object\n",
      " 4   rooms   15547 non-null  object\n",
      " 5   square  15547 non-null  object\n",
      " 6   floor   15547 non-null  object\n",
      " 7   type1   13101 non-null  object\n",
      " 8   type2   11979 non-null  object\n",
      " 9   type3   12855 non-null  object\n",
      " 10  metro   15547 non-null  int64 \n",
      "dtypes: int64(1), object(10)\n",
      "memory usage: 1.3+ MB\n"
     ]
    }
   ],
   "source": [
    "df.info()"
   ]
  },
  {
   "cell_type": "code",
   "execution_count": 197,
   "id": "8f569563-a368-4f5b-8a22-9b8f276c68b6",
   "metadata": {
    "tags": []
   },
   "outputs": [
    {
     "data": {
      "text/plain": [
       "dist3\n",
       "Київ              7518\n",
       "Печерський        2357\n",
       "Голосіївський     1165\n",
       "Дарницький         934\n",
       "Шевченківський     768\n",
       "Солом'янський      464\n",
       "Дніпровський       449\n",
       "Оболонський        303\n",
       "Подільський        291\n",
       "Святошинський      193\n",
       "Деснянський         62\n",
       "Name: count, dtype: int64"
      ]
     },
     "execution_count": 197,
     "metadata": {},
     "output_type": "execute_result"
    }
   ],
   "source": [
    "df.dist3.value_counts()"
   ]
  },
  {
   "cell_type": "code",
   "execution_count": 198,
   "id": "c788fd54-1697-46aa-8d2f-5ad88bbee413",
   "metadata": {},
   "outputs": [],
   "source": [
    "df.dist3 = df.dist3.apply(lambda x : np.nan if x=='Київ' else x)"
   ]
  },
  {
   "cell_type": "code",
   "execution_count": 199,
   "id": "21eb49a0-d4a5-4b9b-a001-119963f2b808",
   "metadata": {
    "tags": []
   },
   "outputs": [],
   "source": [
    "districts = ['Печерський', 'Деснянський', 'Шевченківський', 'Дніпровський', 'Голосіївський',\n",
    "             \"Солом'янський\", 'Святошинський', 'Оболонський', 'Дарницький', 'Подільський']"
   ]
  },
  {
   "cell_type": "code",
   "execution_count": 200,
   "id": "b8061f17-418b-4572-8656-0fd65b4e11a6",
   "metadata": {
    "tags": []
   },
   "outputs": [],
   "source": [
    "for i in range(0, len(df)):\n",
    "    if df.dist1[i] in districts:\n",
    "        df.loc[i, 'dist3'] = df.dist1[i]\n",
    "        df.loc[i, 'dist1'] = np.nan\n",
    "    elif df.dist2[i] in districts:\n",
    "        df.loc[i, 'dist3'] = df.dist2[i]\n",
    "        df.loc[i, 'dist2'] = np.nan\n",
    "        "
   ]
  },
  {
   "cell_type": "code",
   "execution_count": 201,
   "id": "b942bc48-3caa-45fd-a638-e909694a32b8",
   "metadata": {
    "tags": []
   },
   "outputs": [],
   "source": [
    "import re\n",
    "pattern = r'\\d{4}'\n",
    "for i in range(0, len(df)):\n",
    "    if re.match(pattern, str(df.type1[i])):\n",
    "        df.loc[i, 'type3'] = df.type1[i]\n",
    "        df.loc[i, 'type1'] = np.nan\n",
    "    elif re.match(pattern, str(df.type2[i])):\n",
    "        df.loc[i, 'type3'] = df.type2[i]\n",
    "        df.loc[i, 'type2'] = np.nan\n",
    "    "
   ]
  },
  {
   "cell_type": "code",
   "execution_count": 202,
   "id": "6d02c444-e69f-4a6d-9cc4-194dde8c023a",
   "metadata": {
    "tags": []
   },
   "outputs": [
    {
     "data": {
      "text/html": [
       "<div>\n",
       "<style scoped>\n",
       "    .dataframe tbody tr th:only-of-type {\n",
       "        vertical-align: middle;\n",
       "    }\n",
       "\n",
       "    .dataframe tbody tr th {\n",
       "        vertical-align: top;\n",
       "    }\n",
       "\n",
       "    .dataframe thead th {\n",
       "        text-align: right;\n",
       "    }\n",
       "</style>\n",
       "<table border=\"1\" class=\"dataframe\">\n",
       "  <thead>\n",
       "    <tr style=\"text-align: right;\">\n",
       "      <th></th>\n",
       "      <th>price</th>\n",
       "      <th>dist1</th>\n",
       "      <th>dist2</th>\n",
       "      <th>dist3</th>\n",
       "      <th>rooms</th>\n",
       "      <th>square</th>\n",
       "      <th>floor</th>\n",
       "      <th>type1</th>\n",
       "      <th>type2</th>\n",
       "      <th>type3</th>\n",
       "      <th>metro</th>\n",
       "    </tr>\n",
       "  </thead>\n",
       "  <tbody>\n",
       "    <tr>\n",
       "      <th>0</th>\n",
       "      <td>26 000 грн</td>\n",
       "      <td>ЖК Місце мрії</td>\n",
       "      <td>Шулявка</td>\n",
       "      <td>Солом'янський</td>\n",
       "      <td>2 кімнати</td>\n",
       "      <td>60 / 35 / 15 м²</td>\n",
       "      <td>поверх 14 з 25</td>\n",
       "      <td>спец. проект</td>\n",
       "      <td>монолітно-каркасний</td>\n",
       "      <td>2009.0</td>\n",
       "      <td>1</td>\n",
       "    </tr>\n",
       "    <tr>\n",
       "      <th>1</th>\n",
       "      <td>95 750 грн</td>\n",
       "      <td>ЖК Central Park</td>\n",
       "      <td>Нова забудова</td>\n",
       "      <td>Печерський</td>\n",
       "      <td>3 кімнати</td>\n",
       "      <td>131 / 80 / 15 м²</td>\n",
       "      <td>поверх 10 з 25</td>\n",
       "      <td>NaN</td>\n",
       "      <td>NaN</td>\n",
       "      <td>NaN</td>\n",
       "      <td>1</td>\n",
       "    </tr>\n",
       "    <tr>\n",
       "      <th>2</th>\n",
       "      <td>57 450 грн</td>\n",
       "      <td>ЖК Новопечерські Липки</td>\n",
       "      <td>Чорна Гора</td>\n",
       "      <td>Печерський</td>\n",
       "      <td>2 кімнати</td>\n",
       "      <td>87 / 41 / 17 м²</td>\n",
       "      <td>поверх 2 з 23</td>\n",
       "      <td>спец. проект</td>\n",
       "      <td>монолітно-каркасний</td>\n",
       "      <td>2013.0</td>\n",
       "      <td>1</td>\n",
       "    </tr>\n",
       "    <tr>\n",
       "      <th>3</th>\n",
       "      <td>8 000 грн</td>\n",
       "      <td>Харьківський</td>\n",
       "      <td>NaN</td>\n",
       "      <td>Дарницький</td>\n",
       "      <td>1 кімната</td>\n",
       "      <td>40 / 18 / 9 м²</td>\n",
       "      <td>поверх 3 з 16</td>\n",
       "      <td>серія Т</td>\n",
       "      <td>утеплена панель</td>\n",
       "      <td>1983.0</td>\n",
       "      <td>1</td>\n",
       "    </tr>\n",
       "    <tr>\n",
       "      <th>4</th>\n",
       "      <td>15 000 грн</td>\n",
       "      <td>ЖМ Патріотика</td>\n",
       "      <td>Осокорки</td>\n",
       "      <td>Дарницький</td>\n",
       "      <td>1 кімната</td>\n",
       "      <td>38 / 12 / 16 м²</td>\n",
       "      <td>поверх 15 з 25</td>\n",
       "      <td>спец. проект</td>\n",
       "      <td>панельні</td>\n",
       "      <td>2018.0</td>\n",
       "      <td>1</td>\n",
       "    </tr>\n",
       "  </tbody>\n",
       "</table>\n",
       "</div>"
      ],
      "text/plain": [
       "        price                   dist1          dist2          dist3  \\\n",
       "0  26 000 грн           ЖК Місце мрії        Шулявка  Солом'янський   \n",
       "1  95 750 грн         ЖК Central Park  Нова забудова     Печерський   \n",
       "2  57 450 грн  ЖК Новопечерські Липки     Чорна Гора     Печерський   \n",
       "3   8 000 грн            Харьківський            NaN     Дарницький   \n",
       "4  15 000 грн           ЖМ Патріотика       Осокорки     Дарницький   \n",
       "\n",
       "       rooms            square           floor         type1  \\\n",
       "0  2 кімнати   60 / 35 / 15 м²  поверх 14 з 25  спец. проект   \n",
       "1  3 кімнати  131 / 80 / 15 м²  поверх 10 з 25           NaN   \n",
       "2  2 кімнати   87 / 41 / 17 м²   поверх 2 з 23  спец. проект   \n",
       "3  1 кімната    40 / 18 / 9 м²   поверх 3 з 16       серія Т   \n",
       "4  1 кімната   38 / 12 / 16 м²  поверх 15 з 25  спец. проект   \n",
       "\n",
       "                 type2   type3  metro  \n",
       "0  монолітно-каркасний  2009.0      1  \n",
       "1                  NaN     NaN      1  \n",
       "2  монолітно-каркасний  2013.0      1  \n",
       "3      утеплена панель  1983.0      1  \n",
       "4             панельні  2018.0      1  "
      ]
     },
     "execution_count": 202,
     "metadata": {},
     "output_type": "execute_result"
    }
   ],
   "source": [
    "df.head()"
   ]
  },
  {
   "cell_type": "code",
   "execution_count": 203,
   "id": "9ff63c40-3c5f-4864-b970-e8c3461143c7",
   "metadata": {
    "tags": []
   },
   "outputs": [],
   "source": [
    "df.price =df.price.apply(lambda x:  x.replace(' ', ''))\n",
    "df.price.replace('[^0-9]', '', regex=True, inplace=True)\n",
    "df.price = df.price.astype('int32')"
   ]
  },
  {
   "cell_type": "code",
   "execution_count": 204,
   "id": "c4c0e2e3-9432-4886-ac58-5ce8303d5244",
   "metadata": {
    "tags": []
   },
   "outputs": [
    {
     "data": {
      "text/plain": [
       "array(['2 кімнати', '3 кімнати', '1 кімната', '4 кімнати', '6 кімнат',\n",
       "       '5 кімнат'], dtype=object)"
      ]
     },
     "execution_count": 204,
     "metadata": {},
     "output_type": "execute_result"
    }
   ],
   "source": [
    "df.rooms.unique()"
   ]
  },
  {
   "cell_type": "code",
   "execution_count": 205,
   "id": "b3fa64c9-57ad-420a-8a80-25bf01a44175",
   "metadata": {
    "tags": []
   },
   "outputs": [],
   "source": [
    "df['rooms'].replace('[^0-9]', '', regex=True, inplace=True)\n",
    "df['rooms'] = df.rooms.astype('int32')"
   ]
  },
  {
   "cell_type": "code",
   "execution_count": 206,
   "id": "cf28b463-e7a0-4cb6-b9a3-78b58901a214",
   "metadata": {
    "tags": []
   },
   "outputs": [
    {
     "data": {
      "text/html": [
       "<div>\n",
       "<style scoped>\n",
       "    .dataframe tbody tr th:only-of-type {\n",
       "        vertical-align: middle;\n",
       "    }\n",
       "\n",
       "    .dataframe tbody tr th {\n",
       "        vertical-align: top;\n",
       "    }\n",
       "\n",
       "    .dataframe thead th {\n",
       "        text-align: right;\n",
       "    }\n",
       "</style>\n",
       "<table border=\"1\" class=\"dataframe\">\n",
       "  <thead>\n",
       "    <tr style=\"text-align: right;\">\n",
       "      <th></th>\n",
       "      <th>price</th>\n",
       "      <th>dist1</th>\n",
       "      <th>dist2</th>\n",
       "      <th>dist3</th>\n",
       "      <th>rooms</th>\n",
       "      <th>square</th>\n",
       "      <th>floor</th>\n",
       "      <th>type1</th>\n",
       "      <th>type2</th>\n",
       "      <th>type3</th>\n",
       "      <th>metro</th>\n",
       "      <th>total_area</th>\n",
       "      <th>living_area</th>\n",
       "      <th>kitchen_area</th>\n",
       "    </tr>\n",
       "  </thead>\n",
       "  <tbody>\n",
       "    <tr>\n",
       "      <th>0</th>\n",
       "      <td>26000</td>\n",
       "      <td>ЖК Місце мрії</td>\n",
       "      <td>Шулявка</td>\n",
       "      <td>Солом'янський</td>\n",
       "      <td>2</td>\n",
       "      <td>60 / 35 / 15</td>\n",
       "      <td>поверх 14 з 25</td>\n",
       "      <td>спец. проект</td>\n",
       "      <td>монолітно-каркасний</td>\n",
       "      <td>2009.0</td>\n",
       "      <td>1</td>\n",
       "      <td>60.0</td>\n",
       "      <td>35.0</td>\n",
       "      <td>15.0</td>\n",
       "    </tr>\n",
       "    <tr>\n",
       "      <th>1</th>\n",
       "      <td>95750</td>\n",
       "      <td>ЖК Central Park</td>\n",
       "      <td>Нова забудова</td>\n",
       "      <td>Печерський</td>\n",
       "      <td>3</td>\n",
       "      <td>131 / 80 / 15</td>\n",
       "      <td>поверх 10 з 25</td>\n",
       "      <td>NaN</td>\n",
       "      <td>NaN</td>\n",
       "      <td>NaN</td>\n",
       "      <td>1</td>\n",
       "      <td>131.0</td>\n",
       "      <td>80.0</td>\n",
       "      <td>15.0</td>\n",
       "    </tr>\n",
       "    <tr>\n",
       "      <th>2</th>\n",
       "      <td>57450</td>\n",
       "      <td>ЖК Новопечерські Липки</td>\n",
       "      <td>Чорна Гора</td>\n",
       "      <td>Печерський</td>\n",
       "      <td>2</td>\n",
       "      <td>87 / 41 / 17</td>\n",
       "      <td>поверх 2 з 23</td>\n",
       "      <td>спец. проект</td>\n",
       "      <td>монолітно-каркасний</td>\n",
       "      <td>2013.0</td>\n",
       "      <td>1</td>\n",
       "      <td>87.0</td>\n",
       "      <td>41.0</td>\n",
       "      <td>17.0</td>\n",
       "    </tr>\n",
       "    <tr>\n",
       "      <th>3</th>\n",
       "      <td>8000</td>\n",
       "      <td>Харьківський</td>\n",
       "      <td>NaN</td>\n",
       "      <td>Дарницький</td>\n",
       "      <td>1</td>\n",
       "      <td>40 / 18 / 9</td>\n",
       "      <td>поверх 3 з 16</td>\n",
       "      <td>серія Т</td>\n",
       "      <td>утеплена панель</td>\n",
       "      <td>1983.0</td>\n",
       "      <td>1</td>\n",
       "      <td>40.0</td>\n",
       "      <td>18.0</td>\n",
       "      <td>9.0</td>\n",
       "    </tr>\n",
       "    <tr>\n",
       "      <th>4</th>\n",
       "      <td>15000</td>\n",
       "      <td>ЖМ Патріотика</td>\n",
       "      <td>Осокорки</td>\n",
       "      <td>Дарницький</td>\n",
       "      <td>1</td>\n",
       "      <td>38 / 12 / 16</td>\n",
       "      <td>поверх 15 з 25</td>\n",
       "      <td>спец. проект</td>\n",
       "      <td>панельні</td>\n",
       "      <td>2018.0</td>\n",
       "      <td>1</td>\n",
       "      <td>38.0</td>\n",
       "      <td>12.0</td>\n",
       "      <td>16.0</td>\n",
       "    </tr>\n",
       "  </tbody>\n",
       "</table>\n",
       "</div>"
      ],
      "text/plain": [
       "   price                   dist1          dist2          dist3  rooms  \\\n",
       "0  26000           ЖК Місце мрії        Шулявка  Солом'янський      2   \n",
       "1  95750         ЖК Central Park  Нова забудова     Печерський      3   \n",
       "2  57450  ЖК Новопечерські Липки     Чорна Гора     Печерський      2   \n",
       "3   8000            Харьківський            NaN     Дарницький      1   \n",
       "4  15000           ЖМ Патріотика       Осокорки     Дарницький      1   \n",
       "\n",
       "           square           floor         type1                type2   type3  \\\n",
       "0   60 / 35 / 15   поверх 14 з 25  спец. проект  монолітно-каркасний  2009.0   \n",
       "1  131 / 80 / 15   поверх 10 з 25           NaN                  NaN     NaN   \n",
       "2   87 / 41 / 17    поверх 2 з 23  спец. проект  монолітно-каркасний  2013.0   \n",
       "3    40 / 18 / 9    поверх 3 з 16       серія Т      утеплена панель  1983.0   \n",
       "4   38 / 12 / 16   поверх 15 з 25  спец. проект             панельні  2018.0   \n",
       "\n",
       "   metro  total_area  living_area  kitchen_area  \n",
       "0      1        60.0         35.0          15.0  \n",
       "1      1       131.0         80.0          15.0  \n",
       "2      1        87.0         41.0          17.0  \n",
       "3      1        40.0         18.0           9.0  \n",
       "4      1        38.0         12.0          16.0  "
      ]
     },
     "execution_count": 206,
     "metadata": {},
     "output_type": "execute_result"
    }
   ],
   "source": [
    "df['square'].replace('м²', '', inplace=True, regex=True)\n",
    "\n",
    "str_split = df.square.str.split(' / ')\n",
    "\n",
    "df['total_area'] = pd.to_numeric(str_split.str.get(0), errors='coerce') \n",
    "df['living_area'] = pd.to_numeric(str_split.str.get(1), errors='coerce')\n",
    "df['kitchen_area']= pd.to_numeric(str_split.str.get(2), errors='coerce')\n",
    "df.head()"
   ]
  },
  {
   "cell_type": "code",
   "execution_count": 207,
   "id": "afd2248c-e14d-4314-8727-9c2579013c10",
   "metadata": {
    "tags": []
   },
   "outputs": [],
   "source": [
    "df['floor'].replace('поверх', '', regex=True, inplace=True)\n",
    "\n",
    "str_split = df.floor.str.split(' з ')\n",
    "\n",
    "df['floor'] = pd.to_numeric(str_split.str.get(0), errors='coerce', downcast='integer') \n",
    "df['floor_total'] =  pd.to_numeric(str_split.str.get(1), errors='coerce', downcast='integer')\n",
    "df.rename(columns= {'type3' :'year'}, inplace = True)"
   ]
  },
  {
   "cell_type": "code",
   "execution_count": 208,
   "id": "a81e08e7-48b1-4305-bffe-692ae9d3695b",
   "metadata": {
    "tags": []
   },
   "outputs": [
    {
     "data": {
      "text/html": [
       "<div>\n",
       "<style scoped>\n",
       "    .dataframe tbody tr th:only-of-type {\n",
       "        vertical-align: middle;\n",
       "    }\n",
       "\n",
       "    .dataframe tbody tr th {\n",
       "        vertical-align: top;\n",
       "    }\n",
       "\n",
       "    .dataframe thead th {\n",
       "        text-align: right;\n",
       "    }\n",
       "</style>\n",
       "<table border=\"1\" class=\"dataframe\">\n",
       "  <thead>\n",
       "    <tr style=\"text-align: right;\">\n",
       "      <th></th>\n",
       "      <th>price</th>\n",
       "      <th>dist1</th>\n",
       "      <th>dist2</th>\n",
       "      <th>dist3</th>\n",
       "      <th>rooms</th>\n",
       "      <th>square</th>\n",
       "      <th>floor</th>\n",
       "      <th>type1</th>\n",
       "      <th>type2</th>\n",
       "      <th>year</th>\n",
       "      <th>metro</th>\n",
       "      <th>total_area</th>\n",
       "      <th>living_area</th>\n",
       "      <th>kitchen_area</th>\n",
       "      <th>floor_total</th>\n",
       "    </tr>\n",
       "  </thead>\n",
       "  <tbody>\n",
       "    <tr>\n",
       "      <th>0</th>\n",
       "      <td>26000</td>\n",
       "      <td>ЖК Місце мрії</td>\n",
       "      <td>Шулявка</td>\n",
       "      <td>Солом'янський</td>\n",
       "      <td>2</td>\n",
       "      <td>60 / 35 / 15</td>\n",
       "      <td>14.0</td>\n",
       "      <td>спец. проект</td>\n",
       "      <td>монолітно-каркасний</td>\n",
       "      <td>2009.0</td>\n",
       "      <td>1</td>\n",
       "      <td>60.0</td>\n",
       "      <td>35.0</td>\n",
       "      <td>15.0</td>\n",
       "      <td>25.0</td>\n",
       "    </tr>\n",
       "    <tr>\n",
       "      <th>1</th>\n",
       "      <td>95750</td>\n",
       "      <td>ЖК Central Park</td>\n",
       "      <td>Нова забудова</td>\n",
       "      <td>Печерський</td>\n",
       "      <td>3</td>\n",
       "      <td>131 / 80 / 15</td>\n",
       "      <td>10.0</td>\n",
       "      <td>NaN</td>\n",
       "      <td>NaN</td>\n",
       "      <td>NaN</td>\n",
       "      <td>1</td>\n",
       "      <td>131.0</td>\n",
       "      <td>80.0</td>\n",
       "      <td>15.0</td>\n",
       "      <td>25.0</td>\n",
       "    </tr>\n",
       "    <tr>\n",
       "      <th>2</th>\n",
       "      <td>57450</td>\n",
       "      <td>ЖК Новопечерські Липки</td>\n",
       "      <td>Чорна Гора</td>\n",
       "      <td>Печерський</td>\n",
       "      <td>2</td>\n",
       "      <td>87 / 41 / 17</td>\n",
       "      <td>2.0</td>\n",
       "      <td>спец. проект</td>\n",
       "      <td>монолітно-каркасний</td>\n",
       "      <td>2013.0</td>\n",
       "      <td>1</td>\n",
       "      <td>87.0</td>\n",
       "      <td>41.0</td>\n",
       "      <td>17.0</td>\n",
       "      <td>23.0</td>\n",
       "    </tr>\n",
       "    <tr>\n",
       "      <th>3</th>\n",
       "      <td>8000</td>\n",
       "      <td>Харьківський</td>\n",
       "      <td>NaN</td>\n",
       "      <td>Дарницький</td>\n",
       "      <td>1</td>\n",
       "      <td>40 / 18 / 9</td>\n",
       "      <td>3.0</td>\n",
       "      <td>серія Т</td>\n",
       "      <td>утеплена панель</td>\n",
       "      <td>1983.0</td>\n",
       "      <td>1</td>\n",
       "      <td>40.0</td>\n",
       "      <td>18.0</td>\n",
       "      <td>9.0</td>\n",
       "      <td>16.0</td>\n",
       "    </tr>\n",
       "    <tr>\n",
       "      <th>4</th>\n",
       "      <td>15000</td>\n",
       "      <td>ЖМ Патріотика</td>\n",
       "      <td>Осокорки</td>\n",
       "      <td>Дарницький</td>\n",
       "      <td>1</td>\n",
       "      <td>38 / 12 / 16</td>\n",
       "      <td>15.0</td>\n",
       "      <td>спец. проект</td>\n",
       "      <td>панельні</td>\n",
       "      <td>2018.0</td>\n",
       "      <td>1</td>\n",
       "      <td>38.0</td>\n",
       "      <td>12.0</td>\n",
       "      <td>16.0</td>\n",
       "      <td>25.0</td>\n",
       "    </tr>\n",
       "  </tbody>\n",
       "</table>\n",
       "</div>"
      ],
      "text/plain": [
       "   price                   dist1          dist2          dist3  rooms  \\\n",
       "0  26000           ЖК Місце мрії        Шулявка  Солом'янський      2   \n",
       "1  95750         ЖК Central Park  Нова забудова     Печерський      3   \n",
       "2  57450  ЖК Новопечерські Липки     Чорна Гора     Печерський      2   \n",
       "3   8000            Харьківський            NaN     Дарницький      1   \n",
       "4  15000           ЖМ Патріотика       Осокорки     Дарницький      1   \n",
       "\n",
       "           square  floor         type1                type2    year  metro  \\\n",
       "0   60 / 35 / 15    14.0  спец. проект  монолітно-каркасний  2009.0      1   \n",
       "1  131 / 80 / 15    10.0           NaN                  NaN     NaN      1   \n",
       "2   87 / 41 / 17     2.0  спец. проект  монолітно-каркасний  2013.0      1   \n",
       "3    40 / 18 / 9     3.0       серія Т      утеплена панель  1983.0      1   \n",
       "4   38 / 12 / 16    15.0  спец. проект             панельні  2018.0      1   \n",
       "\n",
       "   total_area  living_area  kitchen_area  floor_total  \n",
       "0        60.0         35.0          15.0         25.0  \n",
       "1       131.0         80.0          15.0         25.0  \n",
       "2        87.0         41.0          17.0         23.0  \n",
       "3        40.0         18.0           9.0         16.0  \n",
       "4        38.0         12.0          16.0         25.0  "
      ]
     },
     "execution_count": 208,
     "metadata": {},
     "output_type": "execute_result"
    }
   ],
   "source": [
    "df.head()"
   ]
  },
  {
   "cell_type": "markdown",
   "id": "eeb753c3-9774-45f1-9124-2c486ba1c424",
   "metadata": {},
   "source": [
    "#### Summary statistics for features"
   ]
  },
  {
   "cell_type": "code",
   "execution_count": 209,
   "id": "a519d7c1-64e8-470e-bdfa-8255bfacce55",
   "metadata": {
    "tags": []
   },
   "outputs": [
    {
     "data": {
      "text/html": [
       "<div>\n",
       "<style scoped>\n",
       "    .dataframe tbody tr th:only-of-type {\n",
       "        vertical-align: middle;\n",
       "    }\n",
       "\n",
       "    .dataframe tbody tr th {\n",
       "        vertical-align: top;\n",
       "    }\n",
       "\n",
       "    .dataframe thead th {\n",
       "        text-align: right;\n",
       "    }\n",
       "</style>\n",
       "<table border=\"1\" class=\"dataframe\">\n",
       "  <thead>\n",
       "    <tr style=\"text-align: right;\">\n",
       "      <th></th>\n",
       "      <th>price</th>\n",
       "      <th>rooms</th>\n",
       "      <th>floor</th>\n",
       "      <th>metro</th>\n",
       "      <th>total_area</th>\n",
       "      <th>living_area</th>\n",
       "      <th>kitchen_area</th>\n",
       "      <th>floor_total</th>\n",
       "    </tr>\n",
       "  </thead>\n",
       "  <tbody>\n",
       "    <tr>\n",
       "      <th>count</th>\n",
       "      <td>1.554700e+04</td>\n",
       "      <td>15547.000000</td>\n",
       "      <td>15545.000000</td>\n",
       "      <td>15547.000000</td>\n",
       "      <td>15547.000000</td>\n",
       "      <td>10341.000000</td>\n",
       "      <td>15299.000000</td>\n",
       "      <td>15395.000000</td>\n",
       "    </tr>\n",
       "    <tr>\n",
       "      <th>mean</th>\n",
       "      <td>3.860003e+04</td>\n",
       "      <td>2.201454</td>\n",
       "      <td>9.108331</td>\n",
       "      <td>0.361613</td>\n",
       "      <td>80.345475</td>\n",
       "      <td>43.986152</td>\n",
       "      <td>16.019678</td>\n",
       "      <td>16.322312</td>\n",
       "    </tr>\n",
       "    <tr>\n",
       "      <th>std</th>\n",
       "      <td>1.090642e+05</td>\n",
       "      <td>1.040572</td>\n",
       "      <td>6.488120</td>\n",
       "      <td>0.480483</td>\n",
       "      <td>57.452965</td>\n",
       "      <td>33.737807</td>\n",
       "      <td>10.552373</td>\n",
       "      <td>8.281375</td>\n",
       "    </tr>\n",
       "    <tr>\n",
       "      <th>min</th>\n",
       "      <td>9.990000e+02</td>\n",
       "      <td>1.000000</td>\n",
       "      <td>1.000000</td>\n",
       "      <td>0.000000</td>\n",
       "      <td>9.000000</td>\n",
       "      <td>1.000000</td>\n",
       "      <td>1.000000</td>\n",
       "      <td>1.000000</td>\n",
       "    </tr>\n",
       "    <tr>\n",
       "      <th>25%</th>\n",
       "      <td>1.300000e+04</td>\n",
       "      <td>1.000000</td>\n",
       "      <td>4.000000</td>\n",
       "      <td>0.000000</td>\n",
       "      <td>46.000000</td>\n",
       "      <td>20.000000</td>\n",
       "      <td>9.000000</td>\n",
       "      <td>9.000000</td>\n",
       "    </tr>\n",
       "    <tr>\n",
       "      <th>50%</th>\n",
       "      <td>2.300000e+04</td>\n",
       "      <td>2.000000</td>\n",
       "      <td>7.000000</td>\n",
       "      <td>0.000000</td>\n",
       "      <td>63.000000</td>\n",
       "      <td>35.000000</td>\n",
       "      <td>14.000000</td>\n",
       "      <td>16.000000</td>\n",
       "    </tr>\n",
       "    <tr>\n",
       "      <th>75%</th>\n",
       "      <td>4.580300e+04</td>\n",
       "      <td>3.000000</td>\n",
       "      <td>13.000000</td>\n",
       "      <td>1.000000</td>\n",
       "      <td>97.000000</td>\n",
       "      <td>55.000000</td>\n",
       "      <td>20.000000</td>\n",
       "      <td>24.000000</td>\n",
       "    </tr>\n",
       "    <tr>\n",
       "      <th>max</th>\n",
       "      <td>1.129850e+07</td>\n",
       "      <td>6.000000</td>\n",
       "      <td>53.000000</td>\n",
       "      <td>1.000000</td>\n",
       "      <td>1800.000000</td>\n",
       "      <td>706.000000</td>\n",
       "      <td>210.000000</td>\n",
       "      <td>48.000000</td>\n",
       "    </tr>\n",
       "  </tbody>\n",
       "</table>\n",
       "</div>"
      ],
      "text/plain": [
       "              price         rooms         floor         metro    total_area  \\\n",
       "count  1.554700e+04  15547.000000  15545.000000  15547.000000  15547.000000   \n",
       "mean   3.860003e+04      2.201454      9.108331      0.361613     80.345475   \n",
       "std    1.090642e+05      1.040572      6.488120      0.480483     57.452965   \n",
       "min    9.990000e+02      1.000000      1.000000      0.000000      9.000000   \n",
       "25%    1.300000e+04      1.000000      4.000000      0.000000     46.000000   \n",
       "50%    2.300000e+04      2.000000      7.000000      0.000000     63.000000   \n",
       "75%    4.580300e+04      3.000000     13.000000      1.000000     97.000000   \n",
       "max    1.129850e+07      6.000000     53.000000      1.000000   1800.000000   \n",
       "\n",
       "        living_area  kitchen_area   floor_total  \n",
       "count  10341.000000  15299.000000  15395.000000  \n",
       "mean      43.986152     16.019678     16.322312  \n",
       "std       33.737807     10.552373      8.281375  \n",
       "min        1.000000      1.000000      1.000000  \n",
       "25%       20.000000      9.000000      9.000000  \n",
       "50%       35.000000     14.000000     16.000000  \n",
       "75%       55.000000     20.000000     24.000000  \n",
       "max      706.000000    210.000000     48.000000  "
      ]
     },
     "execution_count": 209,
     "metadata": {},
     "output_type": "execute_result"
    }
   ],
   "source": [
    "df.describe()"
   ]
  },
  {
   "cell_type": "code",
   "execution_count": 210,
   "id": "4def14d0-72fa-4b64-abd4-9d6bcecc42e8",
   "metadata": {
    "tags": []
   },
   "outputs": [
    {
     "data": {
      "text/plain": [
       "<Axes: title={'center': 'price'}>"
      ]
     },
     "execution_count": 210,
     "metadata": {},
     "output_type": "execute_result"
    },
    {
     "data": {
      "image/png": "[encoded data removed]",
      "text/plain": [
       "<Figure size 640x480 with 1 Axes>"
      ]
     },
     "metadata": {},
     "output_type": "display_data"
    }
   ],
   "source": [
    "plt.title('price')\n",
    "df['price'].hist(bins=10)"
   ]
  },
  {
   "cell_type": "code",
   "execution_count": 211,
   "id": "d8af5e8a-862c-4cb9-933c-6f28edc30229",
   "metadata": {
    "tags": []
   },
   "outputs": [
    {
     "data": {
      "text/plain": [
       "<Axes: >"
      ]
     },
     "execution_count": 211,
     "metadata": {},
     "output_type": "execute_result"
    },
    {
     "data": {
      "image/png": "[encoded data removed]",
      "text/plain": [
       "<Figure size 640x480 with 1 Axes>"
      ]
     },
     "metadata": {},
     "output_type": "display_data"
    }
   ],
   "source": [
    "sns.boxplot(df.price)"
   ]
  },
  {
   "cell_type": "code",
   "execution_count": 212,
   "id": "a8182f54-d568-48f6-9c32-b8dc5729bf09",
   "metadata": {
    "tags": []
   },
   "outputs": [
    {
     "data": {
      "text/plain": [
       "<Axes: >"
      ]
     },
     "execution_count": 212,
     "metadata": {},
     "output_type": "execute_result"
    },
    {
     "data": {
      "image/png": "[encoded data removed]",
      "text/plain": [
       "<Figure size 640x480 with 1 Axes>"
      ]
     },
     "metadata": {},
     "output_type": "display_data"
    }
   ],
   "source": [
    "df = df[df.price<500000]\n",
    "sns.boxplot(df.price)"
   ]
  },
  {
   "cell_type": "code",
   "execution_count": 213,
   "id": "3c0e408b-a4b1-4af3-a7c7-8f91988bdeab",
   "metadata": {
    "tags": []
   },
   "outputs": [
    {
     "data": {
      "text/plain": [
       "<Axes: title={'center': 'price'}>"
      ]
     },
     "execution_count": 213,
     "metadata": {},
     "output_type": "execute_result"
    },
    {
     "data": {
      "image/png": "[encoded data removed]",
      "text/plain": [
       "<Figure size 640x480 with 1 Axes>"
      ]
     },
     "metadata": {},
     "output_type": "display_data"
    }
   ],
   "source": [
    "plt.title('price')\n",
    "df['price'].hist(bins=10)"
   ]
  },
  {
   "cell_type": "code",
   "execution_count": 214,
   "id": "ec0f3860-db3a-49e3-90e2-abba82a0a0d8",
   "metadata": {
    "tags": []
   },
   "outputs": [
    {
     "data": {
      "text/plain": [
       "<Axes: >"
      ]
     },
     "execution_count": 214,
     "metadata": {},
     "output_type": "execute_result"
    },
    {
     "data": {
      "image/png": "[encoded data removed]",
      "text/plain": [
       "<Figure size 640x480 with 1 Axes>"
      ]
     },
     "metadata": {},
     "output_type": "display_data"
    }
   ],
   "source": [
    "sns.boxplot(df.total_area)"
   ]
  },
  {
   "cell_type": "code",
   "execution_count": 215,
   "id": "c3c24e7e-d240-45bb-8601-e77721272122",
   "metadata": {
    "tags": []
   },
   "outputs": [
    {
     "data": {
      "text/plain": [
       "<Axes: >"
      ]
     },
     "execution_count": 215,
     "metadata": {},
     "output_type": "execute_result"
    },
    {
     "data": {
      "image/png": "[encoded data removed]",
      "text/plain": [
       "<Figure size 640x480 with 1 Axes>"
      ]
     },
     "metadata": {},
     "output_type": "display_data"
    }
   ],
   "source": [
    "df = df[df.total_area <600]\n",
    "sns.boxplot(df.total_area)"
   ]
  },
  {
   "cell_type": "code",
   "execution_count": 216,
   "id": "2c7d723c-35c3-4948-909d-516260859c49",
   "metadata": {
    "tags": []
   },
   "outputs": [],
   "source": [
    "df.year = pd.to_numeric(df.year, errors='coerce', downcast='integer') "
   ]
  },
  {
   "cell_type": "code",
   "execution_count": 217,
   "id": "12a4502d-95f6-432d-b577-0a070cc8099d",
   "metadata": {
    "tags": []
   },
   "outputs": [
    {
     "name": "stdout",
     "output_type": "stream",
     "text": [
      "<class 'pandas.core.frame.DataFrame'>\n",
      "Index: 15532 entries, 0 to 15546\n",
      "Data columns (total 15 columns):\n",
      " #   Column        Non-Null Count  Dtype  \n",
      "---  ------        --------------  -----  \n",
      " 0   price         15532 non-null  int32  \n",
      " 1   dist1         14730 non-null  object \n",
      " 2   dist2         8014 non-null   object \n",
      " 3   dist3         15198 non-null  object \n",
      " 4   rooms         15532 non-null  int32  \n",
      " 5   square        15532 non-null  object \n",
      " 6   floor         15530 non-null  float64\n",
      " 7   type1         12898 non-null  object \n",
      " 8   type2         11474 non-null  object \n",
      " 9   year          7812 non-null   float64\n",
      " 10  metro         15532 non-null  int64  \n",
      " 11  total_area    15532 non-null  float64\n",
      " 12  living_area   10332 non-null  float64\n",
      " 13  kitchen_area  15284 non-null  float64\n",
      " 14  floor_total   15380 non-null  float64\n",
      "dtypes: float64(6), int32(2), int64(1), object(6)\n",
      "memory usage: 2.3+ MB\n"
     ]
    }
   ],
   "source": [
    "df.info()"
   ]
  },
  {
   "cell_type": "markdown",
   "id": "b7afee6e-4c1d-4edf-9ef3-d17a5e7f3fc5",
   "metadata": {
    "tags": []
   },
   "source": [
    "### Null values"
   ]
  },
  {
   "cell_type": "code",
   "execution_count": 218,
   "id": "74841a67-d165-417a-a8ac-3a2164df9dbe",
   "metadata": {
    "tags": []
   },
   "outputs": [
    {
     "data": {
      "text/plain": [
       "price              0\n",
       "dist1            802\n",
       "dist2           7518\n",
       "dist3            334\n",
       "rooms              0\n",
       "square             0\n",
       "floor              2\n",
       "type1           2634\n",
       "type2           4058\n",
       "year            7720\n",
       "metro              0\n",
       "total_area         0\n",
       "living_area     5200\n",
       "kitchen_area     248\n",
       "floor_total      152\n",
       "dtype: int64"
      ]
     },
     "execution_count": 218,
     "metadata": {},
     "output_type": "execute_result"
    }
   ],
   "source": [
    "df.isna().sum()"
   ]
  },
  {
   "cell_type": "code",
   "execution_count": 219,
   "id": "35a2646a-0407-4e86-a0f3-5925111e3a03",
   "metadata": {
    "tags": []
   },
   "outputs": [],
   "source": [
    "df.dropna(subset = ['dist3', 'floor'], inplace=True, ignore_index=True)"
   ]
  },
  {
   "cell_type": "code",
   "execution_count": 220,
   "id": "9f4ce7cf-bae5-4e99-81aa-2e43d16468c2",
   "metadata": {
    "tags": []
   },
   "outputs": [
    {
     "name": "stdout",
     "output_type": "stream",
     "text": [
      "dist3\n",
      "Печерський        3869\n",
      "Шевченківський    2228\n",
      "Голосіївський     2071\n",
      "Дарницький        1713\n",
      "Дніпровський      1254\n",
      "Солом'янський     1123\n",
      "Оболонський        889\n",
      "Подільський        760\n",
      "Святошинський      723\n",
      "Деснянський        566\n",
      "Name: count, dtype: int64 \n",
      "\n",
      "metro\n",
      "0    9717\n",
      "1    5479\n",
      "Name: count, dtype: int64 \n",
      "\n"
     ]
    }
   ],
   "source": [
    "categorical = ['dist3', 'metro']\n",
    "numerical = ['rooms', 'floor', 'total_area', 'living_area', 'kitchen_area', 'floor_total', 'year']\n",
    "for val in categorical:\n",
    "    print(df[val].value_counts(), '\\n')"
   ]
  },
  {
   "cell_type": "markdown",
   "id": "f1e28b61-ae5a-45e0-8ae3-74ac55d3ad46",
   "metadata": {},
   "source": [
    "## Train test split"
   ]
  },
  {
   "cell_type": "code",
   "execution_count": 221,
   "id": "61761c2d-d5f6-4542-b3af-a05fb1b8ce06",
   "metadata": {
    "tags": []
   },
   "outputs": [
    {
     "name": "stdout",
     "output_type": "stream",
     "text": [
      "<class 'pandas.core.frame.DataFrame'>\n",
      "RangeIndex: 15196 entries, 0 to 15195\n",
      "Data columns (total 15 columns):\n",
      " #   Column        Non-Null Count  Dtype  \n",
      "---  ------        --------------  -----  \n",
      " 0   price         15196 non-null  int32  \n",
      " 1   dist1         14394 non-null  object \n",
      " 2   dist2         7772 non-null   object \n",
      " 3   dist3         15196 non-null  object \n",
      " 4   rooms         15196 non-null  int32  \n",
      " 5   square        15196 non-null  object \n",
      " 6   floor         15196 non-null  float64\n",
      " 7   type1         12858 non-null  object \n",
      " 8   type2         11439 non-null  object \n",
      " 9   year          7700 non-null   float64\n",
      " 10  metro         15196 non-null  int64  \n",
      " 11  total_area    15196 non-null  float64\n",
      " 12  living_area   10089 non-null  float64\n",
      " 13  kitchen_area  14950 non-null  float64\n",
      " 14  floor_total   15046 non-null  float64\n",
      "dtypes: float64(6), int32(2), int64(1), object(6)\n",
      "memory usage: 1.6+ MB\n"
     ]
    }
   ],
   "source": [
    "df.info()"
   ]
  },
  {
   "cell_type": "code",
   "execution_count": 147,
   "id": "6f052a5a-91b6-498f-b06d-6535c03572c7",
   "metadata": {
    "tags": []
   },
   "outputs": [],
   "source": [
    "df.drop(['living_area', 'year'], axis = 1, inplace = True)\n",
    "#df.type3 = df.type3.fillna(df.type3.median())\n",
    "df.kitchen_area = df.kitchen_area.fillna(df.kitchen_area.median())\n",
    "df.floor_total = df.floor_total.fillna(df.floor_total.median())"
   ]
  },
  {
   "cell_type": "code",
   "execution_count": 149,
   "id": "dbcccee3-0167-460f-a35f-02ea686e0bc8",
   "metadata": {
    "tags": []
   },
   "outputs": [],
   "source": [
    "del numerical[3]\n",
    "del numerical[5]"
   ]
  },
  {
   "cell_type": "code",
   "execution_count": 151,
   "id": "4c7181f6-573b-4d63-ad1c-57692e605519",
   "metadata": {
    "tags": []
   },
   "outputs": [],
   "source": [
    "from sklearn.model_selection import train_test_split\n",
    "df_train_full, df_test = train_test_split(df, test_size=0.2, random_state=4)\n",
    "df_train, df_val = train_test_split(df_train_full, test_size=0.25, random_state=4)"
   ]
  },
  {
   "cell_type": "markdown",
   "id": "4c388452-747e-4e61-8705-f14d8742cd0f",
   "metadata": {},
   "source": [
    "## EDA"
   ]
  },
  {
   "cell_type": "markdown",
   "id": "e7d0a81e-8889-4854-9edb-8157fdd1868f",
   "metadata": {},
   "source": [
    "### Target feature"
   ]
  },
  {
   "cell_type": "code",
   "execution_count": 152,
   "id": "43c5e575-db95-48a5-9858-ddf9a0515306",
   "metadata": {
    "tags": []
   },
   "outputs": [
    {
     "data": {
      "text/plain": [
       "<Axes: title={'center': 'price'}>"
      ]
     },
     "execution_count": 152,
     "metadata": {},
     "output_type": "execute_result"
    },
    {
     "data": {
      "image/png": "[encoded data removed]",
      "text/plain": [
       "<Figure size 640x480 with 1 Axes>"
      ]
     },
     "metadata": {},
     "output_type": "display_data"
    }
   ],
   "source": [
    "plt.title('price')\n",
    "df_train_full['price'].hist(bins=10)"
   ]
  },
  {
   "cell_type": "markdown",
   "id": "b23cd875-c3b7-4ee5-856e-5a8ca5d1144d",
   "metadata": {},
   "source": [
    "### Categorical features"
   ]
  },
  {
   "cell_type": "code",
   "execution_count": 153,
   "id": "b6ef1dfa-42d5-4658-9dd7-0a2e789d94e2",
   "metadata": {
    "tags": []
   },
   "outputs": [
    {
     "data": {
      "image/png": "[encoded data removed]",
      "text/plain": [
       "<Figure size 1100x500 with 2 Axes>"
      ]
     },
     "metadata": {},
     "output_type": "display_data"
    }
   ],
   "source": [
    "plt.figure(figsize=(11, 5))\n",
    "plt.subplots_adjust(left=0.1, bottom=0.1, right=0.9, top=0.9, wspace=0.4, hspace=0.4)\n",
    "for i in range(0, len(categorical)):\n",
    "    plt.subplot(1, 2, i+1)\n",
    "    df_train_full[categorical[i]].value_counts().plot.bar()\n",
    "    plt.grid(axis='y')"
   ]
  },
  {
   "cell_type": "markdown",
   "id": "3165936f-e42e-4bec-a114-686d640b6b59",
   "metadata": {},
   "source": [
    "### Numerical features"
   ]
  },
  {
   "cell_type": "code",
   "execution_count": 157,
   "id": "75135865-a701-460c-a8ea-e1f9f7e5bbd3",
   "metadata": {
    "tags": []
   },
   "outputs": [
    {
     "data": {
      "image/png": "[encoded data removed]",
      "text/plain": [
       "<Figure size 1000x1000 with 5 Axes>"
      ]
     },
     "metadata": {},
     "output_type": "display_data"
    }
   ],
   "source": [
    "plt.figure(figsize=(10, 10))\n",
    "plt.subplots_adjust(left=0.1, bottom=0.1, right=0.9, top=0.9, wspace=0.4, hspace=0.4)\n",
    "for i in range(0, len(numerical)):\n",
    "    plt.subplot(3, 3, i+1)\n",
    "    plt.title(numerical[i])\n",
    "    df_train_full[numerical[i]].hist()\n",
    "    plt.grid(axis='x')"
   ]
  },
  {
   "cell_type": "code",
   "execution_count": 158,
   "id": "8f0950bc-c578-4b39-8e45-4e62b935ff12",
   "metadata": {
    "tags": []
   },
   "outputs": [
    {
     "data": {
      "image/png": "[encoded data removed]",
      "text/plain": [
       "<Figure size 1000x600 with 1 Axes>"
      ]
     },
     "metadata": {},
     "output_type": "display_data"
    }
   ],
   "source": [
    "plt.figure(figsize = (10, 6))\n",
    "g = sns.barplot(x='dist3', y='price', data=df)\n",
    "plt.grid(axis='y')\n",
    "#ticks = g.set_xticklabels(rotation=90)\n",
    "ticks = plt.xticks(rotation=30)"
   ]
  },
  {
   "cell_type": "code",
   "execution_count": 159,
   "id": "e732e576-cf43-4b10-a2e2-e3027610bbe4",
   "metadata": {
    "tags": []
   },
   "outputs": [
    {
     "data": {
      "image/png": "[encoded data removed]",
      "text/plain": [
       "<Figure size 2000x800 with 1 Axes>"
      ]
     },
     "metadata": {},
     "output_type": "display_data"
    }
   ],
   "source": [
    "plt.figure(figsize=(20, 8))\n",
    "plt.grid(axis='y')\n",
    "sns.barplot(x='metro', y= 'price', data=df)\n",
    "\n",
    "ticks = plt.xticks(rotation=90)"
   ]
  },
  {
   "cell_type": "code",
   "execution_count": 160,
   "id": "34d84225-9fc8-4989-ba1a-632ac4402fd5",
   "metadata": {
    "tags": []
   },
   "outputs": [
    {
     "data": {
      "text/plain": [
       "<Axes: xlabel='price', ylabel='total_area'>"
      ]
     },
     "execution_count": 160,
     "metadata": {},
     "output_type": "execute_result"
    },
    {
     "data": {
      "image/png": "[encoded data removed]",
      "text/plain": [
       "<Figure size 640x480 with 1 Axes>"
      ]
     },
     "metadata": {},
     "output_type": "display_data"
    }
   ],
   "source": [
    "sns.scatterplot(x=df_train_full.price, y =df_train_full.total_area)"
   ]
  },
  {
   "cell_type": "markdown",
   "id": "75d8f513-7a2b-4c67-ad7e-ff7b42561c5d",
   "metadata": {
    "tags": []
   },
   "source": [
    "### Feature importance"
   ]
  },
  {
   "cell_type": "code",
   "execution_count": 161,
   "id": "ed52fd34-2bdf-4007-a1bb-2599497ce651",
   "metadata": {
    "tags": []
   },
   "outputs": [],
   "source": [
    "from sklearn.metrics import mutual_info_score\n",
    "def mutual_info(series):\n",
    "    return mutual_info_score(series, df_train_full.price)"
   ]
  },
  {
   "cell_type": "code",
   "execution_count": 162,
   "id": "16bd49b8-2d53-4abe-832f-20249ff940f9",
   "metadata": {
    "tags": []
   },
   "outputs": [
    {
     "data": {
      "text/plain": [
       "dist3    0.473825\n",
       "metro    0.114517\n",
       "dtype: float64"
      ]
     },
     "execution_count": 162,
     "metadata": {},
     "output_type": "execute_result"
    }
   ],
   "source": [
    "mi = df_train_full[categorical].apply(mutual_info)\n",
    "mi.sort_values(ascending=False)"
   ]
  },
  {
   "cell_type": "markdown",
   "id": "b9b80d55-e475-49f3-8cdd-dc83f00f2a1a",
   "metadata": {
    "tags": []
   },
   "source": [
    "#### Correlation"
   ]
  },
  {
   "cell_type": "code",
   "execution_count": 163,
   "id": "e1d96c17-79b6-4d69-a3e0-508ac2076304",
   "metadata": {
    "tags": []
   },
   "outputs": [
    {
     "data": {
      "text/plain": [
       "<Axes: >"
      ]
     },
     "execution_count": 163,
     "metadata": {},
     "output_type": "execute_result"
    },
    {
     "data": {
      "image/png": "[encoded data removed]",
      "text/plain": [
       "<Figure size 640x480 with 2 Axes>"
      ]
     },
     "metadata": {},
     "output_type": "display_data"
    }
   ],
   "source": [
    "corr_matrix = df_train_full.corr(numeric_only=True).round(2)\n",
    "sns.heatmap(corr_matrix, annot=True)"
   ]
  },
  {
   "cell_type": "code",
   "execution_count": 164,
   "id": "a86f53b1-cb38-42c6-97c5-385405fb39c7",
   "metadata": {
    "tags": []
   },
   "outputs": [],
   "source": [
    "y_train= df_train['price']\n",
    "y_val =df_val['price']\n",
    "\n",
    "X_train = df_train.drop(['price', 'dist1', 'dist2', 'square', 'square', 'type1', 'type2'], axis=1)\n",
    "X_val = df_val.drop(['price', 'dist1', 'dist2', 'square', 'square', 'type1', 'type2'], axis=1)"
   ]
  },
  {
   "cell_type": "code",
   "execution_count": 165,
   "id": "56d52c26-d042-4ebb-b6c6-530b510cb205",
   "metadata": {
    "tags": []
   },
   "outputs": [],
   "source": [
    "y_train = np.log(y_train)\n",
    "y_val = np.log(y_val)"
   ]
  },
  {
   "cell_type": "code",
   "execution_count": 166,
   "id": "d9cde7b2-62b7-42a4-9c34-f008bb7e4405",
   "metadata": {
    "tags": []
   },
   "outputs": [
    {
     "data": {
      "text/plain": [
       "<Axes: >"
      ]
     },
     "execution_count": 166,
     "metadata": {},
     "output_type": "execute_result"
    },
    {
     "data": {
      "image/png": "[encoded data removed]",
      "text/plain": [
       "<Figure size 640x480 with 1 Axes>"
      ]
     },
     "metadata": {},
     "output_type": "display_data"
    }
   ],
   "source": [
    "y_train.hist()"
   ]
  },
  {
   "cell_type": "markdown",
   "id": "f36dae45-65fe-4910-985f-bce799582b91",
   "metadata": {},
   "source": [
    "### Encoding categorical features"
   ]
  },
  {
   "cell_type": "markdown",
   "id": "e6a755f1-9494-48d7-a4ac-b4cca9a7bc06",
   "metadata": {},
   "source": [
    "#### Encoding nominal features with DictVectorizer"
   ]
  },
  {
   "cell_type": "code",
   "execution_count": 167,
   "id": "17d74ddf-efd1-463a-8ab4-fd5434adb086",
   "metadata": {
    "tags": []
   },
   "outputs": [],
   "source": [
    "from sklearn.feature_extraction import DictVectorizer\n",
    "dv = DictVectorizer(sparse=False)\n",
    "\n",
    "train_dict = X_train.to_dict(orient='records')\n",
    "\n",
    "val_dict = X_val.to_dict(orient='records')\n",
    "X_train = dv.fit_transform(train_dict)\n",
    "\n",
    "X_val = dv.transform(val_dict)"
   ]
  },
  {
   "cell_type": "markdown",
   "id": "e9fa1cd8-994a-4af3-a004-14e1b5923abd",
   "metadata": {},
   "source": [
    "#### Scaling"
   ]
  },
  {
   "cell_type": "code",
   "execution_count": 168,
   "id": "d3a59869-360a-411c-800b-9379fadf45ca",
   "metadata": {
    "tags": []
   },
   "outputs": [],
   "source": [
    "from sklearn.preprocessing import StandardScaler\n",
    "scaler = StandardScaler()\n",
    "X_train = scaler.fit_transform(X_train)\n",
    "X_val = scaler.transform(X_val)"
   ]
  },
  {
   "cell_type": "markdown",
   "id": "7fe539cf-be13-4e3e-a4c1-e9cd55be7399",
   "metadata": {},
   "source": [
    "### Models training"
   ]
  },
  {
   "cell_type": "code",
   "execution_count": 169,
   "id": "5ba9bb16-1ca2-409b-a5a0-b905e7e1dc18",
   "metadata": {
    "tags": []
   },
   "outputs": [],
   "source": [
    "from sklearn.metrics import mean_squared_error\n",
    "from sklearn.metrics import r2_score\n",
    "val_results = pd.DataFrame(columns=['model', 'params', 'rmse', 'r2', 'train_r2'])\n",
    "model_results = pd.DataFrame(columns=['params',  'rmse', 'r2', 'train_r2'])"
   ]
  },
  {
   "cell_type": "markdown",
   "id": "5b684095-3e18-4b0e-8d03-af1e7a71b1d2",
   "metadata": {},
   "source": [
    "#### Lasso regression"
   ]
  },
  {
   "cell_type": "code",
   "execution_count": 170,
   "id": "564a22cd-2c39-4eec-8594-551b82a1fe6c",
   "metadata": {
    "tags": []
   },
   "outputs": [
    {
     "name": "stderr",
     "output_type": "stream",
     "text": [
      "D:\\anaconda\\Lib\\site-packages\\sklearn\\linear_model\\_coordinate_descent.py:628: ConvergenceWarning: Objective did not converge. You might want to increase the number of iterations, check the scale of the features or consider increasing regularisation. Duality gap: 8.458e+00, tolerance: 6.293e-01\n",
      "  model = cd_fast.enet_coordinate_descent(\n"
     ]
    }
   ],
   "source": [
    "from sklearn.linear_model import Lasso\n",
    "for a in [0.0001, 0.001, 0.01, 0.1]:\n",
    "    ls = Lasso(random_state=4, alpha = a)\n",
    "    ls.fit(X_train, y_train)\n",
    "    y_pred = ls.predict(X_val)\n",
    "    y_train_pred = ls.predict(X_train)\n",
    "    rmse = mean_squared_error(y_val, y_pred)\n",
    "    r2 = r2_score(y_val, y_pred)\n",
    "    r2_train = r2_score(y_train, y_train_pred)\n",
    "    model_results.loc[len(model_results)] = ['alpha=' +str(a), rmse, r2, r2_train]"
   ]
  },
  {
   "cell_type": "code",
   "execution_count": 171,
   "id": "b55df66d-db19-4c8e-a3b0-1928013e29fb",
   "metadata": {
    "tags": []
   },
   "outputs": [
    {
     "data": {
      "text/html": [
       "<div>\n",
       "<style scoped>\n",
       "    .dataframe tbody tr th:only-of-type {\n",
       "        vertical-align: middle;\n",
       "    }\n",
       "\n",
       "    .dataframe tbody tr th {\n",
       "        vertical-align: top;\n",
       "    }\n",
       "\n",
       "    .dataframe thead th {\n",
       "        text-align: right;\n",
       "    }\n",
       "</style>\n",
       "<table border=\"1\" class=\"dataframe\">\n",
       "  <thead>\n",
       "    <tr style=\"text-align: right;\">\n",
       "      <th></th>\n",
       "      <th>params</th>\n",
       "      <th>rmse</th>\n",
       "      <th>r2</th>\n",
       "      <th>train_r2</th>\n",
       "    </tr>\n",
       "  </thead>\n",
       "  <tbody>\n",
       "    <tr>\n",
       "      <th>0</th>\n",
       "      <td>alpha=0.0001</td>\n",
       "      <td>0.168702</td>\n",
       "      <td>0.747165</td>\n",
       "      <td>0.741895</td>\n",
       "    </tr>\n",
       "    <tr>\n",
       "      <th>1</th>\n",
       "      <td>alpha=0.001</td>\n",
       "      <td>0.168706</td>\n",
       "      <td>0.747159</td>\n",
       "      <td>0.741874</td>\n",
       "    </tr>\n",
       "    <tr>\n",
       "      <th>2</th>\n",
       "      <td>alpha=0.01</td>\n",
       "      <td>0.169355</td>\n",
       "      <td>0.746185</td>\n",
       "      <td>0.740442</td>\n",
       "    </tr>\n",
       "    <tr>\n",
       "      <th>3</th>\n",
       "      <td>alpha=0.1</td>\n",
       "      <td>0.227604</td>\n",
       "      <td>0.658887</td>\n",
       "      <td>0.653315</td>\n",
       "    </tr>\n",
       "  </tbody>\n",
       "</table>\n",
       "</div>"
      ],
      "text/plain": [
       "         params      rmse        r2  train_r2\n",
       "0  alpha=0.0001  0.168702  0.747165  0.741895\n",
       "1   alpha=0.001  0.168706  0.747159  0.741874\n",
       "2    alpha=0.01  0.169355  0.746185  0.740442\n",
       "3     alpha=0.1  0.227604  0.658887  0.653315"
      ]
     },
     "execution_count": 171,
     "metadata": {},
     "output_type": "execute_result"
    }
   ],
   "source": [
    "model_results"
   ]
  },
  {
   "cell_type": "code",
   "execution_count": 172,
   "id": "0fa04bab-91be-49f8-ba47-39602fd36450",
   "metadata": {
    "tags": []
   },
   "outputs": [],
   "source": [
    "val_results.loc[len(val_results)] = ['Lasso Regression']+model_results.iloc[0].to_list()"
   ]
  },
  {
   "cell_type": "markdown",
   "id": "b313356e-4f86-48bd-9d24-f26eb5e3a3a0",
   "metadata": {},
   "source": [
    "#### Ridge regression"
   ]
  },
  {
   "cell_type": "code",
   "execution_count": 173,
   "id": "f17e4f21-5c30-4d64-b1ed-58d06470d5c9",
   "metadata": {
    "tags": []
   },
   "outputs": [],
   "source": [
    "from sklearn.linear_model import Ridge\n",
    "model_results.drop(model_results.index , inplace=True)\n",
    "\n",
    "for a in [0.001, 0.01, 0.1, 1, 1.2, 1.5]:\n",
    "    rd = Ridge(random_state=4, alpha = a)\n",
    "    rd.fit(X_train, y_train)\n",
    "    y_pred = rd.predict(X_val)\n",
    "    y_train_pred = rd.predict(X_train)\n",
    "    rmse = mean_squared_error(y_val, y_pred)\n",
    "    r2 = r2_score(y_val, y_pred)\n",
    "    r2_train = r2_score(y_train, y_train_pred)\n",
    "    model_results.loc[len(model_results)] = ['alpha=' +str(a), rmse, r2, r2_train]"
   ]
  },
  {
   "cell_type": "code",
   "execution_count": 174,
   "id": "4b2ac681-9429-4e2b-a913-28b21c168750",
   "metadata": {
    "tags": []
   },
   "outputs": [
    {
     "data": {
      "text/html": [
       "<div>\n",
       "<style scoped>\n",
       "    .dataframe tbody tr th:only-of-type {\n",
       "        vertical-align: middle;\n",
       "    }\n",
       "\n",
       "    .dataframe tbody tr th {\n",
       "        vertical-align: top;\n",
       "    }\n",
       "\n",
       "    .dataframe thead th {\n",
       "        text-align: right;\n",
       "    }\n",
       "</style>\n",
       "<table border=\"1\" class=\"dataframe\">\n",
       "  <thead>\n",
       "    <tr style=\"text-align: right;\">\n",
       "      <th></th>\n",
       "      <th>params</th>\n",
       "      <th>rmse</th>\n",
       "      <th>r2</th>\n",
       "      <th>train_r2</th>\n",
       "    </tr>\n",
       "  </thead>\n",
       "  <tbody>\n",
       "    <tr>\n",
       "      <th>0</th>\n",
       "      <td>alpha=0.001</td>\n",
       "      <td>0.168704</td>\n",
       "      <td>0.747162</td>\n",
       "      <td>0.741895</td>\n",
       "    </tr>\n",
       "    <tr>\n",
       "      <th>1</th>\n",
       "      <td>alpha=0.01</td>\n",
       "      <td>0.168704</td>\n",
       "      <td>0.747162</td>\n",
       "      <td>0.741895</td>\n",
       "    </tr>\n",
       "    <tr>\n",
       "      <th>2</th>\n",
       "      <td>alpha=0.1</td>\n",
       "      <td>0.168704</td>\n",
       "      <td>0.747162</td>\n",
       "      <td>0.741895</td>\n",
       "    </tr>\n",
       "    <tr>\n",
       "      <th>3</th>\n",
       "      <td>alpha=1</td>\n",
       "      <td>0.168703</td>\n",
       "      <td>0.747163</td>\n",
       "      <td>0.741895</td>\n",
       "    </tr>\n",
       "    <tr>\n",
       "      <th>4</th>\n",
       "      <td>alpha=1.2</td>\n",
       "      <td>0.168703</td>\n",
       "      <td>0.747163</td>\n",
       "      <td>0.741895</td>\n",
       "    </tr>\n",
       "    <tr>\n",
       "      <th>5</th>\n",
       "      <td>alpha=1.5</td>\n",
       "      <td>0.168703</td>\n",
       "      <td>0.747164</td>\n",
       "      <td>0.741895</td>\n",
       "    </tr>\n",
       "  </tbody>\n",
       "</table>\n",
       "</div>"
      ],
      "text/plain": [
       "        params      rmse        r2  train_r2\n",
       "0  alpha=0.001  0.168704  0.747162  0.741895\n",
       "1   alpha=0.01  0.168704  0.747162  0.741895\n",
       "2    alpha=0.1  0.168704  0.747162  0.741895\n",
       "3      alpha=1  0.168703  0.747163  0.741895\n",
       "4    alpha=1.2  0.168703  0.747163  0.741895\n",
       "5    alpha=1.5  0.168703  0.747164  0.741895"
      ]
     },
     "execution_count": 174,
     "metadata": {},
     "output_type": "execute_result"
    }
   ],
   "source": [
    "model_results"
   ]
  },
  {
   "cell_type": "code",
   "execution_count": 175,
   "id": "298e6b9a-3cfe-4713-b6db-b74d0eb9cc2b",
   "metadata": {
    "tags": []
   },
   "outputs": [],
   "source": [
    "val_results.loc[len(val_results)] = ['Lasso Regression']+model_results.iloc[5].to_list()"
   ]
  },
  {
   "cell_type": "markdown",
   "id": "cdeba7aa-1029-47c3-96ff-46a38251b72c",
   "metadata": {},
   "source": [
    "#### Desision Tree Regression"
   ]
  },
  {
   "cell_type": "code",
   "execution_count": 176,
   "id": "d2188b13-9ae6-444a-af9f-6bf307bd3db5",
   "metadata": {
    "tags": []
   },
   "outputs": [],
   "source": [
    "from sklearn.tree import DecisionTreeRegressor\n",
    "model_results.drop(model_results.index , inplace=True)\n",
    "\n",
    "for depth in [2, 3, 4, 5, 6, 7, 8, 9, 10, 15, 17, 20, None]:\n",
    "    dt = DecisionTreeRegressor()\n",
    "    dt = DecisionTreeRegressor(max_depth=depth, random_state=4)\n",
    "    dt.fit(X_train, y_train)\n",
    "    y_pred = dt.predict(X_val)\n",
    "    y_train_pred = dt.predict(X_train)\n",
    "    rmse = mean_squared_error(y_val, y_pred)\n",
    "    r2 = r2_score(y_val, y_pred)\n",
    "    r2_train = r2_score(y_train, y_train_pred)\n",
    "    model_results.loc[len(model_results)] = ['max_depth=' +str(depth), rmse, r2, r2_train]"
   ]
  },
  {
   "cell_type": "code",
   "execution_count": 177,
   "id": "ae307496-5d91-4671-9f90-0d7a917f3929",
   "metadata": {
    "tags": []
   },
   "outputs": [
    {
     "data": {
      "text/html": [
       "<div>\n",
       "<style scoped>\n",
       "    .dataframe tbody tr th:only-of-type {\n",
       "        vertical-align: middle;\n",
       "    }\n",
       "\n",
       "    .dataframe tbody tr th {\n",
       "        vertical-align: top;\n",
       "    }\n",
       "\n",
       "    .dataframe thead th {\n",
       "        text-align: right;\n",
       "    }\n",
       "</style>\n",
       "<table border=\"1\" class=\"dataframe\">\n",
       "  <thead>\n",
       "    <tr style=\"text-align: right;\">\n",
       "      <th></th>\n",
       "      <th>params</th>\n",
       "      <th>rmse</th>\n",
       "      <th>r2</th>\n",
       "      <th>train_r2</th>\n",
       "    </tr>\n",
       "  </thead>\n",
       "  <tbody>\n",
       "    <tr>\n",
       "      <th>10</th>\n",
       "      <td>max_depth=17</td>\n",
       "      <td>0.125460</td>\n",
       "      <td>0.811971</td>\n",
       "      <td>0.977048</td>\n",
       "    </tr>\n",
       "    <tr>\n",
       "      <th>9</th>\n",
       "      <td>max_depth=15</td>\n",
       "      <td>0.125862</td>\n",
       "      <td>0.811369</td>\n",
       "      <td>0.958380</td>\n",
       "    </tr>\n",
       "    <tr>\n",
       "      <th>12</th>\n",
       "      <td>max_depth=None</td>\n",
       "      <td>0.127753</td>\n",
       "      <td>0.808535</td>\n",
       "      <td>0.998480</td>\n",
       "    </tr>\n",
       "    <tr>\n",
       "      <th>11</th>\n",
       "      <td>max_depth=20</td>\n",
       "      <td>0.128564</td>\n",
       "      <td>0.807319</td>\n",
       "      <td>0.990604</td>\n",
       "    </tr>\n",
       "    <tr>\n",
       "      <th>7</th>\n",
       "      <td>max_depth=9</td>\n",
       "      <td>0.148677</td>\n",
       "      <td>0.777176</td>\n",
       "      <td>0.842068</td>\n",
       "    </tr>\n",
       "    <tr>\n",
       "      <th>8</th>\n",
       "      <td>max_depth=10</td>\n",
       "      <td>0.148777</td>\n",
       "      <td>0.777027</td>\n",
       "      <td>0.864806</td>\n",
       "    </tr>\n",
       "    <tr>\n",
       "      <th>5</th>\n",
       "      <td>max_depth=7</td>\n",
       "      <td>0.157678</td>\n",
       "      <td>0.763687</td>\n",
       "      <td>0.793699</td>\n",
       "    </tr>\n",
       "    <tr>\n",
       "      <th>6</th>\n",
       "      <td>max_depth=8</td>\n",
       "      <td>0.161182</td>\n",
       "      <td>0.758435</td>\n",
       "      <td>0.816963</td>\n",
       "    </tr>\n",
       "    <tr>\n",
       "      <th>4</th>\n",
       "      <td>max_depth=6</td>\n",
       "      <td>0.171401</td>\n",
       "      <td>0.743120</td>\n",
       "      <td>0.768303</td>\n",
       "    </tr>\n",
       "    <tr>\n",
       "      <th>3</th>\n",
       "      <td>max_depth=5</td>\n",
       "      <td>0.180096</td>\n",
       "      <td>0.730088</td>\n",
       "      <td>0.738879</td>\n",
       "    </tr>\n",
       "    <tr>\n",
       "      <th>2</th>\n",
       "      <td>max_depth=4</td>\n",
       "      <td>0.203454</td>\n",
       "      <td>0.695081</td>\n",
       "      <td>0.708290</td>\n",
       "    </tr>\n",
       "    <tr>\n",
       "      <th>1</th>\n",
       "      <td>max_depth=3</td>\n",
       "      <td>0.226720</td>\n",
       "      <td>0.660213</td>\n",
       "      <td>0.669106</td>\n",
       "    </tr>\n",
       "    <tr>\n",
       "      <th>0</th>\n",
       "      <td>max_depth=2</td>\n",
       "      <td>0.294276</td>\n",
       "      <td>0.558966</td>\n",
       "      <td>0.581012</td>\n",
       "    </tr>\n",
       "  </tbody>\n",
       "</table>\n",
       "</div>"
      ],
      "text/plain": [
       "            params      rmse        r2  train_r2\n",
       "10    max_depth=17  0.125460  0.811971  0.977048\n",
       "9     max_depth=15  0.125862  0.811369  0.958380\n",
       "12  max_depth=None  0.127753  0.808535  0.998480\n",
       "11    max_depth=20  0.128564  0.807319  0.990604\n",
       "7      max_depth=9  0.148677  0.777176  0.842068\n",
       "8     max_depth=10  0.148777  0.777027  0.864806\n",
       "5      max_depth=7  0.157678  0.763687  0.793699\n",
       "6      max_depth=8  0.161182  0.758435  0.816963\n",
       "4      max_depth=6  0.171401  0.743120  0.768303\n",
       "3      max_depth=5  0.180096  0.730088  0.738879\n",
       "2      max_depth=4  0.203454  0.695081  0.708290\n",
       "1      max_depth=3  0.226720  0.660213  0.669106\n",
       "0      max_depth=2  0.294276  0.558966  0.581012"
      ]
     },
     "execution_count": 177,
     "metadata": {},
     "output_type": "execute_result"
    }
   ],
   "source": [
    "model_results.sort_values(by=['r2'], ascending=False)"
   ]
  },
  {
   "cell_type": "code",
   "execution_count": 178,
   "id": "a8f3a0ad-9c2a-4f92-80ce-8f1ab12d003e",
   "metadata": {
    "tags": []
   },
   "outputs": [],
   "source": [
    "val_results.loc[len(val_results)] = ['DecisionTreeRegressor']+model_results.iloc[10].to_list()"
   ]
  },
  {
   "cell_type": "markdown",
   "id": "e05a9382-aa09-4937-84cf-0892224bec7d",
   "metadata": {},
   "source": [
    "#### Random forest"
   ]
  },
  {
   "cell_type": "code",
   "execution_count": 186,
   "id": "71079967-ac3e-46d3-865d-16fcd7307ffe",
   "metadata": {
    "tags": []
   },
   "outputs": [],
   "source": [
    "from sklearn.ensemble import RandomForestRegressor\n",
    "model_results.drop(model_results.index , inplace=True)\n",
    "for depth in [2, 3, 4, 5, 6, 7, 8, 9, 10, 11, 12]:\n",
    "    for n in range(50, 200, 10):\n",
    "        rf = RandomForestRegressor(n_estimators=n, max_depth=depth, random_state=4,)\n",
    "        rf.fit(X_train, y_train)\n",
    "        y_pred = rf.predict(X_val)\n",
    "        y_train_pred = rf.predict(X_train)\n",
    "        rmse = mean_squared_error(y_val, y_pred)\n",
    "        r2 = r2_score(y_val, y_pred)\n",
    "        r2_train = r2_score(y_train, y_train_pred)\n",
    "        model_results.loc[len(model_results)] = ['max_depth='+ str(depth) +' n_estimators=' +str(n), rmse, r2, r2_train]"
   ]
  },
  {
   "cell_type": "code",
   "execution_count": 187,
   "id": "862fef72-a771-48c8-a02b-27bfbe35262d",
   "metadata": {
    "tags": []
   },
   "outputs": [
    {
     "data": {
      "text/html": [
       "<div>\n",
       "<style scoped>\n",
       "    .dataframe tbody tr th:only-of-type {\n",
       "        vertical-align: middle;\n",
       "    }\n",
       "\n",
       "    .dataframe tbody tr th {\n",
       "        vertical-align: top;\n",
       "    }\n",
       "\n",
       "    .dataframe thead th {\n",
       "        text-align: right;\n",
       "    }\n",
       "</style>\n",
       "<table border=\"1\" class=\"dataframe\">\n",
       "  <thead>\n",
       "    <tr style=\"text-align: right;\">\n",
       "      <th></th>\n",
       "      <th>params</th>\n",
       "      <th>rmse</th>\n",
       "      <th>r2</th>\n",
       "      <th>train_r2</th>\n",
       "    </tr>\n",
       "  </thead>\n",
       "  <tbody>\n",
       "    <tr>\n",
       "      <th>153</th>\n",
       "      <td>max_depth=12 n_estimators=80</td>\n",
       "      <td>0.098004</td>\n",
       "      <td>0.853120</td>\n",
       "      <td>0.927311</td>\n",
       "    </tr>\n",
       "    <tr>\n",
       "      <th>154</th>\n",
       "      <td>max_depth=12 n_estimators=90</td>\n",
       "      <td>0.098105</td>\n",
       "      <td>0.852970</td>\n",
       "      <td>0.927362</td>\n",
       "    </tr>\n",
       "    <tr>\n",
       "      <th>155</th>\n",
       "      <td>max_depth=12 n_estimators=100</td>\n",
       "      <td>0.098125</td>\n",
       "      <td>0.852939</td>\n",
       "      <td>0.927356</td>\n",
       "    </tr>\n",
       "    <tr>\n",
       "      <th>164</th>\n",
       "      <td>max_depth=12 n_estimators=190</td>\n",
       "      <td>0.098130</td>\n",
       "      <td>0.852931</td>\n",
       "      <td>0.928252</td>\n",
       "    </tr>\n",
       "    <tr>\n",
       "      <th>162</th>\n",
       "      <td>max_depth=12 n_estimators=170</td>\n",
       "      <td>0.098171</td>\n",
       "      <td>0.852870</td>\n",
       "      <td>0.928129</td>\n",
       "    </tr>\n",
       "    <tr>\n",
       "      <th>...</th>\n",
       "      <td>...</td>\n",
       "      <td>...</td>\n",
       "      <td>...</td>\n",
       "      <td>...</td>\n",
       "    </tr>\n",
       "    <tr>\n",
       "      <th>11</th>\n",
       "      <td>max_depth=2 n_estimators=160</td>\n",
       "      <td>0.284607</td>\n",
       "      <td>0.573456</td>\n",
       "      <td>0.593816</td>\n",
       "    </tr>\n",
       "    <tr>\n",
       "      <th>13</th>\n",
       "      <td>max_depth=2 n_estimators=180</td>\n",
       "      <td>0.284626</td>\n",
       "      <td>0.573427</td>\n",
       "      <td>0.593725</td>\n",
       "    </tr>\n",
       "    <tr>\n",
       "      <th>14</th>\n",
       "      <td>max_depth=2 n_estimators=190</td>\n",
       "      <td>0.284762</td>\n",
       "      <td>0.573224</td>\n",
       "      <td>0.593587</td>\n",
       "    </tr>\n",
       "    <tr>\n",
       "      <th>1</th>\n",
       "      <td>max_depth=2 n_estimators=60</td>\n",
       "      <td>0.284891</td>\n",
       "      <td>0.573030</td>\n",
       "      <td>0.593554</td>\n",
       "    </tr>\n",
       "    <tr>\n",
       "      <th>0</th>\n",
       "      <td>max_depth=2 n_estimators=50</td>\n",
       "      <td>0.284923</td>\n",
       "      <td>0.572983</td>\n",
       "      <td>0.593540</td>\n",
       "    </tr>\n",
       "  </tbody>\n",
       "</table>\n",
       "<p>165 rows × 4 columns</p>\n",
       "</div>"
      ],
      "text/plain": [
       "                            params      rmse        r2  train_r2\n",
       "153   max_depth=12 n_estimators=80  0.098004  0.853120  0.927311\n",
       "154   max_depth=12 n_estimators=90  0.098105  0.852970  0.927362\n",
       "155  max_depth=12 n_estimators=100  0.098125  0.852939  0.927356\n",
       "164  max_depth=12 n_estimators=190  0.098130  0.852931  0.928252\n",
       "162  max_depth=12 n_estimators=170  0.098171  0.852870  0.928129\n",
       "..                             ...       ...       ...       ...\n",
       "11    max_depth=2 n_estimators=160  0.284607  0.573456  0.593816\n",
       "13    max_depth=2 n_estimators=180  0.284626  0.573427  0.593725\n",
       "14    max_depth=2 n_estimators=190  0.284762  0.573224  0.593587\n",
       "1      max_depth=2 n_estimators=60  0.284891  0.573030  0.593554\n",
       "0      max_depth=2 n_estimators=50  0.284923  0.572983  0.593540\n",
       "\n",
       "[165 rows x 4 columns]"
      ]
     },
     "execution_count": 187,
     "metadata": {},
     "output_type": "execute_result"
    }
   ],
   "source": [
    "model_results.sort_values(by=['r2'], ascending=False)"
   ]
  },
  {
   "cell_type": "code",
   "execution_count": 181,
   "id": "b6bf3615-52d7-4d84-a625-3b3a329e7ee2",
   "metadata": {
    "tags": []
   },
   "outputs": [],
   "source": [
    "val_results.loc[len(val_results)] = ['RandomForestRegressor']+model_results.iloc[159].to_list()"
   ]
  },
  {
   "cell_type": "markdown",
   "id": "cf6b2b89-bde2-434f-8618-a2a3554ad36f",
   "metadata": {},
   "source": [
    "#### Gradient Boosting"
   ]
  },
  {
   "cell_type": "code",
   "execution_count": 182,
   "id": "2cb66995-ee8d-4074-b652-883a8449da58",
   "metadata": {
    "tags": []
   },
   "outputs": [],
   "source": [
    "from sklearn.ensemble import GradientBoostingRegressor\n",
    "model_results.drop(model_results.index , inplace=True)\n",
    "for depth in [8, 9, 10, 11, 12, 13, 14, 15]:\n",
    "    for n in[200, 250, 300, 320, 350]:\n",
    "        for l in [0.01, 0.1, 1]:\n",
    "            gb = GradientBoostingRegressor(learning_rate=l, n_estimators=n, max_depth=depth, random_state=4)\n",
    "            gb.fit(X_train, y_train)\n",
    "            #y_pred = gb.predict(X_val)\n",
    "            y_pred = gb.predict(X_val)\n",
    "            y_train_pred = gb.predict(X_train)\n",
    "            rmse = mean_squared_error(y_val, y_pred)\n",
    "            r2 = r2_score(y_val, y_pred)\n",
    "            r2_train = r2_score(y_train, y_train_pred)\n",
    "            model_results.loc[len(model_results)] = ['max_depth='+ str(depth) +' n_estimators=' +str(n) +\n",
    "                                                     ' learning_rate'+str(l), rmse, r2, r2_train]\n"
   ]
  },
  {
   "cell_type": "code",
   "execution_count": 183,
   "id": "cc52ec7e-47c3-4a50-9dfd-740c11f2d6ba",
   "metadata": {
    "tags": []
   },
   "outputs": [
    {
     "data": {
      "text/html": [
       "<div>\n",
       "<style scoped>\n",
       "    .dataframe tbody tr th:only-of-type {\n",
       "        vertical-align: middle;\n",
       "    }\n",
       "\n",
       "    .dataframe tbody tr th {\n",
       "        vertical-align: top;\n",
       "    }\n",
       "\n",
       "    .dataframe thead th {\n",
       "        text-align: right;\n",
       "    }\n",
       "</style>\n",
       "<table border=\"1\" class=\"dataframe\">\n",
       "  <thead>\n",
       "    <tr style=\"text-align: right;\">\n",
       "      <th></th>\n",
       "      <th>params</th>\n",
       "      <th>rmse</th>\n",
       "      <th>r2</th>\n",
       "      <th>train_r2</th>\n",
       "    </tr>\n",
       "  </thead>\n",
       "  <tbody>\n",
       "    <tr>\n",
       "      <th>28</th>\n",
       "      <td>max_depth=9 n_estimators=350 learning_rate0.1</td>\n",
       "      <td>0.071261</td>\n",
       "      <td>0.893200</td>\n",
       "      <td>0.994436</td>\n",
       "    </tr>\n",
       "    <tr>\n",
       "      <th>25</th>\n",
       "      <td>max_depth=9 n_estimators=320 learning_rate0.1</td>\n",
       "      <td>0.071600</td>\n",
       "      <td>0.892692</td>\n",
       "      <td>0.993130</td>\n",
       "    </tr>\n",
       "    <tr>\n",
       "      <th>22</th>\n",
       "      <td>max_depth=9 n_estimators=300 learning_rate0.1</td>\n",
       "      <td>0.071623</td>\n",
       "      <td>0.892658</td>\n",
       "      <td>0.992435</td>\n",
       "    </tr>\n",
       "    <tr>\n",
       "      <th>19</th>\n",
       "      <td>max_depth=9 n_estimators=250 learning_rate0.1</td>\n",
       "      <td>0.072435</td>\n",
       "      <td>0.891440</td>\n",
       "      <td>0.988972</td>\n",
       "    </tr>\n",
       "    <tr>\n",
       "      <th>46</th>\n",
       "      <td>max_depth=11 n_estimators=200 learning_rate0.1</td>\n",
       "      <td>0.073326</td>\n",
       "      <td>0.890106</td>\n",
       "      <td>0.997321</td>\n",
       "    </tr>\n",
       "    <tr>\n",
       "      <th>...</th>\n",
       "      <td>...</td>\n",
       "      <td>...</td>\n",
       "      <td>...</td>\n",
       "      <td>...</td>\n",
       "    </tr>\n",
       "    <tr>\n",
       "      <th>35</th>\n",
       "      <td>max_depth=10 n_estimators=250 learning_rate1</td>\n",
       "      <td>0.148736</td>\n",
       "      <td>0.777088</td>\n",
       "      <td>0.998480</td>\n",
       "    </tr>\n",
       "    <tr>\n",
       "      <th>41</th>\n",
       "      <td>max_depth=10 n_estimators=320 learning_rate1</td>\n",
       "      <td>0.148736</td>\n",
       "      <td>0.777088</td>\n",
       "      <td>0.998480</td>\n",
       "    </tr>\n",
       "    <tr>\n",
       "      <th>38</th>\n",
       "      <td>max_depth=10 n_estimators=300 learning_rate1</td>\n",
       "      <td>0.148736</td>\n",
       "      <td>0.777088</td>\n",
       "      <td>0.998480</td>\n",
       "    </tr>\n",
       "    <tr>\n",
       "      <th>44</th>\n",
       "      <td>max_depth=10 n_estimators=350 learning_rate1</td>\n",
       "      <td>0.148736</td>\n",
       "      <td>0.777088</td>\n",
       "      <td>0.998480</td>\n",
       "    </tr>\n",
       "    <tr>\n",
       "      <th>32</th>\n",
       "      <td>max_depth=10 n_estimators=200 learning_rate1</td>\n",
       "      <td>0.148736</td>\n",
       "      <td>0.777088</td>\n",
       "      <td>0.998480</td>\n",
       "    </tr>\n",
       "  </tbody>\n",
       "</table>\n",
       "<p>120 rows × 4 columns</p>\n",
       "</div>"
      ],
      "text/plain": [
       "                                            params      rmse        r2  \\\n",
       "28   max_depth=9 n_estimators=350 learning_rate0.1  0.071261  0.893200   \n",
       "25   max_depth=9 n_estimators=320 learning_rate0.1  0.071600  0.892692   \n",
       "22   max_depth=9 n_estimators=300 learning_rate0.1  0.071623  0.892658   \n",
       "19   max_depth=9 n_estimators=250 learning_rate0.1  0.072435  0.891440   \n",
       "46  max_depth=11 n_estimators=200 learning_rate0.1  0.073326  0.890106   \n",
       "..                                             ...       ...       ...   \n",
       "35    max_depth=10 n_estimators=250 learning_rate1  0.148736  0.777088   \n",
       "41    max_depth=10 n_estimators=320 learning_rate1  0.148736  0.777088   \n",
       "38    max_depth=10 n_estimators=300 learning_rate1  0.148736  0.777088   \n",
       "44    max_depth=10 n_estimators=350 learning_rate1  0.148736  0.777088   \n",
       "32    max_depth=10 n_estimators=200 learning_rate1  0.148736  0.777088   \n",
       "\n",
       "    train_r2  \n",
       "28  0.994436  \n",
       "25  0.993130  \n",
       "22  0.992435  \n",
       "19  0.988972  \n",
       "46  0.997321  \n",
       "..       ...  \n",
       "35  0.998480  \n",
       "41  0.998480  \n",
       "38  0.998480  \n",
       "44  0.998480  \n",
       "32  0.998480  \n",
       "\n",
       "[120 rows x 4 columns]"
      ]
     },
     "execution_count": 183,
     "metadata": {},
     "output_type": "execute_result"
    }
   ],
   "source": [
    "model_results.sort_values(by=['r2'], ascending=False)"
   ]
  },
  {
   "cell_type": "code",
   "execution_count": 184,
   "id": "2b3013ce-e9f2-4099-b6c4-258d6c437cdc",
   "metadata": {
    "tags": []
   },
   "outputs": [],
   "source": [
    "val_results.loc[len(val_results)] = ['GradientBoostingRegressor']+model_results.iloc[28].to_list()"
   ]
  },
  {
   "cell_type": "markdown",
   "id": "b0078c97-780e-470f-8ec0-de5268659123",
   "metadata": {
    "tags": []
   },
   "source": [
    "#### Models results"
   ]
  },
  {
   "cell_type": "code",
   "execution_count": 185,
   "id": "d566133f-b790-4254-814e-06fb3d84f3ac",
   "metadata": {
    "tags": []
   },
   "outputs": [
    {
     "data": {
      "text/html": [
       "<div>\n",
       "<style scoped>\n",
       "    .dataframe tbody tr th:only-of-type {\n",
       "        vertical-align: middle;\n",
       "    }\n",
       "\n",
       "    .dataframe tbody tr th {\n",
       "        vertical-align: top;\n",
       "    }\n",
       "\n",
       "    .dataframe thead th {\n",
       "        text-align: right;\n",
       "    }\n",
       "</style>\n",
       "<table border=\"1\" class=\"dataframe\">\n",
       "  <thead>\n",
       "    <tr style=\"text-align: right;\">\n",
       "      <th></th>\n",
       "      <th>model</th>\n",
       "      <th>params</th>\n",
       "      <th>rmse</th>\n",
       "      <th>r2</th>\n",
       "      <th>train_r2</th>\n",
       "    </tr>\n",
       "  </thead>\n",
       "  <tbody>\n",
       "    <tr>\n",
       "      <th>0</th>\n",
       "      <td>Lasso Regression</td>\n",
       "      <td>alpha=0.0001</td>\n",
       "      <td>0.168702</td>\n",
       "      <td>0.747165</td>\n",
       "      <td>0.741895</td>\n",
       "    </tr>\n",
       "    <tr>\n",
       "      <th>1</th>\n",
       "      <td>Lasso Regression</td>\n",
       "      <td>alpha=1.5</td>\n",
       "      <td>0.168703</td>\n",
       "      <td>0.747164</td>\n",
       "      <td>0.741895</td>\n",
       "    </tr>\n",
       "    <tr>\n",
       "      <th>2</th>\n",
       "      <td>DecisionTreeRegressor</td>\n",
       "      <td>max_depth=17</td>\n",
       "      <td>0.125460</td>\n",
       "      <td>0.811971</td>\n",
       "      <td>0.977048</td>\n",
       "    </tr>\n",
       "    <tr>\n",
       "      <th>3</th>\n",
       "      <td>RandomForestRegressor</td>\n",
       "      <td>max_depth=10 n_estimators=80</td>\n",
       "      <td>0.113080</td>\n",
       "      <td>0.830526</td>\n",
       "      <td>0.887497</td>\n",
       "    </tr>\n",
       "    <tr>\n",
       "      <th>4</th>\n",
       "      <td>GradientBoostingRegressor</td>\n",
       "      <td>max_depth=9 n_estimators=350 learning_rate0.1</td>\n",
       "      <td>0.071261</td>\n",
       "      <td>0.893200</td>\n",
       "      <td>0.994436</td>\n",
       "    </tr>\n",
       "  </tbody>\n",
       "</table>\n",
       "</div>"
      ],
      "text/plain": [
       "                       model                                         params  \\\n",
       "0           Lasso Regression                                   alpha=0.0001   \n",
       "1           Lasso Regression                                      alpha=1.5   \n",
       "2      DecisionTreeRegressor                                   max_depth=17   \n",
       "3      RandomForestRegressor                   max_depth=10 n_estimators=80   \n",
       "4  GradientBoostingRegressor  max_depth=9 n_estimators=350 learning_rate0.1   \n",
       "\n",
       "       rmse        r2  train_r2  \n",
       "0  0.168702  0.747165  0.741895  \n",
       "1  0.168703  0.747164  0.741895  \n",
       "2  0.125460  0.811971  0.977048  \n",
       "3  0.113080  0.830526  0.887497  \n",
       "4  0.071261  0.893200  0.994436  "
      ]
     },
     "execution_count": 185,
     "metadata": {},
     "output_type": "execute_result"
    }
   ],
   "source": [
    "val_results"
   ]
  },
  {
   "cell_type": "markdown",
   "id": "5bf324a3-3834-4130-94b8-eb2400553f14",
   "metadata": {},
   "source": [
    "#### Train final model"
   ]
  },
  {
   "cell_type": "code",
   "execution_count": 188,
   "id": "719ca10f-e4c7-4a5c-b530-cb019c7d498f",
   "metadata": {
    "tags": []
   },
   "outputs": [],
   "source": [
    "y_train= df_train_full['price']\n",
    "X_train = df_train_full.drop(['price', 'dist1', 'dist2', 'square', 'square', 'type1', 'type2'], axis=1)\n",
    "\n",
    "y_test= df_test['price']\n",
    "X_test = df_test.drop(['price', 'dist1', 'dist2', 'square', 'square', 'type1', 'type2'], axis=1)\n",
    "\n",
    "dv = DictVectorizer(sparse=False)\n",
    "\n",
    "train_dict = X_train.to_dict(orient='records')\n",
    "test_dict = X_test.to_dict(orient='records')\n",
    "\n",
    "X_train = dv.fit_transform(train_dict)\n",
    "X_test = dv.transform(test_dict)"
   ]
  },
  {
   "cell_type": "code",
   "execution_count": 189,
   "id": "1a0f7ff7-4d0e-4ddd-ad95-a66435be6841",
   "metadata": {
    "tags": []
   },
   "outputs": [],
   "source": [
    "y_train = np.log(y_train)\n",
    "y_test = np.log(y_test)"
   ]
  },
  {
   "cell_type": "code",
   "execution_count": 190,
   "id": "93325e14-a563-4a2c-9c6c-d78e2d632123",
   "metadata": {
    "tags": []
   },
   "outputs": [],
   "source": [
    "scaler = StandardScaler()\n",
    "X_train = scaler.fit_transform(X_train)\n",
    "X_test = scaler.transform(X_test)"
   ]
  },
  {
   "cell_type": "code",
   "execution_count": 191,
   "id": "123f6afb-5384-46e4-820d-29498db91054",
   "metadata": {
    "tags": []
   },
   "outputs": [
    {
     "name": "stdout",
     "output_type": "stream",
     "text": [
      "Rmse:  0.05611318558383954 R2:  0.9188257669567877 R2_train:  0.9925766331340832\n"
     ]
    }
   ],
   "source": [
    "gb = GradientBoostingRegressor(learning_rate=0.1, n_estimators=350, max_depth=9, random_state=4)\n",
    "gb.fit(X_train, y_train)\n",
    "y_pred = gb.predict(X_test)\n",
    "y_train_pred = gb.predict(X_train)\n",
    "rmse = mean_squared_error(y_test, y_pred)\n",
    "r2 = r2_score(y_test, y_pred)\n",
    "r2_train = r2_score(y_train, y_train_pred)\n",
    "print('Rmse: ', rmse, 'R2: ',  r2, 'R2_train: ',  r2_train)"
   ]
  }
 ],
 "metadata": {
  "kernelspec": {
   "display_name": "Python 3 (ipykernel)",
   "language": "python",
   "name": "python3"
  },
  "language_info": {
   "codemirror_mode": {
    "name": "ipython",
    "version": 3
   },
   "file_extension": ".py",
   "mimetype": "text/x-python",
   "name": "python",
   "nbconvert_exporter": "python",
   "pygments_lexer": "ipython3",
   "version": "3.11.5"
  }
 },
 "nbformat": 4,
 "nbformat_minor": 5
}
