{
 "cells": [
  {
   "cell_type": "code",
   "execution_count": 1,
   "id": "2841243a-4c44-4819-8919-64bf18b1d253",
   "metadata": {
    "tags": []
   },
   "outputs": [],
   "source": [
    "import pandas as pd\n",
    "import numpy as np\n",
    "import matplotlib.pyplot as plt\n",
    "import seaborn as sns"
   ]
  },
  {
   "cell_type": "code",
   "execution_count": 2,
   "id": "f6694a25-b8cd-48bd-bad9-3fca947e89ff",
   "metadata": {
    "tags": []
   },
   "outputs": [
    {
     "data": {
      "text/html": [
       "<div>\n",
       "<style scoped>\n",
       "    .dataframe tbody tr th:only-of-type {\n",
       "        vertical-align: middle;\n",
       "    }\n",
       "\n",
       "    .dataframe tbody tr th {\n",
       "        vertical-align: top;\n",
       "    }\n",
       "\n",
       "    .dataframe thead th {\n",
       "        text-align: right;\n",
       "    }\n",
       "</style>\n",
       "<table border=\"1\" class=\"dataframe\">\n",
       "  <thead>\n",
       "    <tr style=\"text-align: right;\">\n",
       "      <th></th>\n",
       "      <th>price</th>\n",
       "      <th>dist1</th>\n",
       "      <th>dist2</th>\n",
       "      <th>dist3</th>\n",
       "      <th>rooms</th>\n",
       "      <th>square</th>\n",
       "      <th>floor</th>\n",
       "      <th>type1</th>\n",
       "      <th>type2</th>\n",
       "      <th>type3</th>\n",
       "      <th>metro</th>\n",
       "    </tr>\n",
       "  </thead>\n",
       "  <tbody>\n",
       "    <tr>\n",
       "      <th>0</th>\n",
       "      <td>26 000 грн</td>\n",
       "      <td>ЖК Місце мрії</td>\n",
       "      <td>Шулявка</td>\n",
       "      <td>Солом'янський</td>\n",
       "      <td>2 кімнати</td>\n",
       "      <td>60 / 35 / 15 м²</td>\n",
       "      <td>поверх 14 з 25</td>\n",
       "      <td>спец. проект</td>\n",
       "      <td>монолітно-каркасний</td>\n",
       "      <td>2009.0</td>\n",
       "      <td>1</td>\n",
       "    </tr>\n",
       "    <tr>\n",
       "      <th>1</th>\n",
       "      <td>95 750 грн</td>\n",
       "      <td>ЖК Central Park</td>\n",
       "      <td>Нова забудова</td>\n",
       "      <td>Печерський</td>\n",
       "      <td>3 кімнати</td>\n",
       "      <td>131 / 80 / 15 м²</td>\n",
       "      <td>поверх 10 з 25</td>\n",
       "      <td>NaN</td>\n",
       "      <td>NaN</td>\n",
       "      <td>NaN</td>\n",
       "      <td>1</td>\n",
       "    </tr>\n",
       "    <tr>\n",
       "      <th>2</th>\n",
       "      <td>57 450 грн</td>\n",
       "      <td>ЖК Новопечерські Липки</td>\n",
       "      <td>Чорна Гора</td>\n",
       "      <td>Печерський</td>\n",
       "      <td>2 кімнати</td>\n",
       "      <td>87 / 41 / 17 м²</td>\n",
       "      <td>поверх 2 з 23</td>\n",
       "      <td>спец. проект</td>\n",
       "      <td>монолітно-каркасний</td>\n",
       "      <td>2013.0</td>\n",
       "      <td>1</td>\n",
       "    </tr>\n",
       "    <tr>\n",
       "      <th>3</th>\n",
       "      <td>8 000 грн</td>\n",
       "      <td>Харьківський</td>\n",
       "      <td>Дарницький</td>\n",
       "      <td>Київ</td>\n",
       "      <td>1 кімната</td>\n",
       "      <td>40 / 18 / 9 м²</td>\n",
       "      <td>поверх 3 з 16</td>\n",
       "      <td>серія Т</td>\n",
       "      <td>утеплена панель</td>\n",
       "      <td>1983.0</td>\n",
       "      <td>1</td>\n",
       "    </tr>\n",
       "    <tr>\n",
       "      <th>4</th>\n",
       "      <td>15 000 грн</td>\n",
       "      <td>ЖМ Патріотика</td>\n",
       "      <td>Осокорки</td>\n",
       "      <td>Дарницький</td>\n",
       "      <td>1 кімната</td>\n",
       "      <td>38 / 12 / 16 м²</td>\n",
       "      <td>поверх 15 з 25</td>\n",
       "      <td>спец. проект</td>\n",
       "      <td>панельні</td>\n",
       "      <td>2018.0</td>\n",
       "      <td>1</td>\n",
       "    </tr>\n",
       "  </tbody>\n",
       "</table>\n",
       "</div>"
      ],
      "text/plain": [
       "        price                   dist1          dist2          dist3  \\\n",
       "0  26 000 грн           ЖК Місце мрії        Шулявка  Солом'янський   \n",
       "1  95 750 грн         ЖК Central Park  Нова забудова     Печерський   \n",
       "2  57 450 грн  ЖК Новопечерські Липки     Чорна Гора     Печерський   \n",
       "3   8 000 грн            Харьківський     Дарницький           Київ   \n",
       "4  15 000 грн           ЖМ Патріотика       Осокорки     Дарницький   \n",
       "\n",
       "       rooms            square           floor         type1  \\\n",
       "0  2 кімнати   60 / 35 / 15 м²  поверх 14 з 25  спец. проект   \n",
       "1  3 кімнати  131 / 80 / 15 м²  поверх 10 з 25           NaN   \n",
       "2  2 кімнати   87 / 41 / 17 м²   поверх 2 з 23  спец. проект   \n",
       "3  1 кімната    40 / 18 / 9 м²   поверх 3 з 16       серія Т   \n",
       "4  1 кімната   38 / 12 / 16 м²  поверх 15 з 25  спец. проект   \n",
       "\n",
       "                 type2   type3  metro  \n",
       "0  монолітно-каркасний  2009.0      1  \n",
       "1                  NaN     NaN      1  \n",
       "2  монолітно-каркасний  2013.0      1  \n",
       "3      утеплена панель  1983.0      1  \n",
       "4             панельні  2018.0      1  "
      ]
     },
     "execution_count": 2,
     "metadata": {},
     "output_type": "execute_result"
    }
   ],
   "source": [
    "df = pd.read_csv('flats.csv')\n",
    "df.head()"
   ]
  },
  {
   "cell_type": "markdown",
   "id": "96c39ab2-75c7-4908-916d-56f995d21549",
   "metadata": {},
   "source": [
    "## Data exploration"
   ]
  },
  {
   "cell_type": "code",
   "execution_count": 3,
   "id": "eb4b611a-03f5-42e5-973d-72785fe49395",
   "metadata": {
    "tags": []
   },
   "outputs": [
    {
     "name": "stdout",
     "output_type": "stream",
     "text": [
      "<class 'pandas.core.frame.DataFrame'>\n",
      "RangeIndex: 17748 entries, 0 to 17747\n",
      "Data columns (total 11 columns):\n",
      " #   Column  Non-Null Count  Dtype \n",
      "---  ------  --------------  ----- \n",
      " 0   price   17748 non-null  object\n",
      " 1   dist1   17748 non-null  object\n",
      " 2   dist2   17639 non-null  object\n",
      " 3   dist3   16614 non-null  object\n",
      " 4   rooms   17748 non-null  object\n",
      " 5   square  17748 non-null  object\n",
      " 6   floor   17748 non-null  object\n",
      " 7   type1   15045 non-null  object\n",
      " 8   type2   13784 non-null  object\n",
      " 9   type3   14578 non-null  object\n",
      " 10  metro   17748 non-null  int64 \n",
      "dtypes: int64(1), object(10)\n",
      "memory usage: 1.5+ MB\n"
     ]
    }
   ],
   "source": [
    "df.info()"
   ]
  },
  {
   "cell_type": "markdown",
   "id": "da721b49-82d0-44cf-9451-10aeefc562bc",
   "metadata": {},
   "source": [
    "## Duplicates"
   ]
  },
  {
   "cell_type": "code",
   "execution_count": 4,
   "id": "ebf7d253-a8db-4f50-bc5c-ada297440717",
   "metadata": {
    "tags": []
   },
   "outputs": [
    {
     "data": {
      "text/html": [
       "<div>\n",
       "<style scoped>\n",
       "    .dataframe tbody tr th:only-of-type {\n",
       "        vertical-align: middle;\n",
       "    }\n",
       "\n",
       "    .dataframe tbody tr th {\n",
       "        vertical-align: top;\n",
       "    }\n",
       "\n",
       "    .dataframe thead th {\n",
       "        text-align: right;\n",
       "    }\n",
       "</style>\n",
       "<table border=\"1\" class=\"dataframe\">\n",
       "  <thead>\n",
       "    <tr style=\"text-align: right;\">\n",
       "      <th></th>\n",
       "      <th>price</th>\n",
       "      <th>dist1</th>\n",
       "      <th>dist2</th>\n",
       "      <th>dist3</th>\n",
       "      <th>rooms</th>\n",
       "      <th>square</th>\n",
       "      <th>floor</th>\n",
       "      <th>type1</th>\n",
       "      <th>type2</th>\n",
       "      <th>type3</th>\n",
       "      <th>metro</th>\n",
       "    </tr>\n",
       "  </thead>\n",
       "  <tbody>\n",
       "    <tr>\n",
       "      <th>8780</th>\n",
       "      <td>38 000 грн</td>\n",
       "      <td>ЖК Французький квартал 2</td>\n",
       "      <td>Нова забудова</td>\n",
       "      <td>Печерський</td>\n",
       "      <td>2 кімнати</td>\n",
       "      <td>64 / 28 / 24 м²</td>\n",
       "      <td>поверх 8 з 24</td>\n",
       "      <td>спец. проект</td>\n",
       "      <td>монолітно-каркасний</td>\n",
       "      <td>2017.0</td>\n",
       "      <td>1</td>\n",
       "    </tr>\n",
       "    <tr>\n",
       "      <th>8783</th>\n",
       "      <td>28 725 грн</td>\n",
       "      <td>ЖК Французький квартал 2</td>\n",
       "      <td>Нова забудова</td>\n",
       "      <td>Печерський</td>\n",
       "      <td>1 кімната</td>\n",
       "      <td>41 / 20 / 20 м²</td>\n",
       "      <td>поверх 14 з 24</td>\n",
       "      <td>спец. проект</td>\n",
       "      <td>монолітно-каркасний</td>\n",
       "      <td>2017.0</td>\n",
       "      <td>1</td>\n",
       "    </tr>\n",
       "    <tr>\n",
       "      <th>8792</th>\n",
       "      <td>17 000 грн</td>\n",
       "      <td>Липки</td>\n",
       "      <td>Печерський</td>\n",
       "      <td>Київ</td>\n",
       "      <td>1 кімната</td>\n",
       "      <td>40 / 20 / 5 м²</td>\n",
       "      <td>поверх 1 з 5</td>\n",
       "      <td>сталінка</td>\n",
       "      <td>цегляний будинок</td>\n",
       "      <td>1962.0</td>\n",
       "      <td>1</td>\n",
       "    </tr>\n",
       "    <tr>\n",
       "      <th>8820</th>\n",
       "      <td>24 000 грн</td>\n",
       "      <td>ЖК Нивки-Парк</td>\n",
       "      <td>Ґалаґани</td>\n",
       "      <td>Святошинський</td>\n",
       "      <td>2 кімнати</td>\n",
       "      <td>72 / 40 / 20 м²</td>\n",
       "      <td>поверх 9 з 18</td>\n",
       "      <td>спец. проект</td>\n",
       "      <td>монолітно-каркасний</td>\n",
       "      <td>2021.0</td>\n",
       "      <td>1</td>\n",
       "    </tr>\n",
       "    <tr>\n",
       "      <th>8831</th>\n",
       "      <td>19 900 грн</td>\n",
       "      <td>Нижній Печерськ</td>\n",
       "      <td>Печерський</td>\n",
       "      <td>Київ</td>\n",
       "      <td>2 кімнати</td>\n",
       "      <td>52 / 20 / 25 м²</td>\n",
       "      <td>поверх 17 з 18</td>\n",
       "      <td>совмін</td>\n",
       "      <td>цегляний будинок</td>\n",
       "      <td>1974.0</td>\n",
       "      <td>1</td>\n",
       "    </tr>\n",
       "    <tr>\n",
       "      <th>...</th>\n",
       "      <td>...</td>\n",
       "      <td>...</td>\n",
       "      <td>...</td>\n",
       "      <td>...</td>\n",
       "      <td>...</td>\n",
       "      <td>...</td>\n",
       "      <td>...</td>\n",
       "      <td>...</td>\n",
       "      <td>...</td>\n",
       "      <td>...</td>\n",
       "      <td>...</td>\n",
       "    </tr>\n",
       "    <tr>\n",
       "      <th>12028</th>\n",
       "      <td>42 130 грн</td>\n",
       "      <td>Поділ</td>\n",
       "      <td>Подільський</td>\n",
       "      <td>Київ</td>\n",
       "      <td>3 кімнати</td>\n",
       "      <td>75 / - / 12 м²</td>\n",
       "      <td>поверх 3 з 4</td>\n",
       "      <td>дореволюційний</td>\n",
       "      <td>цегляний будинок</td>\n",
       "      <td>1917.0</td>\n",
       "      <td>1</td>\n",
       "    </tr>\n",
       "    <tr>\n",
       "      <th>12029</th>\n",
       "      <td>107 240 грн</td>\n",
       "      <td>ЖК Crystal Park</td>\n",
       "      <td>Шулявка</td>\n",
       "      <td>Шевченківський</td>\n",
       "      <td>4 кімнати</td>\n",
       "      <td>160 / - / 37 м²</td>\n",
       "      <td>поверх 8 з 9</td>\n",
       "      <td>спец. проект</td>\n",
       "      <td>монолітно-каркасний</td>\n",
       "      <td>2013.0</td>\n",
       "      <td>1</td>\n",
       "    </tr>\n",
       "    <tr>\n",
       "      <th>12054</th>\n",
       "      <td>16 000 грн</td>\n",
       "      <td>ЖК вул. Каховська, 60</td>\n",
       "      <td>Микільська Слобідка</td>\n",
       "      <td>Дніпровський</td>\n",
       "      <td>1 кімната</td>\n",
       "      <td>31 / 15 / 12 м²</td>\n",
       "      <td>поверх 5 з 26</td>\n",
       "      <td>цегляний будинок</td>\n",
       "      <td>2020</td>\n",
       "      <td>сьогодні о 10:24</td>\n",
       "      <td>0</td>\n",
       "    </tr>\n",
       "    <tr>\n",
       "      <th>12559</th>\n",
       "      <td>19 000 грн</td>\n",
       "      <td>ЖК вул. Дмитрівська, 69</td>\n",
       "      <td>Солдатська слобідка</td>\n",
       "      <td>Шевченківський</td>\n",
       "      <td>1 кімната</td>\n",
       "      <td>55 / - / 15 м²</td>\n",
       "      <td>поверх 8 з 24</td>\n",
       "      <td>спец. проект</td>\n",
       "      <td>монолітно-каркасний</td>\n",
       "      <td>вчора о 13:30</td>\n",
       "      <td>0</td>\n",
       "    </tr>\n",
       "    <tr>\n",
       "      <th>15655</th>\n",
       "      <td>28 687 грн</td>\n",
       "      <td>ЖК RiverStone</td>\n",
       "      <td>Позняки</td>\n",
       "      <td>Дарницький</td>\n",
       "      <td>2 кімнати</td>\n",
       "      <td>90 / - / 24 м²</td>\n",
       "      <td>поверх 15 з 24</td>\n",
       "      <td>спец. проект</td>\n",
       "      <td>монолітно-каркасний</td>\n",
       "      <td>18 січня</td>\n",
       "      <td>0</td>\n",
       "    </tr>\n",
       "  </tbody>\n",
       "</table>\n",
       "<p>2201 rows × 11 columns</p>\n",
       "</div>"
      ],
      "text/plain": [
       "             price                     dist1                dist2  \\\n",
       "8780    38 000 грн  ЖК Французький квартал 2        Нова забудова   \n",
       "8783    28 725 грн  ЖК Французький квартал 2        Нова забудова   \n",
       "8792    17 000 грн                     Липки           Печерський   \n",
       "8820    24 000 грн             ЖК Нивки-Парк             Ґалаґани   \n",
       "8831    19 900 грн           Нижній Печерськ           Печерський   \n",
       "...            ...                       ...                  ...   \n",
       "12028   42 130 грн                     Поділ          Подільський   \n",
       "12029  107 240 грн           ЖК Crystal Park              Шулявка   \n",
       "12054   16 000 грн     ЖК вул. Каховська, 60  Микільська Слобідка   \n",
       "12559   19 000 грн   ЖК вул. Дмитрівська, 69  Солдатська слобідка   \n",
       "15655   28 687 грн             ЖК RiverStone              Позняки   \n",
       "\n",
       "                dist3      rooms           square           floor  \\\n",
       "8780       Печерський  2 кімнати  64 / 28 / 24 м²   поверх 8 з 24   \n",
       "8783       Печерський  1 кімната  41 / 20 / 20 м²  поверх 14 з 24   \n",
       "8792             Київ  1 кімната   40 / 20 / 5 м²    поверх 1 з 5   \n",
       "8820    Святошинський  2 кімнати  72 / 40 / 20 м²   поверх 9 з 18   \n",
       "8831             Київ  2 кімнати  52 / 20 / 25 м²  поверх 17 з 18   \n",
       "...               ...        ...              ...             ...   \n",
       "12028            Київ  3 кімнати   75 / - / 12 м²    поверх 3 з 4   \n",
       "12029  Шевченківський  4 кімнати  160 / - / 37 м²    поверх 8 з 9   \n",
       "12054    Дніпровський  1 кімната  31 / 15 / 12 м²   поверх 5 з 26   \n",
       "12559  Шевченківський  1 кімната   55 / - / 15 м²   поверх 8 з 24   \n",
       "15655      Дарницький  2 кімнати   90 / - / 24 м²  поверх 15 з 24   \n",
       "\n",
       "                  type1                type2             type3  metro  \n",
       "8780       спец. проект  монолітно-каркасний            2017.0      1  \n",
       "8783       спец. проект  монолітно-каркасний            2017.0      1  \n",
       "8792           сталінка     цегляний будинок            1962.0      1  \n",
       "8820       спец. проект  монолітно-каркасний            2021.0      1  \n",
       "8831             совмін     цегляний будинок            1974.0      1  \n",
       "...                 ...                  ...               ...    ...  \n",
       "12028    дореволюційний     цегляний будинок            1917.0      1  \n",
       "12029      спец. проект  монолітно-каркасний            2013.0      1  \n",
       "12054  цегляний будинок                 2020  сьогодні о 10:24      0  \n",
       "12559      спец. проект  монолітно-каркасний     вчора о 13:30      0  \n",
       "15655      спец. проект  монолітно-каркасний          18 січня      0  \n",
       "\n",
       "[2201 rows x 11 columns]"
      ]
     },
     "execution_count": 4,
     "metadata": {},
     "output_type": "execute_result"
    }
   ],
   "source": [
    "df[df.duplicated(subset=['price', 'dist1', 'dist2', 'dist3', 'rooms', 'square', 'floor', 'type1', 'type2', 'type3'])]"
   ]
  },
  {
   "cell_type": "code",
   "execution_count": 5,
   "id": "0d40806b-2ed4-4d2b-8b9c-7d09b8cf7888",
   "metadata": {
    "tags": []
   },
   "outputs": [],
   "source": [
    "df.drop_duplicates(subset=['price', 'dist1', 'dist2', 'dist3', 'rooms', 'square', 'floor', 'type1', 'type2', 'type3'],\n",
    "                   inplace=True, ignore_index=True)"
   ]
  },
  {
   "cell_type": "markdown",
   "id": "87cbb13c-0e39-4585-8534-fdce56ef0723",
   "metadata": {
    "tags": []
   },
   "source": [
    "## Data cleaning"
   ]
  },
  {
   "cell_type": "code",
   "execution_count": 6,
   "id": "a5655110-72b1-4461-b6a5-6b5146880750",
   "metadata": {
    "tags": []
   },
   "outputs": [
    {
     "name": "stdout",
     "output_type": "stream",
     "text": [
      "<class 'pandas.core.frame.DataFrame'>\n",
      "RangeIndex: 15547 entries, 0 to 15546\n",
      "Data columns (total 11 columns):\n",
      " #   Column  Non-Null Count  Dtype \n",
      "---  ------  --------------  ----- \n",
      " 0   price   15547 non-null  object\n",
      " 1   dist1   15547 non-null  object\n",
      " 2   dist2   15453 non-null  object\n",
      " 3   dist3   14504 non-null  object\n",
      " 4   rooms   15547 non-null  object\n",
      " 5   square  15547 non-null  object\n",
      " 6   floor   15547 non-null  object\n",
      " 7   type1   13101 non-null  object\n",
      " 8   type2   11979 non-null  object\n",
      " 9   type3   12855 non-null  object\n",
      " 10  metro   15547 non-null  int64 \n",
      "dtypes: int64(1), object(10)\n",
      "memory usage: 1.3+ MB\n"
     ]
    }
   ],
   "source": [
    "df.info()"
   ]
  },
  {
   "cell_type": "code",
   "execution_count": 7,
   "id": "8f569563-a368-4f5b-8a22-9b8f276c68b6",
   "metadata": {
    "tags": []
   },
   "outputs": [
    {
     "data": {
      "text/plain": [
       "dist3\n",
       "Київ              7518\n",
       "Печерський        2357\n",
       "Голосіївський     1165\n",
       "Дарницький         934\n",
       "Шевченківський     768\n",
       "Солом'янський      464\n",
       "Дніпровський       449\n",
       "Оболонський        303\n",
       "Подільський        291\n",
       "Святошинський      193\n",
       "Деснянський         62\n",
       "Name: count, dtype: int64"
      ]
     },
     "execution_count": 7,
     "metadata": {},
     "output_type": "execute_result"
    }
   ],
   "source": [
    "df.dist3.value_counts()"
   ]
  },
  {
   "cell_type": "code",
   "execution_count": 8,
   "id": "c788fd54-1697-46aa-8d2f-5ad88bbee413",
   "metadata": {},
   "outputs": [],
   "source": [
    "df.dist3 = df.dist3.apply(lambda x : np.nan if x=='Київ' else x)"
   ]
  },
  {
   "cell_type": "code",
   "execution_count": 9,
   "id": "21eb49a0-d4a5-4b9b-a001-119963f2b808",
   "metadata": {
    "tags": []
   },
   "outputs": [],
   "source": [
    "districts = ['Печерський', 'Деснянський', 'Шевченківський', 'Дніпровський', 'Голосіївський',\n",
    "             \"Солом'янський\", 'Святошинський', 'Оболонський', 'Дарницький', 'Подільський']"
   ]
  },
  {
   "cell_type": "code",
   "execution_count": 10,
   "id": "b8061f17-418b-4572-8656-0fd65b4e11a6",
   "metadata": {
    "tags": []
   },
   "outputs": [],
   "source": [
    "for i in range(0, len(df)):\n",
    "    if df.dist1[i] in districts:\n",
    "        df.loc[i, 'dist3'] = df.dist1[i]\n",
    "        df.loc[i, 'dist1'] = np.nan\n",
    "    elif df.dist2[i] in districts:\n",
    "        df.loc[i, 'dist3'] = df.dist2[i]\n",
    "        df.loc[i, 'dist2'] = np.nan\n",
    "        "
   ]
  },
  {
   "cell_type": "code",
   "execution_count": 11,
   "id": "b942bc48-3caa-45fd-a638-e909694a32b8",
   "metadata": {
    "tags": []
   },
   "outputs": [],
   "source": [
    "import re\n",
    "pattern = r'\\d{4}'\n",
    "for i in range(0, len(df)):\n",
    "    if re.match(pattern, str(df.type1[i])):\n",
    "        df.loc[i, 'type3'] = df.type1[i]\n",
    "        df.loc[i, 'type1'] = np.nan\n",
    "    elif re.match(pattern, str(df.type2[i])):\n",
    "        df.loc[i, 'type3'] = df.type2[i]\n",
    "        df.loc[i, 'type2'] = np.nan\n",
    "    "
   ]
  },
  {
   "cell_type": "code",
   "execution_count": 12,
   "id": "6d02c444-e69f-4a6d-9cc4-194dde8c023a",
   "metadata": {
    "tags": []
   },
   "outputs": [
    {
     "data": {
      "text/html": [
       "<div>\n",
       "<style scoped>\n",
       "    .dataframe tbody tr th:only-of-type {\n",
       "        vertical-align: middle;\n",
       "    }\n",
       "\n",
       "    .dataframe tbody tr th {\n",
       "        vertical-align: top;\n",
       "    }\n",
       "\n",
       "    .dataframe thead th {\n",
       "        text-align: right;\n",
       "    }\n",
       "</style>\n",
       "<table border=\"1\" class=\"dataframe\">\n",
       "  <thead>\n",
       "    <tr style=\"text-align: right;\">\n",
       "      <th></th>\n",
       "      <th>price</th>\n",
       "      <th>dist1</th>\n",
       "      <th>dist2</th>\n",
       "      <th>dist3</th>\n",
       "      <th>rooms</th>\n",
       "      <th>square</th>\n",
       "      <th>floor</th>\n",
       "      <th>type1</th>\n",
       "      <th>type2</th>\n",
       "      <th>type3</th>\n",
       "      <th>metro</th>\n",
       "    </tr>\n",
       "  </thead>\n",
       "  <tbody>\n",
       "    <tr>\n",
       "      <th>0</th>\n",
       "      <td>26 000 грн</td>\n",
       "      <td>ЖК Місце мрії</td>\n",
       "      <td>Шулявка</td>\n",
       "      <td>Солом'янський</td>\n",
       "      <td>2 кімнати</td>\n",
       "      <td>60 / 35 / 15 м²</td>\n",
       "      <td>поверх 14 з 25</td>\n",
       "      <td>спец. проект</td>\n",
       "      <td>монолітно-каркасний</td>\n",
       "      <td>2009.0</td>\n",
       "      <td>1</td>\n",
       "    </tr>\n",
       "    <tr>\n",
       "      <th>1</th>\n",
       "      <td>95 750 грн</td>\n",
       "      <td>ЖК Central Park</td>\n",
       "      <td>Нова забудова</td>\n",
       "      <td>Печерський</td>\n",
       "      <td>3 кімнати</td>\n",
       "      <td>131 / 80 / 15 м²</td>\n",
       "      <td>поверх 10 з 25</td>\n",
       "      <td>NaN</td>\n",
       "      <td>NaN</td>\n",
       "      <td>NaN</td>\n",
       "      <td>1</td>\n",
       "    </tr>\n",
       "    <tr>\n",
       "      <th>2</th>\n",
       "      <td>57 450 грн</td>\n",
       "      <td>ЖК Новопечерські Липки</td>\n",
       "      <td>Чорна Гора</td>\n",
       "      <td>Печерський</td>\n",
       "      <td>2 кімнати</td>\n",
       "      <td>87 / 41 / 17 м²</td>\n",
       "      <td>поверх 2 з 23</td>\n",
       "      <td>спец. проект</td>\n",
       "      <td>монолітно-каркасний</td>\n",
       "      <td>2013.0</td>\n",
       "      <td>1</td>\n",
       "    </tr>\n",
       "    <tr>\n",
       "      <th>3</th>\n",
       "      <td>8 000 грн</td>\n",
       "      <td>Харьківський</td>\n",
       "      <td>NaN</td>\n",
       "      <td>Дарницький</td>\n",
       "      <td>1 кімната</td>\n",
       "      <td>40 / 18 / 9 м²</td>\n",
       "      <td>поверх 3 з 16</td>\n",
       "      <td>серія Т</td>\n",
       "      <td>утеплена панель</td>\n",
       "      <td>1983.0</td>\n",
       "      <td>1</td>\n",
       "    </tr>\n",
       "    <tr>\n",
       "      <th>4</th>\n",
       "      <td>15 000 грн</td>\n",
       "      <td>ЖМ Патріотика</td>\n",
       "      <td>Осокорки</td>\n",
       "      <td>Дарницький</td>\n",
       "      <td>1 кімната</td>\n",
       "      <td>38 / 12 / 16 м²</td>\n",
       "      <td>поверх 15 з 25</td>\n",
       "      <td>спец. проект</td>\n",
       "      <td>панельні</td>\n",
       "      <td>2018.0</td>\n",
       "      <td>1</td>\n",
       "    </tr>\n",
       "  </tbody>\n",
       "</table>\n",
       "</div>"
      ],
      "text/plain": [
       "        price                   dist1          dist2          dist3  \\\n",
       "0  26 000 грн           ЖК Місце мрії        Шулявка  Солом'янський   \n",
       "1  95 750 грн         ЖК Central Park  Нова забудова     Печерський   \n",
       "2  57 450 грн  ЖК Новопечерські Липки     Чорна Гора     Печерський   \n",
       "3   8 000 грн            Харьківський            NaN     Дарницький   \n",
       "4  15 000 грн           ЖМ Патріотика       Осокорки     Дарницький   \n",
       "\n",
       "       rooms            square           floor         type1  \\\n",
       "0  2 кімнати   60 / 35 / 15 м²  поверх 14 з 25  спец. проект   \n",
       "1  3 кімнати  131 / 80 / 15 м²  поверх 10 з 25           NaN   \n",
       "2  2 кімнати   87 / 41 / 17 м²   поверх 2 з 23  спец. проект   \n",
       "3  1 кімната    40 / 18 / 9 м²   поверх 3 з 16       серія Т   \n",
       "4  1 кімната   38 / 12 / 16 м²  поверх 15 з 25  спец. проект   \n",
       "\n",
       "                 type2   type3  metro  \n",
       "0  монолітно-каркасний  2009.0      1  \n",
       "1                  NaN     NaN      1  \n",
       "2  монолітно-каркасний  2013.0      1  \n",
       "3      утеплена панель  1983.0      1  \n",
       "4             панельні  2018.0      1  "
      ]
     },
     "execution_count": 12,
     "metadata": {},
     "output_type": "execute_result"
    }
   ],
   "source": [
    "df.head()"
   ]
  },
  {
   "cell_type": "code",
   "execution_count": 13,
   "id": "9ff63c40-3c5f-4864-b970-e8c3461143c7",
   "metadata": {
    "tags": []
   },
   "outputs": [],
   "source": [
    "df.price =df.price.apply(lambda x:  x.replace(' ', ''))\n",
    "df.price.replace('[^0-9]', '', regex=True, inplace=True)\n",
    "df.price = df.price.astype('int32')"
   ]
  },
  {
   "cell_type": "code",
   "execution_count": 14,
   "id": "c4c0e2e3-9432-4886-ac58-5ce8303d5244",
   "metadata": {
    "tags": []
   },
   "outputs": [
    {
     "data": {
      "text/plain": [
       "array(['2 кімнати', '3 кімнати', '1 кімната', '4 кімнати', '6 кімнат',\n",
       "       '5 кімнат'], dtype=object)"
      ]
     },
     "execution_count": 14,
     "metadata": {},
     "output_type": "execute_result"
    }
   ],
   "source": [
    "df.rooms.unique()"
   ]
  },
  {
   "cell_type": "code",
   "execution_count": 15,
   "id": "b3fa64c9-57ad-420a-8a80-25bf01a44175",
   "metadata": {
    "tags": []
   },
   "outputs": [],
   "source": [
    "df['rooms'].replace('[^0-9]', '', regex=True, inplace=True)\n",
    "df['rooms'] = df.rooms.astype('int32')"
   ]
  },
  {
   "cell_type": "code",
   "execution_count": 16,
   "id": "cf28b463-e7a0-4cb6-b9a3-78b58901a214",
   "metadata": {
    "tags": []
   },
   "outputs": [
    {
     "data": {
      "text/html": [
       "<div>\n",
       "<style scoped>\n",
       "    .dataframe tbody tr th:only-of-type {\n",
       "        vertical-align: middle;\n",
       "    }\n",
       "\n",
       "    .dataframe tbody tr th {\n",
       "        vertical-align: top;\n",
       "    }\n",
       "\n",
       "    .dataframe thead th {\n",
       "        text-align: right;\n",
       "    }\n",
       "</style>\n",
       "<table border=\"1\" class=\"dataframe\">\n",
       "  <thead>\n",
       "    <tr style=\"text-align: right;\">\n",
       "      <th></th>\n",
       "      <th>price</th>\n",
       "      <th>dist1</th>\n",
       "      <th>dist2</th>\n",
       "      <th>dist3</th>\n",
       "      <th>rooms</th>\n",
       "      <th>square</th>\n",
       "      <th>floor</th>\n",
       "      <th>type1</th>\n",
       "      <th>type2</th>\n",
       "      <th>type3</th>\n",
       "      <th>metro</th>\n",
       "      <th>total_area</th>\n",
       "      <th>living_area</th>\n",
       "      <th>kitchen_area</th>\n",
       "    </tr>\n",
       "  </thead>\n",
       "  <tbody>\n",
       "    <tr>\n",
       "      <th>0</th>\n",
       "      <td>26000</td>\n",
       "      <td>ЖК Місце мрії</td>\n",
       "      <td>Шулявка</td>\n",
       "      <td>Солом'янський</td>\n",
       "      <td>2</td>\n",
       "      <td>60 / 35 / 15</td>\n",
       "      <td>поверх 14 з 25</td>\n",
       "      <td>спец. проект</td>\n",
       "      <td>монолітно-каркасний</td>\n",
       "      <td>2009.0</td>\n",
       "      <td>1</td>\n",
       "      <td>60.0</td>\n",
       "      <td>35.0</td>\n",
       "      <td>15.0</td>\n",
       "    </tr>\n",
       "    <tr>\n",
       "      <th>1</th>\n",
       "      <td>95750</td>\n",
       "      <td>ЖК Central Park</td>\n",
       "      <td>Нова забудова</td>\n",
       "      <td>Печерський</td>\n",
       "      <td>3</td>\n",
       "      <td>131 / 80 / 15</td>\n",
       "      <td>поверх 10 з 25</td>\n",
       "      <td>NaN</td>\n",
       "      <td>NaN</td>\n",
       "      <td>NaN</td>\n",
       "      <td>1</td>\n",
       "      <td>131.0</td>\n",
       "      <td>80.0</td>\n",
       "      <td>15.0</td>\n",
       "    </tr>\n",
       "    <tr>\n",
       "      <th>2</th>\n",
       "      <td>57450</td>\n",
       "      <td>ЖК Новопечерські Липки</td>\n",
       "      <td>Чорна Гора</td>\n",
       "      <td>Печерський</td>\n",
       "      <td>2</td>\n",
       "      <td>87 / 41 / 17</td>\n",
       "      <td>поверх 2 з 23</td>\n",
       "      <td>спец. проект</td>\n",
       "      <td>монолітно-каркасний</td>\n",
       "      <td>2013.0</td>\n",
       "      <td>1</td>\n",
       "      <td>87.0</td>\n",
       "      <td>41.0</td>\n",
       "      <td>17.0</td>\n",
       "    </tr>\n",
       "    <tr>\n",
       "      <th>3</th>\n",
       "      <td>8000</td>\n",
       "      <td>Харьківський</td>\n",
       "      <td>NaN</td>\n",
       "      <td>Дарницький</td>\n",
       "      <td>1</td>\n",
       "      <td>40 / 18 / 9</td>\n",
       "      <td>поверх 3 з 16</td>\n",
       "      <td>серія Т</td>\n",
       "      <td>утеплена панель</td>\n",
       "      <td>1983.0</td>\n",
       "      <td>1</td>\n",
       "      <td>40.0</td>\n",
       "      <td>18.0</td>\n",
       "      <td>9.0</td>\n",
       "    </tr>\n",
       "    <tr>\n",
       "      <th>4</th>\n",
       "      <td>15000</td>\n",
       "      <td>ЖМ Патріотика</td>\n",
       "      <td>Осокорки</td>\n",
       "      <td>Дарницький</td>\n",
       "      <td>1</td>\n",
       "      <td>38 / 12 / 16</td>\n",
       "      <td>поверх 15 з 25</td>\n",
       "      <td>спец. проект</td>\n",
       "      <td>панельні</td>\n",
       "      <td>2018.0</td>\n",
       "      <td>1</td>\n",
       "      <td>38.0</td>\n",
       "      <td>12.0</td>\n",
       "      <td>16.0</td>\n",
       "    </tr>\n",
       "  </tbody>\n",
       "</table>\n",
       "</div>"
      ],
      "text/plain": [
       "   price                   dist1          dist2          dist3  rooms  \\\n",
       "0  26000           ЖК Місце мрії        Шулявка  Солом'янський      2   \n",
       "1  95750         ЖК Central Park  Нова забудова     Печерський      3   \n",
       "2  57450  ЖК Новопечерські Липки     Чорна Гора     Печерський      2   \n",
       "3   8000            Харьківський            NaN     Дарницький      1   \n",
       "4  15000           ЖМ Патріотика       Осокорки     Дарницький      1   \n",
       "\n",
       "           square           floor         type1                type2   type3  \\\n",
       "0   60 / 35 / 15   поверх 14 з 25  спец. проект  монолітно-каркасний  2009.0   \n",
       "1  131 / 80 / 15   поверх 10 з 25           NaN                  NaN     NaN   \n",
       "2   87 / 41 / 17    поверх 2 з 23  спец. проект  монолітно-каркасний  2013.0   \n",
       "3    40 / 18 / 9    поверх 3 з 16       серія Т      утеплена панель  1983.0   \n",
       "4   38 / 12 / 16   поверх 15 з 25  спец. проект             панельні  2018.0   \n",
       "\n",
       "   metro  total_area  living_area  kitchen_area  \n",
       "0      1        60.0         35.0          15.0  \n",
       "1      1       131.0         80.0          15.0  \n",
       "2      1        87.0         41.0          17.0  \n",
       "3      1        40.0         18.0           9.0  \n",
       "4      1        38.0         12.0          16.0  "
      ]
     },
     "execution_count": 16,
     "metadata": {},
     "output_type": "execute_result"
    }
   ],
   "source": [
    "df['square'].replace('м²', '', inplace=True, regex=True)\n",
    "\n",
    "str_split = df.square.str.split(' / ')\n",
    "\n",
    "df['total_area'] = pd.to_numeric(str_split.str.get(0), errors='coerce') \n",
    "df['living_area'] = pd.to_numeric(str_split.str.get(1), errors='coerce')\n",
    "df['kitchen_area']= pd.to_numeric(str_split.str.get(2), errors='coerce')\n",
    "df.head()"
   ]
  },
  {
   "cell_type": "code",
   "execution_count": 17,
   "id": "afd2248c-e14d-4314-8727-9c2579013c10",
   "metadata": {
    "tags": []
   },
   "outputs": [],
   "source": [
    "df['floor'].replace('поверх', '', regex=True, inplace=True)\n",
    "\n",
    "str_split = df.floor.str.split(' з ')\n",
    "\n",
    "df['floor'] = pd.to_numeric(str_split.str.get(0), errors='coerce', downcast='integer') \n",
    "df['floor_total'] =  pd.to_numeric(str_split.str.get(1), errors='coerce', downcast='integer')\n",
    "df.rename(columns= {'type3' :'year'}, inplace = True)"
   ]
  },
  {
   "cell_type": "markdown",
   "id": "eeb753c3-9774-45f1-9124-2c486ba1c424",
   "metadata": {},
   "source": [
    "### Summary statistics for numeric features"
   ]
  },
  {
   "cell_type": "code",
   "execution_count": 18,
   "id": "a519d7c1-64e8-470e-bdfa-8255bfacce55",
   "metadata": {
    "tags": []
   },
   "outputs": [
    {
     "data": {
      "text/html": [
       "<div>\n",
       "<style scoped>\n",
       "    .dataframe tbody tr th:only-of-type {\n",
       "        vertical-align: middle;\n",
       "    }\n",
       "\n",
       "    .dataframe tbody tr th {\n",
       "        vertical-align: top;\n",
       "    }\n",
       "\n",
       "    .dataframe thead th {\n",
       "        text-align: right;\n",
       "    }\n",
       "</style>\n",
       "<table border=\"1\" class=\"dataframe\">\n",
       "  <thead>\n",
       "    <tr style=\"text-align: right;\">\n",
       "      <th></th>\n",
       "      <th>price</th>\n",
       "      <th>rooms</th>\n",
       "      <th>floor</th>\n",
       "      <th>metro</th>\n",
       "      <th>total_area</th>\n",
       "      <th>living_area</th>\n",
       "      <th>kitchen_area</th>\n",
       "      <th>floor_total</th>\n",
       "    </tr>\n",
       "  </thead>\n",
       "  <tbody>\n",
       "    <tr>\n",
       "      <th>count</th>\n",
       "      <td>1.554700e+04</td>\n",
       "      <td>15547.000000</td>\n",
       "      <td>15545.000000</td>\n",
       "      <td>15547.000000</td>\n",
       "      <td>15547.000000</td>\n",
       "      <td>10341.000000</td>\n",
       "      <td>15299.000000</td>\n",
       "      <td>15395.000000</td>\n",
       "    </tr>\n",
       "    <tr>\n",
       "      <th>mean</th>\n",
       "      <td>3.860003e+04</td>\n",
       "      <td>2.201454</td>\n",
       "      <td>9.108331</td>\n",
       "      <td>0.361613</td>\n",
       "      <td>80.345475</td>\n",
       "      <td>43.986152</td>\n",
       "      <td>16.019678</td>\n",
       "      <td>16.322312</td>\n",
       "    </tr>\n",
       "    <tr>\n",
       "      <th>std</th>\n",
       "      <td>1.090642e+05</td>\n",
       "      <td>1.040572</td>\n",
       "      <td>6.488120</td>\n",
       "      <td>0.480483</td>\n",
       "      <td>57.452965</td>\n",
       "      <td>33.737807</td>\n",
       "      <td>10.552373</td>\n",
       "      <td>8.281375</td>\n",
       "    </tr>\n",
       "    <tr>\n",
       "      <th>min</th>\n",
       "      <td>9.990000e+02</td>\n",
       "      <td>1.000000</td>\n",
       "      <td>1.000000</td>\n",
       "      <td>0.000000</td>\n",
       "      <td>9.000000</td>\n",
       "      <td>1.000000</td>\n",
       "      <td>1.000000</td>\n",
       "      <td>1.000000</td>\n",
       "    </tr>\n",
       "    <tr>\n",
       "      <th>25%</th>\n",
       "      <td>1.300000e+04</td>\n",
       "      <td>1.000000</td>\n",
       "      <td>4.000000</td>\n",
       "      <td>0.000000</td>\n",
       "      <td>46.000000</td>\n",
       "      <td>20.000000</td>\n",
       "      <td>9.000000</td>\n",
       "      <td>9.000000</td>\n",
       "    </tr>\n",
       "    <tr>\n",
       "      <th>50%</th>\n",
       "      <td>2.300000e+04</td>\n",
       "      <td>2.000000</td>\n",
       "      <td>7.000000</td>\n",
       "      <td>0.000000</td>\n",
       "      <td>63.000000</td>\n",
       "      <td>35.000000</td>\n",
       "      <td>14.000000</td>\n",
       "      <td>16.000000</td>\n",
       "    </tr>\n",
       "    <tr>\n",
       "      <th>75%</th>\n",
       "      <td>4.580300e+04</td>\n",
       "      <td>3.000000</td>\n",
       "      <td>13.000000</td>\n",
       "      <td>1.000000</td>\n",
       "      <td>97.000000</td>\n",
       "      <td>55.000000</td>\n",
       "      <td>20.000000</td>\n",
       "      <td>24.000000</td>\n",
       "    </tr>\n",
       "    <tr>\n",
       "      <th>max</th>\n",
       "      <td>1.129850e+07</td>\n",
       "      <td>6.000000</td>\n",
       "      <td>53.000000</td>\n",
       "      <td>1.000000</td>\n",
       "      <td>1800.000000</td>\n",
       "      <td>706.000000</td>\n",
       "      <td>210.000000</td>\n",
       "      <td>48.000000</td>\n",
       "    </tr>\n",
       "  </tbody>\n",
       "</table>\n",
       "</div>"
      ],
      "text/plain": [
       "              price         rooms         floor         metro    total_area  \\\n",
       "count  1.554700e+04  15547.000000  15545.000000  15547.000000  15547.000000   \n",
       "mean   3.860003e+04      2.201454      9.108331      0.361613     80.345475   \n",
       "std    1.090642e+05      1.040572      6.488120      0.480483     57.452965   \n",
       "min    9.990000e+02      1.000000      1.000000      0.000000      9.000000   \n",
       "25%    1.300000e+04      1.000000      4.000000      0.000000     46.000000   \n",
       "50%    2.300000e+04      2.000000      7.000000      0.000000     63.000000   \n",
       "75%    4.580300e+04      3.000000     13.000000      1.000000     97.000000   \n",
       "max    1.129850e+07      6.000000     53.000000      1.000000   1800.000000   \n",
       "\n",
       "        living_area  kitchen_area   floor_total  \n",
       "count  10341.000000  15299.000000  15395.000000  \n",
       "mean      43.986152     16.019678     16.322312  \n",
       "std       33.737807     10.552373      8.281375  \n",
       "min        1.000000      1.000000      1.000000  \n",
       "25%       20.000000      9.000000      9.000000  \n",
       "50%       35.000000     14.000000     16.000000  \n",
       "75%       55.000000     20.000000     24.000000  \n",
       "max      706.000000    210.000000     48.000000  "
      ]
     },
     "execution_count": 18,
     "metadata": {},
     "output_type": "execute_result"
    }
   ],
   "source": [
    "df.describe()"
   ]
  },
  {
   "cell_type": "code",
   "execution_count": 19,
   "id": "4def14d0-72fa-4b64-abd4-9d6bcecc42e8",
   "metadata": {
    "tags": []
   },
   "outputs": [
    {
     "data": {
      "text/plain": [
       "<Axes: title={'center': 'price'}>"
      ]
     },
     "execution_count": 19,
     "metadata": {},
     "output_type": "execute_result"
    },
    {
     "data": {
      "image/png": "[encoded data removed]",
      "text/plain": [
       "<Figure size 640x480 with 1 Axes>"
      ]
     },
     "metadata": {},
     "output_type": "display_data"
    }
   ],
   "source": [
    "plt.title('price')\n",
    "df['price'].hist(bins=10)"
   ]
  },
  {
   "cell_type": "code",
   "execution_count": 20,
   "id": "d8af5e8a-862c-4cb9-933c-6f28edc30229",
   "metadata": {
    "tags": []
   },
   "outputs": [
    {
     "data": {
      "text/plain": [
       "<Axes: >"
      ]
     },
     "execution_count": 20,
     "metadata": {},
     "output_type": "execute_result"
    },
    {
     "data": {
      "image/png": "[encoded data removed]",
      "text/plain": [
       "<Figure size 640x480 with 1 Axes>"
      ]
     },
     "metadata": {},
     "output_type": "display_data"
    }
   ],
   "source": [
    "sns.boxplot(df.price)"
   ]
  },
  {
   "cell_type": "code",
   "execution_count": 21,
   "id": "a8182f54-d568-48f6-9c32-b8dc5729bf09",
   "metadata": {
    "tags": []
   },
   "outputs": [
    {
     "data": {
      "text/plain": [
       "<Axes: >"
      ]
     },
     "execution_count": 21,
     "metadata": {},
     "output_type": "execute_result"
    },
    {
     "data": {
      "image/png": "[encoded data removed]",
      "text/plain": [
       "<Figure size 640x480 with 1 Axes>"
      ]
     },
     "metadata": {},
     "output_type": "display_data"
    }
   ],
   "source": [
    "df = df[df.price<500000]\n",
    "sns.boxplot(df.price)"
   ]
  },
  {
   "cell_type": "code",
   "execution_count": 22,
   "id": "3c0e408b-a4b1-4af3-a7c7-8f91988bdeab",
   "metadata": {
    "tags": []
   },
   "outputs": [
    {
     "data": {
      "text/plain": [
       "<Axes: title={'center': 'price'}>"
      ]
     },
     "execution_count": 22,
     "metadata": {},
     "output_type": "execute_result"
    },
    {
     "data": {
      "image/png": "[encoded data removed]",
      "text/plain": [
       "<Figure size 640x480 with 1 Axes>"
      ]
     },
     "metadata": {},
     "output_type": "display_data"
    }
   ],
   "source": [
    "plt.title('price')\n",
    "df['price'].hist(bins=10)"
   ]
  },
  {
   "cell_type": "code",
   "execution_count": 23,
   "id": "ec0f3860-db3a-49e3-90e2-abba82a0a0d8",
   "metadata": {
    "tags": []
   },
   "outputs": [
    {
     "data": {
      "text/plain": [
       "<Axes: >"
      ]
     },
     "execution_count": 23,
     "metadata": {},
     "output_type": "execute_result"
    },
    {
     "data": {
      "image/png": "[encoded data removed]",
      "text/plain": [
       "<Figure size 640x480 with 1 Axes>"
      ]
     },
     "metadata": {},
     "output_type": "display_data"
    }
   ],
   "source": [
    "sns.boxplot(df.total_area)"
   ]
  },
  {
   "cell_type": "code",
   "execution_count": 24,
   "id": "c3c24e7e-d240-45bb-8601-e77721272122",
   "metadata": {
    "tags": []
   },
   "outputs": [
    {
     "data": {
      "text/plain": [
       "<Axes: >"
      ]
     },
     "execution_count": 24,
     "metadata": {},
     "output_type": "execute_result"
    },
    {
     "data": {
      "image/png": "[encoded data removed]",
      "text/plain": [
       "<Figure size 640x480 with 1 Axes>"
      ]
     },
     "metadata": {},
     "output_type": "display_data"
    }
   ],
   "source": [
    "df = df[df.total_area <600]\n",
    "sns.boxplot(df.total_area)"
   ]
  },
  {
   "cell_type": "code",
   "execution_count": 25,
   "id": "2c7d723c-35c3-4948-909d-516260859c49",
   "metadata": {
    "tags": []
   },
   "outputs": [],
   "source": [
    "df.year = pd.to_numeric(df.year, errors='coerce', downcast='integer') "
   ]
  },
  {
   "cell_type": "code",
   "execution_count": 26,
   "id": "12a4502d-95f6-432d-b577-0a070cc8099d",
   "metadata": {
    "tags": []
   },
   "outputs": [
    {
     "name": "stdout",
     "output_type": "stream",
     "text": [
      "<class 'pandas.core.frame.DataFrame'>\n",
      "Index: 15532 entries, 0 to 15546\n",
      "Data columns (total 15 columns):\n",
      " #   Column        Non-Null Count  Dtype  \n",
      "---  ------        --------------  -----  \n",
      " 0   price         15532 non-null  int32  \n",
      " 1   dist1         14730 non-null  object \n",
      " 2   dist2         8014 non-null   object \n",
      " 3   dist3         15198 non-null  object \n",
      " 4   rooms         15532 non-null  int32  \n",
      " 5   square        15532 non-null  object \n",
      " 6   floor         15530 non-null  float64\n",
      " 7   type1         12898 non-null  object \n",
      " 8   type2         11474 non-null  object \n",
      " 9   year          7812 non-null   float64\n",
      " 10  metro         15532 non-null  int64  \n",
      " 11  total_area    15532 non-null  float64\n",
      " 12  living_area   10332 non-null  float64\n",
      " 13  kitchen_area  15284 non-null  float64\n",
      " 14  floor_total   15380 non-null  float64\n",
      "dtypes: float64(6), int32(2), int64(1), object(6)\n",
      "memory usage: 2.3+ MB\n"
     ]
    }
   ],
   "source": [
    "df.info()"
   ]
  },
  {
   "cell_type": "markdown",
   "id": "b7afee6e-4c1d-4edf-9ef3-d17a5e7f3fc5",
   "metadata": {
    "tags": []
   },
   "source": [
    "### Null values"
   ]
  },
  {
   "cell_type": "code",
   "execution_count": 27,
   "id": "74841a67-d165-417a-a8ac-3a2164df9dbe",
   "metadata": {
    "tags": []
   },
   "outputs": [
    {
     "data": {
      "text/plain": [
       "price              0\n",
       "dist1            802\n",
       "dist2           7518\n",
       "dist3            334\n",
       "rooms              0\n",
       "square             0\n",
       "floor              2\n",
       "type1           2634\n",
       "type2           4058\n",
       "year            7720\n",
       "metro              0\n",
       "total_area         0\n",
       "living_area     5200\n",
       "kitchen_area     248\n",
       "floor_total      152\n",
       "dtype: int64"
      ]
     },
     "execution_count": 27,
     "metadata": {},
     "output_type": "execute_result"
    }
   ],
   "source": [
    "df.isna().sum()"
   ]
  },
  {
   "cell_type": "code",
   "execution_count": 28,
   "id": "35a2646a-0407-4e86-a0f3-5925111e3a03",
   "metadata": {
    "tags": []
   },
   "outputs": [],
   "source": [
    "df.dropna(subset = ['dist3', 'floor'], inplace=True, ignore_index=True)"
   ]
  },
  {
   "cell_type": "code",
   "execution_count": 29,
   "id": "b7967a7b-772b-408f-b1a5-0a6712501a94",
   "metadata": {
    "tags": []
   },
   "outputs": [],
   "source": [
    "df.drop(['dist1', 'dist2', 'square', 'type1', 'type2'], axis = 1, inplace=True)"
   ]
  },
  {
   "cell_type": "code",
   "execution_count": 30,
   "id": "1654f732-96b3-489e-b086-f7ab3cf2187a",
   "metadata": {
    "tags": []
   },
   "outputs": [],
   "source": [
    "df.rename(columns= {'dist3': 'district'}, inplace = True)"
   ]
  },
  {
   "cell_type": "markdown",
   "id": "f1e28b61-ae5a-45e0-8ae3-74ac55d3ad46",
   "metadata": {},
   "source": [
    "## Train test split"
   ]
  },
  {
   "cell_type": "code",
   "execution_count": 31,
   "id": "61761c2d-d5f6-4542-b3af-a05fb1b8ce06",
   "metadata": {
    "tags": []
   },
   "outputs": [
    {
     "name": "stdout",
     "output_type": "stream",
     "text": [
      "<class 'pandas.core.frame.DataFrame'>\n",
      "RangeIndex: 15196 entries, 0 to 15195\n",
      "Data columns (total 10 columns):\n",
      " #   Column        Non-Null Count  Dtype  \n",
      "---  ------        --------------  -----  \n",
      " 0   price         15196 non-null  int32  \n",
      " 1   district      15196 non-null  object \n",
      " 2   rooms         15196 non-null  int32  \n",
      " 3   floor         15196 non-null  float64\n",
      " 4   year          7700 non-null   float64\n",
      " 5   metro         15196 non-null  int64  \n",
      " 6   total_area    15196 non-null  float64\n",
      " 7   living_area   10089 non-null  float64\n",
      " 8   kitchen_area  14950 non-null  float64\n",
      " 9   floor_total   15046 non-null  float64\n",
      "dtypes: float64(6), int32(2), int64(1), object(1)\n",
      "memory usage: 1.0+ MB\n"
     ]
    }
   ],
   "source": [
    "df.info()"
   ]
  },
  {
   "cell_type": "code",
   "execution_count": 32,
   "id": "ba217d60-b41c-47a4-9436-dd9e371a8922",
   "metadata": {
    "tags": []
   },
   "outputs": [],
   "source": [
    "df.drop(['living_area', 'year'], axis = 1, inplace = True)"
   ]
  },
  {
   "cell_type": "code",
   "execution_count": 33,
   "id": "a076012d-a30b-4f04-83b2-0922c8aad26d",
   "metadata": {
    "tags": []
   },
   "outputs": [],
   "source": [
    "df.to_csv('flats_cleaned.csv', index=False)"
   ]
  },
  {
   "cell_type": "code",
   "execution_count": 33,
   "id": "4c7181f6-573b-4d63-ad1c-57692e605519",
   "metadata": {
    "tags": []
   },
   "outputs": [],
   "source": [
    "from sklearn.model_selection import train_test_split\n",
    "df_train, df_test = train_test_split(df, test_size=0.2, random_state=4)"
   ]
  },
  {
   "cell_type": "markdown",
   "id": "4c388452-747e-4e61-8705-f14d8742cd0f",
   "metadata": {},
   "source": [
    "## EDA"
   ]
  },
  {
   "cell_type": "markdown",
   "id": "e7d0a81e-8889-4854-9edb-8157fdd1868f",
   "metadata": {},
   "source": [
    "### Target feature"
   ]
  },
  {
   "cell_type": "code",
   "execution_count": 34,
   "id": "43c5e575-db95-48a5-9858-ddf9a0515306",
   "metadata": {
    "tags": []
   },
   "outputs": [
    {
     "data": {
      "text/plain": [
       "<Axes: title={'center': 'price'}>"
      ]
     },
     "execution_count": 34,
     "metadata": {},
     "output_type": "execute_result"
    },
    {
     "data": {
      "image/png": "[encoded data removed]",
      "text/plain": [
       "<Figure size 640x480 with 1 Axes>"
      ]
     },
     "metadata": {},
     "output_type": "display_data"
    }
   ],
   "source": [
    "plt.title('price')\n",
    "df_train['price'].hist(bins=10)"
   ]
  },
  {
   "cell_type": "code",
   "execution_count": 35,
   "id": "9c91566d-8713-4ac7-a22f-60d75c559aa7",
   "metadata": {
    "tags": []
   },
   "outputs": [],
   "source": [
    "categorical = ['district', 'metro']\n",
    "numerical = ['rooms', 'floor', 'total_area', 'kitchen_area', 'floor_total']"
   ]
  },
  {
   "cell_type": "markdown",
   "id": "b23cd875-c3b7-4ee5-856e-5a8ca5d1144d",
   "metadata": {},
   "source": [
    "### Categorical features"
   ]
  },
  {
   "cell_type": "code",
   "execution_count": 36,
   "id": "b6ef1dfa-42d5-4658-9dd7-0a2e789d94e2",
   "metadata": {
    "tags": []
   },
   "outputs": [
    {
     "data": {
      "image/png": "[encoded data removed]",
      "text/plain": [
       "<Figure size 1100x500 with 2 Axes>"
      ]
     },
     "metadata": {},
     "output_type": "display_data"
    }
   ],
   "source": [
    "plt.figure(figsize=(11, 5))\n",
    "plt.subplots_adjust(left=0.1, bottom=0.1, right=0.9, top=0.9, wspace=0.4, hspace=0.4)\n",
    "for i in range(0, len(categorical)):\n",
    "    plt.subplot(1, 2, i+1)\n",
    "    df_train[categorical[i]].value_counts().plot.bar()\n",
    "    plt.grid(axis='y')"
   ]
  },
  {
   "cell_type": "markdown",
   "id": "3165936f-e42e-4bec-a114-686d640b6b59",
   "metadata": {},
   "source": [
    "### Numerical features"
   ]
  },
  {
   "cell_type": "code",
   "execution_count": 37,
   "id": "75135865-a701-460c-a8ea-e1f9f7e5bbd3",
   "metadata": {
    "tags": []
   },
   "outputs": [
    {
     "data": {
      "image/png": "[encoded data removed]",
      "text/plain": [
       "<Figure size 1000x1000 with 5 Axes>"
      ]
     },
     "metadata": {},
     "output_type": "display_data"
    }
   ],
   "source": [
    "plt.figure(figsize=(10, 10))\n",
    "plt.subplots_adjust(left=0.1, bottom=0.1, right=0.9, top=0.9, wspace=0.4, hspace=0.4)\n",
    "for i in range(0, len(numerical)):\n",
    "    plt.subplot(3, 3, i+1)\n",
    "    plt.title(numerical[i])\n",
    "    df_train[numerical[i]].hist()\n",
    "    \n",
    "    plt.grid(axis='x')"
   ]
  },
  {
   "cell_type": "markdown",
   "id": "3a1bf828-76f6-4085-a2b3-7b04bed2428e",
   "metadata": {},
   "source": [
    "## Features dependencies"
   ]
  },
  {
   "cell_type": "code",
   "execution_count": 38,
   "id": "8f0950bc-c578-4b39-8e45-4e62b935ff12",
   "metadata": {
    "tags": []
   },
   "outputs": [
    {
     "data": {
      "image/png": "[encoded data removed]",
      "text/plain": [
       "<Figure size 1000x600 with 1 Axes>"
      ]
     },
     "metadata": {},
     "output_type": "display_data"
    }
   ],
   "source": [
    "plt.figure(figsize = (10, 6))\n",
    "g = sns.barplot(x='district', y='price', data=df_train)\n",
    "plt.grid(axis='y')\n",
    "ticks = plt.xticks(rotation=30)"
   ]
  },
  {
   "cell_type": "code",
   "execution_count": 39,
   "id": "e732e576-cf43-4b10-a2e2-e3027610bbe4",
   "metadata": {
    "tags": []
   },
   "outputs": [
    {
     "data": {
      "image/png": "[encoded data removed]",
      "text/plain": [
       "<Figure size 2000x800 with 1 Axes>"
      ]
     },
     "metadata": {},
     "output_type": "display_data"
    }
   ],
   "source": [
    "plt.figure(figsize=(20, 8))\n",
    "plt.grid(axis='y')\n",
    "sns.barplot(x='metro', y= 'price', data=df_train)\n",
    "\n",
    "ticks = plt.xticks(rotation=90)"
   ]
  },
  {
   "cell_type": "code",
   "execution_count": 40,
   "id": "34d84225-9fc8-4989-ba1a-632ac4402fd5",
   "metadata": {
    "tags": []
   },
   "outputs": [
    {
     "data": {
      "text/plain": [
       "<Axes: xlabel='price', ylabel='total_area'>"
      ]
     },
     "execution_count": 40,
     "metadata": {},
     "output_type": "execute_result"
    },
    {
     "data": {
      "image/png": "[encoded data removed]",
      "text/plain": [
       "<Figure size 640x480 with 1 Axes>"
      ]
     },
     "metadata": {},
     "output_type": "display_data"
    }
   ],
   "source": [
    "sns.scatterplot(x=df_train.price, y =df_train.total_area)"
   ]
  },
  {
   "cell_type": "markdown",
   "id": "75d8f513-7a2b-4c67-ad7e-ff7b42561c5d",
   "metadata": {
    "tags": []
   },
   "source": [
    "### Feature importance"
   ]
  },
  {
   "cell_type": "code",
   "execution_count": 41,
   "id": "ed52fd34-2bdf-4007-a1bb-2599497ce651",
   "metadata": {
    "tags": []
   },
   "outputs": [],
   "source": [
    "from sklearn.metrics import mutual_info_score\n",
    "def mutual_info(series):\n",
    "    return mutual_info_score(series, df_train.price)"
   ]
  },
  {
   "cell_type": "code",
   "execution_count": 42,
   "id": "16bd49b8-2d53-4abe-832f-20249ff940f9",
   "metadata": {
    "tags": []
   },
   "outputs": [
    {
     "data": {
      "text/plain": [
       "district    0.473825\n",
       "metro       0.114517\n",
       "dtype: float64"
      ]
     },
     "execution_count": 42,
     "metadata": {},
     "output_type": "execute_result"
    }
   ],
   "source": [
    "mi = df_train[categorical].apply(mutual_info)\n",
    "mi.sort_values(ascending=False)"
   ]
  },
  {
   "cell_type": "markdown",
   "id": "b9b80d55-e475-49f3-8cdd-dc83f00f2a1a",
   "metadata": {
    "tags": []
   },
   "source": [
    "### Correlation"
   ]
  },
  {
   "cell_type": "code",
   "execution_count": 43,
   "id": "e1d96c17-79b6-4d69-a3e0-508ac2076304",
   "metadata": {
    "tags": []
   },
   "outputs": [
    {
     "data": {
      "text/plain": [
       "<Axes: >"
      ]
     },
     "execution_count": 43,
     "metadata": {},
     "output_type": "execute_result"
    },
    {
     "data": {
      "image/png": "[encoded data removed]",
      "text/plain": [
       "<Figure size 640x480 with 2 Axes>"
      ]
     },
     "metadata": {},
     "output_type": "display_data"
    }
   ],
   "source": [
    "corr_matrix = df_train.corr(numeric_only=True).round(2)\n",
    "sns.heatmap(corr_matrix, annot=True)"
   ]
  },
  {
   "cell_type": "markdown",
   "id": "062948c1-658e-4787-942c-5e009c184faf",
   "metadata": {},
   "source": [
    "## Fearures preprocessing "
   ]
  },
  {
   "cell_type": "markdown",
   "id": "e14c8bcc-9e82-4c2f-993d-625b679c0b3e",
   "metadata": {},
   "source": [
    "### X y split"
   ]
  },
  {
   "cell_type": "code",
   "execution_count": 44,
   "id": "9b484d97-90fe-4e0e-ab8d-59748285cfc8",
   "metadata": {
    "tags": []
   },
   "outputs": [],
   "source": [
    "y_train= df_train['price']\n",
    "y_test =df_test['price']\n",
    "\n",
    "X_train = df_train.drop(['price'], axis=1)\n",
    "X_test = df_test.drop(['price'], axis=1)"
   ]
  },
  {
   "cell_type": "markdown",
   "id": "8003c160-37d8-49d4-89d6-74954fb762f4",
   "metadata": {},
   "source": [
    "### Pipeline"
   ]
  },
  {
   "cell_type": "code",
   "execution_count": 45,
   "id": "bcd238ad-02a1-4304-8ee3-2e26b4ddb052",
   "metadata": {
    "tags": []
   },
   "outputs": [],
   "source": [
    "from sklearn.pipeline import Pipeline\n",
    "from sklearn.impute import KNNImputer\n",
    "from sklearn.preprocessing import StandardScaler, OneHotEncoder \n",
    "from sklearn.compose import ColumnTransformer\n",
    "imputer = KNNImputer(n_neighbors=3)\n",
    "scaler = StandardScaler()\n",
    "pipe_num = Pipeline([('imputer', imputer), ('scaler' , scaler)])\n",
    "encoder = OneHotEncoder(handle_unknown='ignore', sparse_output=False)"
   ]
  },
  {
   "cell_type": "code",
   "execution_count": 46,
   "id": "afe4edf2-c9b6-455f-93b9-17eff3cbdb76",
   "metadata": {
    "tags": []
   },
   "outputs": [],
   "source": [
    "col_transformer = ColumnTransformer([('num_preproc', pipe_num ,np.arange(1,7)), ('cat_preproc', encoder, [0])])"
   ]
  },
  {
   "cell_type": "code",
   "execution_count": 47,
   "id": "649ab6eb-e1c5-4263-aeb9-3493cb96d1e5",
   "metadata": {
    "tags": []
   },
   "outputs": [],
   "source": [
    "X_train = col_transformer.fit_transform(X_train)\n",
    "X_test = col_transformer.transform(X_test)"
   ]
  },
  {
   "cell_type": "code",
   "execution_count": 48,
   "id": "56d52c26-d042-4ebb-b6c6-530b510cb205",
   "metadata": {
    "tags": []
   },
   "outputs": [],
   "source": [
    "y_train = np.log(y_train)\n",
    "y_test = np.log(y_test)"
   ]
  },
  {
   "cell_type": "markdown",
   "id": "7fe539cf-be13-4e3e-a4c1-e9cd55be7399",
   "metadata": {},
   "source": [
    "## Models training"
   ]
  },
  {
   "cell_type": "code",
   "execution_count": 49,
   "id": "5ba9bb16-1ca2-409b-a5a0-b905e7e1dc18",
   "metadata": {
    "tags": []
   },
   "outputs": [],
   "source": [
    "from sklearn.metrics import r2_score\n",
    "from sklearn.model_selection import GridSearchCV\n",
    "val_results = pd.DataFrame(columns=['model', 'params', 'r2', 'train_r2'])"
   ]
  },
  {
   "cell_type": "markdown",
   "id": "5b684095-3e18-4b0e-8d03-af1e7a71b1d2",
   "metadata": {},
   "source": [
    "### Lasso regression"
   ]
  },
  {
   "cell_type": "code",
   "execution_count": 50,
   "id": "97e0d341-2988-4500-aeb5-1f26f4f501f7",
   "metadata": {
    "tags": []
   },
   "outputs": [],
   "source": [
    "from sklearn.linear_model import Lasso\n",
    "params = {'alpha': [0.0001, 0.001, 0.01, 0.1]}\n",
    "ls = Lasso(random_state=4)\n",
    "\n",
    "grid = GridSearchCV(ls, params, cv=5, scoring='r2')\n",
    "grid.fit(X_train, y_train)\n",
    "\n",
    "y_pred = grid.best_estimator_.predict(X_test)\n",
    "r2 = r2_score(y_test, y_pred)\n",
    "r2_train= grid.best_score_"
   ]
  },
  {
   "cell_type": "code",
   "execution_count": 51,
   "id": "7eb186f6-a6b9-45bd-b826-3da3e83775cd",
   "metadata": {
    "tags": []
   },
   "outputs": [
    {
     "data": {
      "text/html": [
       "<div>\n",
       "<style scoped>\n",
       "    .dataframe tbody tr th:only-of-type {\n",
       "        vertical-align: middle;\n",
       "    }\n",
       "\n",
       "    .dataframe tbody tr th {\n",
       "        vertical-align: top;\n",
       "    }\n",
       "\n",
       "    .dataframe thead th {\n",
       "        text-align: right;\n",
       "    }\n",
       "</style>\n",
       "<table border=\"1\" class=\"dataframe\">\n",
       "  <thead>\n",
       "    <tr style=\"text-align: right;\">\n",
       "      <th></th>\n",
       "      <th>model</th>\n",
       "      <th>params</th>\n",
       "      <th>r2</th>\n",
       "      <th>train_r2</th>\n",
       "    </tr>\n",
       "  </thead>\n",
       "  <tbody>\n",
       "    <tr>\n",
       "      <th>0</th>\n",
       "      <td>Lasso Regression</td>\n",
       "      <td>{'alpha': 0.0001}</td>\n",
       "      <td>0.743437</td>\n",
       "      <td>0.742944</td>\n",
       "    </tr>\n",
       "  </tbody>\n",
       "</table>\n",
       "</div>"
      ],
      "text/plain": [
       "              model             params        r2  train_r2\n",
       "0  Lasso Regression  {'alpha': 0.0001}  0.743437  0.742944"
      ]
     },
     "execution_count": 51,
     "metadata": {},
     "output_type": "execute_result"
    }
   ],
   "source": [
    "val_results.loc[len(val_results)] = ['Lasso Regression', grid.best_params_, r2, r2_train]\n",
    "val_results"
   ]
  },
  {
   "cell_type": "markdown",
   "id": "b313356e-4f86-48bd-9d24-f26eb5e3a3a0",
   "metadata": {},
   "source": [
    "### Ridge regression"
   ]
  },
  {
   "cell_type": "code",
   "execution_count": 52,
   "id": "288ebf7b-8561-4eff-b2a5-0580f1430540",
   "metadata": {
    "tags": []
   },
   "outputs": [],
   "source": [
    "from sklearn.linear_model import Ridge\n",
    "params = {'alpha': [0.0001, 0.001, 0.01, 0.1, 1, 1.5]}\n",
    "rd = Ridge(random_state=4)\n",
    "\n",
    "grid = GridSearchCV(rd, params, cv=5, scoring='r2')\n",
    "grid.fit(X_train, y_train)\n",
    "\n",
    "y_pred = grid.best_estimator_.predict(X_test)\n",
    "r2 = r2_score(y_test, y_pred)\n",
    "r2_train= grid.best_score_"
   ]
  },
  {
   "cell_type": "code",
   "execution_count": 53,
   "id": "fe5da40a-f394-4691-b1da-87d3ccca5c31",
   "metadata": {
    "tags": []
   },
   "outputs": [
    {
     "data": {
      "text/html": [
       "<div>\n",
       "<style scoped>\n",
       "    .dataframe tbody tr th:only-of-type {\n",
       "        vertical-align: middle;\n",
       "    }\n",
       "\n",
       "    .dataframe tbody tr th {\n",
       "        vertical-align: top;\n",
       "    }\n",
       "\n",
       "    .dataframe thead th {\n",
       "        text-align: right;\n",
       "    }\n",
       "</style>\n",
       "<table border=\"1\" class=\"dataframe\">\n",
       "  <thead>\n",
       "    <tr style=\"text-align: right;\">\n",
       "      <th></th>\n",
       "      <th>model</th>\n",
       "      <th>params</th>\n",
       "      <th>r2</th>\n",
       "      <th>train_r2</th>\n",
       "    </tr>\n",
       "  </thead>\n",
       "  <tbody>\n",
       "    <tr>\n",
       "      <th>0</th>\n",
       "      <td>Lasso Regression</td>\n",
       "      <td>{'alpha': 0.0001}</td>\n",
       "      <td>0.743437</td>\n",
       "      <td>0.742944</td>\n",
       "    </tr>\n",
       "    <tr>\n",
       "      <th>1</th>\n",
       "      <td>Ridge Regression</td>\n",
       "      <td>{'alpha': 1}</td>\n",
       "      <td>0.743419</td>\n",
       "      <td>0.742947</td>\n",
       "    </tr>\n",
       "  </tbody>\n",
       "</table>\n",
       "</div>"
      ],
      "text/plain": [
       "              model             params        r2  train_r2\n",
       "0  Lasso Regression  {'alpha': 0.0001}  0.743437  0.742944\n",
       "1  Ridge Regression       {'alpha': 1}  0.743419  0.742947"
      ]
     },
     "execution_count": 53,
     "metadata": {},
     "output_type": "execute_result"
    }
   ],
   "source": [
    "val_results.loc[len(val_results)] = ['Ridge Regression', grid.best_params_, r2, r2_train]\n",
    "val_results"
   ]
  },
  {
   "cell_type": "markdown",
   "id": "cdeba7aa-1029-47c3-96ff-46a38251b72c",
   "metadata": {},
   "source": [
    "### Desision Tree Regression"
   ]
  },
  {
   "cell_type": "code",
   "execution_count": 54,
   "id": "80cba58f-fbe3-48d6-b9e6-440d03cc78d4",
   "metadata": {
    "tags": []
   },
   "outputs": [],
   "source": [
    "from sklearn.tree import DecisionTreeRegressor\n",
    "params = {    'max_depth': range (6, 21, 2),\n",
    "              'min_samples_leaf': range (2,8),\n",
    "              'min_samples_split': range (2,10,2) }\n",
    "dt = DecisionTreeRegressor()\n",
    "\n",
    "grid = GridSearchCV(dt, params, cv=5, scoring='r2')\n",
    "grid.fit(X_train, y_train)\n",
    "\n",
    "y_pred = grid.best_estimator_.predict(X_test)\n",
    "r2 = r2_score(y_test, y_pred)\n",
    "r2_train= grid.best_score_"
   ]
  },
  {
   "cell_type": "code",
   "execution_count": 55,
   "id": "ba9d101a-c96c-461e-8d99-be1d31d4361c",
   "metadata": {
    "tags": []
   },
   "outputs": [
    {
     "data": {
      "text/html": [
       "<div>\n",
       "<style scoped>\n",
       "    .dataframe tbody tr th:only-of-type {\n",
       "        vertical-align: middle;\n",
       "    }\n",
       "\n",
       "    .dataframe tbody tr th {\n",
       "        vertical-align: top;\n",
       "    }\n",
       "\n",
       "    .dataframe thead th {\n",
       "        text-align: right;\n",
       "    }\n",
       "</style>\n",
       "<table border=\"1\" class=\"dataframe\">\n",
       "  <thead>\n",
       "    <tr style=\"text-align: right;\">\n",
       "      <th></th>\n",
       "      <th>model</th>\n",
       "      <th>params</th>\n",
       "      <th>r2</th>\n",
       "      <th>train_r2</th>\n",
       "    </tr>\n",
       "  </thead>\n",
       "  <tbody>\n",
       "    <tr>\n",
       "      <th>0</th>\n",
       "      <td>Lasso Regression</td>\n",
       "      <td>{'alpha': 0.0001}</td>\n",
       "      <td>0.743437</td>\n",
       "      <td>0.742944</td>\n",
       "    </tr>\n",
       "    <tr>\n",
       "      <th>1</th>\n",
       "      <td>Ridge Regression</td>\n",
       "      <td>{'alpha': 1}</td>\n",
       "      <td>0.743419</td>\n",
       "      <td>0.742947</td>\n",
       "    </tr>\n",
       "    <tr>\n",
       "      <th>2</th>\n",
       "      <td>DecisionTree Regression</td>\n",
       "      <td>{'max_depth': 20, 'min_samples_leaf': 2, 'min_...</td>\n",
       "      <td>0.861405</td>\n",
       "      <td>0.829188</td>\n",
       "    </tr>\n",
       "  </tbody>\n",
       "</table>\n",
       "</div>"
      ],
      "text/plain": [
       "                     model                                             params  \\\n",
       "0         Lasso Regression                                  {'alpha': 0.0001}   \n",
       "1         Ridge Regression                                       {'alpha': 1}   \n",
       "2  DecisionTree Regression  {'max_depth': 20, 'min_samples_leaf': 2, 'min_...   \n",
       "\n",
       "         r2  train_r2  \n",
       "0  0.743437  0.742944  \n",
       "1  0.743419  0.742947  \n",
       "2  0.861405  0.829188  "
      ]
     },
     "execution_count": 55,
     "metadata": {},
     "output_type": "execute_result"
    }
   ],
   "source": [
    "val_results.loc[len(val_results)] = ['DecisionTree Regression', grid.best_params_, r2, r2_train]\n",
    "val_results"
   ]
  },
  {
   "cell_type": "markdown",
   "id": "e05a9382-aa09-4937-84cf-0892224bec7d",
   "metadata": {
    "tags": []
   },
   "source": [
    "### Random forest"
   ]
  },
  {
   "cell_type": "code",
   "execution_count": 56,
   "id": "70a5f694-cf63-464e-821c-93fb526b65cd",
   "metadata": {
    "tags": []
   },
   "outputs": [],
   "source": [
    "from sklearn.ensemble import RandomForestRegressor\n",
    "params = { 'n_estimators': range (60, 200, 10),\n",
    "              'max_depth': range (6, 13, 1) }\n",
    "rf = RandomForestRegressor(random_state=4)\n",
    "\n",
    "grid = GridSearchCV(rf, params, cv=5, scoring='r2')\n",
    "grid.fit(X_train, y_train)\n",
    "\n",
    "y_pred = grid.best_estimator_.predict(X_test)\n",
    "r2 = r2_score(y_test, y_pred)\n",
    "r2_train= grid.best_score_"
   ]
  },
  {
   "cell_type": "code",
   "execution_count": 57,
   "id": "2db9b50f-7341-473c-b159-b2fddb8a18bd",
   "metadata": {
    "tags": []
   },
   "outputs": [
    {
     "data": {
      "text/html": [
       "<div>\n",
       "<style scoped>\n",
       "    .dataframe tbody tr th:only-of-type {\n",
       "        vertical-align: middle;\n",
       "    }\n",
       "\n",
       "    .dataframe tbody tr th {\n",
       "        vertical-align: top;\n",
       "    }\n",
       "\n",
       "    .dataframe thead th {\n",
       "        text-align: right;\n",
       "    }\n",
       "</style>\n",
       "<table border=\"1\" class=\"dataframe\">\n",
       "  <thead>\n",
       "    <tr style=\"text-align: right;\">\n",
       "      <th></th>\n",
       "      <th>model</th>\n",
       "      <th>params</th>\n",
       "      <th>r2</th>\n",
       "      <th>train_r2</th>\n",
       "    </tr>\n",
       "  </thead>\n",
       "  <tbody>\n",
       "    <tr>\n",
       "      <th>0</th>\n",
       "      <td>Lasso Regression</td>\n",
       "      <td>{'alpha': 0.0001}</td>\n",
       "      <td>0.743437</td>\n",
       "      <td>0.742944</td>\n",
       "    </tr>\n",
       "    <tr>\n",
       "      <th>1</th>\n",
       "      <td>Ridge Regression</td>\n",
       "      <td>{'alpha': 1}</td>\n",
       "      <td>0.743419</td>\n",
       "      <td>0.742947</td>\n",
       "    </tr>\n",
       "    <tr>\n",
       "      <th>2</th>\n",
       "      <td>DecisionTree Regression</td>\n",
       "      <td>{'max_depth': 20, 'min_samples_leaf': 2, 'min_...</td>\n",
       "      <td>0.861405</td>\n",
       "      <td>0.829188</td>\n",
       "    </tr>\n",
       "    <tr>\n",
       "      <th>3</th>\n",
       "      <td>RandomForestRegressor</td>\n",
       "      <td>{'max_depth': 12, 'n_estimators': 130}</td>\n",
       "      <td>0.876345</td>\n",
       "      <td>0.864629</td>\n",
       "    </tr>\n",
       "  </tbody>\n",
       "</table>\n",
       "</div>"
      ],
      "text/plain": [
       "                     model                                             params  \\\n",
       "0         Lasso Regression                                  {'alpha': 0.0001}   \n",
       "1         Ridge Regression                                       {'alpha': 1}   \n",
       "2  DecisionTree Regression  {'max_depth': 20, 'min_samples_leaf': 2, 'min_...   \n",
       "3    RandomForestRegressor             {'max_depth': 12, 'n_estimators': 130}   \n",
       "\n",
       "         r2  train_r2  \n",
       "0  0.743437  0.742944  \n",
       "1  0.743419  0.742947  \n",
       "2  0.861405  0.829188  \n",
       "3  0.876345  0.864629  "
      ]
     },
     "execution_count": 57,
     "metadata": {},
     "output_type": "execute_result"
    }
   ],
   "source": [
    "val_results.loc[len(val_results)] = ['RandomForestRegressor', grid.best_params_, r2, r2_train]\n",
    "val_results"
   ]
  },
  {
   "cell_type": "markdown",
   "id": "cf6b2b89-bde2-434f-8618-a2a3554ad36f",
   "metadata": {},
   "source": [
    "#### Gradient Boosting"
   ]
  },
  {
   "cell_type": "code",
   "execution_count": 58,
   "id": "9487f836-6c5d-4b3c-9e8b-776f8177fa02",
   "metadata": {
    "tags": []
   },
   "outputs": [],
   "source": [
    "from sklearn.ensemble import GradientBoostingRegressor\n",
    "params = { 'learning_rate': [0.01, 0.1, 1],\n",
    "            'n_estimators': range (250, 351, 50),\n",
    "            'max_depth': range (9, 13) }\n",
    "gb = GradientBoostingRegressor(random_state=4)\n",
    "\n",
    "grid = GridSearchCV(gb, params, cv=5, scoring='r2')\n",
    "grid.fit(X_train, y_train)\n",
    "\n",
    "y_pred = grid.best_estimator_.predict(X_test)\n",
    "r2 = r2_score(y_test, y_pred)\n",
    "r2_train= grid.best_score_"
   ]
  },
  {
   "cell_type": "code",
   "execution_count": 59,
   "id": "471d3d07-4be4-45de-946b-55575840713b",
   "metadata": {
    "tags": []
   },
   "outputs": [
    {
     "data": {
      "text/html": [
       "<div>\n",
       "<style scoped>\n",
       "    .dataframe tbody tr th:only-of-type {\n",
       "        vertical-align: middle;\n",
       "    }\n",
       "\n",
       "    .dataframe tbody tr th {\n",
       "        vertical-align: top;\n",
       "    }\n",
       "\n",
       "    .dataframe thead th {\n",
       "        text-align: right;\n",
       "    }\n",
       "</style>\n",
       "<table border=\"1\" class=\"dataframe\">\n",
       "  <thead>\n",
       "    <tr style=\"text-align: right;\">\n",
       "      <th></th>\n",
       "      <th>model</th>\n",
       "      <th>params</th>\n",
       "      <th>r2</th>\n",
       "      <th>train_r2</th>\n",
       "    </tr>\n",
       "  </thead>\n",
       "  <tbody>\n",
       "    <tr>\n",
       "      <th>0</th>\n",
       "      <td>Lasso Regression</td>\n",
       "      <td>{'alpha': 0.0001}</td>\n",
       "      <td>0.743437</td>\n",
       "      <td>0.742944</td>\n",
       "    </tr>\n",
       "    <tr>\n",
       "      <th>1</th>\n",
       "      <td>Ridge Regression</td>\n",
       "      <td>{'alpha': 1}</td>\n",
       "      <td>0.743419</td>\n",
       "      <td>0.742947</td>\n",
       "    </tr>\n",
       "    <tr>\n",
       "      <th>2</th>\n",
       "      <td>DecisionTree Regression</td>\n",
       "      <td>{'max_depth': 20, 'min_samples_leaf': 2, 'min_...</td>\n",
       "      <td>0.861405</td>\n",
       "      <td>0.829188</td>\n",
       "    </tr>\n",
       "    <tr>\n",
       "      <th>3</th>\n",
       "      <td>RandomForestRegressor</td>\n",
       "      <td>{'max_depth': 12, 'n_estimators': 130}</td>\n",
       "      <td>0.876345</td>\n",
       "      <td>0.864629</td>\n",
       "    </tr>\n",
       "    <tr>\n",
       "      <th>4</th>\n",
       "      <td>GradientBoosting Regression</td>\n",
       "      <td>{'learning_rate': 0.1, 'max_depth': 10, 'n_est...</td>\n",
       "      <td>0.921689</td>\n",
       "      <td>0.903041</td>\n",
       "    </tr>\n",
       "  </tbody>\n",
       "</table>\n",
       "</div>"
      ],
      "text/plain": [
       "                         model  \\\n",
       "0             Lasso Regression   \n",
       "1             Ridge Regression   \n",
       "2      DecisionTree Regression   \n",
       "3        RandomForestRegressor   \n",
       "4  GradientBoosting Regression   \n",
       "\n",
       "                                              params        r2  train_r2  \n",
       "0                                  {'alpha': 0.0001}  0.743437  0.742944  \n",
       "1                                       {'alpha': 1}  0.743419  0.742947  \n",
       "2  {'max_depth': 20, 'min_samples_leaf': 2, 'min_...  0.861405  0.829188  \n",
       "3             {'max_depth': 12, 'n_estimators': 130}  0.876345  0.864629  \n",
       "4  {'learning_rate': 0.1, 'max_depth': 10, 'n_est...  0.921689  0.903041  "
      ]
     },
     "execution_count": 59,
     "metadata": {},
     "output_type": "execute_result"
    }
   ],
   "source": [
    "val_results.loc[len(val_results)] = ['GradientBoosting Regression', grid.best_params_, r2, r2_train]\n",
    "val_results"
   ]
  },
  {
   "cell_type": "code",
   "execution_count": 75,
   "id": "843d3773-abd0-47f0-8ccc-3769f50b6fd6",
   "metadata": {
    "tags": []
   },
   "outputs": [
    {
     "data": {
      "text/html": [
       "<style>#sk-container-id-3 {color: black;}#sk-container-id-3 pre{padding: 0;}#sk-container-id-3 div.sk-toggleable {background-color: white;}#sk-container-id-3 label.sk-toggleable__label {cursor: pointer;display: block;width: 100%;margin-bottom: 0;padding: 0.3em;box-sizing: border-box;text-align: center;}#sk-container-id-3 label.sk-toggleable__label-arrow:before {content: \"▸\";float: left;margin-right: 0.25em;color: #696969;}#sk-container-id-3 label.sk-toggleable__label-arrow:hover:before {color: black;}#sk-container-id-3 div.sk-estimator:hover label.sk-toggleable__label-arrow:before {color: black;}#sk-container-id-3 div.sk-toggleable__content {max-height: 0;max-width: 0;overflow: hidden;text-align: left;background-color: #f0f8ff;}#sk-container-id-3 div.sk-toggleable__content pre {margin: 0.2em;color: black;border-radius: 0.25em;background-color: #f0f8ff;}#sk-container-id-3 input.sk-toggleable__control:checked~div.sk-toggleable__content {max-height: 200px;max-width: 100%;overflow: auto;}#sk-container-id-3 input.sk-toggleable__control:checked~label.sk-toggleable__label-arrow:before {content: \"▾\";}#sk-container-id-3 div.sk-estimator input.sk-toggleable__control:checked~label.sk-toggleable__label {background-color: #d4ebff;}#sk-container-id-3 div.sk-label input.sk-toggleable__control:checked~label.sk-toggleable__label {background-color: #d4ebff;}#sk-container-id-3 input.sk-hidden--visually {border: 0;clip: rect(1px 1px 1px 1px);clip: rect(1px, 1px, 1px, 1px);height: 1px;margin: -1px;overflow: hidden;padding: 0;position: absolute;width: 1px;}#sk-container-id-3 div.sk-estimator {font-family: monospace;background-color: #f0f8ff;border: 1px dotted black;border-radius: 0.25em;box-sizing: border-box;margin-bottom: 0.5em;}#sk-container-id-3 div.sk-estimator:hover {background-color: #d4ebff;}#sk-container-id-3 div.sk-parallel-item::after {content: \"\";width: 100%;border-bottom: 1px solid gray;flex-grow: 1;}#sk-container-id-3 div.sk-label:hover label.sk-toggleable__label {background-color: #d4ebff;}#sk-container-id-3 div.sk-serial::before {content: \"\";position: absolute;border-left: 1px solid gray;box-sizing: border-box;top: 0;bottom: 0;left: 50%;z-index: 0;}#sk-container-id-3 div.sk-serial {display: flex;flex-direction: column;align-items: center;background-color: white;padding-right: 0.2em;padding-left: 0.2em;position: relative;}#sk-container-id-3 div.sk-item {position: relative;z-index: 1;}#sk-container-id-3 div.sk-parallel {display: flex;align-items: stretch;justify-content: center;background-color: white;position: relative;}#sk-container-id-3 div.sk-item::before, #sk-container-id-3 div.sk-parallel-item::before {content: \"\";position: absolute;border-left: 1px solid gray;box-sizing: border-box;top: 0;bottom: 0;left: 50%;z-index: -1;}#sk-container-id-3 div.sk-parallel-item {display: flex;flex-direction: column;z-index: 1;position: relative;background-color: white;}#sk-container-id-3 div.sk-parallel-item:first-child::after {align-self: flex-end;width: 50%;}#sk-container-id-3 div.sk-parallel-item:last-child::after {align-self: flex-start;width: 50%;}#sk-container-id-3 div.sk-parallel-item:only-child::after {width: 0;}#sk-container-id-3 div.sk-dashed-wrapped {border: 1px dashed gray;margin: 0 0.4em 0.5em 0.4em;box-sizing: border-box;padding-bottom: 0.4em;background-color: white;}#sk-container-id-3 div.sk-label label {font-family: monospace;font-weight: bold;display: inline-block;line-height: 1.2em;}#sk-container-id-3 div.sk-label-container {text-align: center;}#sk-container-id-3 div.sk-container {/* jupyter's `normalize.less` sets `[hidden] { display: none; }` but bootstrap.min.css set `[hidden] { display: none !important; }` so we also need the `!important` here to be able to override the default hidden behavior on the sphinx rendered scikit-learn.org. See: https://github.com/scikit-learn/scikit-learn/issues/21755 */display: inline-block !important;position: relative;}#sk-container-id-3 div.sk-text-repr-fallback {display: none;}</style><div id=\"sk-container-id-3\" class=\"sk-top-container\"><div class=\"sk-text-repr-fallback\"><pre>GradientBoostingRegressor(max_depth=10, n_estimators=350, random_state=4)</pre><b>In a Jupyter environment, please rerun this cell to show the HTML representation or trust the notebook. <br />On GitHub, the HTML representation is unable to render, please try loading this page with nbviewer.org.</b></div><div class=\"sk-container\" hidden><div class=\"sk-item\"><div class=\"sk-estimator sk-toggleable\"><input class=\"sk-toggleable__control sk-hidden--visually\" id=\"sk-estimator-id-9\" type=\"checkbox\" checked><label for=\"sk-estimator-id-9\" class=\"sk-toggleable__label sk-toggleable__label-arrow\">GradientBoostingRegressor</label><div class=\"sk-toggleable__content\"><pre>GradientBoostingRegressor(max_depth=10, n_estimators=350, random_state=4)</pre></div></div></div></div></div>"
      ],
      "text/plain": [
       "GradientBoostingRegressor(max_depth=10, n_estimators=350, random_state=4)"
      ]
     },
     "execution_count": 75,
     "metadata": {},
     "output_type": "execute_result"
    }
   ],
   "source": [
    "grid.best_estimator_"
   ]
  },
  {
   "cell_type": "markdown",
   "id": "389901a0-4a51-4386-9ffc-380c07e54fd8",
   "metadata": {},
   "source": [
    "### Best model params"
   ]
  },
  {
   "cell_type": "code",
   "execution_count": 61,
   "id": "92c7f679-a5bc-458b-923a-398d9f3e6033",
   "metadata": {
    "tags": []
   },
   "outputs": [
    {
     "data": {
      "text/plain": [
       "{'learning_rate': 0.1, 'max_depth': 10, 'n_estimators': 350}"
      ]
     },
     "execution_count": 61,
     "metadata": {},
     "output_type": "execute_result"
    }
   ],
   "source": [
    "val_results['params'][4]"
   ]
  },
  {
   "cell_type": "markdown",
   "id": "bf63e391-4c65-416e-a0fc-bbc07bd3c81d",
   "metadata": {},
   "source": [
    "### Model and pipeline saving"
   ]
  },
  {
   "cell_type": "code",
   "execution_count": 77,
   "id": "e94cfcfc-6872-4b76-b815-712ca746bcc2",
   "metadata": {
    "tags": []
   },
   "outputs": [],
   "source": [
    "import copy\n",
    "import pickle\n",
    "new_transformer = copy.deepcopy(col_transformer)\n",
    "num_pipeline = new_transformer.transformers.pop(0)\n",
    "pipeline = num_pipeline[1]\n",
    "pipeline.steps.pop(0)\n",
    "new_transformer.transformers.insert(0, num_pipeline)\n",
    "\n",
    "output_file = \"model&pipeline.bin\"\n",
    "\n",
    "with open(output_file, 'wb') as f_out:\n",
    "    pickle.dump((new_transformer, grid.best_estimator_), f_out)"
   ]
  }
 ],
 "metadata": {
  "kernelspec": {
   "display_name": "Python 3 (ipykernel)",
   "language": "python",
   "name": "python3"
  },
  "language_info": {
   "codemirror_mode": {
    "name": "ipython",
    "version": 3
   },
   "file_extension": ".py",
   "mimetype": "text/x-python",
   "name": "python",
   "nbconvert_exporter": "python",
   "pygments_lexer": "ipython3",
   "version": "3.11.5"
  }
 },
 "nbformat": 4,
 "nbformat_minor": 5
}
