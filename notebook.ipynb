{
 "cells": [
  {
   "cell_type": "code",
   "execution_count": 1,
   "id": "2841243a-4c44-4819-8919-64bf18b1d253",
   "metadata": {
    "tags": []
   },
   "outputs": [],
   "source": [
    "import pandas as pd\n",
    "import numpy as np\n",
    "import matplotlib.pyplot as plt\n",
    "import seaborn as sns"
   ]
  },
  {
   "cell_type": "code",
   "execution_count": 2,
   "id": "f6694a25-b8cd-48bd-bad9-3fca947e89ff",
   "metadata": {
    "tags": []
   },
   "outputs": [
    {
     "data": {
      "text/html": [
       "<div>\n",
       "<style scoped>\n",
       "    .dataframe tbody tr th:only-of-type {\n",
       "        vertical-align: middle;\n",
       "    }\n",
       "\n",
       "    .dataframe tbody tr th {\n",
       "        vertical-align: top;\n",
       "    }\n",
       "\n",
       "    .dataframe thead th {\n",
       "        text-align: right;\n",
       "    }\n",
       "</style>\n",
       "<table border=\"1\" class=\"dataframe\">\n",
       "  <thead>\n",
       "    <tr style=\"text-align: right;\">\n",
       "      <th></th>\n",
       "      <th>price</th>\n",
       "      <th>dist1</th>\n",
       "      <th>dist2</th>\n",
       "      <th>dist3</th>\n",
       "      <th>rooms</th>\n",
       "      <th>square</th>\n",
       "      <th>floor</th>\n",
       "      <th>type1</th>\n",
       "      <th>type2</th>\n",
       "      <th>type3</th>\n",
       "      <th>metro</th>\n",
       "    </tr>\n",
       "  </thead>\n",
       "  <tbody>\n",
       "    <tr>\n",
       "      <th>0</th>\n",
       "      <td>26 000 грн</td>\n",
       "      <td>ЖК Місце мрії</td>\n",
       "      <td>Шулявка</td>\n",
       "      <td>Солом'янський</td>\n",
       "      <td>2 кімнати</td>\n",
       "      <td>60 / 35 / 15 м²</td>\n",
       "      <td>поверх 14 з 25</td>\n",
       "      <td>спец. проект</td>\n",
       "      <td>монолітно-каркасний</td>\n",
       "      <td>2009.0</td>\n",
       "      <td>1</td>\n",
       "    </tr>\n",
       "    <tr>\n",
       "      <th>1</th>\n",
       "      <td>95 750 грн</td>\n",
       "      <td>ЖК Central Park</td>\n",
       "      <td>Нова забудова</td>\n",
       "      <td>Печерський</td>\n",
       "      <td>3 кімнати</td>\n",
       "      <td>131 / 80 / 15 м²</td>\n",
       "      <td>поверх 10 з 25</td>\n",
       "      <td>NaN</td>\n",
       "      <td>NaN</td>\n",
       "      <td>NaN</td>\n",
       "      <td>1</td>\n",
       "    </tr>\n",
       "    <tr>\n",
       "      <th>2</th>\n",
       "      <td>57 450 грн</td>\n",
       "      <td>ЖК Новопечерські Липки</td>\n",
       "      <td>Чорна Гора</td>\n",
       "      <td>Печерський</td>\n",
       "      <td>2 кімнати</td>\n",
       "      <td>87 / 41 / 17 м²</td>\n",
       "      <td>поверх 2 з 23</td>\n",
       "      <td>спец. проект</td>\n",
       "      <td>монолітно-каркасний</td>\n",
       "      <td>2013.0</td>\n",
       "      <td>1</td>\n",
       "    </tr>\n",
       "    <tr>\n",
       "      <th>3</th>\n",
       "      <td>8 000 грн</td>\n",
       "      <td>Харьківський</td>\n",
       "      <td>Дарницький</td>\n",
       "      <td>Київ</td>\n",
       "      <td>1 кімната</td>\n",
       "      <td>40 / 18 / 9 м²</td>\n",
       "      <td>поверх 3 з 16</td>\n",
       "      <td>серія Т</td>\n",
       "      <td>утеплена панель</td>\n",
       "      <td>1983.0</td>\n",
       "      <td>1</td>\n",
       "    </tr>\n",
       "    <tr>\n",
       "      <th>4</th>\n",
       "      <td>15 000 грн</td>\n",
       "      <td>ЖМ Патріотика</td>\n",
       "      <td>Осокорки</td>\n",
       "      <td>Дарницький</td>\n",
       "      <td>1 кімната</td>\n",
       "      <td>38 / 12 / 16 м²</td>\n",
       "      <td>поверх 15 з 25</td>\n",
       "      <td>спец. проект</td>\n",
       "      <td>панельні</td>\n",
       "      <td>2018.0</td>\n",
       "      <td>1</td>\n",
       "    </tr>\n",
       "  </tbody>\n",
       "</table>\n",
       "</div>"
      ],
      "text/plain": [
       "        price                   dist1          dist2          dist3  \\\n",
       "0  26 000 грн           ЖК Місце мрії        Шулявка  Солом'янський   \n",
       "1  95 750 грн         ЖК Central Park  Нова забудова     Печерський   \n",
       "2  57 450 грн  ЖК Новопечерські Липки     Чорна Гора     Печерський   \n",
       "3   8 000 грн            Харьківський     Дарницький           Київ   \n",
       "4  15 000 грн           ЖМ Патріотика       Осокорки     Дарницький   \n",
       "\n",
       "       rooms            square           floor         type1  \\\n",
       "0  2 кімнати   60 / 35 / 15 м²  поверх 14 з 25  спец. проект   \n",
       "1  3 кімнати  131 / 80 / 15 м²  поверх 10 з 25           NaN   \n",
       "2  2 кімнати   87 / 41 / 17 м²   поверх 2 з 23  спец. проект   \n",
       "3  1 кімната    40 / 18 / 9 м²   поверх 3 з 16       серія Т   \n",
       "4  1 кімната   38 / 12 / 16 м²  поверх 15 з 25  спец. проект   \n",
       "\n",
       "                 type2   type3  metro  \n",
       "0  монолітно-каркасний  2009.0      1  \n",
       "1                  NaN     NaN      1  \n",
       "2  монолітно-каркасний  2013.0      1  \n",
       "3      утеплена панель  1983.0      1  \n",
       "4             панельні  2018.0      1  "
      ]
     },
     "execution_count": 2,
     "metadata": {},
     "output_type": "execute_result"
    }
   ],
   "source": [
    "df = pd.read_csv('flats.csv')\n",
    "df.head()"
   ]
  },
  {
   "cell_type": "markdown",
   "id": "96c39ab2-75c7-4908-916d-56f995d21549",
   "metadata": {},
   "source": [
    "### Data cleaning and exploration"
   ]
  },
  {
   "cell_type": "code",
   "execution_count": 3,
   "id": "eb4b611a-03f5-42e5-973d-72785fe49395",
   "metadata": {
    "tags": []
   },
   "outputs": [
    {
     "name": "stdout",
     "output_type": "stream",
     "text": [
      "<class 'pandas.core.frame.DataFrame'>\n",
      "RangeIndex: 17748 entries, 0 to 17747\n",
      "Data columns (total 11 columns):\n",
      " #   Column  Non-Null Count  Dtype \n",
      "---  ------  --------------  ----- \n",
      " 0   price   17748 non-null  object\n",
      " 1   dist1   17748 non-null  object\n",
      " 2   dist2   17639 non-null  object\n",
      " 3   dist3   16614 non-null  object\n",
      " 4   rooms   17748 non-null  object\n",
      " 5   square  17748 non-null  object\n",
      " 6   floor   17748 non-null  object\n",
      " 7   type1   15045 non-null  object\n",
      " 8   type2   13784 non-null  object\n",
      " 9   type3   14578 non-null  object\n",
      " 10  metro   17748 non-null  int64 \n",
      "dtypes: int64(1), object(10)\n",
      "memory usage: 1.5+ MB\n"
     ]
    }
   ],
   "source": [
    "df.info()"
   ]
  },
  {
   "cell_type": "markdown",
   "id": "e2ae0ac8-c7dd-4f22-83e0-cd70cadc1e36",
   "metadata": {},
   "source": [
    "### Null values"
   ]
  },
  {
   "cell_type": "code",
   "execution_count": 324,
   "id": "74841a67-d165-417a-a8ac-3a2164df9dbe",
   "metadata": {
    "tags": []
   },
   "outputs": [
    {
     "data": {
      "text/plain": [
       "price        0\n",
       "dist1        0\n",
       "dist2      109\n",
       "dist3     1134\n",
       "rooms        0\n",
       "square       0\n",
       "floor        0\n",
       "type1     2703\n",
       "type2     3964\n",
       "type3     3170\n",
       "metro        0\n",
       "dtype: int64"
      ]
     },
     "execution_count": 324,
     "metadata": {},
     "output_type": "execute_result"
    }
   ],
   "source": [
    "df.isna().sum()"
   ]
  },
  {
   "cell_type": "markdown",
   "id": "da721b49-82d0-44cf-9451-10aeefc562bc",
   "metadata": {},
   "source": [
    "### Duplicates"
   ]
  },
  {
   "cell_type": "code",
   "execution_count": 325,
   "id": "ebf7d253-a8db-4f50-bc5c-ada297440717",
   "metadata": {
    "tags": []
   },
   "outputs": [
    {
     "data": {
      "text/html": [
       "<div>\n",
       "<style scoped>\n",
       "    .dataframe tbody tr th:only-of-type {\n",
       "        vertical-align: middle;\n",
       "    }\n",
       "\n",
       "    .dataframe tbody tr th {\n",
       "        vertical-align: top;\n",
       "    }\n",
       "\n",
       "    .dataframe thead th {\n",
       "        text-align: right;\n",
       "    }\n",
       "</style>\n",
       "<table border=\"1\" class=\"dataframe\">\n",
       "  <thead>\n",
       "    <tr style=\"text-align: right;\">\n",
       "      <th></th>\n",
       "      <th>price</th>\n",
       "      <th>dist1</th>\n",
       "      <th>dist2</th>\n",
       "      <th>dist3</th>\n",
       "      <th>rooms</th>\n",
       "      <th>square</th>\n",
       "      <th>floor</th>\n",
       "      <th>type1</th>\n",
       "      <th>type2</th>\n",
       "      <th>type3</th>\n",
       "      <th>metro</th>\n",
       "    </tr>\n",
       "  </thead>\n",
       "  <tbody>\n",
       "    <tr>\n",
       "      <th>8780</th>\n",
       "      <td>38 000 грн</td>\n",
       "      <td>ЖК Французький квартал 2</td>\n",
       "      <td>Нова забудова</td>\n",
       "      <td>Печерський</td>\n",
       "      <td>2 кімнати</td>\n",
       "      <td>64 / 28 / 24 м²</td>\n",
       "      <td>поверх 8 з 24</td>\n",
       "      <td>спец. проект</td>\n",
       "      <td>монолітно-каркасний</td>\n",
       "      <td>2017.0</td>\n",
       "      <td>1</td>\n",
       "    </tr>\n",
       "    <tr>\n",
       "      <th>8783</th>\n",
       "      <td>28 725 грн</td>\n",
       "      <td>ЖК Французький квартал 2</td>\n",
       "      <td>Нова забудова</td>\n",
       "      <td>Печерський</td>\n",
       "      <td>1 кімната</td>\n",
       "      <td>41 / 20 / 20 м²</td>\n",
       "      <td>поверх 14 з 24</td>\n",
       "      <td>спец. проект</td>\n",
       "      <td>монолітно-каркасний</td>\n",
       "      <td>2017.0</td>\n",
       "      <td>1</td>\n",
       "    </tr>\n",
       "    <tr>\n",
       "      <th>8792</th>\n",
       "      <td>17 000 грн</td>\n",
       "      <td>Липки</td>\n",
       "      <td>Печерський</td>\n",
       "      <td>Київ</td>\n",
       "      <td>1 кімната</td>\n",
       "      <td>40 / 20 / 5 м²</td>\n",
       "      <td>поверх 1 з 5</td>\n",
       "      <td>сталінка</td>\n",
       "      <td>цегляний будинок</td>\n",
       "      <td>1962.0</td>\n",
       "      <td>1</td>\n",
       "    </tr>\n",
       "    <tr>\n",
       "      <th>8820</th>\n",
       "      <td>24 000 грн</td>\n",
       "      <td>ЖК Нивки-Парк</td>\n",
       "      <td>Ґалаґани</td>\n",
       "      <td>Святошинський</td>\n",
       "      <td>2 кімнати</td>\n",
       "      <td>72 / 40 / 20 м²</td>\n",
       "      <td>поверх 9 з 18</td>\n",
       "      <td>спец. проект</td>\n",
       "      <td>монолітно-каркасний</td>\n",
       "      <td>2021.0</td>\n",
       "      <td>1</td>\n",
       "    </tr>\n",
       "    <tr>\n",
       "      <th>8831</th>\n",
       "      <td>19 900 грн</td>\n",
       "      <td>Нижній Печерськ</td>\n",
       "      <td>Печерський</td>\n",
       "      <td>Київ</td>\n",
       "      <td>2 кімнати</td>\n",
       "      <td>52 / 20 / 25 м²</td>\n",
       "      <td>поверх 17 з 18</td>\n",
       "      <td>совмін</td>\n",
       "      <td>цегляний будинок</td>\n",
       "      <td>1974.0</td>\n",
       "      <td>1</td>\n",
       "    </tr>\n",
       "    <tr>\n",
       "      <th>...</th>\n",
       "      <td>...</td>\n",
       "      <td>...</td>\n",
       "      <td>...</td>\n",
       "      <td>...</td>\n",
       "      <td>...</td>\n",
       "      <td>...</td>\n",
       "      <td>...</td>\n",
       "      <td>...</td>\n",
       "      <td>...</td>\n",
       "      <td>...</td>\n",
       "      <td>...</td>\n",
       "    </tr>\n",
       "    <tr>\n",
       "      <th>12028</th>\n",
       "      <td>42 130 грн</td>\n",
       "      <td>Поділ</td>\n",
       "      <td>Подільський</td>\n",
       "      <td>Київ</td>\n",
       "      <td>3 кімнати</td>\n",
       "      <td>75 / - / 12 м²</td>\n",
       "      <td>поверх 3 з 4</td>\n",
       "      <td>дореволюційний</td>\n",
       "      <td>цегляний будинок</td>\n",
       "      <td>1917.0</td>\n",
       "      <td>1</td>\n",
       "    </tr>\n",
       "    <tr>\n",
       "      <th>12029</th>\n",
       "      <td>107 240 грн</td>\n",
       "      <td>ЖК Crystal Park</td>\n",
       "      <td>Шулявка</td>\n",
       "      <td>Шевченківський</td>\n",
       "      <td>4 кімнати</td>\n",
       "      <td>160 / - / 37 м²</td>\n",
       "      <td>поверх 8 з 9</td>\n",
       "      <td>спец. проект</td>\n",
       "      <td>монолітно-каркасний</td>\n",
       "      <td>2013.0</td>\n",
       "      <td>1</td>\n",
       "    </tr>\n",
       "    <tr>\n",
       "      <th>12054</th>\n",
       "      <td>16 000 грн</td>\n",
       "      <td>ЖК вул. Каховська, 60</td>\n",
       "      <td>Микільська Слобідка</td>\n",
       "      <td>Дніпровський</td>\n",
       "      <td>1 кімната</td>\n",
       "      <td>31 / 15 / 12 м²</td>\n",
       "      <td>поверх 5 з 26</td>\n",
       "      <td>цегляний будинок</td>\n",
       "      <td>2020</td>\n",
       "      <td>сьогодні о 10:24</td>\n",
       "      <td>0</td>\n",
       "    </tr>\n",
       "    <tr>\n",
       "      <th>12559</th>\n",
       "      <td>19 000 грн</td>\n",
       "      <td>ЖК вул. Дмитрівська, 69</td>\n",
       "      <td>Солдатська слобідка</td>\n",
       "      <td>Шевченківський</td>\n",
       "      <td>1 кімната</td>\n",
       "      <td>55 / - / 15 м²</td>\n",
       "      <td>поверх 8 з 24</td>\n",
       "      <td>спец. проект</td>\n",
       "      <td>монолітно-каркасний</td>\n",
       "      <td>вчора о 13:30</td>\n",
       "      <td>0</td>\n",
       "    </tr>\n",
       "    <tr>\n",
       "      <th>15655</th>\n",
       "      <td>28 687 грн</td>\n",
       "      <td>ЖК RiverStone</td>\n",
       "      <td>Позняки</td>\n",
       "      <td>Дарницький</td>\n",
       "      <td>2 кімнати</td>\n",
       "      <td>90 / - / 24 м²</td>\n",
       "      <td>поверх 15 з 24</td>\n",
       "      <td>спец. проект</td>\n",
       "      <td>монолітно-каркасний</td>\n",
       "      <td>18 січня</td>\n",
       "      <td>0</td>\n",
       "    </tr>\n",
       "  </tbody>\n",
       "</table>\n",
       "<p>2201 rows × 11 columns</p>\n",
       "</div>"
      ],
      "text/plain": [
       "             price                     dist1                dist2  \\\n",
       "8780    38 000 грн  ЖК Французький квартал 2        Нова забудова   \n",
       "8783    28 725 грн  ЖК Французький квартал 2        Нова забудова   \n",
       "8792    17 000 грн                     Липки           Печерський   \n",
       "8820    24 000 грн             ЖК Нивки-Парк             Ґалаґани   \n",
       "8831    19 900 грн           Нижній Печерськ           Печерський   \n",
       "...            ...                       ...                  ...   \n",
       "12028   42 130 грн                     Поділ          Подільський   \n",
       "12029  107 240 грн           ЖК Crystal Park              Шулявка   \n",
       "12054   16 000 грн     ЖК вул. Каховська, 60  Микільська Слобідка   \n",
       "12559   19 000 грн   ЖК вул. Дмитрівська, 69  Солдатська слобідка   \n",
       "15655   28 687 грн             ЖК RiverStone              Позняки   \n",
       "\n",
       "                dist3      rooms           square           floor  \\\n",
       "8780       Печерський  2 кімнати  64 / 28 / 24 м²   поверх 8 з 24   \n",
       "8783       Печерський  1 кімната  41 / 20 / 20 м²  поверх 14 з 24   \n",
       "8792             Київ  1 кімната   40 / 20 / 5 м²    поверх 1 з 5   \n",
       "8820    Святошинський  2 кімнати  72 / 40 / 20 м²   поверх 9 з 18   \n",
       "8831             Київ  2 кімнати  52 / 20 / 25 м²  поверх 17 з 18   \n",
       "...               ...        ...              ...             ...   \n",
       "12028            Київ  3 кімнати   75 / - / 12 м²    поверх 3 з 4   \n",
       "12029  Шевченківський  4 кімнати  160 / - / 37 м²    поверх 8 з 9   \n",
       "12054    Дніпровський  1 кімната  31 / 15 / 12 м²   поверх 5 з 26   \n",
       "12559  Шевченківський  1 кімната   55 / - / 15 м²   поверх 8 з 24   \n",
       "15655      Дарницький  2 кімнати   90 / - / 24 м²  поверх 15 з 24   \n",
       "\n",
       "                  type1                type2             type3  metro  \n",
       "8780       спец. проект  монолітно-каркасний            2017.0      1  \n",
       "8783       спец. проект  монолітно-каркасний            2017.0      1  \n",
       "8792           сталінка     цегляний будинок            1962.0      1  \n",
       "8820       спец. проект  монолітно-каркасний            2021.0      1  \n",
       "8831             совмін     цегляний будинок            1974.0      1  \n",
       "...                 ...                  ...               ...    ...  \n",
       "12028    дореволюційний     цегляний будинок            1917.0      1  \n",
       "12029      спец. проект  монолітно-каркасний            2013.0      1  \n",
       "12054  цегляний будинок                 2020  сьогодні о 10:24      0  \n",
       "12559      спец. проект  монолітно-каркасний     вчора о 13:30      0  \n",
       "15655      спец. проект  монолітно-каркасний          18 січня      0  \n",
       "\n",
       "[2201 rows x 11 columns]"
      ]
     },
     "execution_count": 325,
     "metadata": {},
     "output_type": "execute_result"
    }
   ],
   "source": [
    "df[df.duplicated(subset=['price', 'dist1', 'dist2', 'dist3', 'rooms', 'square', 'floor', 'type1', 'type2', 'type3'])]"
   ]
  },
  {
   "cell_type": "code",
   "execution_count": 326,
   "id": "0d40806b-2ed4-4d2b-8b9c-7d09b8cf7888",
   "metadata": {
    "tags": []
   },
   "outputs": [],
   "source": [
    "df.drop_duplicates(subset=['price', 'dist1', 'dist2', 'dist3', 'rooms', 'square', 'floor', 'type1', 'type2', 'type3'],\n",
    "                   inplace=True, ignore_index=True)"
   ]
  },
  {
   "cell_type": "markdown",
   "id": "87cbb13c-0e39-4585-8534-fdce56ef0723",
   "metadata": {
    "tags": []
   },
   "source": [
    "### Data cleaning"
   ]
  },
  {
   "cell_type": "code",
   "execution_count": 327,
   "id": "a5655110-72b1-4461-b6a5-6b5146880750",
   "metadata": {
    "tags": []
   },
   "outputs": [
    {
     "name": "stdout",
     "output_type": "stream",
     "text": [
      "<class 'pandas.core.frame.DataFrame'>\n",
      "RangeIndex: 15547 entries, 0 to 15546\n",
      "Data columns (total 11 columns):\n",
      " #   Column  Non-Null Count  Dtype \n",
      "---  ------  --------------  ----- \n",
      " 0   price   15547 non-null  object\n",
      " 1   dist1   15547 non-null  object\n",
      " 2   dist2   15453 non-null  object\n",
      " 3   dist3   14504 non-null  object\n",
      " 4   rooms   15547 non-null  object\n",
      " 5   square  15547 non-null  object\n",
      " 6   floor   15547 non-null  object\n",
      " 7   type1   13101 non-null  object\n",
      " 8   type2   11979 non-null  object\n",
      " 9   type3   12855 non-null  object\n",
      " 10  metro   15547 non-null  int64 \n",
      "dtypes: int64(1), object(10)\n",
      "memory usage: 1.3+ MB\n"
     ]
    }
   ],
   "source": [
    "df.info()"
   ]
  },
  {
   "cell_type": "code",
   "execution_count": 328,
   "id": "8f569563-a368-4f5b-8a22-9b8f276c68b6",
   "metadata": {
    "tags": []
   },
   "outputs": [
    {
     "data": {
      "text/plain": [
       "dist3\n",
       "Київ              7518\n",
       "Печерський        2357\n",
       "Голосіївський     1165\n",
       "Дарницький         934\n",
       "Шевченківський     768\n",
       "Солом'янський      464\n",
       "Дніпровський       449\n",
       "Оболонський        303\n",
       "Подільський        291\n",
       "Святошинський      193\n",
       "Деснянський         62\n",
       "Name: count, dtype: int64"
      ]
     },
     "execution_count": 328,
     "metadata": {},
     "output_type": "execute_result"
    }
   ],
   "source": [
    "df.dist3.value_counts()"
   ]
  },
  {
   "cell_type": "code",
   "execution_count": 329,
   "id": "c788fd54-1697-46aa-8d2f-5ad88bbee413",
   "metadata": {},
   "outputs": [],
   "source": [
    "df.dist3 = df.dist3.apply(lambda x : np.nan if x=='Київ' else x)"
   ]
  },
  {
   "cell_type": "code",
   "execution_count": 330,
   "id": "21eb49a0-d4a5-4b9b-a001-119963f2b808",
   "metadata": {
    "tags": []
   },
   "outputs": [],
   "source": [
    "districts = ['Печерський', 'Деснянський', 'Шевченківський', 'Дніпровський', 'Голосіївський',\n",
    "             \"Солом'янський\", 'Святошинський', 'Оболонський', 'Дарницький', 'Подільський']"
   ]
  },
  {
   "cell_type": "code",
   "execution_count": 331,
   "id": "b8061f17-418b-4572-8656-0fd65b4e11a6",
   "metadata": {
    "tags": []
   },
   "outputs": [],
   "source": [
    "for i in range(0, len(df)):\n",
    "    if df.dist1[i] in districts:\n",
    "        df.loc[i, 'dist3'] = df.dist1[i]\n",
    "        df.loc[i, 'dist1'] = np.nan\n",
    "    elif df.dist2[i] in districts:\n",
    "        df.loc[i, 'dist3'] = df.dist2[i]\n",
    "        df.loc[i, 'dist2'] = np.nan\n",
    "        "
   ]
  },
  {
   "cell_type": "code",
   "execution_count": 113,
   "id": "b9b992de-638d-46d9-888c-1de9423fb7de",
   "metadata": {
    "tags": []
   },
   "outputs": [
    {
     "data": {
      "text/plain": [
       "type1\n",
       "спец. проект           7319\n",
       "цегляний будинок        868\n",
       "хрущівка                749\n",
       "дореволюційний          601\n",
       "сталінка                593\n",
       "гостинка                321\n",
       "чеський проект          311\n",
       "панельні                306\n",
       "серія КТ                297\n",
       "серія 96                253\n",
       "монолітно-каркасний     236\n",
       "БПС                     228\n",
       "АППС                    224\n",
       "серія Т                 190\n",
       "совмін                  128\n",
       "серія 134               105\n",
       "серія 87                 98\n",
       "2021                     72\n",
       "2019                     72\n",
       "АППС-люкс                38\n",
       "серія KП                 30\n",
       "2020                     18\n",
       "2022                     11\n",
       "блочні                   10\n",
       "серія КС                  7\n",
       "2023                      6\n",
       "2015                      3\n",
       "1972                      2\n",
       "2013                      2\n",
       "2018                      2\n",
       "2016                      1\n",
       "Name: count, dtype: int64"
      ]
     },
     "execution_count": 113,
     "metadata": {},
     "output_type": "execute_result"
    }
   ],
   "source": [
    "df.type1.value_counts()"
   ]
  },
  {
   "cell_type": "code",
   "execution_count": 114,
   "id": "afc149d4-c86e-4509-bd0c-772f33a487b5",
   "metadata": {
    "tags": []
   },
   "outputs": [
    {
     "data": {
      "text/plain": [
       "type2\n",
       "монолітно-каркасний    6258\n",
       "цегляний будинок       3006\n",
       "утеплена панель        1428\n",
       "панельні                793\n",
       "2020                     55\n",
       "1970                     39\n",
       "1966                     32\n",
       "1975                     32\n",
       "1972                     29\n",
       "1967                     27\n",
       "1971                     26\n",
       "1969                     26\n",
       "1974                     24\n",
       "1977                     24\n",
       "1973                     22\n",
       "1965                     19\n",
       "1964                     18\n",
       "1968                     17\n",
       "1980                     13\n",
       "2021                     11\n",
       "2023                      8\n",
       "1976                      8\n",
       "1978                      8\n",
       "1962                      6\n",
       "1961                      6\n",
       "1981                      5\n",
       "1963                      5\n",
       "1982                      5\n",
       "2017                      4\n",
       "1979                      4\n",
       "1983                      3\n",
       "2019                      2\n",
       "1956                      2\n",
       "2005                      2\n",
       "2022                      2\n",
       "1943                      2\n",
       "блочні                    2\n",
       "2010                      2\n",
       "2018                      2\n",
       "1985                      1\n",
       "1995                      1\n",
       "Name: count, dtype: int64"
      ]
     },
     "execution_count": 114,
     "metadata": {},
     "output_type": "execute_result"
    }
   ],
   "source": [
    "df.type2.value_counts()"
   ]
  },
  {
   "cell_type": "code",
   "execution_count": 263,
   "id": "b942bc48-3caa-45fd-a638-e909694a32b8",
   "metadata": {
    "tags": []
   },
   "outputs": [],
   "source": [
    "import re\n",
    "pattern = r'\\d{4}'\n",
    "for i in range(0, len(df)):\n",
    "    if re.match(pattern, str(df.type1[i])):\n",
    "        df.loc[i, 'type3'] = df.type1[i]\n",
    "        df.loc[i, 'type1'] = np.nan\n",
    "    elif re.match(pattern, str(df.type2[i])):\n",
    "        df.loc[i, 'type3'] = df.type2[i]\n",
    "        df.loc[i, 'type2'] = np.nan\n",
    "    "
   ]
  },
  {
   "cell_type": "code",
   "execution_count": 116,
   "id": "6d02c444-e69f-4a6d-9cc4-194dde8c023a",
   "metadata": {
    "tags": []
   },
   "outputs": [
    {
     "data": {
      "text/html": [
       "<div>\n",
       "<style scoped>\n",
       "    .dataframe tbody tr th:only-of-type {\n",
       "        vertical-align: middle;\n",
       "    }\n",
       "\n",
       "    .dataframe tbody tr th {\n",
       "        vertical-align: top;\n",
       "    }\n",
       "\n",
       "    .dataframe thead th {\n",
       "        text-align: right;\n",
       "    }\n",
       "</style>\n",
       "<table border=\"1\" class=\"dataframe\">\n",
       "  <thead>\n",
       "    <tr style=\"text-align: right;\">\n",
       "      <th></th>\n",
       "      <th>price</th>\n",
       "      <th>dist1</th>\n",
       "      <th>dist2</th>\n",
       "      <th>dist3</th>\n",
       "      <th>rooms</th>\n",
       "      <th>square</th>\n",
       "      <th>floor</th>\n",
       "      <th>type1</th>\n",
       "      <th>type2</th>\n",
       "      <th>type3</th>\n",
       "      <th>metro</th>\n",
       "    </tr>\n",
       "  </thead>\n",
       "  <tbody>\n",
       "    <tr>\n",
       "      <th>0</th>\n",
       "      <td>26 000 грн</td>\n",
       "      <td>ЖК Місце мрії</td>\n",
       "      <td>Шулявка</td>\n",
       "      <td>Солом'янський</td>\n",
       "      <td>2 кімнати</td>\n",
       "      <td>60 / 35 / 15 м²</td>\n",
       "      <td>поверх 14 з 25</td>\n",
       "      <td>спец. проект</td>\n",
       "      <td>монолітно-каркасний</td>\n",
       "      <td>2009.0</td>\n",
       "      <td>1</td>\n",
       "    </tr>\n",
       "    <tr>\n",
       "      <th>1</th>\n",
       "      <td>95 750 грн</td>\n",
       "      <td>ЖК Central Park</td>\n",
       "      <td>Нова забудова</td>\n",
       "      <td>Печерський</td>\n",
       "      <td>3 кімнати</td>\n",
       "      <td>131 / 80 / 15 м²</td>\n",
       "      <td>поверх 10 з 25</td>\n",
       "      <td>NaN</td>\n",
       "      <td>NaN</td>\n",
       "      <td>NaN</td>\n",
       "      <td>1</td>\n",
       "    </tr>\n",
       "    <tr>\n",
       "      <th>2</th>\n",
       "      <td>57 450 грн</td>\n",
       "      <td>ЖК Новопечерські Липки</td>\n",
       "      <td>Чорна Гора</td>\n",
       "      <td>Печерський</td>\n",
       "      <td>2 кімнати</td>\n",
       "      <td>87 / 41 / 17 м²</td>\n",
       "      <td>поверх 2 з 23</td>\n",
       "      <td>спец. проект</td>\n",
       "      <td>монолітно-каркасний</td>\n",
       "      <td>2013.0</td>\n",
       "      <td>1</td>\n",
       "    </tr>\n",
       "    <tr>\n",
       "      <th>3</th>\n",
       "      <td>8 000 грн</td>\n",
       "      <td>Харьківський</td>\n",
       "      <td>NaN</td>\n",
       "      <td>Дарницький</td>\n",
       "      <td>1 кімната</td>\n",
       "      <td>40 / 18 / 9 м²</td>\n",
       "      <td>поверх 3 з 16</td>\n",
       "      <td>серія Т</td>\n",
       "      <td>утеплена панель</td>\n",
       "      <td>1983.0</td>\n",
       "      <td>1</td>\n",
       "    </tr>\n",
       "    <tr>\n",
       "      <th>4</th>\n",
       "      <td>15 000 грн</td>\n",
       "      <td>ЖМ Патріотика</td>\n",
       "      <td>Осокорки</td>\n",
       "      <td>Дарницький</td>\n",
       "      <td>1 кімната</td>\n",
       "      <td>38 / 12 / 16 м²</td>\n",
       "      <td>поверх 15 з 25</td>\n",
       "      <td>спец. проект</td>\n",
       "      <td>панельні</td>\n",
       "      <td>2018.0</td>\n",
       "      <td>1</td>\n",
       "    </tr>\n",
       "  </tbody>\n",
       "</table>\n",
       "</div>"
      ],
      "text/plain": [
       "        price                   dist1          dist2          dist3  \\\n",
       "0  26 000 грн           ЖК Місце мрії        Шулявка  Солом'янський   \n",
       "1  95 750 грн         ЖК Central Park  Нова забудова     Печерський   \n",
       "2  57 450 грн  ЖК Новопечерські Липки     Чорна Гора     Печерський   \n",
       "3   8 000 грн            Харьківський            NaN     Дарницький   \n",
       "4  15 000 грн           ЖМ Патріотика       Осокорки     Дарницький   \n",
       "\n",
       "       rooms            square           floor         type1  \\\n",
       "0  2 кімнати   60 / 35 / 15 м²  поверх 14 з 25  спец. проект   \n",
       "1  3 кімнати  131 / 80 / 15 м²  поверх 10 з 25           NaN   \n",
       "2  2 кімнати   87 / 41 / 17 м²   поверх 2 з 23  спец. проект   \n",
       "3  1 кімната    40 / 18 / 9 м²   поверх 3 з 16       серія Т   \n",
       "4  1 кімната   38 / 12 / 16 м²  поверх 15 з 25  спец. проект   \n",
       "\n",
       "                 type2   type3  metro  \n",
       "0  монолітно-каркасний  2009.0      1  \n",
       "1                  NaN     NaN      1  \n",
       "2  монолітно-каркасний  2013.0      1  \n",
       "3      утеплена панель  1983.0      1  \n",
       "4             панельні  2018.0      1  "
      ]
     },
     "execution_count": 116,
     "metadata": {},
     "output_type": "execute_result"
    }
   ],
   "source": [
    "df.head()"
   ]
  },
  {
   "cell_type": "code",
   "execution_count": 264,
   "id": "8810a863-7864-4c83-9d3d-f0fcf2cd7d94",
   "metadata": {
    "tags": []
   },
   "outputs": [
    {
     "name": "stdout",
     "output_type": "stream",
     "text": [
      "<class 'pandas.core.frame.DataFrame'>\n",
      "RangeIndex: 8759 entries, 0 to 8758\n",
      "Data columns (total 11 columns):\n",
      " #   Column  Non-Null Count  Dtype \n",
      "---  ------  --------------  ----- \n",
      " 0   price   8759 non-null   object\n",
      " 1   dist1   8314 non-null   object\n",
      " 2   dist2   4597 non-null   object\n",
      " 3   dist3   8597 non-null   object\n",
      " 4   rooms   8759 non-null   object\n",
      " 5   square  8759 non-null   object\n",
      " 6   floor   8759 non-null   object\n",
      " 7   type1   7312 non-null   object\n",
      " 8   type2   6493 non-null   object\n",
      " 9   type3   6756 non-null   object\n",
      " 10  metro   8759 non-null   int64 \n",
      "dtypes: int64(1), object(10)\n",
      "memory usage: 752.9+ KB\n"
     ]
    }
   ],
   "source": [
    "df.info()"
   ]
  },
  {
   "cell_type": "code",
   "execution_count": 265,
   "id": "9ff63c40-3c5f-4864-b970-e8c3461143c7",
   "metadata": {
    "tags": []
   },
   "outputs": [],
   "source": [
    "df.price =df.price.apply(lambda x:  x.replace(' ', ''))\n",
    "df.price.replace('[^0-9]', '', regex=True, inplace=True)\n",
    "df.price = df.price.astype('int32')"
   ]
  },
  {
   "cell_type": "code",
   "execution_count": 266,
   "id": "c4c0e2e3-9432-4886-ac58-5ce8303d5244",
   "metadata": {
    "tags": []
   },
   "outputs": [
    {
     "data": {
      "text/plain": [
       "array(['2 кімнати', '3 кімнати', '1 кімната', '4 кімнати', '6 кімнат',\n",
       "       '5 кімнат'], dtype=object)"
      ]
     },
     "execution_count": 266,
     "metadata": {},
     "output_type": "execute_result"
    }
   ],
   "source": [
    "df.rooms.unique()"
   ]
  },
  {
   "cell_type": "code",
   "execution_count": 267,
   "id": "b3fa64c9-57ad-420a-8a80-25bf01a44175",
   "metadata": {
    "tags": []
   },
   "outputs": [],
   "source": [
    "df['rooms'].replace('[^0-9]', '', regex=True, inplace=True)\n",
    "df['rooms'] = df.rooms.astype('int32')\n",
    "#df['price'] = df.price.astype('int64')"
   ]
  },
  {
   "cell_type": "code",
   "execution_count": 268,
   "id": "cf28b463-e7a0-4cb6-b9a3-78b58901a214",
   "metadata": {
    "tags": []
   },
   "outputs": [
    {
     "data": {
      "text/html": [
       "<div>\n",
       "<style scoped>\n",
       "    .dataframe tbody tr th:only-of-type {\n",
       "        vertical-align: middle;\n",
       "    }\n",
       "\n",
       "    .dataframe tbody tr th {\n",
       "        vertical-align: top;\n",
       "    }\n",
       "\n",
       "    .dataframe thead th {\n",
       "        text-align: right;\n",
       "    }\n",
       "</style>\n",
       "<table border=\"1\" class=\"dataframe\">\n",
       "  <thead>\n",
       "    <tr style=\"text-align: right;\">\n",
       "      <th></th>\n",
       "      <th>price</th>\n",
       "      <th>dist1</th>\n",
       "      <th>dist2</th>\n",
       "      <th>dist3</th>\n",
       "      <th>rooms</th>\n",
       "      <th>square</th>\n",
       "      <th>floor</th>\n",
       "      <th>type1</th>\n",
       "      <th>type2</th>\n",
       "      <th>type3</th>\n",
       "      <th>metro</th>\n",
       "      <th>total_area</th>\n",
       "      <th>living_area</th>\n",
       "      <th>kitchen_area</th>\n",
       "    </tr>\n",
       "  </thead>\n",
       "  <tbody>\n",
       "    <tr>\n",
       "      <th>0</th>\n",
       "      <td>26000</td>\n",
       "      <td>ЖК Місце мрії</td>\n",
       "      <td>Шулявка</td>\n",
       "      <td>Солом'янський</td>\n",
       "      <td>2</td>\n",
       "      <td>60 / 35 / 15</td>\n",
       "      <td>поверх 14 з 25</td>\n",
       "      <td>спец. проект</td>\n",
       "      <td>монолітно-каркасний</td>\n",
       "      <td>2009.0</td>\n",
       "      <td>1</td>\n",
       "      <td>60.0</td>\n",
       "      <td>35.0</td>\n",
       "      <td>15.0</td>\n",
       "    </tr>\n",
       "    <tr>\n",
       "      <th>1</th>\n",
       "      <td>95750</td>\n",
       "      <td>ЖК Central Park</td>\n",
       "      <td>Нова забудова</td>\n",
       "      <td>Печерський</td>\n",
       "      <td>3</td>\n",
       "      <td>131 / 80 / 15</td>\n",
       "      <td>поверх 10 з 25</td>\n",
       "      <td>NaN</td>\n",
       "      <td>NaN</td>\n",
       "      <td>NaN</td>\n",
       "      <td>1</td>\n",
       "      <td>131.0</td>\n",
       "      <td>80.0</td>\n",
       "      <td>15.0</td>\n",
       "    </tr>\n",
       "    <tr>\n",
       "      <th>2</th>\n",
       "      <td>57450</td>\n",
       "      <td>ЖК Новопечерські Липки</td>\n",
       "      <td>Чорна Гора</td>\n",
       "      <td>Печерський</td>\n",
       "      <td>2</td>\n",
       "      <td>87 / 41 / 17</td>\n",
       "      <td>поверх 2 з 23</td>\n",
       "      <td>спец. проект</td>\n",
       "      <td>монолітно-каркасний</td>\n",
       "      <td>2013.0</td>\n",
       "      <td>1</td>\n",
       "      <td>87.0</td>\n",
       "      <td>41.0</td>\n",
       "      <td>17.0</td>\n",
       "    </tr>\n",
       "    <tr>\n",
       "      <th>3</th>\n",
       "      <td>8000</td>\n",
       "      <td>Харьківський</td>\n",
       "      <td>NaN</td>\n",
       "      <td>Дарницький</td>\n",
       "      <td>1</td>\n",
       "      <td>40 / 18 / 9</td>\n",
       "      <td>поверх 3 з 16</td>\n",
       "      <td>серія Т</td>\n",
       "      <td>утеплена панель</td>\n",
       "      <td>1983.0</td>\n",
       "      <td>1</td>\n",
       "      <td>40.0</td>\n",
       "      <td>18.0</td>\n",
       "      <td>9.0</td>\n",
       "    </tr>\n",
       "    <tr>\n",
       "      <th>4</th>\n",
       "      <td>15000</td>\n",
       "      <td>ЖМ Патріотика</td>\n",
       "      <td>Осокорки</td>\n",
       "      <td>Дарницький</td>\n",
       "      <td>1</td>\n",
       "      <td>38 / 12 / 16</td>\n",
       "      <td>поверх 15 з 25</td>\n",
       "      <td>спец. проект</td>\n",
       "      <td>панельні</td>\n",
       "      <td>2018.0</td>\n",
       "      <td>1</td>\n",
       "      <td>38.0</td>\n",
       "      <td>12.0</td>\n",
       "      <td>16.0</td>\n",
       "    </tr>\n",
       "  </tbody>\n",
       "</table>\n",
       "</div>"
      ],
      "text/plain": [
       "   price                   dist1          dist2          dist3  rooms  \\\n",
       "0  26000           ЖК Місце мрії        Шулявка  Солом'янський      2   \n",
       "1  95750         ЖК Central Park  Нова забудова     Печерський      3   \n",
       "2  57450  ЖК Новопечерські Липки     Чорна Гора     Печерський      2   \n",
       "3   8000            Харьківський            NaN     Дарницький      1   \n",
       "4  15000           ЖМ Патріотика       Осокорки     Дарницький      1   \n",
       "\n",
       "           square           floor         type1                type2   type3  \\\n",
       "0   60 / 35 / 15   поверх 14 з 25  спец. проект  монолітно-каркасний  2009.0   \n",
       "1  131 / 80 / 15   поверх 10 з 25           NaN                  NaN     NaN   \n",
       "2   87 / 41 / 17    поверх 2 з 23  спец. проект  монолітно-каркасний  2013.0   \n",
       "3    40 / 18 / 9    поверх 3 з 16       серія Т      утеплена панель  1983.0   \n",
       "4   38 / 12 / 16   поверх 15 з 25  спец. проект             панельні  2018.0   \n",
       "\n",
       "   metro  total_area  living_area  kitchen_area  \n",
       "0      1        60.0         35.0          15.0  \n",
       "1      1       131.0         80.0          15.0  \n",
       "2      1        87.0         41.0          17.0  \n",
       "3      1        40.0         18.0           9.0  \n",
       "4      1        38.0         12.0          16.0  "
      ]
     },
     "execution_count": 268,
     "metadata": {},
     "output_type": "execute_result"
    }
   ],
   "source": [
    "df['square'].replace('м²', '', inplace=True, regex=True)\n",
    "\n",
    "str_split = df.square.str.split(' / ')\n",
    "\n",
    "\n",
    "df['total_area'] = pd.to_numeric(str_split.str.get(0), errors='coerce') \n",
    "df['living_area'] = pd.to_numeric(str_split.str.get(1), errors='coerce')\n",
    "df['kitchen_area']= pd.to_numeric(str_split.str.get(2), errors='coerce')\n",
    "df.head()"
   ]
  },
  {
   "cell_type": "code",
   "execution_count": 35,
   "id": "28aca1ac-65c1-4b30-8049-e88e4938a379",
   "metadata": {
    "collapsed": true,
    "jupyter": {
     "outputs_hidden": true
    },
    "tags": []
   },
   "outputs": [
    {
     "data": {
      "text/plain": [
       "array(['поверх 14 з 25', 'поверх 10 з 25', 'поверх 2 з 23',\n",
       "       'поверх 3 з 16', 'поверх 15 з 25', 'поверх 7 з 25', 'поверх 6 з 9',\n",
       "       'поверх 3 з 9', 'поверх 4 з 12', 'поверх 14 з 20',\n",
       "       'поверх 26 з 26', 'поверх 5 з 9', 'поверх 16 з 24',\n",
       "       'поверх 8 з 25', 'поверх 10 з 24', 'поверх 5 з 5',\n",
       "       'поверх 18 з 20', 'поверх 4 з 10', 'поверх 4 з 5', 'поверх 1 з 9',\n",
       "       'поверх 11 з 14', 'поверх 4 з 16', 'поверх 10 з 22',\n",
       "       'поверх 9 з 9', 'поверх 3 з 20', 'поверх 21 з 30', 'поверх 2 з 12',\n",
       "       'поверх 6 з 16', 'поверх 11 з 24', 'поверх 5 з 10',\n",
       "       'поверх 13 з 21', 'поверх 6 з 25', 'поверх 3 з 22',\n",
       "       'поверх 9 з 14', 'поверх 17 з 25', 'поверх 6 з 23', 'поверх 2 з 9',\n",
       "       'поверх 10 з 16', 'поверх 20 з 25', 'поверх 2 з 10',\n",
       "       'поверх 16 з 23', 'поверх 3 з 24', 'поверх 8 з 16',\n",
       "       'поверх 5 з 25', 'поверх 3 з 23', 'поверх 17 з 26',\n",
       "       'поверх 18 з 24', 'поверх 9 з 18', 'поверх 4 з 9',\n",
       "       'поверх 21 з 26', 'поверх 32 з 34', 'поверх 13 з 25',\n",
       "       'поверх 4 з 6', 'поверх 12 з 14', 'поверх 1 з 5', 'поверх 8 з 9',\n",
       "       'поверх 11 з 19', 'поверх 12 з 25', 'поверх 21 з 21',\n",
       "       'поверх 3 з 5', 'поверх 5 з 6', 'поверх 10 з 10', 'поверх 2 з 16',\n",
       "       'поверх 3 з 15', 'поверх 7 з 9', 'поверх 6 з 7', 'поверх 12 з 18',\n",
       "       'поверх 5 з 30', 'поверх 1 з 13', 'поверх 12 з 26',\n",
       "       'поверх 23 з 25', 'поверх 5 з 18', 'поверх 24 з 25',\n",
       "       'поверх 21 з 25', 'поверх 10 з 29', 'поверх 8 з 8',\n",
       "       'поверх 25 з 25', 'поверх 7 з 24', 'поверх 8 з 26',\n",
       "       'поверх 19 з 24', 'поверх 6 з 6', 'поверх 2 з 5', 'поверх 9 з 25',\n",
       "       'поверх 21 з 33', 'поверх 3 з 14', 'поверх 3 з 18',\n",
       "       'поверх 16 з 16', 'поверх 9 з 15', 'поверх 5 з 34',\n",
       "       'поверх 4 з 23', 'поверх 27 з 33', 'поверх 14 з 18',\n",
       "       'поверх 12 з 23', 'поверх 15 з 16', 'поверх 18 з 23',\n",
       "       'поверх 17 з 22', 'поверх 3 з 17', 'поверх 16 з 25',\n",
       "       'поверх 6 з 8', 'поверх 8 з 24', 'поверх 18 з 25',\n",
       "       'поверх 14 з 16', 'поверх 2 з 6', 'поверх 9 з 12', 'поверх 9 з 23',\n",
       "       'поверх 20 з 20', 'поверх 4 з 32', 'поверх 24 з 28',\n",
       "       'поверх 5 з 16', 'поверх 4 з 24', 'поверх 2 з 7', 'поверх 15 з 24',\n",
       "       'поверх 6 з 26', 'поверх 9 з 24', 'поверх 2 з 3', 'поверх 19 з 25',\n",
       "       'поверх 24 з 24', 'поверх 4 з 15', 'поверх 22 з 25',\n",
       "       'поверх 17 з 23', 'поверх 6 з 12', 'поверх 6 з 24',\n",
       "       'поверх 20 з 30', 'поверх 22 з 28', 'поверх 10 з 11',\n",
       "       'поверх 20 з 27', 'поверх 12 з 12', 'поверх 5 з 22',\n",
       "       'поверх 3 з 4', 'поверх 7 з 23', 'поверх 5 з 8', 'поверх 12 з 15',\n",
       "       'поверх 7 з 10', 'поверх 8 з 28', 'поверх 12 з 21',\n",
       "       'поверх 13 з 24', 'поверх 7 з 16', 'поверх 8 з 17',\n",
       "       'поверх 18 з 26', 'поверх 4 з 25', 'поверх 12 з 17',\n",
       "       'поверх 11 з 23', 'поверх 1 з 10', 'поверх 6 з 27', 'поверх 4 з 4',\n",
       "       'поверх 31 з 36', 'поверх 28 з 36', 'поверх 11 з 25',\n",
       "       'поверх 6 з 32', 'поверх 1 з 6', 'поверх 22 з 23', 'поверх 7 з 12',\n",
       "       '3 поверх', 'поверх 10 з 14', 'поверх 8 з 21', 'поверх 10 з 26',\n",
       "       'поверх 3 з 10', 'поверх 13 з 16', 'поверх 14 з 19',\n",
       "       'поверх 44 з 45', 'поверх 5 з 26', 'поверх 12 з 19',\n",
       "       'поверх 16 з 18', 'поверх 2 з 19', 'поверх 16 з 21',\n",
       "       'поверх 2 з 11', 'поверх 20 з 26', 'поверх 8 з 10',\n",
       "       'поверх 1 з 11', 'поверх 5 з 7', 'поверх 12 з 24', 'поверх 3 з 19',\n",
       "       'поверх 6 з 30', 'поверх 5 з 17', 'поверх 3 з 12',\n",
       "       'поверх 15 з 21', 'поверх 22 з 24', 'поверх 28 з 30',\n",
       "       'поверх 21 з 23', 'поверх 21 з 24', 'поверх 15 з 20',\n",
       "       'поверх 2 з 4', 'поверх 2 з 17', 'поверх 7 з 17', 'поверх 12 з 13',\n",
       "       'поверх 12 з 16', 'поверх 18 з 18', 'поверх 13 з 29',\n",
       "       'поверх 9 з 10', 'поверх 4 з 34', 'поверх 2 з 2', 'поверх 13 з 15',\n",
       "       'поверх 5 з 24', 'поверх 15 з 23', 'поверх 11 з 18',\n",
       "       'поверх 17 з 24', 'поверх 17 з 17', 'поверх 22 з 36',\n",
       "       'поверх 3 з 7', 'поверх 10 з 15', 'поверх 11 з 27',\n",
       "       'поверх 19 з 30', 'поверх 2 з 8', 'поверх 23 з 24', 'поверх 1 з 4',\n",
       "       'поверх 9 з 16', 'поверх 6 з 14', 'поверх 9 з 22', 'поверх 6 з 18',\n",
       "       'поверх 10 з 18', 'поверх 3 з 25', '2 поверх', '14 поверх',\n",
       "       '6 поверх', '7 поверх', 'поверх 13 з 23', 'поверх 11 з 28',\n",
       "       'поверх 6 з 21', 'поверх 19 з 21', 'поверх 7 з 32',\n",
       "       'поверх 7 з 22', 'поверх 9 з 20', 'поверх 20 з 23',\n",
       "       'поверх 19 з 23', 'поверх 7 з 7', 'поверх 25 з 26',\n",
       "       'поверх 14 з 28', 'поверх 13 з 34', 'поверх 9 з 29',\n",
       "       'поверх 24 з 26', 'поверх 10 з 17', 'поверх 12 з 22',\n",
       "       'поверх 19 з 28', 'поверх 7 з 30', 'поверх 7 з 18',\n",
       "       'поверх 11 з 31', 'поверх 10 з 19', 'поверх 4 з 17',\n",
       "       'поверх 16 з 22', 'поверх 8 з 12', 'поверх 3 з 3',\n",
       "       'поверх 14 з 26', 'поверх 17 з 19', 'поверх 20 з 24',\n",
       "       'поверх 15 з 18', 'поверх 5 з 15', 'поверх 16 з 27',\n",
       "       'поверх 11 з 11', 'поверх 5 з 21', 'поверх 10 з 23',\n",
       "       'поверх 3 з 8', 'поверх 12 з 30', 'поверх 25 з 27',\n",
       "       'поверх 2 з 22', 'поверх 5 з 14', 'поверх 11 з 21',\n",
       "       'поверх 30 з 36', 'поверх 25 з 34', '5 поверх', '9 поверх',\n",
       "       '35 поверх', '15 поверх', '25 поверх', '4 поверх', '11 поверх',\n",
       "       '23 поверх', 'поверх 19 з 32', 'поверх 22 з 34', 'поверх 30 з 30',\n",
       "       'поверх 10 з 20', 'поверх 29 з 30', 'поверх 6 з 11',\n",
       "       'поверх 30 з 34', 'поверх 23 з 27', 'поверх 14 з 14',\n",
       "       'поверх 10 з 21', 'поверх 22 з 32', 'поверх 15 з 22',\n",
       "       'поверх 16 з 19', 'поверх 13 з 20', 'поверх 14 з 22',\n",
       "       'поверх 20 з 22', 'поверх 6 з 20', 'поверх 9 з 13',\n",
       "       'поверх 12 з 29', 'поверх 4 з 21', 'поверх 12 з 20',\n",
       "       'поверх 12 з 27', 'поверх 3 з 26', 'поверх 1 з 14',\n",
       "       'поверх 11 з 16', 'поверх 33 з 34', 'поверх 11 з 32',\n",
       "       'поверх 23 з 26', 'поверх 7 з 21', 'поверх 14 з 32',\n",
       "       'поверх 16 з 29', 'поверх 8 з 23', 'поверх 13 з 30',\n",
       "       'поверх 8 з 15', 'поверх 26 з 29', 'поверх 7 з 27',\n",
       "       'поверх 26 з 30', 'поверх 9 з 30', 'поверх 2 з 18',\n",
       "       'поверх 13 з 31', 'поверх 13 з 26', 'поверх 6 з 15',\n",
       "       'поверх 27 з 27', 'поверх 8 з 11', 'поверх 16 з 36',\n",
       "       'поверх 15 з 30', 'поверх 5 з 20', 'поверх 11 з 22',\n",
       "       'поверх 6 з 17', 'поверх 8 з 14', 'поверх 6 з 19', 'поверх 4 з 7',\n",
       "       'поверх 9 з 17', 'поверх 11 з 26', 'поверх 6 з 10',\n",
       "       'поверх 7 з 13', 'поверх 1 з 1', 'поверх 19 з 34',\n",
       "       'поверх 17 з 18', 'поверх 4 з 18', 'поверх 4 з 22',\n",
       "       'поверх 10 з 12', 'поверх 5 з 13', 'поверх 10 з 13',\n",
       "       'поверх 8 з 33', 'поверх 10 з 30', 'поверх 24 з 31',\n",
       "       'поверх 11 з 13', 'поверх 32 з 36', 'поверх 16 з 17',\n",
       "       'поверх 9 з 11', 'поверх 5 з 33', 'поверх 14 з 30',\n",
       "       'поверх 18 з 19', 'поверх 2 з 26', 'поверх 13 з 14',\n",
       "       'поверх 4 з 36', 'поверх 13 з 22', 'поверх 14 з 24',\n",
       "       'поверх 3 з 6', 'поверх 11 з 12', 'поверх 5 з 23',\n",
       "       'поверх 26 з 28', 'поверх 8 з 20', 'поверх 7 з 15',\n",
       "       'поверх 13 з 19', 'поверх 3 з 11', 'поверх 21 з 22',\n",
       "       'поверх 15 з 17', 'поверх 5 з 11', 'поверх 5 з 12',\n",
       "       'поверх 8 з 22', 'поверх 6 з 22', 'поверх 6 з 13',\n",
       "       'поверх 11 з 36', 'поверх 2 з 25', 'поверх 30 з 31',\n",
       "       'поверх 15 з 29', 'поверх 24 з 30', 'поверх 4 з 26',\n",
       "       'поверх 5 з 19', 'поверх 27 з 30', 'поверх 3 з 30',\n",
       "       'поверх 14 з 31', 'поверх 1 з 18', 'поверх 11 з 30',\n",
       "       'поверх 22 з 22', 'поверх 15 з 15', 'поверх 14 з 23',\n",
       "       'поверх 7 з 14', 'поверх 4 з 8', 'поверх 12 з 34',\n",
       "       'поверх 33 з 35', 'поверх 26 з 27', 'поверх 4 з 11',\n",
       "       'поверх 15 з 26', 'поверх 3 з 21', 'поверх 1 з 2',\n",
       "       'поверх 23 з 30', 'поверх 27 з 32', 'поверх 2 з 24',\n",
       "       'поверх 22 з 26', 'поверх 7 з 34', 'поверх 14 з 15',\n",
       "       'поверх 24 з 32', 'поверх 18 з 28', 'поверх 7 з 8',\n",
       "       'поверх 9 з 21', 'поверх 17 з 30', 'поверх 33 з 45',\n",
       "       'поверх 11 з 15', 'поверх 24 з 27', 'поверх 8 з 35',\n",
       "       'поверх 2 з 13', 'поверх 2 з 20', 'поверх 19 з 19',\n",
       "       'поверх 13 з 17', 'поверх 10 з 37', 'поверх 16 з 26',\n",
       "       'поверх 18 з 22', '17-поверховий будинок', 'поверх 4 з 33',\n",
       "       'поверх 5 з 27', 'поверх 1 з 7', 'поверх 22 з 33', 'поверх 12 з 1',\n",
       "       'поверх 30 з 33', 'поверх 3 з 13', 'поверх 8 з 34',\n",
       "       'поверх 17 з 27', '10 поверх', 'поверх 22 з 30', 'поверх 7 з 28',\n",
       "       'поверх 17 з 31', 'поверх 9 з 19', 'поверх 17 з 32',\n",
       "       'поверх 19 з 20', 'поверх 10 з 33', 'поверх 34 з 34',\n",
       "       'поверх 19 з 29', 'поверх 15 з 19', 'поверх 18 з 32',\n",
       "       'поверх 5 з 31', 'поверх 19 з 26', 'поверх 7 з 20',\n",
       "       'поверх 21 з 31', 'поверх 10 з 31', 'поверх 23 з 23',\n",
       "       'поверх 28 з 32', 'поверх 18 з 27', 'поверх 1 з 12',\n",
       "       'поверх 2 з 15', 'поверх 16 з 20', 'поверх 17 з 33',\n",
       "       'поверх 7 з 11', 'поверх 13 з 28', 'поверх 25 з 30',\n",
       "       'поверх 11 з 20', 'поверх 21 з 45', 'поверх 4 з 13',\n",
       "       'поверх 1 з 25', 'поверх 10 з 28', 'поверх 19 з 36',\n",
       "       'поверх 29 з 31', 'поверх 17 з 21', 'поверх 19 з 22',\n",
       "       'поверх 27 з 35', 'поверх 18 з 30', 'поверх 4 з 14',\n",
       "       'поверх 8 з 13', 'поверх 1 з 16', 'поверх 1 з 23', 'поверх 1 з 3',\n",
       "       'поверх 13 з 18', 'поверх 4 з 20', 'поверх 13 з 13', '20 поверх',\n",
       "       '17 поверх', '8 поверх', '1 поверх', 'поверх 19 з 27',\n",
       "       'поверх 17 з 20', 'поверх 22 з 27', 'поверх 27 з 31',\n",
       "       'поверх 14 з 17', 'поверх 16 з 30', 'поверх 5 з 35',\n",
       "       'поверх 2 з 14', 'поверх 9 з 26', 'поверх 2 з 21', 'поверх 8 з 27',\n",
       "       'поверх 9 з 2', 'поверх 30 з 47', 'поверх 25 з 20',\n",
       "       'поверх 1 з 20', 'поверх 26 з 32', 'поверх 8 з 18',\n",
       "       'поверх 4 з 19', 'поверх 7 з 5', 'поверх 33 з 46', 'поверх 7 з 26',\n",
       "       'поверх 16 з 28', 'поверх 31 з 32', 'поверх 1 з 8',\n",
       "       'поверх 18 з 21', 'поверх 14 з 29', 'поверх 10 з 27',\n",
       "       'поверх 17 з 28', 'поверх 22 з 35', 'поверх 20 з 21',\n",
       "       'поверх 3 з 27', 'поверх 25 з 32', 'поверх 16 з 32',\n",
       "       'поверх 4 з 27', 'поверх 8 з 47', 'поверх 8 з 30', 'поверх 7 з 36',\n",
       "       'поверх 6 з 34', 'поверх 9 з 27', '13 поверх', '29 поверх',\n",
       "       'поверх 8 з 32', 'поверх 23 з 36', 'поверх 18 з 34',\n",
       "       'поверх 1 з 26', 'поверх 11 з 17', 'поверх 14 з 36',\n",
       "       'поверх 8 з 19', 'поверх 1 з 24', 'поверх 21 з 27',\n",
       "       'поверх 3 з 28', 'поверх 7 з 19', 'поверх 25 з 31',\n",
       "       'поверх 10 з 32', '19 поверх', 'поверх 20 з 37', 'поверх 53 з 5',\n",
       "       'поверх 15 з 28', 'поверх 28 з 34', 'поверх 11 з 47',\n",
       "       'поверх 39 з 46', 'поверх 12 з 11', 'поверх 35 з 48',\n",
       "       'поверх 20 з 28', '12 поверх', 'поверх 7 з 29', 'поверх 17 з 29',\n",
       "       'поверх 14 з 27', 'поверх 10 з 1', 'поверх 25 з 28',\n",
       "       'поверх 12 з 28', 'поверх 21 з 32', 'поверх 13 з 27',\n",
       "       'поверх 13 з 32', 'поверх 28 з 31', '16 поверх', 'поверх 6 з 36',\n",
       "       'поверх 6 з 33', 'поверх 18 з 31', 'поверх 25 з 29',\n",
       "       'поверх 8 з 36', 'поверх 15 з 27', 'поверх 4 з 30',\n",
       "       'поверх 30 з 35', 'поверх 15 з 12', 'поверх 35 з 41',\n",
       "       'поверх 22 з 29', '24 поверх', 'поверх 1 з 15', 'поверх 3 з 34',\n",
       "       'поверх 20 з 34', 'поверх 9 з 28', 'поверх 16 з 33',\n",
       "       'поверх 29 з 34', 'поверх 28 з 35', 'поверх 23 з 34',\n",
       "       'поверх 9 з 3', 'поверх 15 з 36', 'поверх 15 з 32',\n",
       "       'поверх 4 з 31', 'поверх 1 з 33', 'поверх 34 з 36',\n",
       "       'поверх 9 з 33', 'поверх 8 з 29', 'поверх 31 з 34',\n",
       "       'поверх 14 з 21', 'поверх 24 з 36'], dtype=object)"
      ]
     },
     "execution_count": 35,
     "metadata": {},
     "output_type": "execute_result"
    }
   ],
   "source": [
    "df.floor.unique()"
   ]
  },
  {
   "cell_type": "code",
   "execution_count": 269,
   "id": "afd2248c-e14d-4314-8727-9c2579013c10",
   "metadata": {
    "tags": []
   },
   "outputs": [],
   "source": [
    "df['floor'].replace('поверх', '', regex=True, inplace=True)\n",
    "\n",
    "str_split = df.floor.str.split(' з ')\n",
    "\n",
    "df['floor'] = pd.to_numeric(str_split.str.get(0), errors='coerce', downcast='integer') \n",
    "df['floor_total'] =  pd.to_numeric(str_split.str.get(1), errors='coerce', downcast='integer')"
   ]
  },
  {
   "cell_type": "code",
   "execution_count": 270,
   "id": "a81e08e7-48b1-4305-bffe-692ae9d3695b",
   "metadata": {
    "tags": []
   },
   "outputs": [
    {
     "data": {
      "text/html": [
       "<div>\n",
       "<style scoped>\n",
       "    .dataframe tbody tr th:only-of-type {\n",
       "        vertical-align: middle;\n",
       "    }\n",
       "\n",
       "    .dataframe tbody tr th {\n",
       "        vertical-align: top;\n",
       "    }\n",
       "\n",
       "    .dataframe thead th {\n",
       "        text-align: right;\n",
       "    }\n",
       "</style>\n",
       "<table border=\"1\" class=\"dataframe\">\n",
       "  <thead>\n",
       "    <tr style=\"text-align: right;\">\n",
       "      <th></th>\n",
       "      <th>price</th>\n",
       "      <th>dist1</th>\n",
       "      <th>dist2</th>\n",
       "      <th>dist3</th>\n",
       "      <th>rooms</th>\n",
       "      <th>square</th>\n",
       "      <th>floor</th>\n",
       "      <th>type1</th>\n",
       "      <th>type2</th>\n",
       "      <th>type3</th>\n",
       "      <th>metro</th>\n",
       "      <th>total_area</th>\n",
       "      <th>living_area</th>\n",
       "      <th>kitchen_area</th>\n",
       "      <th>floor_total</th>\n",
       "    </tr>\n",
       "  </thead>\n",
       "  <tbody>\n",
       "    <tr>\n",
       "      <th>0</th>\n",
       "      <td>26000</td>\n",
       "      <td>ЖК Місце мрії</td>\n",
       "      <td>Шулявка</td>\n",
       "      <td>Солом'янський</td>\n",
       "      <td>2</td>\n",
       "      <td>60 / 35 / 15</td>\n",
       "      <td>14.0</td>\n",
       "      <td>спец. проект</td>\n",
       "      <td>монолітно-каркасний</td>\n",
       "      <td>2009.0</td>\n",
       "      <td>1</td>\n",
       "      <td>60.0</td>\n",
       "      <td>35.0</td>\n",
       "      <td>15.0</td>\n",
       "      <td>25.0</td>\n",
       "    </tr>\n",
       "    <tr>\n",
       "      <th>1</th>\n",
       "      <td>95750</td>\n",
       "      <td>ЖК Central Park</td>\n",
       "      <td>Нова забудова</td>\n",
       "      <td>Печерський</td>\n",
       "      <td>3</td>\n",
       "      <td>131 / 80 / 15</td>\n",
       "      <td>10.0</td>\n",
       "      <td>NaN</td>\n",
       "      <td>NaN</td>\n",
       "      <td>NaN</td>\n",
       "      <td>1</td>\n",
       "      <td>131.0</td>\n",
       "      <td>80.0</td>\n",
       "      <td>15.0</td>\n",
       "      <td>25.0</td>\n",
       "    </tr>\n",
       "    <tr>\n",
       "      <th>2</th>\n",
       "      <td>57450</td>\n",
       "      <td>ЖК Новопечерські Липки</td>\n",
       "      <td>Чорна Гора</td>\n",
       "      <td>Печерський</td>\n",
       "      <td>2</td>\n",
       "      <td>87 / 41 / 17</td>\n",
       "      <td>2.0</td>\n",
       "      <td>спец. проект</td>\n",
       "      <td>монолітно-каркасний</td>\n",
       "      <td>2013.0</td>\n",
       "      <td>1</td>\n",
       "      <td>87.0</td>\n",
       "      <td>41.0</td>\n",
       "      <td>17.0</td>\n",
       "      <td>23.0</td>\n",
       "    </tr>\n",
       "    <tr>\n",
       "      <th>3</th>\n",
       "      <td>8000</td>\n",
       "      <td>Харьківський</td>\n",
       "      <td>NaN</td>\n",
       "      <td>Дарницький</td>\n",
       "      <td>1</td>\n",
       "      <td>40 / 18 / 9</td>\n",
       "      <td>3.0</td>\n",
       "      <td>серія Т</td>\n",
       "      <td>утеплена панель</td>\n",
       "      <td>1983.0</td>\n",
       "      <td>1</td>\n",
       "      <td>40.0</td>\n",
       "      <td>18.0</td>\n",
       "      <td>9.0</td>\n",
       "      <td>16.0</td>\n",
       "    </tr>\n",
       "    <tr>\n",
       "      <th>4</th>\n",
       "      <td>15000</td>\n",
       "      <td>ЖМ Патріотика</td>\n",
       "      <td>Осокорки</td>\n",
       "      <td>Дарницький</td>\n",
       "      <td>1</td>\n",
       "      <td>38 / 12 / 16</td>\n",
       "      <td>15.0</td>\n",
       "      <td>спец. проект</td>\n",
       "      <td>панельні</td>\n",
       "      <td>2018.0</td>\n",
       "      <td>1</td>\n",
       "      <td>38.0</td>\n",
       "      <td>12.0</td>\n",
       "      <td>16.0</td>\n",
       "      <td>25.0</td>\n",
       "    </tr>\n",
       "  </tbody>\n",
       "</table>\n",
       "</div>"
      ],
      "text/plain": [
       "   price                   dist1          dist2          dist3  rooms  \\\n",
       "0  26000           ЖК Місце мрії        Шулявка  Солом'янський      2   \n",
       "1  95750         ЖК Central Park  Нова забудова     Печерський      3   \n",
       "2  57450  ЖК Новопечерські Липки     Чорна Гора     Печерський      2   \n",
       "3   8000            Харьківський            NaN     Дарницький      1   \n",
       "4  15000           ЖМ Патріотика       Осокорки     Дарницький      1   \n",
       "\n",
       "           square  floor         type1                type2   type3  metro  \\\n",
       "0   60 / 35 / 15    14.0  спец. проект  монолітно-каркасний  2009.0      1   \n",
       "1  131 / 80 / 15    10.0           NaN                  NaN     NaN      1   \n",
       "2   87 / 41 / 17     2.0  спец. проект  монолітно-каркасний  2013.0      1   \n",
       "3    40 / 18 / 9     3.0       серія Т      утеплена панель  1983.0      1   \n",
       "4   38 / 12 / 16    15.0  спец. проект             панельні  2018.0      1   \n",
       "\n",
       "   total_area  living_area  kitchen_area  floor_total  \n",
       "0        60.0         35.0          15.0         25.0  \n",
       "1       131.0         80.0          15.0         25.0  \n",
       "2        87.0         41.0          17.0         23.0  \n",
       "3        40.0         18.0           9.0         16.0  \n",
       "4        38.0         12.0          16.0         25.0  "
      ]
     },
     "execution_count": 270,
     "metadata": {},
     "output_type": "execute_result"
    }
   ],
   "source": [
    "df.head()"
   ]
  },
  {
   "cell_type": "code",
   "execution_count": 271,
   "id": "a519d7c1-64e8-470e-bdfa-8255bfacce55",
   "metadata": {
    "tags": []
   },
   "outputs": [
    {
     "data": {
      "text/html": [
       "<div>\n",
       "<style scoped>\n",
       "    .dataframe tbody tr th:only-of-type {\n",
       "        vertical-align: middle;\n",
       "    }\n",
       "\n",
       "    .dataframe tbody tr th {\n",
       "        vertical-align: top;\n",
       "    }\n",
       "\n",
       "    .dataframe thead th {\n",
       "        text-align: right;\n",
       "    }\n",
       "</style>\n",
       "<table border=\"1\" class=\"dataframe\">\n",
       "  <thead>\n",
       "    <tr style=\"text-align: right;\">\n",
       "      <th></th>\n",
       "      <th>price</th>\n",
       "      <th>rooms</th>\n",
       "      <th>floor</th>\n",
       "      <th>metro</th>\n",
       "      <th>total_area</th>\n",
       "      <th>living_area</th>\n",
       "      <th>kitchen_area</th>\n",
       "      <th>floor_total</th>\n",
       "    </tr>\n",
       "  </thead>\n",
       "  <tbody>\n",
       "    <tr>\n",
       "      <th>count</th>\n",
       "      <td>8.759000e+03</td>\n",
       "      <td>8759.000000</td>\n",
       "      <td>8757.000000</td>\n",
       "      <td>8759.000000</td>\n",
       "      <td>8759.000000</td>\n",
       "      <td>5844.000000</td>\n",
       "      <td>8609.000000</td>\n",
       "      <td>8662.000000</td>\n",
       "    </tr>\n",
       "    <tr>\n",
       "      <th>mean</th>\n",
       "      <td>4.105349e+04</td>\n",
       "      <td>2.230506</td>\n",
       "      <td>9.160557</td>\n",
       "      <td>0.519352</td>\n",
       "      <td>82.269391</td>\n",
       "      <td>45.086995</td>\n",
       "      <td>16.375004</td>\n",
       "      <td>16.377626</td>\n",
       "    </tr>\n",
       "    <tr>\n",
       "      <th>std</th>\n",
       "      <td>1.403210e+05</td>\n",
       "      <td>1.057580</td>\n",
       "      <td>6.528798</td>\n",
       "      <td>0.499654</td>\n",
       "      <td>60.456657</td>\n",
       "      <td>34.912147</td>\n",
       "      <td>10.905930</td>\n",
       "      <td>8.300650</td>\n",
       "    </tr>\n",
       "    <tr>\n",
       "      <th>min</th>\n",
       "      <td>1.500000e+03</td>\n",
       "      <td>1.000000</td>\n",
       "      <td>1.000000</td>\n",
       "      <td>0.000000</td>\n",
       "      <td>9.000000</td>\n",
       "      <td>1.000000</td>\n",
       "      <td>1.000000</td>\n",
       "      <td>1.000000</td>\n",
       "    </tr>\n",
       "    <tr>\n",
       "      <th>25%</th>\n",
       "      <td>1.398250e+04</td>\n",
       "      <td>1.000000</td>\n",
       "      <td>4.000000</td>\n",
       "      <td>0.000000</td>\n",
       "      <td>46.000000</td>\n",
       "      <td>21.000000</td>\n",
       "      <td>9.000000</td>\n",
       "      <td>9.000000</td>\n",
       "    </tr>\n",
       "    <tr>\n",
       "      <th>50%</th>\n",
       "      <td>2.489500e+04</td>\n",
       "      <td>2.000000</td>\n",
       "      <td>7.000000</td>\n",
       "      <td>1.000000</td>\n",
       "      <td>65.000000</td>\n",
       "      <td>35.000000</td>\n",
       "      <td>14.400000</td>\n",
       "      <td>16.000000</td>\n",
       "    </tr>\n",
       "    <tr>\n",
       "      <th>75%</th>\n",
       "      <td>4.596000e+04</td>\n",
       "      <td>3.000000</td>\n",
       "      <td>13.000000</td>\n",
       "      <td>1.000000</td>\n",
       "      <td>100.000000</td>\n",
       "      <td>57.000000</td>\n",
       "      <td>20.000000</td>\n",
       "      <td>24.000000</td>\n",
       "    </tr>\n",
       "    <tr>\n",
       "      <th>max</th>\n",
       "      <td>1.129850e+07</td>\n",
       "      <td>6.000000</td>\n",
       "      <td>53.000000</td>\n",
       "      <td>1.000000</td>\n",
       "      <td>1800.000000</td>\n",
       "      <td>706.000000</td>\n",
       "      <td>210.000000</td>\n",
       "      <td>48.000000</td>\n",
       "    </tr>\n",
       "  </tbody>\n",
       "</table>\n",
       "</div>"
      ],
      "text/plain": [
       "              price        rooms        floor        metro   total_area  \\\n",
       "count  8.759000e+03  8759.000000  8757.000000  8759.000000  8759.000000   \n",
       "mean   4.105349e+04     2.230506     9.160557     0.519352    82.269391   \n",
       "std    1.403210e+05     1.057580     6.528798     0.499654    60.456657   \n",
       "min    1.500000e+03     1.000000     1.000000     0.000000     9.000000   \n",
       "25%    1.398250e+04     1.000000     4.000000     0.000000    46.000000   \n",
       "50%    2.489500e+04     2.000000     7.000000     1.000000    65.000000   \n",
       "75%    4.596000e+04     3.000000    13.000000     1.000000   100.000000   \n",
       "max    1.129850e+07     6.000000    53.000000     1.000000  1800.000000   \n",
       "\n",
       "       living_area  kitchen_area  floor_total  \n",
       "count  5844.000000   8609.000000  8662.000000  \n",
       "mean     45.086995     16.375004    16.377626  \n",
       "std      34.912147     10.905930     8.300650  \n",
       "min       1.000000      1.000000     1.000000  \n",
       "25%      21.000000      9.000000     9.000000  \n",
       "50%      35.000000     14.400000    16.000000  \n",
       "75%      57.000000     20.000000    24.000000  \n",
       "max     706.000000    210.000000    48.000000  "
      ]
     },
     "execution_count": 271,
     "metadata": {},
     "output_type": "execute_result"
    }
   ],
   "source": [
    "df.describe()"
   ]
  },
  {
   "cell_type": "code",
   "execution_count": 272,
   "id": "4def14d0-72fa-4b64-abd4-9d6bcecc42e8",
   "metadata": {
    "tags": []
   },
   "outputs": [
    {
     "data": {
      "text/plain": [
       "<Axes: title={'center': 'price'}>"
      ]
     },
     "execution_count": 272,
     "metadata": {},
     "output_type": "execute_result"
    },
    {
     "data": {
      "image/png": "[encoded data removed]",
      "text/plain": [
       "<Figure size 640x480 with 1 Axes>"
      ]
     },
     "metadata": {},
     "output_type": "display_data"
    }
   ],
   "source": [
    "plt.title('price')\n",
    "df['price'].hist(bins=10)"
   ]
  },
  {
   "cell_type": "code",
   "execution_count": 273,
   "id": "d8af5e8a-862c-4cb9-933c-6f28edc30229",
   "metadata": {
    "tags": []
   },
   "outputs": [
    {
     "data": {
      "text/plain": [
       "<Axes: >"
      ]
     },
     "execution_count": 273,
     "metadata": {},
     "output_type": "execute_result"
    },
    {
     "data": {
      "image/png": "[encoded data removed]",
      "text/plain": [
       "<Figure size 640x480 with 1 Axes>"
      ]
     },
     "metadata": {},
     "output_type": "display_data"
    }
   ],
   "source": [
    "sns.boxplot(df.price)"
   ]
  },
  {
   "cell_type": "code",
   "execution_count": 274,
   "id": "a8182f54-d568-48f6-9c32-b8dc5729bf09",
   "metadata": {
    "tags": []
   },
   "outputs": [
    {
     "data": {
      "text/plain": [
       "<Axes: >"
      ]
     },
     "execution_count": 274,
     "metadata": {},
     "output_type": "execute_result"
    },
    {
     "data": {
      "image/png": "[encoded data removed]",
      "text/plain": [
       "<Figure size 640x480 with 1 Axes>"
      ]
     },
     "metadata": {},
     "output_type": "display_data"
    }
   ],
   "source": [
    "df = df[df.price< 400000]\n",
    "sns.boxplot(df.price)"
   ]
  },
  {
   "cell_type": "code",
   "execution_count": 275,
   "id": "3c0e408b-a4b1-4af3-a7c7-8f91988bdeab",
   "metadata": {
    "tags": []
   },
   "outputs": [
    {
     "data": {
      "text/plain": [
       "<Axes: title={'center': 'price'}>"
      ]
     },
     "execution_count": 275,
     "metadata": {},
     "output_type": "execute_result"
    },
    {
     "data": {
      "image/png": "[encoded data removed]",
      "text/plain": [
       "<Figure size 640x480 with 1 Axes>"
      ]
     },
     "metadata": {},
     "output_type": "display_data"
    }
   ],
   "source": [
    "plt.title('price')\n",
    "df['price'].hist(bins=10)"
   ]
  },
  {
   "cell_type": "code",
   "execution_count": 276,
   "id": "ec0f3860-db3a-49e3-90e2-abba82a0a0d8",
   "metadata": {
    "tags": []
   },
   "outputs": [
    {
     "data": {
      "text/plain": [
       "<Axes: >"
      ]
     },
     "execution_count": 276,
     "metadata": {},
     "output_type": "execute_result"
    },
    {
     "data": {
      "image/png": "[encoded data removed]",
      "text/plain": [
       "<Figure size 640x480 with 1 Axes>"
      ]
     },
     "metadata": {},
     "output_type": "display_data"
    }
   ],
   "source": [
    "sns.boxplot(df.total_area)"
   ]
  },
  {
   "cell_type": "code",
   "execution_count": 277,
   "id": "c3c24e7e-d240-45bb-8601-e77721272122",
   "metadata": {
    "tags": []
   },
   "outputs": [
    {
     "data": {
      "text/plain": [
       "<Axes: >"
      ]
     },
     "execution_count": 277,
     "metadata": {},
     "output_type": "execute_result"
    },
    {
     "data": {
      "image/png": "[encoded data removed]",
      "text/plain": [
       "<Figure size 640x480 with 1 Axes>"
      ]
     },
     "metadata": {},
     "output_type": "display_data"
    }
   ],
   "source": [
    "df = df[df.total_area <500]\n",
    "sns.boxplot(df.total_area)"
   ]
  },
  {
   "cell_type": "code",
   "execution_count": 278,
   "id": "2c7d723c-35c3-4948-909d-516260859c49",
   "metadata": {
    "tags": []
   },
   "outputs": [],
   "source": [
    "df.type3 = pd.to_numeric(df.type3, errors='coerce', downcast='integer') "
   ]
  },
  {
   "cell_type": "code",
   "execution_count": 279,
   "id": "12a4502d-95f6-432d-b577-0a070cc8099d",
   "metadata": {
    "tags": []
   },
   "outputs": [
    {
     "name": "stdout",
     "output_type": "stream",
     "text": [
      "<class 'pandas.core.frame.DataFrame'>\n",
      "Index: 8736 entries, 0 to 8758\n",
      "Data columns (total 15 columns):\n",
      " #   Column        Non-Null Count  Dtype  \n",
      "---  ------        --------------  -----  \n",
      " 0   price         8736 non-null   int32  \n",
      " 1   dist1         8292 non-null   object \n",
      " 2   dist2         4583 non-null   object \n",
      " 3   dist3         8574 non-null   object \n",
      " 4   rooms         8736 non-null   int32  \n",
      " 5   square        8736 non-null   object \n",
      " 6   floor         8734 non-null   float64\n",
      " 7   type1         7294 non-null   object \n",
      " 8   type2         6476 non-null   object \n",
      " 9   type3         6739 non-null   float64\n",
      " 10  metro         8736 non-null   int64  \n",
      " 11  total_area    8736 non-null   float64\n",
      " 12  living_area   5832 non-null   float64\n",
      " 13  kitchen_area  8586 non-null   float64\n",
      " 14  floor_total   8639 non-null   float64\n",
      "dtypes: float64(6), int32(2), int64(1), object(6)\n",
      "memory usage: 1.3+ MB\n"
     ]
    }
   ],
   "source": [
    "df.info()"
   ]
  },
  {
   "cell_type": "code",
   "execution_count": 280,
   "id": "35a2646a-0407-4e86-a0f3-5925111e3a03",
   "metadata": {
    "tags": []
   },
   "outputs": [],
   "source": [
    "df.dropna(subset = ['dist3', 'floor'], inplace=True, ignore_index=True)"
   ]
  },
  {
   "cell_type": "code",
   "execution_count": 281,
   "id": "9f4ce7cf-bae5-4e99-81aa-2e43d16468c2",
   "metadata": {
    "tags": []
   },
   "outputs": [
    {
     "name": "stdout",
     "output_type": "stream",
     "text": [
      "dist3\n",
      "Печерський        2267\n",
      "Шевченківський    1276\n",
      "Голосіївський     1138\n",
      "Дарницький         920\n",
      "Дніпровський       693\n",
      "Солом'янський      634\n",
      "Оболонський        502\n",
      "Подільський        435\n",
      "Святошинський      396\n",
      "Деснянський        311\n",
      "Name: count, dtype: int64 \n",
      "\n",
      "metro\n",
      "1    4445\n",
      "0    4127\n",
      "Name: count, dtype: int64 \n",
      "\n"
     ]
    }
   ],
   "source": [
    "categorical = ['dist3', 'metro']\n",
    "numerical = ['rooms', 'floor', 'total_area', 'living_area', 'kitchen_area', 'floor_total', 'type3']\n",
    "for val in categorical:\n",
    "    print(df[val].value_counts(), '\\n')"
   ]
  },
  {
   "cell_type": "code",
   "execution_count": 183,
   "id": "b39e9f12-d1b9-4ef0-8f5f-da9fe9c4d36d",
   "metadata": {},
   "outputs": [],
   "source": [
    "metro = ['Академмістечко', 'Арсенальна', 'Берестейська', 'Бориспільська','Васильківська','Видубичі','Вирлиця', 'Виставковий центр', \n",
    "         'Вокзальна', 'Героїв Дніпра', 'Голосіївська','Гідропарк','Дарниця','Деміївська','Дніпро','Дорогожичі','Житомирська',\n",
    "         'Звіринецька (Дружби народів)','Золоті ворота','Кловська','Контрактова площа','Либідська',\"Лук'янівська\",'Лівобережна',\n",
    "         'Лісова','Майдан Незалежності','Мінська','Нивки','Оболонь','Олімпійська','Осокорки','Палац спорту','Палац Україна',\n",
    "         'Печерська','Площа Українських Героїв (Площа Льва Толстого)','Позняки','Політехнічний інститут','Поштова площа','Святошин',\n",
    "         'Сирець','Славутич','Тараса Шевченка','Театральна','Теремки','Університет','Харківська','Хрещатик',\n",
    "         'Чернігівська','Шулявська','Іподром']"
   ]
  },
  {
   "cell_type": "code",
   "execution_count": null,
   "id": "c836af4e-bdec-4e0d-b8a6-048ba198d30e",
   "metadata": {},
   "outputs": [],
   "source": [
    "## Train test split"
   ]
  },
  {
   "cell_type": "code",
   "execution_count": 282,
   "id": "61761c2d-d5f6-4542-b3af-a05fb1b8ce06",
   "metadata": {
    "tags": []
   },
   "outputs": [
    {
     "name": "stdout",
     "output_type": "stream",
     "text": [
      "<class 'pandas.core.frame.DataFrame'>\n",
      "RangeIndex: 8572 entries, 0 to 8571\n",
      "Data columns (total 15 columns):\n",
      " #   Column        Non-Null Count  Dtype  \n",
      "---  ------        --------------  -----  \n",
      " 0   price         8572 non-null   int32  \n",
      " 1   dist1         8128 non-null   object \n",
      " 2   dist2         4460 non-null   object \n",
      " 3   dist3         8572 non-null   object \n",
      " 4   rooms         8572 non-null   int32  \n",
      " 5   square        8572 non-null   object \n",
      " 6   floor         8572 non-null   float64\n",
      " 7   type1         7271 non-null   object \n",
      " 8   type2         6455 non-null   object \n",
      " 9   type3         6665 non-null   float64\n",
      " 10  metro         8572 non-null   int64  \n",
      " 11  total_area    8572 non-null   float64\n",
      " 12  living_area   5711 non-null   float64\n",
      " 13  kitchen_area  8423 non-null   float64\n",
      " 14  floor_total   8477 non-null   float64\n",
      "dtypes: float64(6), int32(2), int64(1), object(6)\n",
      "memory usage: 937.7+ KB\n"
     ]
    }
   ],
   "source": [
    "df.info()"
   ]
  },
  {
   "cell_type": "code",
   "execution_count": 283,
   "id": "6f052a5a-91b6-498f-b06d-6535c03572c7",
   "metadata": {
    "tags": []
   },
   "outputs": [],
   "source": [
    "df.drop('living_area', axis = 1, inplace = True)\n",
    "df.type3 = df.type3.fillna(df.type3.median())\n",
    "df.kitchen_area = df.kitchen_area.fillna(df.kitchen_area.median())\n",
    "df.floor_total = df.floor_total.fillna(df.floor_total.median())"
   ]
  },
  {
   "cell_type": "code",
   "execution_count": 284,
   "id": "dbcccee3-0167-460f-a35f-02ea686e0bc8",
   "metadata": {
    "tags": []
   },
   "outputs": [],
   "source": [
    " del numerical[3]"
   ]
  },
  {
   "cell_type": "code",
   "execution_count": 285,
   "id": "4c7181f6-573b-4d63-ad1c-57692e605519",
   "metadata": {
    "tags": []
   },
   "outputs": [],
   "source": [
    "from sklearn.model_selection import train_test_split\n",
    "df_train_full, df_test = train_test_split(df, test_size=0.2, random_state=4)\n",
    "df_train, df_val = train_test_split(df_train_full, test_size=0.25, random_state=4)"
   ]
  },
  {
   "cell_type": "markdown",
   "id": "4c388452-747e-4e61-8705-f14d8742cd0f",
   "metadata": {},
   "source": [
    "## EDA"
   ]
  },
  {
   "cell_type": "code",
   "execution_count": 54,
   "id": "76640061-91e1-468d-8400-8813e86ee241",
   "metadata": {},
   "outputs": [],
   "source": [
    "### Target feature"
   ]
  },
  {
   "cell_type": "code",
   "execution_count": 286,
   "id": "43c5e575-db95-48a5-9858-ddf9a0515306",
   "metadata": {
    "tags": []
   },
   "outputs": [
    {
     "data": {
      "text/plain": [
       "<Axes: title={'center': 'price'}>"
      ]
     },
     "execution_count": 286,
     "metadata": {},
     "output_type": "execute_result"
    },
    {
     "data": {
      "image/png": "[encoded data removed]",
      "text/plain": [
       "<Figure size 640x480 with 1 Axes>"
      ]
     },
     "metadata": {},
     "output_type": "display_data"
    }
   ],
   "source": [
    "plt.title('price')\n",
    "df_train_full['price'].hist(bins=10)"
   ]
  },
  {
   "cell_type": "code",
   "execution_count": null,
   "id": "719cdb53-74df-4825-8ace-78d5c28111d5",
   "metadata": {},
   "outputs": [],
   "source": [
    "### Categorical features"
   ]
  },
  {
   "cell_type": "code",
   "execution_count": 142,
   "id": "b6ef1dfa-42d5-4658-9dd7-0a2e789d94e2",
   "metadata": {
    "tags": []
   },
   "outputs": [
    {
     "data": {
      "image/png": "[encoded data removed]",
      "text/plain": [
       "<Figure size 1100x500 with 2 Axes>"
      ]
     },
     "metadata": {},
     "output_type": "display_data"
    }
   ],
   "source": [
    "plt.figure(figsize=(11, 5))\n",
    "plt.subplots_adjust(left=0.1, bottom=0.1, right=0.9, top=0.9, wspace=0.4, hspace=0.4)\n",
    "for i in range(0, len(categorical)):\n",
    "    plt.subplot(1, 2, i+1)\n",
    "    df_train_full[categorical[i]].value_counts().plot.bar()\n",
    "    plt.grid(axis='y')"
   ]
  },
  {
   "cell_type": "code",
   "execution_count": 143,
   "id": "8f0950bc-c578-4b39-8e45-4e62b935ff12",
   "metadata": {
    "tags": []
   },
   "outputs": [
    {
     "data": {
      "image/png": "[encoded data removed]",
      "text/plain": [
       "<Figure size 1000x600 with 1 Axes>"
      ]
     },
     "metadata": {},
     "output_type": "display_data"
    }
   ],
   "source": [
    "plt.figure(figsize = (10, 6))\n",
    "g = sns.barplot(x='dist3', y='price', data=df)\n",
    "plt.grid(axis='y')\n",
    "#ticks = g.set_xticklabels(rotation=90)\n",
    "ticks = plt.xticks(rotation=30)"
   ]
  },
  {
   "cell_type": "code",
   "execution_count": 144,
   "id": "e732e576-cf43-4b10-a2e2-e3027610bbe4",
   "metadata": {
    "tags": []
   },
   "outputs": [
    {
     "data": {
      "image/png": "[encoded data removed]",
      "text/plain": [
       "<Figure size 2000x800 with 1 Axes>"
      ]
     },
     "metadata": {},
     "output_type": "display_data"
    }
   ],
   "source": [
    "plt.figure(figsize=(20, 8))\n",
    "plt.grid(axis='y')\n",
    "sns.barplot(x='metro', y= 'price', data=df)\n",
    "\n",
    "ticks = plt.xticks(rotation=90)"
   ]
  },
  {
   "cell_type": "code",
   "execution_count": 145,
   "id": "34d84225-9fc8-4989-ba1a-632ac4402fd5",
   "metadata": {
    "tags": []
   },
   "outputs": [
    {
     "data": {
      "text/plain": [
       "<Axes: xlabel='price', ylabel='total_area'>"
      ]
     },
     "execution_count": 145,
     "metadata": {},
     "output_type": "execute_result"
    },
    {
     "data": {
      "image/png": "[encoded data removed]",
      "text/plain": [
       "<Figure size 640x480 with 1 Axes>"
      ]
     },
     "metadata": {},
     "output_type": "display_data"
    }
   ],
   "source": [
    "sns.scatterplot(x=df_train_full.price, y =df_train_full.total_area)"
   ]
  },
  {
   "cell_type": "code",
   "execution_count": 146,
   "id": "0af41968-6be3-4262-8fca-710daa6b854f",
   "metadata": {
    "tags": []
   },
   "outputs": [
    {
     "data": {
      "image/png": "[encoded data removed]",
      "text/plain": [
       "<Figure size 1000x1000 with 6 Axes>"
      ]
     },
     "metadata": {},
     "output_type": "display_data"
    }
   ],
   "source": [
    "plt.figure(figsize=(10, 10))\n",
    "plt.subplots_adjust(left=0.1, bottom=0.1, right=0.9, top=0.9, wspace=0.4, hspace=0.4)\n",
    "for i in range(0, len(numerical)):\n",
    "    plt.subplot(3, 3, i+1)\n",
    "    plt.title(numerical[i])\n",
    "    df_train_full[numerical[i]].hist()\n",
    "    plt.grid(axis='x')"
   ]
  },
  {
   "cell_type": "code",
   "execution_count": 126,
   "id": "b08daeee-dae1-463f-8df8-24b128a57ed3",
   "metadata": {
    "tags": []
   },
   "outputs": [],
   "source": [
    "### Feature importance"
   ]
  },
  {
   "cell_type": "code",
   "execution_count": 170,
   "id": "ed52fd34-2bdf-4007-a1bb-2599497ce651",
   "metadata": {
    "tags": []
   },
   "outputs": [],
   "source": [
    "from sklearn.metrics import mutual_info_score\n",
    "def mutual_info(series):\n",
    "    return mutual_info_score(series, df_train_full.price)"
   ]
  },
  {
   "cell_type": "code",
   "execution_count": 287,
   "id": "16bd49b8-2d53-4abe-832f-20249ff940f9",
   "metadata": {
    "tags": []
   },
   "outputs": [
    {
     "data": {
      "text/plain": [
       "dist3    0.504749\n",
       "metro    0.153049\n",
       "dtype: float64"
      ]
     },
     "execution_count": 287,
     "metadata": {},
     "output_type": "execute_result"
    }
   ],
   "source": [
    "mi = df_train_full[categorical].apply(mutual_info)\n",
    "mi.sort_values(ascending=False)"
   ]
  },
  {
   "cell_type": "code",
   "execution_count": 63,
   "id": "94155772-5d14-43c0-a102-27e57d188998",
   "metadata": {
    "tags": []
   },
   "outputs": [],
   "source": [
    "#### Correlation"
   ]
  },
  {
   "cell_type": "code",
   "execution_count": 288,
   "id": "e1d96c17-79b6-4d69-a3e0-508ac2076304",
   "metadata": {
    "tags": []
   },
   "outputs": [
    {
     "data": {
      "text/plain": [
       "<Axes: >"
      ]
     },
     "execution_count": 288,
     "metadata": {},
     "output_type": "execute_result"
    },
    {
     "data": {
      "image/png": "[encoded data removed]",
      "text/plain": [
       "<Figure size 640x480 with 2 Axes>"
      ]
     },
     "metadata": {},
     "output_type": "display_data"
    }
   ],
   "source": [
    "corr_matrix = df_train_full.corr(numeric_only=True).round(2)\n",
    "sns.heatmap(corr_matrix, annot=True)"
   ]
  },
  {
   "cell_type": "code",
   "execution_count": null,
   "id": "6bc32a73-4858-44a7-81b5-4d01f32fa16b",
   "metadata": {},
   "outputs": [],
   "source": []
  },
  {
   "cell_type": "code",
   "execution_count": 173,
   "id": "950da452-633b-4adb-b387-73bf5b0f9b51",
   "metadata": {
    "tags": []
   },
   "outputs": [
    {
     "data": {
      "text/html": [
       "<div>\n",
       "<style scoped>\n",
       "    .dataframe tbody tr th:only-of-type {\n",
       "        vertical-align: middle;\n",
       "    }\n",
       "\n",
       "    .dataframe tbody tr th {\n",
       "        vertical-align: top;\n",
       "    }\n",
       "\n",
       "    .dataframe thead th {\n",
       "        text-align: right;\n",
       "    }\n",
       "</style>\n",
       "<table border=\"1\" class=\"dataframe\">\n",
       "  <thead>\n",
       "    <tr style=\"text-align: right;\">\n",
       "      <th></th>\n",
       "      <th>price</th>\n",
       "      <th>dist1</th>\n",
       "      <th>dist2</th>\n",
       "      <th>dist3</th>\n",
       "      <th>rooms</th>\n",
       "      <th>square</th>\n",
       "      <th>floor</th>\n",
       "      <th>type1</th>\n",
       "      <th>type2</th>\n",
       "      <th>type3</th>\n",
       "      <th>metro</th>\n",
       "      <th>total_area</th>\n",
       "      <th>kitchen_area</th>\n",
       "      <th>floor_total</th>\n",
       "    </tr>\n",
       "  </thead>\n",
       "  <tbody>\n",
       "    <tr>\n",
       "      <th>0</th>\n",
       "      <td>26000</td>\n",
       "      <td>ЖК Місце мрії</td>\n",
       "      <td>Шулявка</td>\n",
       "      <td>Солом'янський</td>\n",
       "      <td>2</td>\n",
       "      <td>60 / 35 / 15</td>\n",
       "      <td>14.0</td>\n",
       "      <td>спец. проект</td>\n",
       "      <td>монолітно-каркасний</td>\n",
       "      <td>2009</td>\n",
       "      <td>1</td>\n",
       "      <td>60.0</td>\n",
       "      <td>15.0</td>\n",
       "      <td>25.0</td>\n",
       "    </tr>\n",
       "    <tr>\n",
       "      <th>1</th>\n",
       "      <td>95750</td>\n",
       "      <td>ЖК Central Park</td>\n",
       "      <td>Нова забудова</td>\n",
       "      <td>Печерський</td>\n",
       "      <td>3</td>\n",
       "      <td>131 / 80 / 15</td>\n",
       "      <td>10.0</td>\n",
       "      <td>NaN</td>\n",
       "      <td>NaN</td>\n",
       "      <td>2007</td>\n",
       "      <td>1</td>\n",
       "      <td>131.0</td>\n",
       "      <td>15.0</td>\n",
       "      <td>25.0</td>\n",
       "    </tr>\n",
       "    <tr>\n",
       "      <th>2</th>\n",
       "      <td>57450</td>\n",
       "      <td>ЖК Новопечерські Липки</td>\n",
       "      <td>Чорна Гора</td>\n",
       "      <td>Печерський</td>\n",
       "      <td>2</td>\n",
       "      <td>87 / 41 / 17</td>\n",
       "      <td>2.0</td>\n",
       "      <td>спец. проект</td>\n",
       "      <td>монолітно-каркасний</td>\n",
       "      <td>2013</td>\n",
       "      <td>1</td>\n",
       "      <td>87.0</td>\n",
       "      <td>17.0</td>\n",
       "      <td>23.0</td>\n",
       "    </tr>\n",
       "    <tr>\n",
       "      <th>3</th>\n",
       "      <td>8000</td>\n",
       "      <td>Харьківський</td>\n",
       "      <td>NaN</td>\n",
       "      <td>Дарницький</td>\n",
       "      <td>1</td>\n",
       "      <td>40 / 18 / 9</td>\n",
       "      <td>3.0</td>\n",
       "      <td>серія Т</td>\n",
       "      <td>утеплена панель</td>\n",
       "      <td>1983</td>\n",
       "      <td>1</td>\n",
       "      <td>40.0</td>\n",
       "      <td>9.0</td>\n",
       "      <td>16.0</td>\n",
       "    </tr>\n",
       "    <tr>\n",
       "      <th>4</th>\n",
       "      <td>15000</td>\n",
       "      <td>ЖМ Патріотика</td>\n",
       "      <td>Осокорки</td>\n",
       "      <td>Дарницький</td>\n",
       "      <td>1</td>\n",
       "      <td>38 / 12 / 16</td>\n",
       "      <td>15.0</td>\n",
       "      <td>спец. проект</td>\n",
       "      <td>панельні</td>\n",
       "      <td>2018</td>\n",
       "      <td>1</td>\n",
       "      <td>38.0</td>\n",
       "      <td>16.0</td>\n",
       "      <td>25.0</td>\n",
       "    </tr>\n",
       "  </tbody>\n",
       "</table>\n",
       "</div>"
      ],
      "text/plain": [
       "   price                   dist1          dist2          dist3  rooms  \\\n",
       "0  26000           ЖК Місце мрії        Шулявка  Солом'янський      2   \n",
       "1  95750         ЖК Central Park  Нова забудова     Печерський      3   \n",
       "2  57450  ЖК Новопечерські Липки     Чорна Гора     Печерський      2   \n",
       "3   8000            Харьківський            NaN     Дарницький      1   \n",
       "4  15000           ЖМ Патріотика       Осокорки     Дарницький      1   \n",
       "\n",
       "           square  floor         type1                type2  type3  metro  \\\n",
       "0   60 / 35 / 15    14.0  спец. проект  монолітно-каркасний   2009      1   \n",
       "1  131 / 80 / 15    10.0           NaN                  NaN   2007      1   \n",
       "2   87 / 41 / 17     2.0  спец. проект  монолітно-каркасний   2013      1   \n",
       "3    40 / 18 / 9     3.0       серія Т      утеплена панель   1983      1   \n",
       "4   38 / 12 / 16    15.0  спец. проект             панельні   2018      1   \n",
       "\n",
       "   total_area  kitchen_area  floor_total  \n",
       "0        60.0          15.0         25.0  \n",
       "1       131.0          15.0         25.0  \n",
       "2        87.0          17.0         23.0  \n",
       "3        40.0           9.0         16.0  \n",
       "4        38.0          16.0         25.0  "
      ]
     },
     "execution_count": 173,
     "metadata": {},
     "output_type": "execute_result"
    }
   ],
   "source": [
    "df.head()"
   ]
  },
  {
   "cell_type": "code",
   "execution_count": 289,
   "id": "a86f53b1-cb38-42c6-97c5-385405fb39c7",
   "metadata": {
    "tags": []
   },
   "outputs": [],
   "source": [
    "y_train= df_train['price']\n",
    "y_val =df_val['price']\n",
    "\n",
    "X_train = df_train.drop(['price', 'dist1', 'dist2', 'square', 'square', 'type1', 'type2'], axis=1)\n",
    "X_val = df_val.drop(['price', 'dist1', 'dist2', 'square', 'square', 'type1', 'type2'], axis=1)"
   ]
  },
  {
   "cell_type": "code",
   "execution_count": 290,
   "id": "56d52c26-d042-4ebb-b6c6-530b510cb205",
   "metadata": {
    "tags": []
   },
   "outputs": [],
   "source": [
    "y_train = np.log(y_train)\n",
    "y_val = np.log(y_val)"
   ]
  },
  {
   "cell_type": "code",
   "execution_count": 291,
   "id": "d9cde7b2-62b7-42a4-9c34-f008bb7e4405",
   "metadata": {
    "tags": []
   },
   "outputs": [
    {
     "data": {
      "text/plain": [
       "<Axes: >"
      ]
     },
     "execution_count": 291,
     "metadata": {},
     "output_type": "execute_result"
    },
    {
     "data": {
      "image/png": "[encoded data removed]",
      "text/plain": [
       "<Figure size 640x480 with 1 Axes>"
      ]
     },
     "metadata": {},
     "output_type": "display_data"
    }
   ],
   "source": [
    "y_train.hist()"
   ]
  },
  {
   "cell_type": "code",
   "execution_count": null,
   "id": "41d96440-a59a-4f4a-ade6-7cba1c98fc59",
   "metadata": {},
   "outputs": [],
   "source": [
    "### Encoding categorical features"
   ]
  },
  {
   "cell_type": "code",
   "execution_count": null,
   "id": "43835f88-9d31-4297-9b6e-9cb1a468af45",
   "metadata": {},
   "outputs": [],
   "source": [
    "#### Encoding nominal features with DictVectorizer"
   ]
  },
  {
   "cell_type": "code",
   "execution_count": 292,
   "id": "17d74ddf-efd1-463a-8ab4-fd5434adb086",
   "metadata": {
    "tags": []
   },
   "outputs": [],
   "source": [
    "from sklearn.feature_extraction import DictVectorizer\n",
    "dv = DictVectorizer(sparse=False)\n",
    "\n",
    "train_dict = X_train.to_dict(orient='records')\n",
    "\n",
    "val_dict = X_val.to_dict(orient='records')\n",
    "X_train = dv.fit_transform(train_dict)\n",
    "\n",
    "X_val = dv.transform(val_dict)"
   ]
  },
  {
   "cell_type": "code",
   "execution_count": null,
   "id": "43729f6e-23d4-41e7-9e03-0e1252b116e6",
   "metadata": {},
   "outputs": [],
   "source": [
    "### Scaling"
   ]
  },
  {
   "cell_type": "code",
   "execution_count": 293,
   "id": "d3a59869-360a-411c-800b-9379fadf45ca",
   "metadata": {
    "tags": []
   },
   "outputs": [],
   "source": [
    "from sklearn.preprocessing import StandardScaler\n",
    "scaler = StandardScaler()\n",
    "X_train = scaler.fit_transform(X_train)\n",
    "X_val = scaler.transform(X_val)"
   ]
  },
  {
   "cell_type": "code",
   "execution_count": null,
   "id": "ea3ca0eb-c7cd-44ec-a8f5-43e34296c709",
   "metadata": {},
   "outputs": [],
   "source": []
  },
  {
   "cell_type": "code",
   "execution_count": null,
   "id": "1a7fe80d-8b4e-44d6-a377-ad02ef72f339",
   "metadata": {},
   "outputs": [],
   "source": []
  },
  {
   "cell_type": "code",
   "execution_count": 294,
   "id": "5ba9bb16-1ca2-409b-a5a0-b905e7e1dc18",
   "metadata": {
    "tags": []
   },
   "outputs": [],
   "source": [
    "from sklearn.metrics import mean_squared_error\n",
    "from sklearn.metrics import r2_score\n",
    "val_results = pd.DataFrame(columns=['model', 'params', 'rmse', 'r2', 'train_r2'])\n",
    "model_results = pd.DataFrame(columns=['params',  'rmse', 'r2', 'train_r2'])"
   ]
  },
  {
   "cell_type": "code",
   "execution_count": null,
   "id": "9c18b985-c52e-4122-8a10-c4741335f74c",
   "metadata": {},
   "outputs": [],
   "source": []
  },
  {
   "cell_type": "code",
   "execution_count": 295,
   "id": "564a22cd-2c39-4eec-8594-551b82a1fe6c",
   "metadata": {
    "tags": []
   },
   "outputs": [
    {
     "name": "stderr",
     "output_type": "stream",
     "text": [
      "D:\\anaconda\\Lib\\site-packages\\sklearn\\linear_model\\_coordinate_descent.py:628: ConvergenceWarning: Objective did not converge. You might want to increase the number of iterations, check the scale of the features or consider increasing regularisation. Duality gap: 3.386e+00, tolerance: 3.589e-01\n",
      "  model = cd_fast.enet_coordinate_descent(\n"
     ]
    }
   ],
   "source": [
    "from sklearn.linear_model import Lasso\n",
    "for a in [0.0001, 0.001, 0.01, 0.1]:\n",
    "    ls = Lasso(random_state=4, alpha = a)\n",
    "    ls.fit(X_train, y_train)\n",
    "    y_pred = ls.predict(X_val)\n",
    "    y_train_pred = ls.predict(X_train)\n",
    "    rmse = mean_squared_error(y_val, y_pred)\n",
    "    r2 = r2_score(y_val, y_pred)\n",
    "    r2_train = r2_score(y_train, y_train_pred)\n",
    "    model_results.loc[len(model_results)] = ['alpha=' +str(a), rmse, r2, r2_train]"
   ]
  },
  {
   "cell_type": "code",
   "execution_count": 296,
   "id": "b55df66d-db19-4c8e-a3b0-1928013e29fb",
   "metadata": {
    "tags": []
   },
   "outputs": [
    {
     "data": {
      "text/html": [
       "<div>\n",
       "<style scoped>\n",
       "    .dataframe tbody tr th:only-of-type {\n",
       "        vertical-align: middle;\n",
       "    }\n",
       "\n",
       "    .dataframe tbody tr th {\n",
       "        vertical-align: top;\n",
       "    }\n",
       "\n",
       "    .dataframe thead th {\n",
       "        text-align: right;\n",
       "    }\n",
       "</style>\n",
       "<table border=\"1\" class=\"dataframe\">\n",
       "  <thead>\n",
       "    <tr style=\"text-align: right;\">\n",
       "      <th></th>\n",
       "      <th>params</th>\n",
       "      <th>rmse</th>\n",
       "      <th>r2</th>\n",
       "      <th>train_r2</th>\n",
       "    </tr>\n",
       "  </thead>\n",
       "  <tbody>\n",
       "    <tr>\n",
       "      <th>0</th>\n",
       "      <td>alpha=0.0001</td>\n",
       "      <td>0.176911</td>\n",
       "      <td>0.745273</td>\n",
       "      <td>0.760238</td>\n",
       "    </tr>\n",
       "    <tr>\n",
       "      <th>1</th>\n",
       "      <td>alpha=0.001</td>\n",
       "      <td>0.176896</td>\n",
       "      <td>0.745294</td>\n",
       "      <td>0.760216</td>\n",
       "    </tr>\n",
       "    <tr>\n",
       "      <th>2</th>\n",
       "      <td>alpha=0.01</td>\n",
       "      <td>0.178229</td>\n",
       "      <td>0.743376</td>\n",
       "      <td>0.758693</td>\n",
       "    </tr>\n",
       "    <tr>\n",
       "      <th>3</th>\n",
       "      <td>alpha=0.1</td>\n",
       "      <td>0.240012</td>\n",
       "      <td>0.654417</td>\n",
       "      <td>0.676268</td>\n",
       "    </tr>\n",
       "  </tbody>\n",
       "</table>\n",
       "</div>"
      ],
      "text/plain": [
       "         params      rmse        r2  train_r2\n",
       "0  alpha=0.0001  0.176911  0.745273  0.760238\n",
       "1   alpha=0.001  0.176896  0.745294  0.760216\n",
       "2    alpha=0.01  0.178229  0.743376  0.758693\n",
       "3     alpha=0.1  0.240012  0.654417  0.676268"
      ]
     },
     "execution_count": 296,
     "metadata": {},
     "output_type": "execute_result"
    }
   ],
   "source": [
    "model_results"
   ]
  },
  {
   "cell_type": "code",
   "execution_count": 297,
   "id": "0fa04bab-91be-49f8-ba47-39602fd36450",
   "metadata": {
    "tags": []
   },
   "outputs": [],
   "source": [
    "val_results.loc[len(val_results)] = ['Lasso Regression']+model_results.iloc[0].to_list()"
   ]
  },
  {
   "cell_type": "code",
   "execution_count": null,
   "id": "b13406db-058b-4cb5-adad-fdf9de81b225",
   "metadata": {},
   "outputs": [],
   "source": []
  },
  {
   "cell_type": "code",
   "execution_count": 298,
   "id": "f17e4f21-5c30-4d64-b1ed-58d06470d5c9",
   "metadata": {
    "tags": []
   },
   "outputs": [],
   "source": [
    "from sklearn.linear_model import Ridge\n",
    "model_results.drop(model_results.index , inplace=True)\n",
    "\n",
    "for a in [0.001, 0.01, 0.1, 1, 1.2, 1.5]:\n",
    "    rd = Ridge(random_state=4, alpha = a)\n",
    "    rd.fit(X_train, y_train)\n",
    "    y_pred = rd.predict(X_val)\n",
    "    y_train_pred = rd.predict(X_train)\n",
    "    rmse = mean_squared_error(y_val, y_pred)\n",
    "    r2 = r2_score(y_val, y_pred)\n",
    "    r2_train = r2_score(y_train, y_train_pred)\n",
    "    model_results.loc[len(model_results)] = ['alpha=' +str(a), rmse, r2, r2_train]"
   ]
  },
  {
   "cell_type": "code",
   "execution_count": 299,
   "id": "4b2ac681-9429-4e2b-a913-28b21c168750",
   "metadata": {
    "tags": []
   },
   "outputs": [
    {
     "data": {
      "text/html": [
       "<div>\n",
       "<style scoped>\n",
       "    .dataframe tbody tr th:only-of-type {\n",
       "        vertical-align: middle;\n",
       "    }\n",
       "\n",
       "    .dataframe tbody tr th {\n",
       "        vertical-align: top;\n",
       "    }\n",
       "\n",
       "    .dataframe thead th {\n",
       "        text-align: right;\n",
       "    }\n",
       "</style>\n",
       "<table border=\"1\" class=\"dataframe\">\n",
       "  <thead>\n",
       "    <tr style=\"text-align: right;\">\n",
       "      <th></th>\n",
       "      <th>params</th>\n",
       "      <th>rmse</th>\n",
       "      <th>r2</th>\n",
       "      <th>train_r2</th>\n",
       "    </tr>\n",
       "  </thead>\n",
       "  <tbody>\n",
       "    <tr>\n",
       "      <th>0</th>\n",
       "      <td>alpha=0.001</td>\n",
       "      <td>0.176916</td>\n",
       "      <td>0.745266</td>\n",
       "      <td>0.760238</td>\n",
       "    </tr>\n",
       "    <tr>\n",
       "      <th>1</th>\n",
       "      <td>alpha=0.01</td>\n",
       "      <td>0.176916</td>\n",
       "      <td>0.745266</td>\n",
       "      <td>0.760238</td>\n",
       "    </tr>\n",
       "    <tr>\n",
       "      <th>2</th>\n",
       "      <td>alpha=0.1</td>\n",
       "      <td>0.176916</td>\n",
       "      <td>0.745266</td>\n",
       "      <td>0.760238</td>\n",
       "    </tr>\n",
       "    <tr>\n",
       "      <th>3</th>\n",
       "      <td>alpha=1</td>\n",
       "      <td>0.176916</td>\n",
       "      <td>0.745265</td>\n",
       "      <td>0.760238</td>\n",
       "    </tr>\n",
       "    <tr>\n",
       "      <th>4</th>\n",
       "      <td>alpha=1.2</td>\n",
       "      <td>0.176916</td>\n",
       "      <td>0.745265</td>\n",
       "      <td>0.760238</td>\n",
       "    </tr>\n",
       "    <tr>\n",
       "      <th>5</th>\n",
       "      <td>alpha=1.5</td>\n",
       "      <td>0.176917</td>\n",
       "      <td>0.745265</td>\n",
       "      <td>0.760238</td>\n",
       "    </tr>\n",
       "  </tbody>\n",
       "</table>\n",
       "</div>"
      ],
      "text/plain": [
       "        params      rmse        r2  train_r2\n",
       "0  alpha=0.001  0.176916  0.745266  0.760238\n",
       "1   alpha=0.01  0.176916  0.745266  0.760238\n",
       "2    alpha=0.1  0.176916  0.745266  0.760238\n",
       "3      alpha=1  0.176916  0.745265  0.760238\n",
       "4    alpha=1.2  0.176916  0.745265  0.760238\n",
       "5    alpha=1.5  0.176917  0.745265  0.760238"
      ]
     },
     "execution_count": 299,
     "metadata": {},
     "output_type": "execute_result"
    }
   ],
   "source": [
    "model_results"
   ]
  },
  {
   "cell_type": "code",
   "execution_count": 300,
   "id": "298e6b9a-3cfe-4713-b6db-b74d0eb9cc2b",
   "metadata": {
    "tags": []
   },
   "outputs": [],
   "source": [
    "val_results.loc[len(val_results)] = ['Lasso Regression']+model_results.iloc[5].to_list()"
   ]
  },
  {
   "cell_type": "code",
   "execution_count": null,
   "id": "7ba44c8c-8e3a-4700-b817-7722e284e61d",
   "metadata": {},
   "outputs": [],
   "source": []
  },
  {
   "cell_type": "code",
   "execution_count": 301,
   "id": "d2188b13-9ae6-444a-af9f-6bf307bd3db5",
   "metadata": {
    "tags": []
   },
   "outputs": [],
   "source": [
    "from sklearn.tree import DecisionTreeRegressor\n",
    "model_results.drop(model_results.index , inplace=True)\n",
    "\n",
    "for depth in [2, 3, 4, 5, 6, 7, 8, 9, 10, 15, 17, 20, None]:\n",
    "    dt = DecisionTreeRegressor()\n",
    "    dt = DecisionTreeRegressor(max_depth=depth, random_state=4)\n",
    "    dt.fit(X_train, y_train)\n",
    "    y_pred = dt.predict(X_val)\n",
    "    y_train_pred = dt.predict(X_train)\n",
    "    rmse = mean_squared_error(y_val, y_pred)\n",
    "    r2 = r2_score(y_val, y_pred)\n",
    "    r2_train = r2_score(y_train, y_train_pred)\n",
    "    model_results.loc[len(model_results)] = ['max_depth=' +str(depth), rmse, r2, r2_train]"
   ]
  },
  {
   "cell_type": "code",
   "execution_count": 302,
   "id": "ae307496-5d91-4671-9f90-0d7a917f3929",
   "metadata": {
    "tags": []
   },
   "outputs": [
    {
     "data": {
      "text/html": [
       "<div>\n",
       "<style scoped>\n",
       "    .dataframe tbody tr th:only-of-type {\n",
       "        vertical-align: middle;\n",
       "    }\n",
       "\n",
       "    .dataframe tbody tr th {\n",
       "        vertical-align: top;\n",
       "    }\n",
       "\n",
       "    .dataframe thead th {\n",
       "        text-align: right;\n",
       "    }\n",
       "</style>\n",
       "<table border=\"1\" class=\"dataframe\">\n",
       "  <thead>\n",
       "    <tr style=\"text-align: right;\">\n",
       "      <th></th>\n",
       "      <th>params</th>\n",
       "      <th>rmse</th>\n",
       "      <th>r2</th>\n",
       "      <th>train_r2</th>\n",
       "    </tr>\n",
       "  </thead>\n",
       "  <tbody>\n",
       "    <tr>\n",
       "      <th>7</th>\n",
       "      <td>max_depth=9</td>\n",
       "      <td>0.148295</td>\n",
       "      <td>0.786475</td>\n",
       "      <td>0.878804</td>\n",
       "    </tr>\n",
       "    <tr>\n",
       "      <th>8</th>\n",
       "      <td>max_depth=10</td>\n",
       "      <td>0.148847</td>\n",
       "      <td>0.785682</td>\n",
       "      <td>0.901157</td>\n",
       "    </tr>\n",
       "    <tr>\n",
       "      <th>6</th>\n",
       "      <td>max_depth=8</td>\n",
       "      <td>0.155479</td>\n",
       "      <td>0.776131</td>\n",
       "      <td>0.853604</td>\n",
       "    </tr>\n",
       "    <tr>\n",
       "      <th>5</th>\n",
       "      <td>max_depth=7</td>\n",
       "      <td>0.158863</td>\n",
       "      <td>0.771260</td>\n",
       "      <td>0.826429</td>\n",
       "    </tr>\n",
       "    <tr>\n",
       "      <th>4</th>\n",
       "      <td>max_depth=6</td>\n",
       "      <td>0.165244</td>\n",
       "      <td>0.762072</td>\n",
       "      <td>0.799705</td>\n",
       "    </tr>\n",
       "    <tr>\n",
       "      <th>12</th>\n",
       "      <td>max_depth=None</td>\n",
       "      <td>0.171252</td>\n",
       "      <td>0.753421</td>\n",
       "      <td>0.999843</td>\n",
       "    </tr>\n",
       "    <tr>\n",
       "      <th>9</th>\n",
       "      <td>max_depth=15</td>\n",
       "      <td>0.172062</td>\n",
       "      <td>0.752255</td>\n",
       "      <td>0.979305</td>\n",
       "    </tr>\n",
       "    <tr>\n",
       "      <th>11</th>\n",
       "      <td>max_depth=20</td>\n",
       "      <td>0.172388</td>\n",
       "      <td>0.751785</td>\n",
       "      <td>0.998130</td>\n",
       "    </tr>\n",
       "    <tr>\n",
       "      <th>10</th>\n",
       "      <td>max_depth=17</td>\n",
       "      <td>0.173195</td>\n",
       "      <td>0.750623</td>\n",
       "      <td>0.991737</td>\n",
       "    </tr>\n",
       "    <tr>\n",
       "      <th>3</th>\n",
       "      <td>max_depth=5</td>\n",
       "      <td>0.182628</td>\n",
       "      <td>0.737041</td>\n",
       "      <td>0.767933</td>\n",
       "    </tr>\n",
       "    <tr>\n",
       "      <th>2</th>\n",
       "      <td>max_depth=4</td>\n",
       "      <td>0.207374</td>\n",
       "      <td>0.701410</td>\n",
       "      <td>0.728025</td>\n",
       "    </tr>\n",
       "    <tr>\n",
       "      <th>1</th>\n",
       "      <td>max_depth=3</td>\n",
       "      <td>0.240010</td>\n",
       "      <td>0.654419</td>\n",
       "      <td>0.683314</td>\n",
       "    </tr>\n",
       "    <tr>\n",
       "      <th>0</th>\n",
       "      <td>max_depth=2</td>\n",
       "      <td>0.310468</td>\n",
       "      <td>0.552969</td>\n",
       "      <td>0.590607</td>\n",
       "    </tr>\n",
       "  </tbody>\n",
       "</table>\n",
       "</div>"
      ],
      "text/plain": [
       "            params      rmse        r2  train_r2\n",
       "7      max_depth=9  0.148295  0.786475  0.878804\n",
       "8     max_depth=10  0.148847  0.785682  0.901157\n",
       "6      max_depth=8  0.155479  0.776131  0.853604\n",
       "5      max_depth=7  0.158863  0.771260  0.826429\n",
       "4      max_depth=6  0.165244  0.762072  0.799705\n",
       "12  max_depth=None  0.171252  0.753421  0.999843\n",
       "9     max_depth=15  0.172062  0.752255  0.979305\n",
       "11    max_depth=20  0.172388  0.751785  0.998130\n",
       "10    max_depth=17  0.173195  0.750623  0.991737\n",
       "3      max_depth=5  0.182628  0.737041  0.767933\n",
       "2      max_depth=4  0.207374  0.701410  0.728025\n",
       "1      max_depth=3  0.240010  0.654419  0.683314\n",
       "0      max_depth=2  0.310468  0.552969  0.590607"
      ]
     },
     "execution_count": 302,
     "metadata": {},
     "output_type": "execute_result"
    }
   ],
   "source": [
    "model_results.sort_values(by=['r2'], ascending=False)"
   ]
  },
  {
   "cell_type": "code",
   "execution_count": 303,
   "id": "a8f3a0ad-9c2a-4f92-80ce-8f1ab12d003e",
   "metadata": {
    "tags": []
   },
   "outputs": [],
   "source": [
    "val_results.loc[len(val_results)] = ['DecisionTreeRegressor']+model_results.iloc[9].to_list()"
   ]
  },
  {
   "cell_type": "code",
   "execution_count": null,
   "id": "a95b0998-e87f-4d64-bbf5-19bfabf06189",
   "metadata": {},
   "outputs": [],
   "source": []
  },
  {
   "cell_type": "code",
   "execution_count": 304,
   "id": "71079967-ac3e-46d3-865d-16fcd7307ffe",
   "metadata": {
    "tags": []
   },
   "outputs": [],
   "source": [
    "from sklearn.ensemble import RandomForestRegressor\n",
    "model_results.drop(model_results.index , inplace=True)\n",
    "for depth in [2, 3, 4, 5, 6, 7, 8, 9, 10]:\n",
    "    for n in range(10, 200, 10):\n",
    "        rf = RandomForestRegressor(n_estimators=n, max_depth=depth, random_state=4,)\n",
    "        rf.fit(X_train, y_train)\n",
    "        y_pred = rf.predict(X_val)\n",
    "        y_train_pred = rf.predict(X_train)\n",
    "        rmse = mean_squared_error(y_val, y_pred)\n",
    "        r2 = r2_score(y_val, y_pred)\n",
    "        r2_train = r2_score(y_train, y_train_pred)\n",
    "        model_results.loc[len(model_results)] = ['max_depth='+ str(depth) +' n_estimators=' +str(n), rmse, r2, r2_train]"
   ]
  },
  {
   "cell_type": "code",
   "execution_count": 305,
   "id": "862fef72-a771-48c8-a02b-27bfbe35262d",
   "metadata": {
    "tags": []
   },
   "outputs": [
    {
     "data": {
      "text/html": [
       "<div>\n",
       "<style scoped>\n",
       "    .dataframe tbody tr th:only-of-type {\n",
       "        vertical-align: middle;\n",
       "    }\n",
       "\n",
       "    .dataframe tbody tr th {\n",
       "        vertical-align: top;\n",
       "    }\n",
       "\n",
       "    .dataframe thead th {\n",
       "        text-align: right;\n",
       "    }\n",
       "</style>\n",
       "<table border=\"1\" class=\"dataframe\">\n",
       "  <thead>\n",
       "    <tr style=\"text-align: right;\">\n",
       "      <th></th>\n",
       "      <th>params</th>\n",
       "      <th>rmse</th>\n",
       "      <th>r2</th>\n",
       "      <th>train_r2</th>\n",
       "    </tr>\n",
       "  </thead>\n",
       "  <tbody>\n",
       "    <tr>\n",
       "      <th>170</th>\n",
       "      <td>max_depth=10 n_estimators=190</td>\n",
       "      <td>0.107635</td>\n",
       "      <td>0.845021</td>\n",
       "      <td>0.922243</td>\n",
       "    </tr>\n",
       "    <tr>\n",
       "      <th>169</th>\n",
       "      <td>max_depth=10 n_estimators=180</td>\n",
       "      <td>0.107888</td>\n",
       "      <td>0.844656</td>\n",
       "      <td>0.922176</td>\n",
       "    </tr>\n",
       "    <tr>\n",
       "      <th>168</th>\n",
       "      <td>max_depth=10 n_estimators=170</td>\n",
       "      <td>0.107999</td>\n",
       "      <td>0.844496</td>\n",
       "      <td>0.922282</td>\n",
       "    </tr>\n",
       "    <tr>\n",
       "      <th>166</th>\n",
       "      <td>max_depth=10 n_estimators=150</td>\n",
       "      <td>0.108046</td>\n",
       "      <td>0.844429</td>\n",
       "      <td>0.922118</td>\n",
       "    </tr>\n",
       "    <tr>\n",
       "      <th>167</th>\n",
       "      <td>max_depth=10 n_estimators=160</td>\n",
       "      <td>0.108096</td>\n",
       "      <td>0.844357</td>\n",
       "      <td>0.922186</td>\n",
       "    </tr>\n",
       "    <tr>\n",
       "      <th>...</th>\n",
       "      <td>...</td>\n",
       "      <td>...</td>\n",
       "      <td>...</td>\n",
       "      <td>...</td>\n",
       "    </tr>\n",
       "    <tr>\n",
       "      <th>2</th>\n",
       "      <td>max_depth=2 n_estimators=30</td>\n",
       "      <td>0.295404</td>\n",
       "      <td>0.574660</td>\n",
       "      <td>0.608797</td>\n",
       "    </tr>\n",
       "    <tr>\n",
       "      <th>6</th>\n",
       "      <td>max_depth=2 n_estimators=70</td>\n",
       "      <td>0.295664</td>\n",
       "      <td>0.574286</td>\n",
       "      <td>0.608528</td>\n",
       "    </tr>\n",
       "    <tr>\n",
       "      <th>3</th>\n",
       "      <td>max_depth=2 n_estimators=40</td>\n",
       "      <td>0.296197</td>\n",
       "      <td>0.573517</td>\n",
       "      <td>0.607206</td>\n",
       "    </tr>\n",
       "    <tr>\n",
       "      <th>0</th>\n",
       "      <td>max_depth=2 n_estimators=10</td>\n",
       "      <td>0.296955</td>\n",
       "      <td>0.572426</td>\n",
       "      <td>0.608042</td>\n",
       "    </tr>\n",
       "    <tr>\n",
       "      <th>1</th>\n",
       "      <td>max_depth=2 n_estimators=20</td>\n",
       "      <td>0.298453</td>\n",
       "      <td>0.570269</td>\n",
       "      <td>0.606061</td>\n",
       "    </tr>\n",
       "  </tbody>\n",
       "</table>\n",
       "<p>171 rows × 4 columns</p>\n",
       "</div>"
      ],
      "text/plain": [
       "                            params      rmse        r2  train_r2\n",
       "170  max_depth=10 n_estimators=190  0.107635  0.845021  0.922243\n",
       "169  max_depth=10 n_estimators=180  0.107888  0.844656  0.922176\n",
       "168  max_depth=10 n_estimators=170  0.107999  0.844496  0.922282\n",
       "166  max_depth=10 n_estimators=150  0.108046  0.844429  0.922118\n",
       "167  max_depth=10 n_estimators=160  0.108096  0.844357  0.922186\n",
       "..                             ...       ...       ...       ...\n",
       "2      max_depth=2 n_estimators=30  0.295404  0.574660  0.608797\n",
       "6      max_depth=2 n_estimators=70  0.295664  0.574286  0.608528\n",
       "3      max_depth=2 n_estimators=40  0.296197  0.573517  0.607206\n",
       "0      max_depth=2 n_estimators=10  0.296955  0.572426  0.608042\n",
       "1      max_depth=2 n_estimators=20  0.298453  0.570269  0.606061\n",
       "\n",
       "[171 rows x 4 columns]"
      ]
     },
     "execution_count": 305,
     "metadata": {},
     "output_type": "execute_result"
    }
   ],
   "source": [
    "model_results.sort_values(by=['r2'], ascending=False)"
   ]
  },
  {
   "cell_type": "code",
   "execution_count": 306,
   "id": "b6bf3615-52d7-4d84-a625-3b3a329e7ee2",
   "metadata": {
    "tags": []
   },
   "outputs": [],
   "source": [
    "val_results.loc[len(val_results)] = ['RandomForestRegressor']+model_results.iloc[165].to_list()"
   ]
  },
  {
   "cell_type": "code",
   "execution_count": null,
   "id": "da45f4ef-61dd-459c-b458-3f20a3bb8b10",
   "metadata": {},
   "outputs": [],
   "source": []
  },
  {
   "cell_type": "code",
   "execution_count": 192,
   "id": "2cb66995-ee8d-4074-b652-883a8449da58",
   "metadata": {
    "tags": []
   },
   "outputs": [],
   "source": [
    "from sklearn.ensemble import GradientBoostingRegressor\n",
    "model_results.drop(model_results.index , inplace=True)\n",
    "for depth in [8, 9, 10, 11, 12, 13, 14, 15]:\n",
    "    for n in[200, 250, 300, 320, 350]:\n",
    "        for l in [0.01, 0.1, 1]:\n",
    "            gb = GradientBoostingRegressor(learning_rate=l, n_estimators=n, max_depth=depth, random_state=4)\n",
    "            gb.fit(X_train, y_train)\n",
    "            #y_pred = gb.predict(X_val)\n",
    "            y_pred = gb.predict(X_val)\n",
    "            y_train_pred = gb.predict(X_train)\n",
    "            rmse = mean_squared_error(y_val, y_pred)\n",
    "            r2 = r2_score(y_val, y_pred)\n",
    "            r2_train = r2_score(y_train, y_train_pred)\n",
    "            model_results.loc[len(model_results)] = ['max_depth='+ str(depth) +' n_estimators=' +str(n) +\n",
    "                                                     ' learning_rate'+str(l), rmse, r2, r2_train]\n"
   ]
  },
  {
   "cell_type": "code",
   "execution_count": 193,
   "id": "cc52ec7e-47c3-4a50-9dfd-740c11f2d6ba",
   "metadata": {
    "tags": []
   },
   "outputs": [
    {
     "data": {
      "text/html": [
       "<div>\n",
       "<style scoped>\n",
       "    .dataframe tbody tr th:only-of-type {\n",
       "        vertical-align: middle;\n",
       "    }\n",
       "\n",
       "    .dataframe tbody tr th {\n",
       "        vertical-align: top;\n",
       "    }\n",
       "\n",
       "    .dataframe thead th {\n",
       "        text-align: right;\n",
       "    }\n",
       "</style>\n",
       "<table border=\"1\" class=\"dataframe\">\n",
       "  <thead>\n",
       "    <tr style=\"text-align: right;\">\n",
       "      <th></th>\n",
       "      <th>params</th>\n",
       "      <th>rmse</th>\n",
       "      <th>r2</th>\n",
       "      <th>train_r2</th>\n",
       "    </tr>\n",
       "  </thead>\n",
       "  <tbody>\n",
       "    <tr>\n",
       "      <th>43</th>\n",
       "      <td>max_depth=10 n_estimators=350 learning_rate0.1</td>\n",
       "      <td>0.077349</td>\n",
       "      <td>0.889907</td>\n",
       "      <td>0.997231</td>\n",
       "    </tr>\n",
       "    <tr>\n",
       "      <th>13</th>\n",
       "      <td>max_depth=8 n_estimators=350 learning_rate0.1</td>\n",
       "      <td>0.077355</td>\n",
       "      <td>0.889899</td>\n",
       "      <td>0.984660</td>\n",
       "    </tr>\n",
       "    <tr>\n",
       "      <th>40</th>\n",
       "      <td>max_depth=10 n_estimators=320 learning_rate0.1</td>\n",
       "      <td>0.077393</td>\n",
       "      <td>0.889845</td>\n",
       "      <td>0.996856</td>\n",
       "    </tr>\n",
       "    <tr>\n",
       "      <th>19</th>\n",
       "      <td>max_depth=9 n_estimators=250 learning_rate0.1</td>\n",
       "      <td>0.077413</td>\n",
       "      <td>0.889815</td>\n",
       "      <td>0.988601</td>\n",
       "    </tr>\n",
       "    <tr>\n",
       "      <th>22</th>\n",
       "      <td>max_depth=9 n_estimators=300 learning_rate0.1</td>\n",
       "      <td>0.077469</td>\n",
       "      <td>0.889736</td>\n",
       "      <td>0.991889</td>\n",
       "    </tr>\n",
       "    <tr>\n",
       "      <th>...</th>\n",
       "      <td>...</td>\n",
       "      <td>...</td>\n",
       "      <td>...</td>\n",
       "      <td>...</td>\n",
       "    </tr>\n",
       "    <tr>\n",
       "      <th>2</th>\n",
       "      <td>max_depth=8 n_estimators=200 learning_rate1</td>\n",
       "      <td>0.153020</td>\n",
       "      <td>0.782203</td>\n",
       "      <td>0.998425</td>\n",
       "    </tr>\n",
       "    <tr>\n",
       "      <th>5</th>\n",
       "      <td>max_depth=8 n_estimators=250 learning_rate1</td>\n",
       "      <td>0.153205</td>\n",
       "      <td>0.781939</td>\n",
       "      <td>0.998471</td>\n",
       "    </tr>\n",
       "    <tr>\n",
       "      <th>8</th>\n",
       "      <td>max_depth=8 n_estimators=300 learning_rate1</td>\n",
       "      <td>0.153250</td>\n",
       "      <td>0.781874</td>\n",
       "      <td>0.998480</td>\n",
       "    </tr>\n",
       "    <tr>\n",
       "      <th>14</th>\n",
       "      <td>max_depth=8 n_estimators=350 learning_rate1</td>\n",
       "      <td>0.153275</td>\n",
       "      <td>0.781840</td>\n",
       "      <td>0.998481</td>\n",
       "    </tr>\n",
       "    <tr>\n",
       "      <th>11</th>\n",
       "      <td>max_depth=8 n_estimators=320 learning_rate1</td>\n",
       "      <td>0.153288</td>\n",
       "      <td>0.781821</td>\n",
       "      <td>0.998481</td>\n",
       "    </tr>\n",
       "  </tbody>\n",
       "</table>\n",
       "<p>120 rows × 4 columns</p>\n",
       "</div>"
      ],
      "text/plain": [
       "                                            params      rmse        r2  \\\n",
       "43  max_depth=10 n_estimators=350 learning_rate0.1  0.077349  0.889907   \n",
       "13   max_depth=8 n_estimators=350 learning_rate0.1  0.077355  0.889899   \n",
       "40  max_depth=10 n_estimators=320 learning_rate0.1  0.077393  0.889845   \n",
       "19   max_depth=9 n_estimators=250 learning_rate0.1  0.077413  0.889815   \n",
       "22   max_depth=9 n_estimators=300 learning_rate0.1  0.077469  0.889736   \n",
       "..                                             ...       ...       ...   \n",
       "2      max_depth=8 n_estimators=200 learning_rate1  0.153020  0.782203   \n",
       "5      max_depth=8 n_estimators=250 learning_rate1  0.153205  0.781939   \n",
       "8      max_depth=8 n_estimators=300 learning_rate1  0.153250  0.781874   \n",
       "14     max_depth=8 n_estimators=350 learning_rate1  0.153275  0.781840   \n",
       "11     max_depth=8 n_estimators=320 learning_rate1  0.153288  0.781821   \n",
       "\n",
       "    train_r2  \n",
       "43  0.997231  \n",
       "13  0.984660  \n",
       "40  0.996856  \n",
       "19  0.988601  \n",
       "22  0.991889  \n",
       "..       ...  \n",
       "2   0.998425  \n",
       "5   0.998471  \n",
       "8   0.998480  \n",
       "14  0.998481  \n",
       "11  0.998481  \n",
       "\n",
       "[120 rows x 4 columns]"
      ]
     },
     "execution_count": 193,
     "metadata": {},
     "output_type": "execute_result"
    }
   ],
   "source": [
    "model_results.sort_values(by=['r2'], ascending=False)"
   ]
  },
  {
   "cell_type": "code",
   "execution_count": 194,
   "id": "2b3013ce-e9f2-4099-b6c4-258d6c437cdc",
   "metadata": {
    "tags": []
   },
   "outputs": [],
   "source": [
    "val_results.loc[len(val_results)] = ['GradientBoostingRegressor']+model_results.iloc[43].to_list()"
   ]
  },
  {
   "cell_type": "code",
   "execution_count": 85,
   "id": "394ed2c3-f6a9-4870-b9f4-f7007e120e65",
   "metadata": {
    "tags": []
   },
   "outputs": [
    {
     "ename": "IndexError",
     "evalue": "single positional indexer is out-of-bounds",
     "output_type": "error",
     "traceback": [
      "\u001b[1;31m---------------------------------------------------------------------------\u001b[0m",
      "\u001b[1;31mIndexError\u001b[0m                                Traceback (most recent call last)",
      "Cell \u001b[1;32mIn[85], line 1\u001b[0m\n\u001b[1;32m----> 1\u001b[0m val_results\u001b[38;5;241m.\u001b[39mloc[\u001b[38;5;28mlen\u001b[39m(val_results)] \u001b[38;5;241m=\u001b[39m [\u001b[38;5;124m'\u001b[39m\u001b[38;5;124mGradientBoostingRegressor\u001b[39m\u001b[38;5;124m'\u001b[39m]\u001b[38;5;241m+\u001b[39mmodel_results\u001b[38;5;241m.\u001b[39miloc[\u001b[38;5;241m214\u001b[39m]\u001b[38;5;241m.\u001b[39mto_list()\n",
      "File \u001b[1;32mD:\\anaconda\\Lib\\site-packages\\pandas\\core\\indexing.py:1103\u001b[0m, in \u001b[0;36m_LocationIndexer.__getitem__\u001b[1;34m(self, key)\u001b[0m\n\u001b[0;32m   1100\u001b[0m axis \u001b[38;5;241m=\u001b[39m \u001b[38;5;28mself\u001b[39m\u001b[38;5;241m.\u001b[39maxis \u001b[38;5;129;01mor\u001b[39;00m \u001b[38;5;241m0\u001b[39m\n\u001b[0;32m   1102\u001b[0m maybe_callable \u001b[38;5;241m=\u001b[39m com\u001b[38;5;241m.\u001b[39mapply_if_callable(key, \u001b[38;5;28mself\u001b[39m\u001b[38;5;241m.\u001b[39mobj)\n\u001b[1;32m-> 1103\u001b[0m \u001b[38;5;28;01mreturn\u001b[39;00m \u001b[38;5;28mself\u001b[39m\u001b[38;5;241m.\u001b[39m_getitem_axis(maybe_callable, axis\u001b[38;5;241m=\u001b[39maxis)\n",
      "File \u001b[1;32mD:\\anaconda\\Lib\\site-packages\\pandas\\core\\indexing.py:1656\u001b[0m, in \u001b[0;36m_iLocIndexer._getitem_axis\u001b[1;34m(self, key, axis)\u001b[0m\n\u001b[0;32m   1653\u001b[0m     \u001b[38;5;28;01mraise\u001b[39;00m \u001b[38;5;167;01mTypeError\u001b[39;00m(\u001b[38;5;124m\"\u001b[39m\u001b[38;5;124mCannot index by location index with a non-integer key\u001b[39m\u001b[38;5;124m\"\u001b[39m)\n\u001b[0;32m   1655\u001b[0m \u001b[38;5;66;03m# validate the location\u001b[39;00m\n\u001b[1;32m-> 1656\u001b[0m \u001b[38;5;28mself\u001b[39m\u001b[38;5;241m.\u001b[39m_validate_integer(key, axis)\n\u001b[0;32m   1658\u001b[0m \u001b[38;5;28;01mreturn\u001b[39;00m \u001b[38;5;28mself\u001b[39m\u001b[38;5;241m.\u001b[39mobj\u001b[38;5;241m.\u001b[39m_ixs(key, axis\u001b[38;5;241m=\u001b[39maxis)\n",
      "File \u001b[1;32mD:\\anaconda\\Lib\\site-packages\\pandas\\core\\indexing.py:1589\u001b[0m, in \u001b[0;36m_iLocIndexer._validate_integer\u001b[1;34m(self, key, axis)\u001b[0m\n\u001b[0;32m   1587\u001b[0m len_axis \u001b[38;5;241m=\u001b[39m \u001b[38;5;28mlen\u001b[39m(\u001b[38;5;28mself\u001b[39m\u001b[38;5;241m.\u001b[39mobj\u001b[38;5;241m.\u001b[39m_get_axis(axis))\n\u001b[0;32m   1588\u001b[0m \u001b[38;5;28;01mif\u001b[39;00m key \u001b[38;5;241m>\u001b[39m\u001b[38;5;241m=\u001b[39m len_axis \u001b[38;5;129;01mor\u001b[39;00m key \u001b[38;5;241m<\u001b[39m \u001b[38;5;241m-\u001b[39mlen_axis:\n\u001b[1;32m-> 1589\u001b[0m     \u001b[38;5;28;01mraise\u001b[39;00m \u001b[38;5;167;01mIndexError\u001b[39;00m(\u001b[38;5;124m\"\u001b[39m\u001b[38;5;124msingle positional indexer is out-of-bounds\u001b[39m\u001b[38;5;124m\"\u001b[39m)\n",
      "\u001b[1;31mIndexError\u001b[0m: single positional indexer is out-of-bounds"
     ]
    }
   ],
   "source": []
  },
  {
   "cell_type": "code",
   "execution_count": 87,
   "id": "d566133f-b790-4254-814e-06fb3d84f3ac",
   "metadata": {
    "tags": []
   },
   "outputs": [
    {
     "data": {
      "text/html": [
       "<div>\n",
       "<style scoped>\n",
       "    .dataframe tbody tr th:only-of-type {\n",
       "        vertical-align: middle;\n",
       "    }\n",
       "\n",
       "    .dataframe tbody tr th {\n",
       "        vertical-align: top;\n",
       "    }\n",
       "\n",
       "    .dataframe thead th {\n",
       "        text-align: right;\n",
       "    }\n",
       "</style>\n",
       "<table border=\"1\" class=\"dataframe\">\n",
       "  <thead>\n",
       "    <tr style=\"text-align: right;\">\n",
       "      <th></th>\n",
       "      <th>model</th>\n",
       "      <th>params</th>\n",
       "      <th>rmse</th>\n",
       "      <th>r2</th>\n",
       "      <th>train_r2</th>\n",
       "    </tr>\n",
       "  </thead>\n",
       "  <tbody>\n",
       "    <tr>\n",
       "      <th>0</th>\n",
       "      <td>Lasso Regression</td>\n",
       "      <td>alpha=0.001</td>\n",
       "      <td>0.163773</td>\n",
       "      <td>0.740959</td>\n",
       "      <td>0.746618</td>\n",
       "    </tr>\n",
       "    <tr>\n",
       "      <th>1</th>\n",
       "      <td>Lasso Regression</td>\n",
       "      <td>alpha=1</td>\n",
       "      <td>0.163819</td>\n",
       "      <td>0.740886</td>\n",
       "      <td>0.746642</td>\n",
       "    </tr>\n",
       "    <tr>\n",
       "      <th>2</th>\n",
       "      <td>DecisionTreeRegressor</td>\n",
       "      <td>max_depth=15</td>\n",
       "      <td>0.133137</td>\n",
       "      <td>0.789416</td>\n",
       "      <td>0.960344</td>\n",
       "    </tr>\n",
       "    <tr>\n",
       "      <th>3</th>\n",
       "      <td>RandomForestRegressor</td>\n",
       "      <td>max_depth=10 n_estimators=140</td>\n",
       "      <td>0.104831</td>\n",
       "      <td>0.834187</td>\n",
       "      <td>0.894703</td>\n",
       "    </tr>\n",
       "    <tr>\n",
       "      <th>4</th>\n",
       "      <td>GradientBoostingRegressor</td>\n",
       "      <td>max_depth=9 n_estimators=300 learning_rate0.1</td>\n",
       "      <td>0.075654</td>\n",
       "      <td>0.880337</td>\n",
       "      <td>0.992886</td>\n",
       "    </tr>\n",
       "  </tbody>\n",
       "</table>\n",
       "</div>"
      ],
      "text/plain": [
       "                       model                                         params  \\\n",
       "0           Lasso Regression                                    alpha=0.001   \n",
       "1           Lasso Regression                                        alpha=1   \n",
       "2      DecisionTreeRegressor                                   max_depth=15   \n",
       "3      RandomForestRegressor                  max_depth=10 n_estimators=140   \n",
       "4  GradientBoostingRegressor  max_depth=9 n_estimators=300 learning_rate0.1   \n",
       "\n",
       "       rmse        r2  train_r2  \n",
       "0  0.163773  0.740959  0.746618  \n",
       "1  0.163819  0.740886  0.746642  \n",
       "2  0.133137  0.789416  0.960344  \n",
       "3  0.104831  0.834187  0.894703  \n",
       "4  0.075654  0.880337  0.992886  "
      ]
     },
     "execution_count": 87,
     "metadata": {},
     "output_type": "execute_result"
    }
   ],
   "source": [
    "val_results"
   ]
  },
  {
   "cell_type": "code",
   "execution_count": 87,
   "id": "4dd3a5e5-14f6-4d11-9942-1593ee2c1d18",
   "metadata": {
    "tags": []
   },
   "outputs": [
    {
     "data": {
      "text/html": [
       "<div>\n",
       "<style scoped>\n",
       "    .dataframe tbody tr th:only-of-type {\n",
       "        vertical-align: middle;\n",
       "    }\n",
       "\n",
       "    .dataframe tbody tr th {\n",
       "        vertical-align: top;\n",
       "    }\n",
       "\n",
       "    .dataframe thead th {\n",
       "        text-align: right;\n",
       "    }\n",
       "</style>\n",
       "<table border=\"1\" class=\"dataframe\">\n",
       "  <thead>\n",
       "    <tr style=\"text-align: right;\">\n",
       "      <th></th>\n",
       "      <th>model</th>\n",
       "      <th>params</th>\n",
       "      <th>rmse</th>\n",
       "      <th>r2</th>\n",
       "      <th>train_r2</th>\n",
       "    </tr>\n",
       "  </thead>\n",
       "  <tbody>\n",
       "    <tr>\n",
       "      <th>0</th>\n",
       "      <td>Lasso Regression</td>\n",
       "      <td>alpha=0.001</td>\n",
       "      <td>0.159947</td>\n",
       "      <td>0.765080</td>\n",
       "      <td>0.751894</td>\n",
       "    </tr>\n",
       "    <tr>\n",
       "      <th>1</th>\n",
       "      <td>Lasso Regression</td>\n",
       "      <td>alpha=1.5</td>\n",
       "      <td>0.159954</td>\n",
       "      <td>0.765071</td>\n",
       "      <td>0.751911</td>\n",
       "    </tr>\n",
       "    <tr>\n",
       "      <th>2</th>\n",
       "      <td>DecisionTreeRegressor</td>\n",
       "      <td>max_depth=10</td>\n",
       "      <td>0.129353</td>\n",
       "      <td>0.810016</td>\n",
       "      <td>0.899075</td>\n",
       "    </tr>\n",
       "    <tr>\n",
       "      <th>3</th>\n",
       "      <td>RandomForestRegressor</td>\n",
       "      <td>max_depth=10 n_estimators=70</td>\n",
       "      <td>0.099087</td>\n",
       "      <td>0.854468</td>\n",
       "      <td>0.921124</td>\n",
       "    </tr>\n",
       "    <tr>\n",
       "      <th>4</th>\n",
       "      <td>GradientBoostingRegressor</td>\n",
       "      <td>max_depth=9 n_estimators=200 learning_rate0.1</td>\n",
       "      <td>0.082295</td>\n",
       "      <td>0.879131</td>\n",
       "      <td>0.994978</td>\n",
       "    </tr>\n",
       "  </tbody>\n",
       "</table>\n",
       "</div>"
      ],
      "text/plain": [
       "                       model                                         params  \\\n",
       "0           Lasso Regression                                    alpha=0.001   \n",
       "1           Lasso Regression                                      alpha=1.5   \n",
       "2      DecisionTreeRegressor                                   max_depth=10   \n",
       "3      RandomForestRegressor                   max_depth=10 n_estimators=70   \n",
       "4  GradientBoostingRegressor  max_depth=9 n_estimators=200 learning_rate0.1   \n",
       "\n",
       "       rmse        r2  train_r2  \n",
       "0  0.159947  0.765080  0.751894  \n",
       "1  0.159954  0.765071  0.751911  \n",
       "2  0.129353  0.810016  0.899075  \n",
       "3  0.099087  0.854468  0.921124  \n",
       "4  0.082295  0.879131  0.994978  "
      ]
     },
     "execution_count": 87,
     "metadata": {},
     "output_type": "execute_result"
    }
   ],
   "source": [
    "val_results"
   ]
  },
  {
   "cell_type": "code",
   "execution_count": 195,
   "id": "541737a9-3444-4156-95e5-4df7e3e45652",
   "metadata": {
    "tags": []
   },
   "outputs": [
    {
     "data": {
      "text/html": [
       "<div>\n",
       "<style scoped>\n",
       "    .dataframe tbody tr th:only-of-type {\n",
       "        vertical-align: middle;\n",
       "    }\n",
       "\n",
       "    .dataframe tbody tr th {\n",
       "        vertical-align: top;\n",
       "    }\n",
       "\n",
       "    .dataframe thead th {\n",
       "        text-align: right;\n",
       "    }\n",
       "</style>\n",
       "<table border=\"1\" class=\"dataframe\">\n",
       "  <thead>\n",
       "    <tr style=\"text-align: right;\">\n",
       "      <th></th>\n",
       "      <th>model</th>\n",
       "      <th>params</th>\n",
       "      <th>rmse</th>\n",
       "      <th>r2</th>\n",
       "      <th>train_r2</th>\n",
       "    </tr>\n",
       "  </thead>\n",
       "  <tbody>\n",
       "    <tr>\n",
       "      <th>0</th>\n",
       "      <td>Lasso Regression</td>\n",
       "      <td>alpha=0.0001</td>\n",
       "      <td>0.175314</td>\n",
       "      <td>0.750470</td>\n",
       "      <td>0.749254</td>\n",
       "    </tr>\n",
       "    <tr>\n",
       "      <th>1</th>\n",
       "      <td>Lasso Regression</td>\n",
       "      <td>alpha=1.5</td>\n",
       "      <td>0.175310</td>\n",
       "      <td>0.750477</td>\n",
       "      <td>0.749255</td>\n",
       "    </tr>\n",
       "    <tr>\n",
       "      <th>2</th>\n",
       "      <td>DecisionTreeRegressor</td>\n",
       "      <td>max_depth=15</td>\n",
       "      <td>0.139914</td>\n",
       "      <td>0.800856</td>\n",
       "      <td>0.958686</td>\n",
       "    </tr>\n",
       "    <tr>\n",
       "      <th>3</th>\n",
       "      <td>RandomForestRegressor</td>\n",
       "      <td>max_depth=10 n_estimators=140</td>\n",
       "      <td>0.106739</td>\n",
       "      <td>0.848075</td>\n",
       "      <td>0.894696</td>\n",
       "    </tr>\n",
       "    <tr>\n",
       "      <th>4</th>\n",
       "      <td>GradientBoostingRegressor</td>\n",
       "      <td>max_depth=10 n_estimators=350 learning_rate0.1</td>\n",
       "      <td>0.077349</td>\n",
       "      <td>0.889907</td>\n",
       "      <td>0.997231</td>\n",
       "    </tr>\n",
       "  </tbody>\n",
       "</table>\n",
       "</div>"
      ],
      "text/plain": [
       "                       model                                          params  \\\n",
       "0           Lasso Regression                                    alpha=0.0001   \n",
       "1           Lasso Regression                                       alpha=1.5   \n",
       "2      DecisionTreeRegressor                                    max_depth=15   \n",
       "3      RandomForestRegressor                   max_depth=10 n_estimators=140   \n",
       "4  GradientBoostingRegressor  max_depth=10 n_estimators=350 learning_rate0.1   \n",
       "\n",
       "       rmse        r2  train_r2  \n",
       "0  0.175314  0.750470  0.749254  \n",
       "1  0.175310  0.750477  0.749255  \n",
       "2  0.139914  0.800856  0.958686  \n",
       "3  0.106739  0.848075  0.894696  \n",
       "4  0.077349  0.889907  0.997231  "
      ]
     },
     "execution_count": 195,
     "metadata": {},
     "output_type": "execute_result"
    }
   ],
   "source": [
    "val_results"
   ]
  },
  {
   "cell_type": "code",
   "execution_count": null,
   "id": "bbf38570-5a6c-492f-9c8f-9e401cc11ab3",
   "metadata": {},
   "outputs": [],
   "source": []
  },
  {
   "cell_type": "code",
   "execution_count": 200,
   "id": "719ca10f-e4c7-4a5c-b530-cb019c7d498f",
   "metadata": {
    "tags": []
   },
   "outputs": [],
   "source": [
    "y_train= df_train_full['price']\n",
    "X_train = df_train_full.drop(['price', 'dist1', 'dist2', 'square', 'square', 'type1', 'type2'], axis=1)\n",
    "\n",
    "y_test= df_test['price']\n",
    "X_test = df_test.drop(['price', 'dist1', 'dist2', 'square', 'square', 'type1', 'type2'], axis=1)\n",
    "\n",
    "dv = DictVectorizer(sparse=False)\n",
    "\n",
    "train_dict = X_train.to_dict(orient='records')\n",
    "test_dict = X_test.to_dict(orient='records')\n",
    "\n",
    "X_train = dv.fit_transform(train_dict)\n",
    "X_test = dv.transform(test_dict)"
   ]
  },
  {
   "cell_type": "code",
   "execution_count": 201,
   "id": "1a0f7ff7-4d0e-4ddd-ad95-a66435be6841",
   "metadata": {
    "tags": []
   },
   "outputs": [],
   "source": [
    "y_train = np.log(y_train)\n",
    "y_test = np.log(y_test)"
   ]
  },
  {
   "cell_type": "code",
   "execution_count": 202,
   "id": "93325e14-a563-4a2c-9c6c-d78e2d632123",
   "metadata": {
    "tags": []
   },
   "outputs": [],
   "source": [
    "scaler = StandardScaler()\n",
    "X_train = scaler.fit_transform(X_train)\n",
    "X_test = scaler.transform(X_test)"
   ]
  },
  {
   "cell_type": "code",
   "execution_count": 204,
   "id": "123f6afb-5384-46e4-820d-29498db91054",
   "metadata": {
    "tags": []
   },
   "outputs": [
    {
     "name": "stdout",
     "output_type": "stream",
     "text": [
      "rmse:  0.05905418694877317 r2:  0.9097938020532623 r2_train:  0.9965551461048495\n"
     ]
    }
   ],
   "source": [
    "gb = GradientBoostingRegressor(learning_rate=0.1, n_estimators=350, max_depth=10, random_state=4)\n",
    "gb.fit(X_train, y_train)\n",
    "y_pred = gb.predict(X_test)\n",
    "y_train_pred = gb.predict(X_train)\n",
    "rmse = mean_squared_error(y_test, y_pred)\n",
    "r2 = r2_score(y_test, y_pred)\n",
    "r2_train = r2_score(y_train, y_train_pred)\n",
    "print('rmse: ', rmse, 'r2: ',  r2, 'r2_train: ',  r2_train)"
   ]
  }
 ],
 "metadata": {
  "kernelspec": {
   "display_name": "Python 3 (ipykernel)",
   "language": "python",
   "name": "python3"
  },
  "language_info": {
   "codemirror_mode": {
    "name": "ipython",
    "version": 3
   },
   "file_extension": ".py",
   "mimetype": "text/x-python",
   "name": "python",
   "nbconvert_exporter": "python",
   "pygments_lexer": "ipython3",
   "version": "3.11.5"
  }
 },
 "nbformat": 4,
 "nbformat_minor": 5
}
