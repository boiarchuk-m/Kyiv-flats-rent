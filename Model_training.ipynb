{
 "cells": [
  {
   "cell_type": "code",
   "execution_count": 25,
   "id": "f6dff8d5-95c7-4439-a3ff-3aa88f8d6c06",
   "metadata": {
    "tags": []
   },
   "outputs": [],
   "source": [
    "import pandas as pd\n",
    "import numpy as np\n",
    "import matplotlib.pyplot as plt\n",
    "import seaborn as sns"
   ]
  },
  {
   "cell_type": "code",
   "execution_count": 26,
   "id": "6cec186c-17de-4d6c-8136-99d1f0277d10",
   "metadata": {
    "tags": []
   },
   "outputs": [
    {
     "data": {
      "text/html": [
       "<div>\n",
       "<style scoped>\n",
       "    .dataframe tbody tr th:only-of-type {\n",
       "        vertical-align: middle;\n",
       "    }\n",
       "\n",
       "    .dataframe tbody tr th {\n",
       "        vertical-align: top;\n",
       "    }\n",
       "\n",
       "    .dataframe thead th {\n",
       "        text-align: right;\n",
       "    }\n",
       "</style>\n",
       "<table border=\"1\" class=\"dataframe\">\n",
       "  <thead>\n",
       "    <tr style=\"text-align: right;\">\n",
       "      <th></th>\n",
       "      <th>price</th>\n",
       "      <th>district</th>\n",
       "      <th>rooms</th>\n",
       "      <th>floor</th>\n",
       "      <th>metro</th>\n",
       "      <th>total_area</th>\n",
       "      <th>kitchen_area</th>\n",
       "      <th>floor_total</th>\n",
       "    </tr>\n",
       "  </thead>\n",
       "  <tbody>\n",
       "    <tr>\n",
       "      <th>0</th>\n",
       "      <td>26000</td>\n",
       "      <td>Солом'янський</td>\n",
       "      <td>2</td>\n",
       "      <td>14.0</td>\n",
       "      <td>1</td>\n",
       "      <td>60.0</td>\n",
       "      <td>15.0</td>\n",
       "      <td>25.0</td>\n",
       "    </tr>\n",
       "    <tr>\n",
       "      <th>1</th>\n",
       "      <td>95750</td>\n",
       "      <td>Печерський</td>\n",
       "      <td>3</td>\n",
       "      <td>10.0</td>\n",
       "      <td>1</td>\n",
       "      <td>131.0</td>\n",
       "      <td>15.0</td>\n",
       "      <td>25.0</td>\n",
       "    </tr>\n",
       "    <tr>\n",
       "      <th>2</th>\n",
       "      <td>57450</td>\n",
       "      <td>Печерський</td>\n",
       "      <td>2</td>\n",
       "      <td>2.0</td>\n",
       "      <td>1</td>\n",
       "      <td>87.0</td>\n",
       "      <td>17.0</td>\n",
       "      <td>23.0</td>\n",
       "    </tr>\n",
       "    <tr>\n",
       "      <th>3</th>\n",
       "      <td>8000</td>\n",
       "      <td>Дарницький</td>\n",
       "      <td>1</td>\n",
       "      <td>3.0</td>\n",
       "      <td>1</td>\n",
       "      <td>40.0</td>\n",
       "      <td>9.0</td>\n",
       "      <td>16.0</td>\n",
       "    </tr>\n",
       "    <tr>\n",
       "      <th>4</th>\n",
       "      <td>15000</td>\n",
       "      <td>Дарницький</td>\n",
       "      <td>1</td>\n",
       "      <td>15.0</td>\n",
       "      <td>1</td>\n",
       "      <td>38.0</td>\n",
       "      <td>16.0</td>\n",
       "      <td>25.0</td>\n",
       "    </tr>\n",
       "  </tbody>\n",
       "</table>\n",
       "</div>"
      ],
      "text/plain": [
       "   price       district  rooms  floor  metro  total_area  kitchen_area  \\\n",
       "0  26000  Солом'янський      2   14.0      1        60.0          15.0   \n",
       "1  95750     Печерський      3   10.0      1       131.0          15.0   \n",
       "2  57450     Печерський      2    2.0      1        87.0          17.0   \n",
       "3   8000     Дарницький      1    3.0      1        40.0           9.0   \n",
       "4  15000     Дарницький      1   15.0      1        38.0          16.0   \n",
       "\n",
       "   floor_total  \n",
       "0         25.0  \n",
       "1         25.0  \n",
       "2         23.0  \n",
       "3         16.0  \n",
       "4         25.0  "
      ]
     },
     "execution_count": 26,
     "metadata": {},
     "output_type": "execute_result"
    }
   ],
   "source": [
    "df = pd.read_csv('flats_cleaned.csv')\n",
    "df.head()"
   ]
  },
  {
   "cell_type": "code",
   "execution_count": 27,
   "id": "1606ee27-690b-4b9d-8bbe-a3682a9cada3",
   "metadata": {
    "tags": []
   },
   "outputs": [
    {
     "name": "stdout",
     "output_type": "stream",
     "text": [
      "<class 'pandas.core.frame.DataFrame'>\n",
      "RangeIndex: 14946 entries, 0 to 14945\n",
      "Data columns (total 8 columns):\n",
      " #   Column        Non-Null Count  Dtype  \n",
      "---  ------        --------------  -----  \n",
      " 0   price         14946 non-null  int64  \n",
      " 1   district      14946 non-null  object \n",
      " 2   rooms         14946 non-null  int64  \n",
      " 3   floor         14946 non-null  float64\n",
      " 4   metro         14946 non-null  int64  \n",
      " 5   total_area    14946 non-null  float64\n",
      " 6   kitchen_area  14946 non-null  float64\n",
      " 7   floor_total   14913 non-null  float64\n",
      "dtypes: float64(4), int64(3), object(1)\n",
      "memory usage: 934.3+ KB\n"
     ]
    }
   ],
   "source": [
    "df.info()"
   ]
  },
  {
   "cell_type": "markdown",
   "id": "a7c450b7-d5c8-4f24-b3b5-c36eeb128113",
   "metadata": {},
   "source": [
    "## Train test split"
   ]
  },
  {
   "cell_type": "code",
   "execution_count": 28,
   "id": "82eb1357-8c9f-4a36-84b2-78d756f832b2",
   "metadata": {
    "tags": []
   },
   "outputs": [],
   "source": [
    "from sklearn.model_selection import train_test_split\n",
    "\n",
    "y =df['price']\n",
    "X = df.drop(['price'], axis=1)\n",
    "\n",
    "X_train, X_test, y_train, y_test = train_test_split(X, y, test_size=0.2, random_state=4)"
   ]
  },
  {
   "cell_type": "markdown",
   "id": "705195ce-e68a-4727-b290-1257c57d0ea2",
   "metadata": {
    "tags": []
   },
   "source": [
    "## Pipeline"
   ]
  },
  {
   "cell_type": "code",
   "execution_count": 29,
   "id": "d6062efd-5a80-4f42-aabe-5e1759507efd",
   "metadata": {
    "tags": []
   },
   "outputs": [],
   "source": [
    "from sklearn.pipeline import Pipeline\n",
    "from sklearn.impute import KNNImputer\n",
    "from sklearn.preprocessing import StandardScaler, OneHotEncoder \n",
    "from sklearn.compose import ColumnTransformer\n",
    "imputer = KNNImputer(n_neighbors=3)\n",
    "scaler = StandardScaler()\n",
    "pipe_num = Pipeline([('imputer', imputer), ('scaler' , scaler)])\n",
    "encoder = OneHotEncoder(handle_unknown='ignore', sparse_output=False)"
   ]
  },
  {
   "cell_type": "code",
   "execution_count": 30,
   "id": "27868ff0-837d-4586-af38-59236c7c5d2a",
   "metadata": {
    "tags": []
   },
   "outputs": [],
   "source": [
    "col_transformer = ColumnTransformer([('num_preproc', pipe_num ,np.arange(1,7)), ('cat_preproc', encoder, [0])])"
   ]
  },
  {
   "cell_type": "code",
   "execution_count": 31,
   "id": "96f98177-80fa-4208-b97c-1e0193c9adac",
   "metadata": {
    "tags": []
   },
   "outputs": [],
   "source": [
    "X_train = col_transformer.fit_transform(X_train)\n",
    "X_test = col_transformer.transform(X_test)"
   ]
  },
  {
   "cell_type": "code",
   "execution_count": 32,
   "id": "59f824ca-2aaa-4846-89e2-a52ba34daa14",
   "metadata": {
    "tags": []
   },
   "outputs": [],
   "source": [
    "y_train = np.log(y_train)\n",
    "y_test = np.log(y_test)"
   ]
  },
  {
   "cell_type": "markdown",
   "id": "7b297bbb-7e1e-43b1-a745-5cab2407c0e0",
   "metadata": {
    "tags": []
   },
   "source": [
    "## Models training"
   ]
  },
  {
   "cell_type": "code",
   "execution_count": 33,
   "id": "8869d78c-8b35-444c-a23a-dda0ad1b5a8b",
   "metadata": {
    "tags": []
   },
   "outputs": [],
   "source": [
    "from sklearn.metrics import r2_score\n",
    "from sklearn.model_selection import GridSearchCV\n",
    "val_results = pd.DataFrame(columns=['model', 'params', 'r2', 'train_r2'])\n",
    "models = []"
   ]
  },
  {
   "cell_type": "markdown",
   "id": "a96a2dea-8304-46f9-9055-40e5e317f8d3",
   "metadata": {},
   "source": [
    "### Lasso regression"
   ]
  },
  {
   "cell_type": "code",
   "execution_count": 34,
   "id": "ef9ef435-5dac-4673-af35-ee7a3083b74b",
   "metadata": {
    "tags": []
   },
   "outputs": [],
   "source": [
    "from sklearn.linear_model import Lasso\n",
    "params = {'alpha': [0.0001, 0.001, 0.01, 0.1]}\n",
    "ls = Lasso(random_state=4)\n",
    "\n",
    "grid = GridSearchCV(ls, params, cv=5, scoring='r2')\n",
    "grid.fit(X_train, y_train)\n",
    "\n",
    "y_pred = grid.best_estimator_.predict(X_test)\n",
    "r2 = r2_score(y_test, y_pred)\n",
    "r2_train= grid.best_score_\n",
    "models.append(grid.best_estimator_)"
   ]
  },
  {
   "cell_type": "code",
   "execution_count": 35,
   "id": "40d9f118-6993-4484-b6f9-15e53ffeb309",
   "metadata": {
    "tags": []
   },
   "outputs": [
    {
     "data": {
      "text/html": [
       "<div>\n",
       "<style scoped>\n",
       "    .dataframe tbody tr th:only-of-type {\n",
       "        vertical-align: middle;\n",
       "    }\n",
       "\n",
       "    .dataframe tbody tr th {\n",
       "        vertical-align: top;\n",
       "    }\n",
       "\n",
       "    .dataframe thead th {\n",
       "        text-align: right;\n",
       "    }\n",
       "</style>\n",
       "<table border=\"1\" class=\"dataframe\">\n",
       "  <thead>\n",
       "    <tr style=\"text-align: right;\">\n",
       "      <th></th>\n",
       "      <th>model</th>\n",
       "      <th>params</th>\n",
       "      <th>r2</th>\n",
       "      <th>train_r2</th>\n",
       "    </tr>\n",
       "  </thead>\n",
       "  <tbody>\n",
       "    <tr>\n",
       "      <th>0</th>\n",
       "      <td>Lasso Regression</td>\n",
       "      <td>{'alpha': 0.0001}</td>\n",
       "      <td>0.730682</td>\n",
       "      <td>0.747295</td>\n",
       "    </tr>\n",
       "  </tbody>\n",
       "</table>\n",
       "</div>"
      ],
      "text/plain": [
       "              model             params        r2  train_r2\n",
       "0  Lasso Regression  {'alpha': 0.0001}  0.730682  0.747295"
      ]
     },
     "execution_count": 35,
     "metadata": {},
     "output_type": "execute_result"
    }
   ],
   "source": [
    "val_results.loc[len(val_results)] = ['Lasso Regression', grid.best_params_, r2, r2_train]\n",
    "val_results"
   ]
  },
  {
   "cell_type": "markdown",
   "id": "903e5bc8-0d9f-4296-a7eb-da52716717fd",
   "metadata": {},
   "source": [
    "### Ridge regression"
   ]
  },
  {
   "cell_type": "code",
   "execution_count": 36,
   "id": "29f30bd6-7dd5-41b1-badc-e403aca7b428",
   "metadata": {
    "tags": []
   },
   "outputs": [],
   "source": [
    "from sklearn.linear_model import Ridge\n",
    "params = {'alpha': [0.0001, 0.001, 0.01, 0.1, 1, 1.5]}\n",
    "rd = Ridge(random_state=4)\n",
    "\n",
    "grid = GridSearchCV(rd, params, cv=5, scoring='r2')\n",
    "grid.fit(X_train, y_train)\n",
    "\n",
    "y_pred = grid.best_estimator_.predict(X_test)\n",
    "r2 = r2_score(y_test, y_pred)\n",
    "r2_train= grid.best_score_\n",
    "models.append(grid.best_estimator_)"
   ]
  },
  {
   "cell_type": "code",
   "execution_count": 37,
   "id": "7ddb57c8-e0db-4030-a0be-88bfaa0918b3",
   "metadata": {
    "tags": []
   },
   "outputs": [
    {
     "data": {
      "text/html": [
       "<div>\n",
       "<style scoped>\n",
       "    .dataframe tbody tr th:only-of-type {\n",
       "        vertical-align: middle;\n",
       "    }\n",
       "\n",
       "    .dataframe tbody tr th {\n",
       "        vertical-align: top;\n",
       "    }\n",
       "\n",
       "    .dataframe thead th {\n",
       "        text-align: right;\n",
       "    }\n",
       "</style>\n",
       "<table border=\"1\" class=\"dataframe\">\n",
       "  <thead>\n",
       "    <tr style=\"text-align: right;\">\n",
       "      <th></th>\n",
       "      <th>model</th>\n",
       "      <th>params</th>\n",
       "      <th>r2</th>\n",
       "      <th>train_r2</th>\n",
       "    </tr>\n",
       "  </thead>\n",
       "  <tbody>\n",
       "    <tr>\n",
       "      <th>0</th>\n",
       "      <td>Lasso Regression</td>\n",
       "      <td>{'alpha': 0.0001}</td>\n",
       "      <td>0.730682</td>\n",
       "      <td>0.747295</td>\n",
       "    </tr>\n",
       "    <tr>\n",
       "      <th>1</th>\n",
       "      <td>Ridge Regression</td>\n",
       "      <td>{'alpha': 0.1}</td>\n",
       "      <td>0.730678</td>\n",
       "      <td>0.747298</td>\n",
       "    </tr>\n",
       "  </tbody>\n",
       "</table>\n",
       "</div>"
      ],
      "text/plain": [
       "              model             params        r2  train_r2\n",
       "0  Lasso Regression  {'alpha': 0.0001}  0.730682  0.747295\n",
       "1  Ridge Regression     {'alpha': 0.1}  0.730678  0.747298"
      ]
     },
     "execution_count": 37,
     "metadata": {},
     "output_type": "execute_result"
    }
   ],
   "source": [
    "val_results.loc[len(val_results)] = ['Ridge Regression', grid.best_params_, r2, r2_train]\n",
    "val_results"
   ]
  },
  {
   "cell_type": "markdown",
   "id": "53926291-17d6-46bf-879f-a3c27fb9d96e",
   "metadata": {},
   "source": [
    "### Desision Tree Regression"
   ]
  },
  {
   "cell_type": "code",
   "execution_count": 38,
   "id": "03c51efc-0d35-431f-85b1-5779f489fa2e",
   "metadata": {
    "tags": []
   },
   "outputs": [],
   "source": [
    "from sklearn.tree import DecisionTreeRegressor\n",
    "params = {    'max_depth': range (6, 21, 2),\n",
    "              'min_samples_leaf': range (2,8),\n",
    "              'min_samples_split': range (2,10,2) }\n",
    "dt = DecisionTreeRegressor()\n",
    "\n",
    "grid = GridSearchCV(dt, params, cv=5, scoring='r2')\n",
    "grid.fit(X_train, y_train)\n",
    "\n",
    "y_pred = grid.best_estimator_.predict(X_test)\n",
    "r2 = r2_score(y_test, y_pred)\n",
    "r2_train= grid.best_score_\n",
    "models.append(grid.best_estimator_)"
   ]
  },
  {
   "cell_type": "code",
   "execution_count": 39,
   "id": "0f56507e-b964-4e1d-acc5-211b022ec66e",
   "metadata": {
    "tags": []
   },
   "outputs": [
    {
     "data": {
      "text/html": [
       "<div>\n",
       "<style scoped>\n",
       "    .dataframe tbody tr th:only-of-type {\n",
       "        vertical-align: middle;\n",
       "    }\n",
       "\n",
       "    .dataframe tbody tr th {\n",
       "        vertical-align: top;\n",
       "    }\n",
       "\n",
       "    .dataframe thead th {\n",
       "        text-align: right;\n",
       "    }\n",
       "</style>\n",
       "<table border=\"1\" class=\"dataframe\">\n",
       "  <thead>\n",
       "    <tr style=\"text-align: right;\">\n",
       "      <th></th>\n",
       "      <th>model</th>\n",
       "      <th>params</th>\n",
       "      <th>r2</th>\n",
       "      <th>train_r2</th>\n",
       "    </tr>\n",
       "  </thead>\n",
       "  <tbody>\n",
       "    <tr>\n",
       "      <th>0</th>\n",
       "      <td>Lasso Regression</td>\n",
       "      <td>{'alpha': 0.0001}</td>\n",
       "      <td>0.730682</td>\n",
       "      <td>0.747295</td>\n",
       "    </tr>\n",
       "    <tr>\n",
       "      <th>1</th>\n",
       "      <td>Ridge Regression</td>\n",
       "      <td>{'alpha': 0.1}</td>\n",
       "      <td>0.730678</td>\n",
       "      <td>0.747298</td>\n",
       "    </tr>\n",
       "    <tr>\n",
       "      <th>2</th>\n",
       "      <td>DecisionTree Regression</td>\n",
       "      <td>{'max_depth': 20, 'min_samples_leaf': 2, 'min_...</td>\n",
       "      <td>0.846614</td>\n",
       "      <td>0.830740</td>\n",
       "    </tr>\n",
       "  </tbody>\n",
       "</table>\n",
       "</div>"
      ],
      "text/plain": [
       "                     model                                             params  \\\n",
       "0         Lasso Regression                                  {'alpha': 0.0001}   \n",
       "1         Ridge Regression                                     {'alpha': 0.1}   \n",
       "2  DecisionTree Regression  {'max_depth': 20, 'min_samples_leaf': 2, 'min_...   \n",
       "\n",
       "         r2  train_r2  \n",
       "0  0.730682  0.747295  \n",
       "1  0.730678  0.747298  \n",
       "2  0.846614  0.830740  "
      ]
     },
     "execution_count": 39,
     "metadata": {},
     "output_type": "execute_result"
    }
   ],
   "source": [
    "val_results.loc[len(val_results)] = ['DecisionTree Regression', grid.best_params_, r2, r2_train]\n",
    "val_results"
   ]
  },
  {
   "cell_type": "markdown",
   "id": "124c97f7-6dbb-45d7-88d7-552c32776467",
   "metadata": {
    "tags": []
   },
   "source": [
    "### Random forest"
   ]
  },
  {
   "cell_type": "code",
   "execution_count": 40,
   "id": "4e78aac4-7f59-4e03-9c5e-ff5a3b6abb9c",
   "metadata": {
    "tags": []
   },
   "outputs": [],
   "source": [
    "from sklearn.ensemble import RandomForestRegressor\n",
    "params = { 'n_estimators': range (60, 200, 10),\n",
    "              'max_depth': range (6, 13, 1) }\n",
    "rf = RandomForestRegressor(random_state=4)\n",
    "\n",
    "grid = GridSearchCV(rf, params, cv=5, scoring='r2')\n",
    "grid.fit(X_train, y_train)\n",
    "\n",
    "y_pred = grid.best_estimator_.predict(X_test)\n",
    "r2 = r2_score(y_test, y_pred)\n",
    "r2_train= grid.best_score_\n",
    "models.append(grid.best_estimator_)"
   ]
  },
  {
   "cell_type": "code",
   "execution_count": 41,
   "id": "328de7b1-71b4-4fd6-bd4a-66a8fb5f3359",
   "metadata": {
    "tags": []
   },
   "outputs": [
    {
     "data": {
      "text/html": [
       "<div>\n",
       "<style scoped>\n",
       "    .dataframe tbody tr th:only-of-type {\n",
       "        vertical-align: middle;\n",
       "    }\n",
       "\n",
       "    .dataframe tbody tr th {\n",
       "        vertical-align: top;\n",
       "    }\n",
       "\n",
       "    .dataframe thead th {\n",
       "        text-align: right;\n",
       "    }\n",
       "</style>\n",
       "<table border=\"1\" class=\"dataframe\">\n",
       "  <thead>\n",
       "    <tr style=\"text-align: right;\">\n",
       "      <th></th>\n",
       "      <th>model</th>\n",
       "      <th>params</th>\n",
       "      <th>r2</th>\n",
       "      <th>train_r2</th>\n",
       "    </tr>\n",
       "  </thead>\n",
       "  <tbody>\n",
       "    <tr>\n",
       "      <th>0</th>\n",
       "      <td>Lasso Regression</td>\n",
       "      <td>{'alpha': 0.0001}</td>\n",
       "      <td>0.730682</td>\n",
       "      <td>0.747295</td>\n",
       "    </tr>\n",
       "    <tr>\n",
       "      <th>1</th>\n",
       "      <td>Ridge Regression</td>\n",
       "      <td>{'alpha': 0.1}</td>\n",
       "      <td>0.730678</td>\n",
       "      <td>0.747298</td>\n",
       "    </tr>\n",
       "    <tr>\n",
       "      <th>2</th>\n",
       "      <td>DecisionTree Regression</td>\n",
       "      <td>{'max_depth': 20, 'min_samples_leaf': 2, 'min_...</td>\n",
       "      <td>0.846614</td>\n",
       "      <td>0.830740</td>\n",
       "    </tr>\n",
       "    <tr>\n",
       "      <th>3</th>\n",
       "      <td>RandomForestRegressor</td>\n",
       "      <td>{'max_depth': 12, 'n_estimators': 180}</td>\n",
       "      <td>0.867252</td>\n",
       "      <td>0.866094</td>\n",
       "    </tr>\n",
       "  </tbody>\n",
       "</table>\n",
       "</div>"
      ],
      "text/plain": [
       "                     model                                             params  \\\n",
       "0         Lasso Regression                                  {'alpha': 0.0001}   \n",
       "1         Ridge Regression                                     {'alpha': 0.1}   \n",
       "2  DecisionTree Regression  {'max_depth': 20, 'min_samples_leaf': 2, 'min_...   \n",
       "3    RandomForestRegressor             {'max_depth': 12, 'n_estimators': 180}   \n",
       "\n",
       "         r2  train_r2  \n",
       "0  0.730682  0.747295  \n",
       "1  0.730678  0.747298  \n",
       "2  0.846614  0.830740  \n",
       "3  0.867252  0.866094  "
      ]
     },
     "execution_count": 41,
     "metadata": {},
     "output_type": "execute_result"
    }
   ],
   "source": [
    "val_results.loc[len(val_results)] = ['RandomForestRegressor', grid.best_params_, r2, r2_train]\n",
    "val_results"
   ]
  },
  {
   "cell_type": "markdown",
   "id": "6bbf0de7-780f-4b9f-9783-ffb59fd37cdc",
   "metadata": {},
   "source": [
    "#### Gradient Boosting"
   ]
  },
  {
   "cell_type": "code",
   "execution_count": 42,
   "id": "d33e20b3-3dbc-4596-947e-dc35fdbae1e3",
   "metadata": {
    "tags": []
   },
   "outputs": [],
   "source": [
    "from sklearn.ensemble import GradientBoostingRegressor\n",
    "params = { 'learning_rate': [0.01, 0.1, 1],\n",
    "            'n_estimators': range (250, 351, 50),\n",
    "            'max_depth': range (9, 13) }\n",
    "gb = GradientBoostingRegressor(random_state=4)\n",
    "\n",
    "grid = GridSearchCV(gb, params, cv=5, scoring='r2')\n",
    "grid.fit(X_train, y_train)\n",
    "\n",
    "y_pred = grid.best_estimator_.predict(X_test)\n",
    "r2 = r2_score(y_test, y_pred)\n",
    "r2_train= grid.best_score_\n",
    "models.append(grid.best_estimator_)"
   ]
  },
  {
   "cell_type": "code",
   "execution_count": 43,
   "id": "79e8626f-a9a8-402a-9dfb-50dedfcc2337",
   "metadata": {
    "tags": []
   },
   "outputs": [
    {
     "data": {
      "text/html": [
       "<div>\n",
       "<style scoped>\n",
       "    .dataframe tbody tr th:only-of-type {\n",
       "        vertical-align: middle;\n",
       "    }\n",
       "\n",
       "    .dataframe tbody tr th {\n",
       "        vertical-align: top;\n",
       "    }\n",
       "\n",
       "    .dataframe thead th {\n",
       "        text-align: right;\n",
       "    }\n",
       "</style>\n",
       "<table border=\"1\" class=\"dataframe\">\n",
       "  <thead>\n",
       "    <tr style=\"text-align: right;\">\n",
       "      <th></th>\n",
       "      <th>model</th>\n",
       "      <th>params</th>\n",
       "      <th>r2</th>\n",
       "      <th>train_r2</th>\n",
       "    </tr>\n",
       "  </thead>\n",
       "  <tbody>\n",
       "    <tr>\n",
       "      <th>0</th>\n",
       "      <td>Lasso Regression</td>\n",
       "      <td>{'alpha': 0.0001}</td>\n",
       "      <td>0.730682</td>\n",
       "      <td>0.747295</td>\n",
       "    </tr>\n",
       "    <tr>\n",
       "      <th>1</th>\n",
       "      <td>Ridge Regression</td>\n",
       "      <td>{'alpha': 0.1}</td>\n",
       "      <td>0.730678</td>\n",
       "      <td>0.747298</td>\n",
       "    </tr>\n",
       "    <tr>\n",
       "      <th>2</th>\n",
       "      <td>DecisionTree Regression</td>\n",
       "      <td>{'max_depth': 20, 'min_samples_leaf': 2, 'min_...</td>\n",
       "      <td>0.846614</td>\n",
       "      <td>0.830740</td>\n",
       "    </tr>\n",
       "    <tr>\n",
       "      <th>3</th>\n",
       "      <td>RandomForestRegressor</td>\n",
       "      <td>{'max_depth': 12, 'n_estimators': 180}</td>\n",
       "      <td>0.867252</td>\n",
       "      <td>0.866094</td>\n",
       "    </tr>\n",
       "    <tr>\n",
       "      <th>4</th>\n",
       "      <td>GradientBoosting Regression</td>\n",
       "      <td>{'learning_rate': 0.1, 'max_depth': 10, 'n_est...</td>\n",
       "      <td>0.919743</td>\n",
       "      <td>0.900379</td>\n",
       "    </tr>\n",
       "  </tbody>\n",
       "</table>\n",
       "</div>"
      ],
      "text/plain": [
       "                         model  \\\n",
       "0             Lasso Regression   \n",
       "1             Ridge Regression   \n",
       "2      DecisionTree Regression   \n",
       "3        RandomForestRegressor   \n",
       "4  GradientBoosting Regression   \n",
       "\n",
       "                                              params        r2  train_r2  \n",
       "0                                  {'alpha': 0.0001}  0.730682  0.747295  \n",
       "1                                     {'alpha': 0.1}  0.730678  0.747298  \n",
       "2  {'max_depth': 20, 'min_samples_leaf': 2, 'min_...  0.846614  0.830740  \n",
       "3             {'max_depth': 12, 'n_estimators': 180}  0.867252  0.866094  \n",
       "4  {'learning_rate': 0.1, 'max_depth': 10, 'n_est...  0.919743  0.900379  "
      ]
     },
     "execution_count": 43,
     "metadata": {},
     "output_type": "execute_result"
    }
   ],
   "source": [
    "val_results.loc[len(val_results)] = ['GradientBoosting Regression', grid.best_params_, r2, r2_train]\n",
    "val_results"
   ]
  },
  {
   "cell_type": "code",
   "execution_count": 44,
   "id": "c632d5e4-8d4a-4f07-9cee-884f8c92c065",
   "metadata": {
    "tags": []
   },
   "outputs": [
    {
     "data": {
      "text/html": [
       "<style>#sk-container-id-1 {color: black;background-color: white;}#sk-container-id-1 pre{padding: 0;}#sk-container-id-1 div.sk-toggleable {background-color: white;}#sk-container-id-1 label.sk-toggleable__label {cursor: pointer;display: block;width: 100%;margin-bottom: 0;padding: 0.3em;box-sizing: border-box;text-align: center;}#sk-container-id-1 label.sk-toggleable__label-arrow:before {content: \"▸\";float: left;margin-right: 0.25em;color: #696969;}#sk-container-id-1 label.sk-toggleable__label-arrow:hover:before {color: black;}#sk-container-id-1 div.sk-estimator:hover label.sk-toggleable__label-arrow:before {color: black;}#sk-container-id-1 div.sk-toggleable__content {max-height: 0;max-width: 0;overflow: hidden;text-align: left;background-color: #f0f8ff;}#sk-container-id-1 div.sk-toggleable__content pre {margin: 0.2em;color: black;border-radius: 0.25em;background-color: #f0f8ff;}#sk-container-id-1 input.sk-toggleable__control:checked~div.sk-toggleable__content {max-height: 200px;max-width: 100%;overflow: auto;}#sk-container-id-1 input.sk-toggleable__control:checked~label.sk-toggleable__label-arrow:before {content: \"▾\";}#sk-container-id-1 div.sk-estimator input.sk-toggleable__control:checked~label.sk-toggleable__label {background-color: #d4ebff;}#sk-container-id-1 div.sk-label input.sk-toggleable__control:checked~label.sk-toggleable__label {background-color: #d4ebff;}#sk-container-id-1 input.sk-hidden--visually {border: 0;clip: rect(1px 1px 1px 1px);clip: rect(1px, 1px, 1px, 1px);height: 1px;margin: -1px;overflow: hidden;padding: 0;position: absolute;width: 1px;}#sk-container-id-1 div.sk-estimator {font-family: monospace;background-color: #f0f8ff;border: 1px dotted black;border-radius: 0.25em;box-sizing: border-box;margin-bottom: 0.5em;}#sk-container-id-1 div.sk-estimator:hover {background-color: #d4ebff;}#sk-container-id-1 div.sk-parallel-item::after {content: \"\";width: 100%;border-bottom: 1px solid gray;flex-grow: 1;}#sk-container-id-1 div.sk-label:hover label.sk-toggleable__label {background-color: #d4ebff;}#sk-container-id-1 div.sk-serial::before {content: \"\";position: absolute;border-left: 1px solid gray;box-sizing: border-box;top: 0;bottom: 0;left: 50%;z-index: 0;}#sk-container-id-1 div.sk-serial {display: flex;flex-direction: column;align-items: center;background-color: white;padding-right: 0.2em;padding-left: 0.2em;position: relative;}#sk-container-id-1 div.sk-item {position: relative;z-index: 1;}#sk-container-id-1 div.sk-parallel {display: flex;align-items: stretch;justify-content: center;background-color: white;position: relative;}#sk-container-id-1 div.sk-item::before, #sk-container-id-1 div.sk-parallel-item::before {content: \"\";position: absolute;border-left: 1px solid gray;box-sizing: border-box;top: 0;bottom: 0;left: 50%;z-index: -1;}#sk-container-id-1 div.sk-parallel-item {display: flex;flex-direction: column;z-index: 1;position: relative;background-color: white;}#sk-container-id-1 div.sk-parallel-item:first-child::after {align-self: flex-end;width: 50%;}#sk-container-id-1 div.sk-parallel-item:last-child::after {align-self: flex-start;width: 50%;}#sk-container-id-1 div.sk-parallel-item:only-child::after {width: 0;}#sk-container-id-1 div.sk-dashed-wrapped {border: 1px dashed gray;margin: 0 0.4em 0.5em 0.4em;box-sizing: border-box;padding-bottom: 0.4em;background-color: white;}#sk-container-id-1 div.sk-label label {font-family: monospace;font-weight: bold;display: inline-block;line-height: 1.2em;}#sk-container-id-1 div.sk-label-container {text-align: center;}#sk-container-id-1 div.sk-container {/* jupyter's `normalize.less` sets `[hidden] { display: none; }` but bootstrap.min.css set `[hidden] { display: none !important; }` so we also need the `!important` here to be able to override the default hidden behavior on the sphinx rendered scikit-learn.org. See: https://github.com/scikit-learn/scikit-learn/issues/21755 */display: inline-block !important;position: relative;}#sk-container-id-1 div.sk-text-repr-fallback {display: none;}</style><div id=\"sk-container-id-1\" class=\"sk-top-container\"><div class=\"sk-text-repr-fallback\"><pre>GradientBoostingRegressor(max_depth=10, n_estimators=300, random_state=4)</pre><b>In a Jupyter environment, please rerun this cell to show the HTML representation or trust the notebook. <br />On GitHub, the HTML representation is unable to render, please try loading this page with nbviewer.org.</b></div><div class=\"sk-container\" hidden><div class=\"sk-item\"><div class=\"sk-estimator sk-toggleable\"><input class=\"sk-toggleable__control sk-hidden--visually\" id=\"sk-estimator-id-1\" type=\"checkbox\" checked><label for=\"sk-estimator-id-1\" class=\"sk-toggleable__label sk-toggleable__label-arrow\">GradientBoostingRegressor</label><div class=\"sk-toggleable__content\"><pre>GradientBoostingRegressor(max_depth=10, n_estimators=300, random_state=4)</pre></div></div></div></div></div>"
      ],
      "text/plain": [
       "GradientBoostingRegressor(max_depth=10, n_estimators=300, random_state=4)"
      ]
     },
     "execution_count": 44,
     "metadata": {},
     "output_type": "execute_result"
    }
   ],
   "source": [
    "grid.best_estimator_"
   ]
  },
  {
   "cell_type": "markdown",
   "id": "6994ebca-fd06-465d-8987-bf5a95948286",
   "metadata": {},
   "source": [
    "### Best model params"
   ]
  },
  {
   "cell_type": "code",
   "execution_count": 45,
   "id": "f065625a-9c1f-4894-9cb5-daf064b46f2d",
   "metadata": {
    "tags": []
   },
   "outputs": [
    {
     "data": {
      "text/plain": [
       "{'learning_rate': 0.1, 'max_depth': 10, 'n_estimators': 300}"
      ]
     },
     "execution_count": 45,
     "metadata": {},
     "output_type": "execute_result"
    }
   ],
   "source": [
    "val_results['params'][4]"
   ]
  },
  {
   "cell_type": "markdown",
   "id": "c5ff9733-6863-4743-9974-75797d41fbc4",
   "metadata": {},
   "source": [
    "### Model and pipeline saving"
   ]
  },
  {
   "cell_type": "code",
   "execution_count": 46,
   "id": "337f9bdb-36d5-4a6c-b175-2fe72fc5162c",
   "metadata": {
    "tags": []
   },
   "outputs": [],
   "source": [
    "import copy\n",
    "import pickle\n",
    "new_transformer = copy.deepcopy(col_transformer)\n",
    "num_pipeline = new_transformer.transformers.pop(0)\n",
    "pipeline = num_pipeline[1]\n",
    "pipeline.steps.pop(0)\n",
    "new_transformer.transformers.insert(0, num_pipeline)\n",
    "\n",
    "output_file = \"model&pipeline.bin\"\n",
    "\n",
    "with open(output_file, 'wb') as f_out:\n",
    "    pickle.dump((new_transformer, grid.best_estimator_), f_out)"
   ]
  }
 ],
 "metadata": {
  "kernelspec": {
   "display_name": "Python 3 (ipykernel)",
   "language": "python",
   "name": "python3"
  },
  "language_info": {
   "codemirror_mode": {
    "name": "ipython",
    "version": 3
   },
   "file_extension": ".py",
   "mimetype": "text/x-python",
   "name": "python",
   "nbconvert_exporter": "python",
   "pygments_lexer": "ipython3",
   "version": "3.11.5"
  }
 },
 "nbformat": 4,
 "nbformat_minor": 5
}
